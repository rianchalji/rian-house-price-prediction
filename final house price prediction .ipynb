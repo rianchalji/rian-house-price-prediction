{
 "cells": [
  {
   "cell_type": "code",
   "execution_count": 2,
   "id": "be1abf09-c3cd-481f-b2b9-8e9388c955c7",
   "metadata": {},
   "outputs": [],
   "source": [
    "import numpy as np\n",
    "import pandas as pd\n",
    "import seaborn as sns\n",
    "import plotly.express as px\n",
    "import matplotlib.pyplot as plt"
   ]
  },
  {
   "cell_type": "code",
   "execution_count": 3,
   "id": "1dc557e4-20b4-454a-a627-02c3b9ec6f4b",
   "metadata": {},
   "outputs": [
    {
     "data": {
      "text/html": [
       "        <script type=\"text/javascript\">\n",
       "        window.PlotlyConfig = {MathJaxConfig: 'local'};\n",
       "        if (window.MathJax && window.MathJax.Hub && window.MathJax.Hub.Config) {window.MathJax.Hub.Config({SVG: {font: \"STIX-Web\"}});}\n",
       "        if (typeof require !== 'undefined') {\n",
       "        require.undef(\"plotly\");\n",
       "        requirejs.config({\n",
       "            paths: {\n",
       "                'plotly': ['https://cdn.plot.ly/plotly-2.12.1.min']\n",
       "            }\n",
       "        });\n",
       "        require(['plotly'], function(Plotly) {\n",
       "            window._Plotly = Plotly;\n",
       "        });\n",
       "        }\n",
       "        </script>\n",
       "        "
      ]
     },
     "metadata": {},
     "output_type": "display_data"
    },
    {
     "data": {
      "text/html": [
       "        <script type=\"text/javascript\">\n",
       "        window.PlotlyConfig = {MathJaxConfig: 'local'};\n",
       "        if (window.MathJax && window.MathJax.Hub && window.MathJax.Hub.Config) {window.MathJax.Hub.Config({SVG: {font: \"STIX-Web\"}});}\n",
       "        if (typeof require !== 'undefined') {\n",
       "        require.undef(\"plotly\");\n",
       "        requirejs.config({\n",
       "            paths: {\n",
       "                'plotly': ['https://cdn.plot.ly/plotly-2.12.1.min']\n",
       "            }\n",
       "        });\n",
       "        require(['plotly'], function(Plotly) {\n",
       "            window._Plotly = Plotly;\n",
       "        });\n",
       "        }\n",
       "        </script>\n",
       "        "
      ]
     },
     "metadata": {},
     "output_type": "display_data"
    }
   ],
   "source": [
    "\n",
    "import cufflinks as cf\n",
    "from plotly.offline import download_plotlyjs,init_notebook_mode,plot,iplot\n",
    "init_notebook_mode(connected=True)\n",
    "cf.go_offline()"
   ]
  },
  {
   "cell_type": "code",
   "execution_count": 4,
   "id": "08845b12-69b6-4db4-9cf5-ab2139698012",
   "metadata": {},
   "outputs": [
    {
     "name": "stdout",
     "output_type": "stream",
     "text": [
      "Requirement already satisfied: cufflinks in c:\\users\\yashu\\anaconda3\\lib\\site-packages (0.17.3)Note: you may need to restart the kernel to use updated packages.\n",
      "\n",
      "Requirement already satisfied: numpy>=1.9.2 in c:\\users\\yashu\\anaconda3\\lib\\site-packages (from cufflinks) (1.26.4)\n",
      "Requirement already satisfied: pandas>=0.19.2 in c:\\users\\yashu\\anaconda3\\lib\\site-packages (from cufflinks) (2.1.4)\n",
      "Requirement already satisfied: plotly>=4.1.1 in c:\\users\\yashu\\anaconda3\\lib\\site-packages (from cufflinks) (5.9.0)\n",
      "Requirement already satisfied: six>=1.9.0 in c:\\users\\yashu\\anaconda3\\lib\\site-packages (from cufflinks) (1.16.0)\n",
      "Requirement already satisfied: colorlover>=0.2.1 in c:\\users\\yashu\\anaconda3\\lib\\site-packages (from cufflinks) (0.3.0)\n",
      "Requirement already satisfied: setuptools>=34.4.1 in c:\\users\\yashu\\anaconda3\\lib\\site-packages (from cufflinks) (68.2.2)\n",
      "Requirement already satisfied: ipython>=5.3.0 in c:\\users\\yashu\\anaconda3\\lib\\site-packages (from cufflinks) (8.20.0)\n",
      "Requirement already satisfied: ipywidgets>=7.0.0 in c:\\users\\yashu\\anaconda3\\lib\\site-packages (from cufflinks) (7.6.5)\n",
      "Requirement already satisfied: decorator in c:\\users\\yashu\\anaconda3\\lib\\site-packages (from ipython>=5.3.0->cufflinks) (5.1.1)\n",
      "Requirement already satisfied: jedi>=0.16 in c:\\users\\yashu\\anaconda3\\lib\\site-packages (from ipython>=5.3.0->cufflinks) (0.18.1)\n",
      "Requirement already satisfied: matplotlib-inline in c:\\users\\yashu\\anaconda3\\lib\\site-packages (from ipython>=5.3.0->cufflinks) (0.1.6)\n",
      "Requirement already satisfied: prompt-toolkit<3.1.0,>=3.0.41 in c:\\users\\yashu\\anaconda3\\lib\\site-packages (from ipython>=5.3.0->cufflinks) (3.0.43)\n",
      "Requirement already satisfied: pygments>=2.4.0 in c:\\users\\yashu\\anaconda3\\lib\\site-packages (from ipython>=5.3.0->cufflinks) (2.15.1)\n",
      "Requirement already satisfied: stack-data in c:\\users\\yashu\\anaconda3\\lib\\site-packages (from ipython>=5.3.0->cufflinks) (0.2.0)\n",
      "Requirement already satisfied: traitlets>=5 in c:\\users\\yashu\\anaconda3\\lib\\site-packages (from ipython>=5.3.0->cufflinks) (5.7.1)\n",
      "Requirement already satisfied: colorama in c:\\users\\yashu\\anaconda3\\lib\\site-packages (from ipython>=5.3.0->cufflinks) (0.4.6)\n",
      "Requirement already satisfied: ipykernel>=4.5.1 in c:\\users\\yashu\\anaconda3\\lib\\site-packages (from ipywidgets>=7.0.0->cufflinks) (6.28.0)\n",
      "Requirement already satisfied: ipython-genutils~=0.2.0 in c:\\users\\yashu\\anaconda3\\lib\\site-packages (from ipywidgets>=7.0.0->cufflinks) (0.2.0)\n",
      "Requirement already satisfied: nbformat>=4.2.0 in c:\\users\\yashu\\anaconda3\\lib\\site-packages (from ipywidgets>=7.0.0->cufflinks) (5.9.2)\n",
      "Requirement already satisfied: widgetsnbextension~=3.5.0 in c:\\users\\yashu\\anaconda3\\lib\\site-packages (from ipywidgets>=7.0.0->cufflinks) (3.5.2)\n",
      "Requirement already satisfied: jupyterlab-widgets>=1.0.0 in c:\\users\\yashu\\anaconda3\\lib\\site-packages (from ipywidgets>=7.0.0->cufflinks) (3.0.9)\n",
      "Requirement already satisfied: python-dateutil>=2.8.2 in c:\\users\\yashu\\anaconda3\\lib\\site-packages (from pandas>=0.19.2->cufflinks) (2.8.2)\n",
      "Requirement already satisfied: pytz>=2020.1 in c:\\users\\yashu\\anaconda3\\lib\\site-packages (from pandas>=0.19.2->cufflinks) (2023.3.post1)\n",
      "Requirement already satisfied: tzdata>=2022.1 in c:\\users\\yashu\\anaconda3\\lib\\site-packages (from pandas>=0.19.2->cufflinks) (2023.3)\n",
      "Requirement already satisfied: tenacity>=6.2.0 in c:\\users\\yashu\\anaconda3\\lib\\site-packages (from plotly>=4.1.1->cufflinks) (8.2.2)\n",
      "Requirement already satisfied: comm>=0.1.1 in c:\\users\\yashu\\anaconda3\\lib\\site-packages (from ipykernel>=4.5.1->ipywidgets>=7.0.0->cufflinks) (0.1.2)\n",
      "Requirement already satisfied: debugpy>=1.6.5 in c:\\users\\yashu\\anaconda3\\lib\\site-packages (from ipykernel>=4.5.1->ipywidgets>=7.0.0->cufflinks) (1.6.7)\n",
      "Requirement already satisfied: jupyter-client>=6.1.12 in c:\\users\\yashu\\anaconda3\\lib\\site-packages (from ipykernel>=4.5.1->ipywidgets>=7.0.0->cufflinks) (8.6.0)\n",
      "Requirement already satisfied: jupyter-core!=5.0.*,>=4.12 in c:\\users\\yashu\\anaconda3\\lib\\site-packages (from ipykernel>=4.5.1->ipywidgets>=7.0.0->cufflinks) (5.5.0)\n",
      "Requirement already satisfied: nest-asyncio in c:\\users\\yashu\\anaconda3\\lib\\site-packages (from ipykernel>=4.5.1->ipywidgets>=7.0.0->cufflinks) (1.6.0)\n",
      "Requirement already satisfied: packaging in c:\\users\\yashu\\anaconda3\\lib\\site-packages (from ipykernel>=4.5.1->ipywidgets>=7.0.0->cufflinks) (23.1)\n",
      "Requirement already satisfied: psutil in c:\\users\\yashu\\anaconda3\\lib\\site-packages (from ipykernel>=4.5.1->ipywidgets>=7.0.0->cufflinks) (5.9.0)\n",
      "Requirement already satisfied: pyzmq>=24 in c:\\users\\yashu\\anaconda3\\lib\\site-packages (from ipykernel>=4.5.1->ipywidgets>=7.0.0->cufflinks) (25.1.2)\n",
      "Requirement already satisfied: tornado>=6.1 in c:\\users\\yashu\\anaconda3\\lib\\site-packages (from ipykernel>=4.5.1->ipywidgets>=7.0.0->cufflinks) (6.3.3)\n",
      "Requirement already satisfied: parso<0.9.0,>=0.8.0 in c:\\users\\yashu\\anaconda3\\lib\\site-packages (from jedi>=0.16->ipython>=5.3.0->cufflinks) (0.8.3)\n",
      "Requirement already satisfied: fastjsonschema in c:\\users\\yashu\\anaconda3\\lib\\site-packages (from nbformat>=4.2.0->ipywidgets>=7.0.0->cufflinks) (2.16.2)\n",
      "Requirement already satisfied: jsonschema>=2.6 in c:\\users\\yashu\\anaconda3\\lib\\site-packages (from nbformat>=4.2.0->ipywidgets>=7.0.0->cufflinks) (4.19.2)\n",
      "Requirement already satisfied: wcwidth in c:\\users\\yashu\\anaconda3\\lib\\site-packages (from prompt-toolkit<3.1.0,>=3.0.41->ipython>=5.3.0->cufflinks) (0.2.5)\n",
      "Requirement already satisfied: notebook>=4.4.1 in c:\\users\\yashu\\anaconda3\\lib\\site-packages (from widgetsnbextension~=3.5.0->ipywidgets>=7.0.0->cufflinks) (7.0.8)\n",
      "Requirement already satisfied: executing in c:\\users\\yashu\\anaconda3\\lib\\site-packages (from stack-data->ipython>=5.3.0->cufflinks) (0.8.3)\n",
      "Requirement already satisfied: asttokens in c:\\users\\yashu\\anaconda3\\lib\\site-packages (from stack-data->ipython>=5.3.0->cufflinks) (2.0.5)\n",
      "Requirement already satisfied: pure-eval in c:\\users\\yashu\\anaconda3\\lib\\site-packages (from stack-data->ipython>=5.3.0->cufflinks) (0.2.2)\n",
      "Requirement already satisfied: attrs>=22.2.0 in c:\\users\\yashu\\anaconda3\\lib\\site-packages (from jsonschema>=2.6->nbformat>=4.2.0->ipywidgets>=7.0.0->cufflinks) (23.1.0)\n",
      "Requirement already satisfied: jsonschema-specifications>=2023.03.6 in c:\\users\\yashu\\anaconda3\\lib\\site-packages (from jsonschema>=2.6->nbformat>=4.2.0->ipywidgets>=7.0.0->cufflinks) (2023.7.1)\n",
      "Requirement already satisfied: referencing>=0.28.4 in c:\\users\\yashu\\anaconda3\\lib\\site-packages (from jsonschema>=2.6->nbformat>=4.2.0->ipywidgets>=7.0.0->cufflinks) (0.30.2)\n",
      "Requirement already satisfied: rpds-py>=0.7.1 in c:\\users\\yashu\\anaconda3\\lib\\site-packages (from jsonschema>=2.6->nbformat>=4.2.0->ipywidgets>=7.0.0->cufflinks) (0.10.6)\n",
      "Requirement already satisfied: platformdirs>=2.5 in c:\\users\\yashu\\anaconda3\\lib\\site-packages (from jupyter-core!=5.0.*,>=4.12->ipykernel>=4.5.1->ipywidgets>=7.0.0->cufflinks) (3.10.0)\n",
      "Requirement already satisfied: pywin32>=300 in c:\\users\\yashu\\anaconda3\\lib\\site-packages (from jupyter-core!=5.0.*,>=4.12->ipykernel>=4.5.1->ipywidgets>=7.0.0->cufflinks) (305.1)\n",
      "Requirement already satisfied: jupyter-server<3,>=2.4.0 in c:\\users\\yashu\\anaconda3\\lib\\site-packages (from notebook>=4.4.1->widgetsnbextension~=3.5.0->ipywidgets>=7.0.0->cufflinks) (2.10.0)\n",
      "Requirement already satisfied: jupyterlab-server<3,>=2.22.1 in c:\\users\\yashu\\anaconda3\\lib\\site-packages (from notebook>=4.4.1->widgetsnbextension~=3.5.0->ipywidgets>=7.0.0->cufflinks) (2.25.1)\n",
      "Requirement already satisfied: jupyterlab<4.1,>=4.0.2 in c:\\users\\yashu\\anaconda3\\lib\\site-packages (from notebook>=4.4.1->widgetsnbextension~=3.5.0->ipywidgets>=7.0.0->cufflinks) (4.0.11)\n",
      "Requirement already satisfied: notebook-shim<0.3,>=0.2 in c:\\users\\yashu\\anaconda3\\lib\\site-packages (from notebook>=4.4.1->widgetsnbextension~=3.5.0->ipywidgets>=7.0.0->cufflinks) (0.2.3)\n",
      "Requirement already satisfied: anyio>=3.1.0 in c:\\users\\yashu\\anaconda3\\lib\\site-packages (from jupyter-server<3,>=2.4.0->notebook>=4.4.1->widgetsnbextension~=3.5.0->ipywidgets>=7.0.0->cufflinks) (4.2.0)\n",
      "Requirement already satisfied: argon2-cffi in c:\\users\\yashu\\anaconda3\\lib\\site-packages (from jupyter-server<3,>=2.4.0->notebook>=4.4.1->widgetsnbextension~=3.5.0->ipywidgets>=7.0.0->cufflinks) (21.3.0)\n",
      "Requirement already satisfied: jinja2 in c:\\users\\yashu\\anaconda3\\lib\\site-packages (from jupyter-server<3,>=2.4.0->notebook>=4.4.1->widgetsnbextension~=3.5.0->ipywidgets>=7.0.0->cufflinks) (3.1.3)\n",
      "Requirement already satisfied: jupyter-events>=0.6.0 in c:\\users\\yashu\\anaconda3\\lib\\site-packages (from jupyter-server<3,>=2.4.0->notebook>=4.4.1->widgetsnbextension~=3.5.0->ipywidgets>=7.0.0->cufflinks) (0.8.0)\n",
      "Requirement already satisfied: jupyter-server-terminals in c:\\users\\yashu\\anaconda3\\lib\\site-packages (from jupyter-server<3,>=2.4.0->notebook>=4.4.1->widgetsnbextension~=3.5.0->ipywidgets>=7.0.0->cufflinks) (0.4.4)\n",
      "Requirement already satisfied: nbconvert>=6.4.4 in c:\\users\\yashu\\anaconda3\\lib\\site-packages (from jupyter-server<3,>=2.4.0->notebook>=4.4.1->widgetsnbextension~=3.5.0->ipywidgets>=7.0.0->cufflinks) (7.10.0)\n",
      "Requirement already satisfied: overrides in c:\\users\\yashu\\anaconda3\\lib\\site-packages (from jupyter-server<3,>=2.4.0->notebook>=4.4.1->widgetsnbextension~=3.5.0->ipywidgets>=7.0.0->cufflinks) (7.4.0)\n",
      "Requirement already satisfied: prometheus-client in c:\\users\\yashu\\anaconda3\\lib\\site-packages (from jupyter-server<3,>=2.4.0->notebook>=4.4.1->widgetsnbextension~=3.5.0->ipywidgets>=7.0.0->cufflinks) (0.14.1)\n",
      "Requirement already satisfied: pywinpty in c:\\users\\yashu\\anaconda3\\lib\\site-packages (from jupyter-server<3,>=2.4.0->notebook>=4.4.1->widgetsnbextension~=3.5.0->ipywidgets>=7.0.0->cufflinks) (2.0.10)\n",
      "Requirement already satisfied: send2trash>=1.8.2 in c:\\users\\yashu\\anaconda3\\lib\\site-packages (from jupyter-server<3,>=2.4.0->notebook>=4.4.1->widgetsnbextension~=3.5.0->ipywidgets>=7.0.0->cufflinks) (1.8.2)\n",
      "Requirement already satisfied: terminado>=0.8.3 in c:\\users\\yashu\\anaconda3\\lib\\site-packages (from jupyter-server<3,>=2.4.0->notebook>=4.4.1->widgetsnbextension~=3.5.0->ipywidgets>=7.0.0->cufflinks) (0.17.1)\n",
      "Requirement already satisfied: websocket-client in c:\\users\\yashu\\anaconda3\\lib\\site-packages (from jupyter-server<3,>=2.4.0->notebook>=4.4.1->widgetsnbextension~=3.5.0->ipywidgets>=7.0.0->cufflinks) (0.58.0)\n",
      "Requirement already satisfied: async-lru>=1.0.0 in c:\\users\\yashu\\anaconda3\\lib\\site-packages (from jupyterlab<4.1,>=4.0.2->notebook>=4.4.1->widgetsnbextension~=3.5.0->ipywidgets>=7.0.0->cufflinks) (2.0.4)\n",
      "Requirement already satisfied: jupyter-lsp>=2.0.0 in c:\\users\\yashu\\anaconda3\\lib\\site-packages (from jupyterlab<4.1,>=4.0.2->notebook>=4.4.1->widgetsnbextension~=3.5.0->ipywidgets>=7.0.0->cufflinks) (2.2.0)\n",
      "Requirement already satisfied: babel>=2.10 in c:\\users\\yashu\\anaconda3\\lib\\site-packages (from jupyterlab-server<3,>=2.22.1->notebook>=4.4.1->widgetsnbextension~=3.5.0->ipywidgets>=7.0.0->cufflinks) (2.11.0)\n",
      "Requirement already satisfied: json5>=0.9.0 in c:\\users\\yashu\\anaconda3\\lib\\site-packages (from jupyterlab-server<3,>=2.22.1->notebook>=4.4.1->widgetsnbextension~=3.5.0->ipywidgets>=7.0.0->cufflinks) (0.9.6)\n",
      "Requirement already satisfied: requests>=2.31 in c:\\users\\yashu\\anaconda3\\lib\\site-packages (from jupyterlab-server<3,>=2.22.1->notebook>=4.4.1->widgetsnbextension~=3.5.0->ipywidgets>=7.0.0->cufflinks) (2.31.0)\n",
      "Requirement already satisfied: idna>=2.8 in c:\\users\\yashu\\anaconda3\\lib\\site-packages (from anyio>=3.1.0->jupyter-server<3,>=2.4.0->notebook>=4.4.1->widgetsnbextension~=3.5.0->ipywidgets>=7.0.0->cufflinks) (3.4)\n",
      "Requirement already satisfied: sniffio>=1.1 in c:\\users\\yashu\\anaconda3\\lib\\site-packages (from anyio>=3.1.0->jupyter-server<3,>=2.4.0->notebook>=4.4.1->widgetsnbextension~=3.5.0->ipywidgets>=7.0.0->cufflinks) (1.3.0)\n",
      "Requirement already satisfied: MarkupSafe>=2.0 in c:\\users\\yashu\\anaconda3\\lib\\site-packages (from jinja2->jupyter-server<3,>=2.4.0->notebook>=4.4.1->widgetsnbextension~=3.5.0->ipywidgets>=7.0.0->cufflinks) (2.1.3)\n",
      "Requirement already satisfied: python-json-logger>=2.0.4 in c:\\users\\yashu\\anaconda3\\lib\\site-packages (from jupyter-events>=0.6.0->jupyter-server<3,>=2.4.0->notebook>=4.4.1->widgetsnbextension~=3.5.0->ipywidgets>=7.0.0->cufflinks) (2.0.7)\n",
      "Requirement already satisfied: pyyaml>=5.3 in c:\\users\\yashu\\anaconda3\\lib\\site-packages (from jupyter-events>=0.6.0->jupyter-server<3,>=2.4.0->notebook>=4.4.1->widgetsnbextension~=3.5.0->ipywidgets>=7.0.0->cufflinks) (6.0.1)\n",
      "Requirement already satisfied: rfc3339-validator in c:\\users\\yashu\\anaconda3\\lib\\site-packages (from jupyter-events>=0.6.0->jupyter-server<3,>=2.4.0->notebook>=4.4.1->widgetsnbextension~=3.5.0->ipywidgets>=7.0.0->cufflinks) (0.1.4)\n",
      "Requirement already satisfied: rfc3986-validator>=0.1.1 in c:\\users\\yashu\\anaconda3\\lib\\site-packages (from jupyter-events>=0.6.0->jupyter-server<3,>=2.4.0->notebook>=4.4.1->widgetsnbextension~=3.5.0->ipywidgets>=7.0.0->cufflinks) (0.1.1)\n",
      "Requirement already satisfied: beautifulsoup4 in c:\\users\\yashu\\anaconda3\\lib\\site-packages (from nbconvert>=6.4.4->jupyter-server<3,>=2.4.0->notebook>=4.4.1->widgetsnbextension~=3.5.0->ipywidgets>=7.0.0->cufflinks) (4.12.2)\n",
      "Requirement already satisfied: bleach!=5.0.0 in c:\\users\\yashu\\anaconda3\\lib\\site-packages (from nbconvert>=6.4.4->jupyter-server<3,>=2.4.0->notebook>=4.4.1->widgetsnbextension~=3.5.0->ipywidgets>=7.0.0->cufflinks) (4.1.0)\n",
      "Requirement already satisfied: defusedxml in c:\\users\\yashu\\anaconda3\\lib\\site-packages (from nbconvert>=6.4.4->jupyter-server<3,>=2.4.0->notebook>=4.4.1->widgetsnbextension~=3.5.0->ipywidgets>=7.0.0->cufflinks) (0.7.1)\n",
      "Requirement already satisfied: jupyterlab-pygments in c:\\users\\yashu\\anaconda3\\lib\\site-packages (from nbconvert>=6.4.4->jupyter-server<3,>=2.4.0->notebook>=4.4.1->widgetsnbextension~=3.5.0->ipywidgets>=7.0.0->cufflinks) (0.1.2)\n",
      "Requirement already satisfied: mistune<4,>=2.0.3 in c:\\users\\yashu\\anaconda3\\lib\\site-packages (from nbconvert>=6.4.4->jupyter-server<3,>=2.4.0->notebook>=4.4.1->widgetsnbextension~=3.5.0->ipywidgets>=7.0.0->cufflinks) (2.0.4)\n",
      "Requirement already satisfied: nbclient>=0.5.0 in c:\\users\\yashu\\anaconda3\\lib\\site-packages (from nbconvert>=6.4.4->jupyter-server<3,>=2.4.0->notebook>=4.4.1->widgetsnbextension~=3.5.0->ipywidgets>=7.0.0->cufflinks) (0.8.0)\n",
      "Requirement already satisfied: pandocfilters>=1.4.1 in c:\\users\\yashu\\anaconda3\\lib\\site-packages (from nbconvert>=6.4.4->jupyter-server<3,>=2.4.0->notebook>=4.4.1->widgetsnbextension~=3.5.0->ipywidgets>=7.0.0->cufflinks) (1.5.0)\n",
      "Requirement already satisfied: tinycss2 in c:\\users\\yashu\\anaconda3\\lib\\site-packages (from nbconvert>=6.4.4->jupyter-server<3,>=2.4.0->notebook>=4.4.1->widgetsnbextension~=3.5.0->ipywidgets>=7.0.0->cufflinks) (1.2.1)\n",
      "Requirement already satisfied: charset-normalizer<4,>=2 in c:\\users\\yashu\\anaconda3\\lib\\site-packages (from requests>=2.31->jupyterlab-server<3,>=2.22.1->notebook>=4.4.1->widgetsnbextension~=3.5.0->ipywidgets>=7.0.0->cufflinks) (2.0.4)\n",
      "Requirement already satisfied: urllib3<3,>=1.21.1 in c:\\users\\yashu\\anaconda3\\lib\\site-packages (from requests>=2.31->jupyterlab-server<3,>=2.22.1->notebook>=4.4.1->widgetsnbextension~=3.5.0->ipywidgets>=7.0.0->cufflinks) (2.0.7)\n",
      "Requirement already satisfied: certifi>=2017.4.17 in c:\\users\\yashu\\anaconda3\\lib\\site-packages (from requests>=2.31->jupyterlab-server<3,>=2.22.1->notebook>=4.4.1->widgetsnbextension~=3.5.0->ipywidgets>=7.0.0->cufflinks) (2024.2.2)\n",
      "Requirement already satisfied: argon2-cffi-bindings in c:\\users\\yashu\\anaconda3\\lib\\site-packages (from argon2-cffi->jupyter-server<3,>=2.4.0->notebook>=4.4.1->widgetsnbextension~=3.5.0->ipywidgets>=7.0.0->cufflinks) (21.2.0)\n",
      "Requirement already satisfied: webencodings in c:\\users\\yashu\\anaconda3\\lib\\site-packages (from bleach!=5.0.0->nbconvert>=6.4.4->jupyter-server<3,>=2.4.0->notebook>=4.4.1->widgetsnbextension~=3.5.0->ipywidgets>=7.0.0->cufflinks) (0.5.1)\n",
      "Requirement already satisfied: fqdn in c:\\users\\yashu\\anaconda3\\lib\\site-packages (from jsonschema[format-nongpl]>=4.18.0->jupyter-events>=0.6.0->jupyter-server<3,>=2.4.0->notebook>=4.4.1->widgetsnbextension~=3.5.0->ipywidgets>=7.0.0->cufflinks) (1.5.1)\n",
      "Requirement already satisfied: isoduration in c:\\users\\yashu\\anaconda3\\lib\\site-packages (from jsonschema[format-nongpl]>=4.18.0->jupyter-events>=0.6.0->jupyter-server<3,>=2.4.0->notebook>=4.4.1->widgetsnbextension~=3.5.0->ipywidgets>=7.0.0->cufflinks) (20.11.0)\n",
      "Requirement already satisfied: jsonpointer>1.13 in c:\\users\\yashu\\anaconda3\\lib\\site-packages (from jsonschema[format-nongpl]>=4.18.0->jupyter-events>=0.6.0->jupyter-server<3,>=2.4.0->notebook>=4.4.1->widgetsnbextension~=3.5.0->ipywidgets>=7.0.0->cufflinks) (2.1)\n",
      "Requirement already satisfied: uri-template in c:\\users\\yashu\\anaconda3\\lib\\site-packages (from jsonschema[format-nongpl]>=4.18.0->jupyter-events>=0.6.0->jupyter-server<3,>=2.4.0->notebook>=4.4.1->widgetsnbextension~=3.5.0->ipywidgets>=7.0.0->cufflinks) (1.3.0)\n",
      "Requirement already satisfied: webcolors>=1.11 in c:\\users\\yashu\\anaconda3\\lib\\site-packages (from jsonschema[format-nongpl]>=4.18.0->jupyter-events>=0.6.0->jupyter-server<3,>=2.4.0->notebook>=4.4.1->widgetsnbextension~=3.5.0->ipywidgets>=7.0.0->cufflinks) (1.13)\n",
      "Requirement already satisfied: cffi>=1.0.1 in c:\\users\\yashu\\anaconda3\\lib\\site-packages (from argon2-cffi-bindings->argon2-cffi->jupyter-server<3,>=2.4.0->notebook>=4.4.1->widgetsnbextension~=3.5.0->ipywidgets>=7.0.0->cufflinks) (1.16.0)\n",
      "Requirement already satisfied: soupsieve>1.2 in c:\\users\\yashu\\anaconda3\\lib\\site-packages (from beautifulsoup4->nbconvert>=6.4.4->jupyter-server<3,>=2.4.0->notebook>=4.4.1->widgetsnbextension~=3.5.0->ipywidgets>=7.0.0->cufflinks) (2.5)\n",
      "Requirement already satisfied: pycparser in c:\\users\\yashu\\anaconda3\\lib\\site-packages (from cffi>=1.0.1->argon2-cffi-bindings->argon2-cffi->jupyter-server<3,>=2.4.0->notebook>=4.4.1->widgetsnbextension~=3.5.0->ipywidgets>=7.0.0->cufflinks) (2.21)\n",
      "Requirement already satisfied: arrow>=0.15.0 in c:\\users\\yashu\\anaconda3\\lib\\site-packages (from isoduration->jsonschema[format-nongpl]>=4.18.0->jupyter-events>=0.6.0->jupyter-server<3,>=2.4.0->notebook>=4.4.1->widgetsnbextension~=3.5.0->ipywidgets>=7.0.0->cufflinks) (1.2.3)\n"
     ]
    }
   ],
   "source": [
    "pip install cufflinks"
   ]
  },
  {
   "cell_type": "code",
   "execution_count": 5,
   "id": "6152c317-d287-4d64-b715-e5b9618c2ddf",
   "metadata": {},
   "outputs": [],
   "source": [
    "df = pd.read_csv(r\"E:\\c wala\\Downloads\\archive (1)\\Delhi house data.csv\")"
   ]
  },
  {
   "cell_type": "code",
   "execution_count": 6,
   "id": "9fe67066-fe3e-408b-a995-01575af753b9",
   "metadata": {},
   "outputs": [
    {
     "data": {
      "text/html": [
       "<div>\n",
       "<style scoped>\n",
       "    .dataframe tbody tr th:only-of-type {\n",
       "        vertical-align: middle;\n",
       "    }\n",
       "\n",
       "    .dataframe tbody tr th {\n",
       "        vertical-align: top;\n",
       "    }\n",
       "\n",
       "    .dataframe thead th {\n",
       "        text-align: right;\n",
       "    }\n",
       "</style>\n",
       "<table border=\"1\" class=\"dataframe\">\n",
       "  <thead>\n",
       "    <tr style=\"text-align: right;\">\n",
       "      <th></th>\n",
       "      <th>Area</th>\n",
       "      <th>BHK</th>\n",
       "      <th>Bathroom</th>\n",
       "      <th>Furnishing</th>\n",
       "      <th>Locality</th>\n",
       "      <th>Parking</th>\n",
       "      <th>Price</th>\n",
       "      <th>Status</th>\n",
       "      <th>Transaction</th>\n",
       "      <th>Type</th>\n",
       "      <th>Per_Sqft</th>\n",
       "    </tr>\n",
       "  </thead>\n",
       "  <tbody>\n",
       "    <tr>\n",
       "      <th>0</th>\n",
       "      <td>800.0</td>\n",
       "      <td>3</td>\n",
       "      <td>2.0</td>\n",
       "      <td>Semi-Furnished</td>\n",
       "      <td>Rohini Sector 25</td>\n",
       "      <td>1.0</td>\n",
       "      <td>6500000</td>\n",
       "      <td>Ready_to_move</td>\n",
       "      <td>New_Property</td>\n",
       "      <td>Builder_Floor</td>\n",
       "      <td>NaN</td>\n",
       "    </tr>\n",
       "    <tr>\n",
       "      <th>1</th>\n",
       "      <td>750.0</td>\n",
       "      <td>2</td>\n",
       "      <td>2.0</td>\n",
       "      <td>Semi-Furnished</td>\n",
       "      <td>J R Designers Floors, Rohini Sector 24</td>\n",
       "      <td>1.0</td>\n",
       "      <td>5000000</td>\n",
       "      <td>Ready_to_move</td>\n",
       "      <td>New_Property</td>\n",
       "      <td>Apartment</td>\n",
       "      <td>6667.0</td>\n",
       "    </tr>\n",
       "    <tr>\n",
       "      <th>2</th>\n",
       "      <td>950.0</td>\n",
       "      <td>2</td>\n",
       "      <td>2.0</td>\n",
       "      <td>Furnished</td>\n",
       "      <td>Citizen Apartment, Rohini Sector 13</td>\n",
       "      <td>1.0</td>\n",
       "      <td>15500000</td>\n",
       "      <td>Ready_to_move</td>\n",
       "      <td>Resale</td>\n",
       "      <td>Apartment</td>\n",
       "      <td>6667.0</td>\n",
       "    </tr>\n",
       "    <tr>\n",
       "      <th>3</th>\n",
       "      <td>600.0</td>\n",
       "      <td>2</td>\n",
       "      <td>2.0</td>\n",
       "      <td>Semi-Furnished</td>\n",
       "      <td>Rohini Sector 24</td>\n",
       "      <td>1.0</td>\n",
       "      <td>4200000</td>\n",
       "      <td>Ready_to_move</td>\n",
       "      <td>Resale</td>\n",
       "      <td>Builder_Floor</td>\n",
       "      <td>6667.0</td>\n",
       "    </tr>\n",
       "    <tr>\n",
       "      <th>4</th>\n",
       "      <td>650.0</td>\n",
       "      <td>2</td>\n",
       "      <td>2.0</td>\n",
       "      <td>Semi-Furnished</td>\n",
       "      <td>Rohini Sector 24 carpet area 650 sqft status R...</td>\n",
       "      <td>1.0</td>\n",
       "      <td>6200000</td>\n",
       "      <td>Ready_to_move</td>\n",
       "      <td>New_Property</td>\n",
       "      <td>Builder_Floor</td>\n",
       "      <td>6667.0</td>\n",
       "    </tr>\n",
       "    <tr>\n",
       "      <th>...</th>\n",
       "      <td>...</td>\n",
       "      <td>...</td>\n",
       "      <td>...</td>\n",
       "      <td>...</td>\n",
       "      <td>...</td>\n",
       "      <td>...</td>\n",
       "      <td>...</td>\n",
       "      <td>...</td>\n",
       "      <td>...</td>\n",
       "      <td>...</td>\n",
       "      <td>...</td>\n",
       "    </tr>\n",
       "    <tr>\n",
       "      <th>1254</th>\n",
       "      <td>4118.0</td>\n",
       "      <td>4</td>\n",
       "      <td>5.0</td>\n",
       "      <td>Unfurnished</td>\n",
       "      <td>Chittaranjan Park</td>\n",
       "      <td>3.0</td>\n",
       "      <td>55000000</td>\n",
       "      <td>Ready_to_move</td>\n",
       "      <td>New_Property</td>\n",
       "      <td>Builder_Floor</td>\n",
       "      <td>12916.0</td>\n",
       "    </tr>\n",
       "    <tr>\n",
       "      <th>1255</th>\n",
       "      <td>1050.0</td>\n",
       "      <td>3</td>\n",
       "      <td>2.0</td>\n",
       "      <td>Semi-Furnished</td>\n",
       "      <td>Chittaranjan Park</td>\n",
       "      <td>3.0</td>\n",
       "      <td>12500000</td>\n",
       "      <td>Ready_to_move</td>\n",
       "      <td>Resale</td>\n",
       "      <td>Builder_Floor</td>\n",
       "      <td>12916.0</td>\n",
       "    </tr>\n",
       "    <tr>\n",
       "      <th>1256</th>\n",
       "      <td>875.0</td>\n",
       "      <td>3</td>\n",
       "      <td>3.0</td>\n",
       "      <td>Semi-Furnished</td>\n",
       "      <td>Chittaranjan Park</td>\n",
       "      <td>3.0</td>\n",
       "      <td>17500000</td>\n",
       "      <td>Ready_to_move</td>\n",
       "      <td>New_Property</td>\n",
       "      <td>Builder_Floor</td>\n",
       "      <td>12916.0</td>\n",
       "    </tr>\n",
       "    <tr>\n",
       "      <th>1257</th>\n",
       "      <td>990.0</td>\n",
       "      <td>2</td>\n",
       "      <td>2.0</td>\n",
       "      <td>Unfurnished</td>\n",
       "      <td>Chittaranjan Park Block A</td>\n",
       "      <td>1.0</td>\n",
       "      <td>11500000</td>\n",
       "      <td>Ready_to_move</td>\n",
       "      <td>Resale</td>\n",
       "      <td>Builder_Floor</td>\n",
       "      <td>12916.0</td>\n",
       "    </tr>\n",
       "    <tr>\n",
       "      <th>1258</th>\n",
       "      <td>11050.0</td>\n",
       "      <td>3</td>\n",
       "      <td>3.0</td>\n",
       "      <td>Unfurnished</td>\n",
       "      <td>Chittaranjan Park</td>\n",
       "      <td>1.0</td>\n",
       "      <td>18500000</td>\n",
       "      <td>Ready_to_move</td>\n",
       "      <td>New_Property</td>\n",
       "      <td>Builder_Floor</td>\n",
       "      <td>12916.0</td>\n",
       "    </tr>\n",
       "  </tbody>\n",
       "</table>\n",
       "<p>1259 rows × 11 columns</p>\n",
       "</div>"
      ],
      "text/plain": [
       "         Area  BHK  Bathroom      Furnishing  \\\n",
       "0       800.0    3       2.0  Semi-Furnished   \n",
       "1       750.0    2       2.0  Semi-Furnished   \n",
       "2       950.0    2       2.0       Furnished   \n",
       "3       600.0    2       2.0  Semi-Furnished   \n",
       "4       650.0    2       2.0  Semi-Furnished   \n",
       "...       ...  ...       ...             ...   \n",
       "1254   4118.0    4       5.0     Unfurnished   \n",
       "1255   1050.0    3       2.0  Semi-Furnished   \n",
       "1256    875.0    3       3.0  Semi-Furnished   \n",
       "1257    990.0    2       2.0     Unfurnished   \n",
       "1258  11050.0    3       3.0     Unfurnished   \n",
       "\n",
       "                                               Locality  Parking     Price  \\\n",
       "0                                      Rohini Sector 25      1.0   6500000   \n",
       "1                J R Designers Floors, Rohini Sector 24      1.0   5000000   \n",
       "2                   Citizen Apartment, Rohini Sector 13      1.0  15500000   \n",
       "3                                      Rohini Sector 24      1.0   4200000   \n",
       "4     Rohini Sector 24 carpet area 650 sqft status R...      1.0   6200000   \n",
       "...                                                 ...      ...       ...   \n",
       "1254                                  Chittaranjan Park      3.0  55000000   \n",
       "1255                                  Chittaranjan Park      3.0  12500000   \n",
       "1256                                  Chittaranjan Park      3.0  17500000   \n",
       "1257                          Chittaranjan Park Block A      1.0  11500000   \n",
       "1258                                  Chittaranjan Park      1.0  18500000   \n",
       "\n",
       "             Status   Transaction           Type  Per_Sqft  \n",
       "0     Ready_to_move  New_Property  Builder_Floor       NaN  \n",
       "1     Ready_to_move  New_Property      Apartment    6667.0  \n",
       "2     Ready_to_move        Resale      Apartment    6667.0  \n",
       "3     Ready_to_move        Resale  Builder_Floor    6667.0  \n",
       "4     Ready_to_move  New_Property  Builder_Floor    6667.0  \n",
       "...             ...           ...            ...       ...  \n",
       "1254  Ready_to_move  New_Property  Builder_Floor   12916.0  \n",
       "1255  Ready_to_move        Resale  Builder_Floor   12916.0  \n",
       "1256  Ready_to_move  New_Property  Builder_Floor   12916.0  \n",
       "1257  Ready_to_move        Resale  Builder_Floor   12916.0  \n",
       "1258  Ready_to_move  New_Property  Builder_Floor   12916.0  \n",
       "\n",
       "[1259 rows x 11 columns]"
      ]
     },
     "execution_count": 6,
     "metadata": {},
     "output_type": "execute_result"
    }
   ],
   "source": [
    "df"
   ]
  },
  {
   "cell_type": "code",
   "execution_count": 7,
   "id": "8251c5fa-f4f9-45ef-8b70-451b5e7ee2b4",
   "metadata": {},
   "outputs": [
    {
     "data": {
      "text/html": [
       "<div>\n",
       "<style scoped>\n",
       "    .dataframe tbody tr th:only-of-type {\n",
       "        vertical-align: middle;\n",
       "    }\n",
       "\n",
       "    .dataframe tbody tr th {\n",
       "        vertical-align: top;\n",
       "    }\n",
       "\n",
       "    .dataframe thead th {\n",
       "        text-align: right;\n",
       "    }\n",
       "</style>\n",
       "<table border=\"1\" class=\"dataframe\">\n",
       "  <thead>\n",
       "    <tr style=\"text-align: right;\">\n",
       "      <th></th>\n",
       "      <th>Area</th>\n",
       "      <th>BHK</th>\n",
       "      <th>Bathroom</th>\n",
       "      <th>Parking</th>\n",
       "      <th>Price</th>\n",
       "      <th>Per_Sqft</th>\n",
       "    </tr>\n",
       "  </thead>\n",
       "  <tbody>\n",
       "    <tr>\n",
       "      <th>count</th>\n",
       "      <td>1259.000000</td>\n",
       "      <td>1259.000000</td>\n",
       "      <td>1257.000000</td>\n",
       "      <td>1226.000000</td>\n",
       "      <td>1.259000e+03</td>\n",
       "      <td>1018.000000</td>\n",
       "    </tr>\n",
       "    <tr>\n",
       "      <th>mean</th>\n",
       "      <td>1466.452724</td>\n",
       "      <td>2.796664</td>\n",
       "      <td>2.556086</td>\n",
       "      <td>1.935563</td>\n",
       "      <td>2.130670e+07</td>\n",
       "      <td>15690.136542</td>\n",
       "    </tr>\n",
       "    <tr>\n",
       "      <th>std</th>\n",
       "      <td>1568.055040</td>\n",
       "      <td>0.954425</td>\n",
       "      <td>1.042220</td>\n",
       "      <td>6.279212</td>\n",
       "      <td>2.560115e+07</td>\n",
       "      <td>21134.738568</td>\n",
       "    </tr>\n",
       "    <tr>\n",
       "      <th>min</th>\n",
       "      <td>28.000000</td>\n",
       "      <td>1.000000</td>\n",
       "      <td>1.000000</td>\n",
       "      <td>1.000000</td>\n",
       "      <td>1.000000e+06</td>\n",
       "      <td>1259.000000</td>\n",
       "    </tr>\n",
       "    <tr>\n",
       "      <th>25%</th>\n",
       "      <td>800.000000</td>\n",
       "      <td>2.000000</td>\n",
       "      <td>2.000000</td>\n",
       "      <td>1.000000</td>\n",
       "      <td>5.700000e+06</td>\n",
       "      <td>6364.000000</td>\n",
       "    </tr>\n",
       "    <tr>\n",
       "      <th>50%</th>\n",
       "      <td>1200.000000</td>\n",
       "      <td>3.000000</td>\n",
       "      <td>2.000000</td>\n",
       "      <td>1.000000</td>\n",
       "      <td>1.420000e+07</td>\n",
       "      <td>11291.500000</td>\n",
       "    </tr>\n",
       "    <tr>\n",
       "      <th>75%</th>\n",
       "      <td>1700.000000</td>\n",
       "      <td>3.000000</td>\n",
       "      <td>3.000000</td>\n",
       "      <td>2.000000</td>\n",
       "      <td>2.550000e+07</td>\n",
       "      <td>18000.000000</td>\n",
       "    </tr>\n",
       "    <tr>\n",
       "      <th>max</th>\n",
       "      <td>24300.000000</td>\n",
       "      <td>10.000000</td>\n",
       "      <td>7.000000</td>\n",
       "      <td>114.000000</td>\n",
       "      <td>2.400000e+08</td>\n",
       "      <td>183333.000000</td>\n",
       "    </tr>\n",
       "  </tbody>\n",
       "</table>\n",
       "</div>"
      ],
      "text/plain": [
       "               Area          BHK     Bathroom      Parking         Price  \\\n",
       "count   1259.000000  1259.000000  1257.000000  1226.000000  1.259000e+03   \n",
       "mean    1466.452724     2.796664     2.556086     1.935563  2.130670e+07   \n",
       "std     1568.055040     0.954425     1.042220     6.279212  2.560115e+07   \n",
       "min       28.000000     1.000000     1.000000     1.000000  1.000000e+06   \n",
       "25%      800.000000     2.000000     2.000000     1.000000  5.700000e+06   \n",
       "50%     1200.000000     3.000000     2.000000     1.000000  1.420000e+07   \n",
       "75%     1700.000000     3.000000     3.000000     2.000000  2.550000e+07   \n",
       "max    24300.000000    10.000000     7.000000   114.000000  2.400000e+08   \n",
       "\n",
       "            Per_Sqft  \n",
       "count    1018.000000  \n",
       "mean    15690.136542  \n",
       "std     21134.738568  \n",
       "min      1259.000000  \n",
       "25%      6364.000000  \n",
       "50%     11291.500000  \n",
       "75%     18000.000000  \n",
       "max    183333.000000  "
      ]
     },
     "execution_count": 7,
     "metadata": {},
     "output_type": "execute_result"
    }
   ],
   "source": [
    "df.describe()"
   ]
  },
  {
   "cell_type": "code",
   "execution_count": 8,
   "id": "f0fdaccc-68ed-4925-a021-0d4961c886e7",
   "metadata": {},
   "outputs": [
    {
     "name": "stdout",
     "output_type": "stream",
     "text": [
      "<class 'pandas.core.frame.DataFrame'>\n",
      "RangeIndex: 1259 entries, 0 to 1258\n",
      "Data columns (total 11 columns):\n",
      " #   Column       Non-Null Count  Dtype  \n",
      "---  ------       --------------  -----  \n",
      " 0   Area         1259 non-null   float64\n",
      " 1   BHK          1259 non-null   int64  \n",
      " 2   Bathroom     1257 non-null   float64\n",
      " 3   Furnishing   1254 non-null   object \n",
      " 4   Locality     1259 non-null   object \n",
      " 5   Parking      1226 non-null   float64\n",
      " 6   Price        1259 non-null   int64  \n",
      " 7   Status       1259 non-null   object \n",
      " 8   Transaction  1259 non-null   object \n",
      " 9   Type         1254 non-null   object \n",
      " 10  Per_Sqft     1018 non-null   float64\n",
      "dtypes: float64(4), int64(2), object(5)\n",
      "memory usage: 108.3+ KB\n"
     ]
    }
   ],
   "source": [
    "df.info()"
   ]
  },
  {
   "cell_type": "code",
   "execution_count": 9,
   "id": "927ce0c9-68f5-4a7a-8798-0ba305b6824b",
   "metadata": {},
   "outputs": [
    {
     "name": "stdout",
     "output_type": "stream",
     "text": [
      "Requirement already satisfied: missingno in c:\\users\\yashu\\anaconda3\\lib\\site-packages (0.5.2)\n",
      "Requirement already satisfied: numpy in c:\\users\\yashu\\anaconda3\\lib\\site-packages (from missingno) (1.26.4)\n",
      "Requirement already satisfied: matplotlib in c:\\users\\yashu\\anaconda3\\lib\\site-packages (from missingno) (3.8.0)\n",
      "Requirement already satisfied: scipy in c:\\users\\yashu\\anaconda3\\lib\\site-packages (from missingno) (1.11.4)\n",
      "Requirement already satisfied: seaborn in c:\\users\\yashu\\anaconda3\\lib\\site-packages (from missingno) (0.12.2)\n",
      "Requirement already satisfied: contourpy>=1.0.1 in c:\\users\\yashu\\anaconda3\\lib\\site-packages (from matplotlib->missingno) (1.2.0)\n",
      "Requirement already satisfied: cycler>=0.10 in c:\\users\\yashu\\anaconda3\\lib\\site-packages (from matplotlib->missingno) (0.11.0)\n",
      "Requirement already satisfied: fonttools>=4.22.0 in c:\\users\\yashu\\anaconda3\\lib\\site-packages (from matplotlib->missingno) (4.25.0)\n",
      "Requirement already satisfied: kiwisolver>=1.0.1 in c:\\users\\yashu\\anaconda3\\lib\\site-packages (from matplotlib->missingno) (1.4.4)\n",
      "Requirement already satisfied: packaging>=20.0 in c:\\users\\yashu\\anaconda3\\lib\\site-packages (from matplotlib->missingno) (23.1)\n",
      "Requirement already satisfied: pillow>=6.2.0 in c:\\users\\yashu\\anaconda3\\lib\\site-packages (from matplotlib->missingno) (10.2.0)\n",
      "Requirement already satisfied: pyparsing>=2.3.1 in c:\\users\\yashu\\anaconda3\\lib\\site-packages (from matplotlib->missingno) (3.0.9)\n",
      "Requirement already satisfied: python-dateutil>=2.7 in c:\\users\\yashu\\anaconda3\\lib\\site-packages (from matplotlib->missingno) (2.8.2)\n",
      "Requirement already satisfied: pandas>=0.25 in c:\\users\\yashu\\anaconda3\\lib\\site-packages (from seaborn->missingno) (2.1.4)\n",
      "Requirement already satisfied: pytz>=2020.1 in c:\\users\\yashu\\anaconda3\\lib\\site-packages (from pandas>=0.25->seaborn->missingno) (2023.3.post1)\n",
      "Requirement already satisfied: tzdata>=2022.1 in c:\\users\\yashu\\anaconda3\\lib\\site-packages (from pandas>=0.25->seaborn->missingno) (2023.3)\n",
      "Requirement already satisfied: six>=1.5 in c:\\users\\yashu\\anaconda3\\lib\\site-packages (from python-dateutil>=2.7->matplotlib->missingno) (1.16.0)\n",
      "Note: you may need to restart the kernel to use updated packages.\n"
     ]
    }
   ],
   "source": [
    "pip install missingno"
   ]
  },
  {
   "cell_type": "code",
   "execution_count": 10,
   "id": "6eb8a84f-7e10-4bf3-99bb-aed677b9e126",
   "metadata": {},
   "outputs": [
    {
     "data": {
      "image/png": "[encoded data removed]",
      "text/plain": [
       "<Figure size 2500x1000 with 3 Axes>"
      ]
     },
     "metadata": {},
     "output_type": "display_data"
    }
   ],
   "source": [
    "import missingno as msno\n",
    "msno.bar(df)\n",
    "plt.show()"
   ]
  },
  {
   "cell_type": "code",
   "execution_count": 11,
   "id": "cd9d9881-6dfe-480e-b3ff-d90afd150643",
   "metadata": {},
   "outputs": [
    {
     "data": {
      "text/plain": [
       "Area             0\n",
       "BHK              0\n",
       "Bathroom         2\n",
       "Furnishing       5\n",
       "Locality         0\n",
       "Parking         33\n",
       "Price            0\n",
       "Status           0\n",
       "Transaction      0\n",
       "Type             5\n",
       "Per_Sqft       241\n",
       "dtype: int64"
      ]
     },
     "execution_count": 11,
     "metadata": {},
     "output_type": "execute_result"
    }
   ],
   "source": [
    "df.isnull().sum()\n"
   ]
  },
  {
   "cell_type": "code",
   "execution_count": 12,
   "id": "61c5ac79-473c-4e3f-baad-b21dbd5ee035",
   "metadata": {},
   "outputs": [
    {
     "data": {
      "text/html": [
       "<div>\n",
       "<style scoped>\n",
       "    .dataframe tbody tr th:only-of-type {\n",
       "        vertical-align: middle;\n",
       "    }\n",
       "\n",
       "    .dataframe tbody tr th {\n",
       "        vertical-align: top;\n",
       "    }\n",
       "\n",
       "    .dataframe thead th {\n",
       "        text-align: right;\n",
       "    }\n",
       "</style>\n",
       "<table border=\"1\" class=\"dataframe\">\n",
       "  <thead>\n",
       "    <tr style=\"text-align: right;\">\n",
       "      <th></th>\n",
       "      <th>Area</th>\n",
       "      <th>BHK</th>\n",
       "      <th>Bathroom</th>\n",
       "      <th>Furnishing</th>\n",
       "      <th>Locality</th>\n",
       "      <th>Parking</th>\n",
       "      <th>Price</th>\n",
       "      <th>Status</th>\n",
       "      <th>Transaction</th>\n",
       "      <th>Type</th>\n",
       "      <th>Per_Sqft</th>\n",
       "    </tr>\n",
       "  </thead>\n",
       "  <tbody>\n",
       "    <tr>\n",
       "      <th>84</th>\n",
       "      <td>1540.0</td>\n",
       "      <td>3</td>\n",
       "      <td>3.0</td>\n",
       "      <td>Semi-Furnished</td>\n",
       "      <td>Nav Kairali Apartment, Dwarka Sector 3</td>\n",
       "      <td>1.0</td>\n",
       "      <td>14500000</td>\n",
       "      <td>Ready_to_move</td>\n",
       "      <td>Resale</td>\n",
       "      <td>Apartment</td>\n",
       "      <td>3524.0</td>\n",
       "    </tr>\n",
       "    <tr>\n",
       "      <th>92</th>\n",
       "      <td>1450.0</td>\n",
       "      <td>3</td>\n",
       "      <td>3.0</td>\n",
       "      <td>Semi-Furnished</td>\n",
       "      <td>Lajpat Nagar 3</td>\n",
       "      <td>2.0</td>\n",
       "      <td>30000000</td>\n",
       "      <td>Ready_to_move</td>\n",
       "      <td>New_Property</td>\n",
       "      <td>Builder_Floor</td>\n",
       "      <td>NaN</td>\n",
       "    </tr>\n",
       "    <tr>\n",
       "      <th>110</th>\n",
       "      <td>1000.0</td>\n",
       "      <td>2</td>\n",
       "      <td>2.0</td>\n",
       "      <td>Furnished</td>\n",
       "      <td>Lajpat Nagar 3</td>\n",
       "      <td>1.0</td>\n",
       "      <td>20000000</td>\n",
       "      <td>Ready_to_move</td>\n",
       "      <td>Resale</td>\n",
       "      <td>Apartment</td>\n",
       "      <td>20000.0</td>\n",
       "    </tr>\n",
       "    <tr>\n",
       "      <th>120</th>\n",
       "      <td>1500.0</td>\n",
       "      <td>1</td>\n",
       "      <td>NaN</td>\n",
       "      <td>Unfurnished</td>\n",
       "      <td>Lajpat Nagar 2</td>\n",
       "      <td>NaN</td>\n",
       "      <td>13500000</td>\n",
       "      <td>Ready_to_move</td>\n",
       "      <td>Resale</td>\n",
       "      <td>Apartment</td>\n",
       "      <td>NaN</td>\n",
       "    </tr>\n",
       "    <tr>\n",
       "      <th>122</th>\n",
       "      <td>1710.0</td>\n",
       "      <td>3</td>\n",
       "      <td>3.0</td>\n",
       "      <td>Semi-Furnished</td>\n",
       "      <td>Lajpat Nagar 2</td>\n",
       "      <td>4.0</td>\n",
       "      <td>26000000</td>\n",
       "      <td>Ready_to_move</td>\n",
       "      <td>New_Property</td>\n",
       "      <td>Builder_Floor</td>\n",
       "      <td>NaN</td>\n",
       "    </tr>\n",
       "    <tr>\n",
       "      <th>...</th>\n",
       "      <td>...</td>\n",
       "      <td>...</td>\n",
       "      <td>...</td>\n",
       "      <td>...</td>\n",
       "      <td>...</td>\n",
       "      <td>...</td>\n",
       "      <td>...</td>\n",
       "      <td>...</td>\n",
       "      <td>...</td>\n",
       "      <td>...</td>\n",
       "      <td>...</td>\n",
       "    </tr>\n",
       "    <tr>\n",
       "      <th>1164</th>\n",
       "      <td>1300.0</td>\n",
       "      <td>2</td>\n",
       "      <td>2.0</td>\n",
       "      <td>Semi-Furnished</td>\n",
       "      <td>Yamuna Apartment, Alaknanda</td>\n",
       "      <td>1.0</td>\n",
       "      <td>15000000</td>\n",
       "      <td>Ready_to_move</td>\n",
       "      <td>Resale</td>\n",
       "      <td>Apartment</td>\n",
       "      <td>11538.0</td>\n",
       "    </tr>\n",
       "    <tr>\n",
       "      <th>1165</th>\n",
       "      <td>1200.0</td>\n",
       "      <td>2</td>\n",
       "      <td>2.0</td>\n",
       "      <td>Unfurnished</td>\n",
       "      <td>Nilgiri Apartment, Alaknanda</td>\n",
       "      <td>1.0</td>\n",
       "      <td>14300000</td>\n",
       "      <td>Ready_to_move</td>\n",
       "      <td>Resale</td>\n",
       "      <td>Apartment</td>\n",
       "      <td>11538.0</td>\n",
       "    </tr>\n",
       "    <tr>\n",
       "      <th>1166</th>\n",
       "      <td>1300.0</td>\n",
       "      <td>3</td>\n",
       "      <td>2.0</td>\n",
       "      <td>Unfurnished</td>\n",
       "      <td>Nilgiri Apartment, Alaknanda</td>\n",
       "      <td>1.0</td>\n",
       "      <td>18500000</td>\n",
       "      <td>Ready_to_move</td>\n",
       "      <td>Resale</td>\n",
       "      <td>Apartment</td>\n",
       "      <td>11538.0</td>\n",
       "    </tr>\n",
       "    <tr>\n",
       "      <th>1167</th>\n",
       "      <td>1400.0</td>\n",
       "      <td>3</td>\n",
       "      <td>3.0</td>\n",
       "      <td>Furnished</td>\n",
       "      <td>Tara Apartment, Alaknanda carpet area 1400 sqf...</td>\n",
       "      <td>1.0</td>\n",
       "      <td>19000000</td>\n",
       "      <td>Ready_to_move</td>\n",
       "      <td>Resale</td>\n",
       "      <td>Apartment</td>\n",
       "      <td>11538.0</td>\n",
       "    </tr>\n",
       "    <tr>\n",
       "      <th>1168</th>\n",
       "      <td>1400.0</td>\n",
       "      <td>3</td>\n",
       "      <td>3.0</td>\n",
       "      <td>Semi-Furnished</td>\n",
       "      <td>Alaknanda</td>\n",
       "      <td>1.0</td>\n",
       "      <td>19000000</td>\n",
       "      <td>Ready_to_move</td>\n",
       "      <td>Resale</td>\n",
       "      <td>Apartment</td>\n",
       "      <td>11538.0</td>\n",
       "    </tr>\n",
       "  </tbody>\n",
       "</table>\n",
       "<p>83 rows × 11 columns</p>\n",
       "</div>"
      ],
      "text/plain": [
       "        Area  BHK  Bathroom      Furnishing  \\\n",
       "84    1540.0    3       3.0  Semi-Furnished   \n",
       "92    1450.0    3       3.0  Semi-Furnished   \n",
       "110   1000.0    2       2.0       Furnished   \n",
       "120   1500.0    1       NaN     Unfurnished   \n",
       "122   1710.0    3       3.0  Semi-Furnished   \n",
       "...      ...  ...       ...             ...   \n",
       "1164  1300.0    2       2.0  Semi-Furnished   \n",
       "1165  1200.0    2       2.0     Unfurnished   \n",
       "1166  1300.0    3       2.0     Unfurnished   \n",
       "1167  1400.0    3       3.0       Furnished   \n",
       "1168  1400.0    3       3.0  Semi-Furnished   \n",
       "\n",
       "                                               Locality  Parking     Price  \\\n",
       "84               Nav Kairali Apartment, Dwarka Sector 3      1.0  14500000   \n",
       "92                                       Lajpat Nagar 3      2.0  30000000   \n",
       "110                                      Lajpat Nagar 3      1.0  20000000   \n",
       "120                                      Lajpat Nagar 2      NaN  13500000   \n",
       "122                                      Lajpat Nagar 2      4.0  26000000   \n",
       "...                                                 ...      ...       ...   \n",
       "1164                        Yamuna Apartment, Alaknanda      1.0  15000000   \n",
       "1165                       Nilgiri Apartment, Alaknanda      1.0  14300000   \n",
       "1166                       Nilgiri Apartment, Alaknanda      1.0  18500000   \n",
       "1167  Tara Apartment, Alaknanda carpet area 1400 sqf...      1.0  19000000   \n",
       "1168                                          Alaknanda      1.0  19000000   \n",
       "\n",
       "             Status   Transaction           Type  Per_Sqft  \n",
       "84    Ready_to_move        Resale      Apartment    3524.0  \n",
       "92    Ready_to_move  New_Property  Builder_Floor       NaN  \n",
       "110   Ready_to_move        Resale      Apartment   20000.0  \n",
       "120   Ready_to_move        Resale      Apartment       NaN  \n",
       "122   Ready_to_move  New_Property  Builder_Floor       NaN  \n",
       "...             ...           ...            ...       ...  \n",
       "1164  Ready_to_move        Resale      Apartment   11538.0  \n",
       "1165  Ready_to_move        Resale      Apartment   11538.0  \n",
       "1166  Ready_to_move        Resale      Apartment   11538.0  \n",
       "1167  Ready_to_move        Resale      Apartment   11538.0  \n",
       "1168  Ready_to_move        Resale      Apartment   11538.0  \n",
       "\n",
       "[83 rows x 11 columns]"
      ]
     },
     "execution_count": 12,
     "metadata": {},
     "output_type": "execute_result"
    }
   ],
   "source": [
    "duplicate = df[df.duplicated()]\n",
    "duplicate"
   ]
  },
  {
   "cell_type": "code",
   "execution_count": 13,
   "id": "0bffa6f4-0d79-481d-9535-e173ae9a83bf",
   "metadata": {},
   "outputs": [
    {
     "data": {
      "text/plain": [
       "(1176, 11)"
      ]
     },
     "execution_count": 13,
     "metadata": {},
     "output_type": "execute_result"
    }
   ],
   "source": [
    "df1 = df.drop_duplicates().reset_index(drop=True)\n",
    "df1.shape"
   ]
  },
  {
   "cell_type": "code",
   "execution_count": 14,
   "id": "2a90bed3-062b-4180-a3be-b9c029d39a5f",
   "metadata": {},
   "outputs": [
    {
     "data": {
      "text/plain": [
       "Area             0\n",
       "BHK              0\n",
       "Bathroom         1\n",
       "Furnishing       5\n",
       "Locality         0\n",
       "Parking         31\n",
       "Price            0\n",
       "Status           0\n",
       "Transaction      0\n",
       "Type             5\n",
       "Per_Sqft       227\n",
       "dtype: int64"
      ]
     },
     "execution_count": 14,
     "metadata": {},
     "output_type": "execute_result"
    }
   ],
   "source": [
    "df1.isnull().sum()"
   ]
  },
  {
   "cell_type": "code",
   "execution_count": 15,
   "id": "082743b6-bf9e-43a1-9a36-c7cb22784f94",
   "metadata": {},
   "outputs": [],
   "source": [
    "df1['Per_Sqft'] = df1['Per_Sqft'].fillna(df1['Per_Sqft'].mean())\n",
    "df1['Parking'] = df1['Parking'].fillna(df1['Parking'].mode()[0])"
   ]
  },
  {
   "cell_type": "code",
   "execution_count": 16,
   "id": "bc33b951-a4b0-4469-b9b1-13ad3063fc5e",
   "metadata": {},
   "outputs": [],
   "source": [
    "df1 = df1.dropna()"
   ]
  },
  {
   "cell_type": "code",
   "execution_count": 17,
   "id": "9567b5eb-e404-44ed-a585-88405e00cff8",
   "metadata": {},
   "outputs": [
    {
     "data": {
      "text/plain": [
       "Area           0\n",
       "BHK            0\n",
       "Bathroom       0\n",
       "Furnishing     0\n",
       "Locality       0\n",
       "Parking        0\n",
       "Price          0\n",
       "Status         0\n",
       "Transaction    0\n",
       "Type           0\n",
       "Per_Sqft       0\n",
       "dtype: int64"
      ]
     },
     "execution_count": 17,
     "metadata": {},
     "output_type": "execute_result"
    }
   ],
   "source": [
    "df1.isnull().sum()"
   ]
  },
  {
   "cell_type": "code",
   "execution_count": 18,
   "id": "269938d6-20d6-4370-959f-d96a89f434a5",
   "metadata": {},
   "outputs": [
    {
     "data": {
      "application/vnd.plotly.v1+json": {
       "config": {
        "plotlyServerURL": "https://plot.ly"
       },
       "data": [
        {
         "alignmentgroup": "True",
         "bingroup": "x",
         "hovertemplate": "Type=Builder_Floor<br>Price=%{x}<br>count=%{y}<extra></extra>",
         "legendgroup": "Builder_Floor",
         "marker": {
          "color": "#636efa",
          "pattern": {
           "shape": ""
          }
         },
         "name": "Builder_Floor",
         "offsetgroup": "Builder_Floor",
         "orientation": "v",
         "showlegend": true,
         "type": "histogram",
         "x": [
          6500000,
          4200000,
          6200000,
          15500000,
          10000000,
          6800000,
          15000000,
          6200000,
          7700000,
          5500000,
          5000000,
          3310000,
          4700000,
          4500000,
          17000000,
          6000000,
          4500000,
          12000000,
          7000000,
          7000000,
          21000000,
          15000000,
          10500000,
          22500000,
          13600000,
          30000000,
          8910000,
          26000000,
          30000000,
          12500000,
          21000000,
          7800000,
          11500000,
          11500000,
          26000000,
          13000000,
          22000000,
          15800000,
          57500000,
          10000000,
          30000000,
          22000000,
          24000000,
          31500000,
          14600000,
          240000000,
          8300000,
          22500000,
          1850000,
          6800000,
          8900000,
          37500000,
          21000000,
          57500000,
          30000000,
          30000000,
          31500000,
          30000000,
          41500000,
          24800000,
          35000000,
          40000000,
          46000000,
          55000000,
          24500000,
          32500000,
          240000000,
          19000000,
          26000000,
          21000000,
          27500000,
          32500000,
          45000000,
          21000000,
          28000000,
          29500000,
          14000000,
          12500000,
          26000000,
          11500000,
          14600000,
          25500000,
          31000000,
          22000000,
          13400000,
          35000000,
          11000000,
          6300000,
          12500000,
          14500000,
          22500000,
          15500000,
          26000000,
          15800000,
          15000000,
          13000000,
          15000000,
          25000000,
          16500000,
          10300000,
          26000000,
          11000000,
          28500000,
          4500000,
          3600000,
          4300000,
          4000000,
          2000000,
          3000000,
          2000000,
          2000000,
          2600000,
          5100000,
          6000000,
          4000000,
          6200000,
          3500000,
          13500000,
          12500000,
          6500000,
          22000000,
          6000000,
          7300000,
          7600000,
          20000000,
          15000000,
          6200000,
          6200000,
          2300000,
          2400000,
          3800000,
          23000000,
          24500000,
          10000000,
          5500000,
          7000000,
          6500000,
          60000000,
          51000000,
          170000000,
          5510000,
          55000000,
          51000000,
          13000000,
          30000000,
          2400000,
          5500000,
          45000000,
          60000000,
          65000000,
          220000000,
          60000000,
          38500000,
          75000000,
          70000000,
          85000000,
          90000000,
          56000000,
          135500000,
          60000000,
          170000000,
          50000000,
          58000000,
          37500000,
          45000000,
          70000000,
          60000000,
          70000000,
          50000000,
          75000000,
          52500000,
          55000000,
          120000000,
          65000000,
          75000000,
          47500000,
          70000000,
          47500000,
          40000000,
          85000000,
          26000000,
          35000000,
          20000000,
          79000000,
          17000000,
          47500000,
          43000000,
          26000000,
          25000000,
          51000000,
          40000000,
          22500000,
          70000000,
          45000000,
          25500000,
          26500000,
          15000000,
          55000000,
          26000000,
          38000000,
          72500000,
          65000000,
          4600000,
          9200000,
          4500000,
          6500000,
          5650000,
          9300000,
          6500000,
          6000000,
          4500000,
          4100000,
          3800000,
          2900000,
          2000000,
          1550000,
          11300000,
          4500000,
          11500000,
          6000000,
          4500000,
          1900000,
          7000000,
          6000000,
          6400000,
          6500000,
          4000000,
          5000000,
          6000000,
          2500000,
          2700000,
          5700000,
          25000000,
          70000000,
          26500000,
          18500000,
          30000000,
          22000000,
          9000000,
          65000000,
          22500000,
          8700000,
          22000000,
          18500000,
          16000000,
          16000000,
          9000000,
          4500000,
          6000000,
          2700000,
          2600000,
          3500000,
          7000000,
          4500000,
          5500000,
          2700000,
          2400000,
          11500000,
          3600000,
          1700000,
          6600000,
          3700000,
          5400000,
          2550000,
          12500000,
          7000000,
          3500000,
          9000000,
          2300000,
          6000000,
          2650000,
          5510000,
          3200000,
          2600000,
          4000000,
          1850000,
          1700000,
          2800000,
          2150000,
          6800000,
          6200000,
          3100000,
          3400000,
          4000000,
          4800000,
          2500000,
          2000000,
          1900000,
          5800000,
          2900000,
          2000000,
          2600000,
          2900000,
          3200000,
          5400000,
          3800000,
          8200000,
          8000000,
          9500000,
          20000000,
          7400000,
          15000000,
          26500000,
          10400000,
          1700000,
          8000000,
          27000000,
          19500000,
          21100000,
          5900000,
          12000000,
          12000000,
          1500000,
          12500000,
          31000000,
          5000000,
          22500000,
          20000000,
          17500000,
          35000000,
          10200000,
          41000000,
          6000000,
          2200000,
          5500000,
          6200000,
          29500000,
          19000000,
          75000000,
          75000000,
          34000000,
          47500000,
          75000000,
          28500000,
          12500000,
          45000000,
          30500000,
          22500000,
          25000000,
          33700000,
          27000000,
          43500000,
          29000000,
          30000000,
          32500000,
          30000000,
          51000000,
          31000000,
          37500000,
          32500000,
          37500000,
          55000000,
          87500000,
          65000000,
          25000000,
          38000000,
          15000000,
          3000000,
          8500000,
          55000000,
          22500000,
          72500000,
          12500000,
          82500000,
          55000000,
          35000000,
          42500000,
          4700000,
          52500000,
          80000000,
          11000000,
          74000000,
          37500000,
          52500000,
          26000000,
          15500000,
          22000000,
          21000000,
          5000000,
          22000000,
          26500000,
          8770000,
          42500000,
          30000000,
          23100000,
          12500000,
          24500000,
          15000000,
          27500000,
          12000000,
          26000000,
          36500000,
          3000000,
          9000000,
          6300000,
          1500000,
          2800000,
          2600000,
          2350000,
          2000000,
          5000000,
          3500000,
          4500000,
          4000000,
          10800000,
          10000000,
          9000000,
          6000000,
          7000000,
          3700000,
          3100000,
          1500000,
          7090000,
          4500000,
          5500000,
          6990000,
          12500000,
          3000000,
          2800000,
          5000000,
          6000000,
          2500000,
          8500000,
          4900000,
          3500000,
          3000000,
          7020000,
          3500000,
          7000000,
          4500000,
          5990000,
          4400000,
          2500000,
          1600000,
          6500000,
          2200000,
          8500000,
          1700000,
          7000000,
          5600000,
          13500000,
          8500000,
          7200000,
          4000000,
          1700000,
          6000000,
          1200000,
          3500000,
          8500000,
          3200000,
          4400000,
          7200000,
          7500000,
          3500000,
          6500000,
          6200000,
          2500000,
          6000000,
          3790000,
          5000000,
          2100000,
          2300000,
          5900000,
          3500000,
          1850000,
          2300000,
          3800000,
          4500000,
          5200000,
          2200000,
          1600000,
          1750000,
          1800000,
          1900000,
          1000000,
          5000000,
          13000000,
          34000000,
          60000000,
          74500000,
          75000000,
          62500000,
          67000000,
          8500000,
          11500000,
          52500000,
          12000000,
          10700000,
          100000000,
          17000000,
          12500000,
          13000000,
          4200000,
          36000000,
          8100000,
          10000000,
          62500000,
          65000000,
          20000000,
          57500000,
          30000000,
          30000000,
          30000000,
          6500000,
          6900000,
          3600000,
          9300000,
          3300000,
          2400000,
          15000000,
          2600000,
          6000000,
          3600000,
          1700000,
          75000000,
          11700000,
          5500000,
          41000000,
          3800000,
          1500000,
          2400000,
          7000000,
          3100000,
          61500000,
          27500000,
          6540000,
          15000000,
          10000000,
          20000000,
          5500000,
          7000000,
          4100000,
          24000000,
          14500000,
          8000000,
          5000000,
          21000000,
          22500000,
          19000000,
          7500000,
          4000000,
          8000000,
          5800000,
          8000000,
          6000000,
          6500000,
          5500000,
          22500000,
          4600000,
          5500000,
          22500000,
          50000000,
          42500000,
          45500000,
          23000000,
          25000000,
          29000000,
          80000000,
          37500000,
          32500000,
          24500000,
          65000000,
          27500000,
          115000000,
          28000000,
          8000000,
          75100000,
          15000000,
          27500000,
          25000000,
          26000000,
          4200000,
          10000000,
          18500000,
          3300000,
          3800000,
          7000000,
          16500000,
          5600000,
          21000000,
          21000000,
          14000000,
          4700000,
          26000000,
          8000000,
          6800000,
          18000000,
          27500000,
          14000000,
          9000000,
          5500000,
          47500000,
          45000000,
          43500000,
          80000000,
          60000000,
          71000000,
          70000000,
          85000000,
          190000000,
          35000000,
          65000000,
          27500000,
          45000000,
          100000000,
          47000000,
          27500000,
          70000000,
          65000000,
          56000000,
          110000000,
          24000000,
          102500000,
          100000000,
          45000000,
          29000000,
          25500000,
          33500000,
          62500000,
          47500000,
          14700000,
          18000000,
          22500000,
          22000000,
          22200000,
          22500000,
          30000000,
          35000000,
          17500000,
          60000000,
          40000000,
          11500000,
          22500000,
          28500000,
          29000000,
          15500000,
          26000000,
          16500000,
          55000000,
          12500000,
          17500000,
          11500000,
          18500000
         ],
         "xaxis": "x",
         "yaxis": "y"
        },
        {
         "alignmentgroup": "True",
         "bingroup": "x",
         "hovertemplate": "Type=Apartment<br>Price=%{x}<br>count=%{y}<extra></extra>",
         "legendgroup": "Apartment",
         "marker": {
          "color": "#EF553B",
          "pattern": {
           "shape": ""
          }
         },
         "name": "Apartment",
         "offsetgroup": "Apartment",
         "orientation": "v",
         "showlegend": true,
         "type": "histogram",
         "x": [
          5000000,
          15500000,
          4000000,
          25000000,
          11000000,
          5300000,
          10500000,
          3400000,
          5000000,
          13500000,
          25000000,
          4600000,
          1900000,
          5130000,
          5890000,
          3700000,
          17400000,
          15500000,
          2400000,
          17200000,
          14200000,
          13500000,
          30000000,
          21000000,
          20500000,
          24000000,
          16500000,
          14900000,
          19200000,
          14500000,
          15600000,
          11400000,
          31500000,
          15800000,
          16000000,
          10500000,
          14800000,
          14200000,
          24500000,
          20000000,
          11000000,
          1650000,
          1400000,
          2000000,
          7600000,
          4700000,
          5500000,
          2000000,
          7300000,
          13000000,
          11500000,
          2800000,
          2200000,
          4400000,
          13500000,
          4100000,
          12000000,
          3500000,
          15000000,
          17500000,
          1900000,
          5500000,
          10000000,
          4700000,
          135000000,
          93000000,
          4370000,
          4620000,
          1900000,
          70000000,
          3000000,
          3300000,
          24900000,
          17400000,
          25000000,
          57000000,
          2940000,
          15500000,
          17200000,
          15000000,
          50000000,
          160000000,
          40000000,
          29500000,
          51100000,
          9500000,
          2700000,
          5800000,
          5500000,
          3300000,
          3300000,
          9000000,
          14000000,
          7300000,
          2700000,
          3000000,
          6500000,
          8000000,
          4500000,
          6500000,
          4000000,
          7500000,
          2500000,
          3500000,
          5600000,
          35000000,
          6000000,
          37500000,
          55300000,
          16000000,
          50000000,
          24000000,
          7000000,
          15000000,
          3950000,
          1600000,
          36500000,
          20000000,
          15000000,
          25000000,
          18500000,
          23500000,
          8000000,
          23000000,
          31000000,
          7400000,
          15500000,
          12000000,
          23500000,
          25000000,
          7000000,
          17500000,
          25000000,
          29000000,
          21900000,
          7500000,
          23500000,
          24000000,
          16500000,
          24000000,
          17000000,
          40000000,
          7500000,
          3600000,
          35000000,
          6000000,
          29000000,
          2500000,
          21500000,
          15000000,
          28900000,
          1950000,
          3800000,
          14000000,
          7500000,
          2670000,
          2500000,
          5000000,
          25500000,
          23000000,
          24000000,
          21500000,
          28000000,
          52100000,
          20500000,
          25000000,
          16300000,
          2000000,
          160000000,
          17000000,
          4500000,
          8500000,
          8600000,
          13100000,
          7000000,
          13000000,
          16000000,
          3200000,
          6300000,
          5700000,
          21000000,
          7500000,
          6500000,
          18000000,
          15600000,
          15500000,
          15200000,
          25000000,
          15000000,
          15800000,
          31500000,
          14000000,
          13200000,
          15800000,
          16200000,
          15500000,
          14500000,
          14900000,
          17200000,
          18000000,
          15500000,
          15800000,
          12600000,
          15000000,
          19500000,
          16600000,
          17200000,
          13000000,
          16500000,
          10700000,
          16200000,
          16500000,
          14900000,
          27500000,
          62500000,
          70000000,
          35500000,
          42100000,
          42500000,
          44000000,
          43200000,
          52500000,
          34300000,
          38000000,
          52500000,
          37500000,
          37000000,
          40000000,
          36200000,
          29000000,
          42500000,
          60000000,
          36500000,
          42500000,
          71500000,
          65000000,
          58000000,
          27500000,
          70000000,
          65000000,
          28600000,
          39000000,
          32500000,
          34000000,
          16500000,
          13800000,
          21000000,
          22500000,
          15000000,
          20000000,
          20000000,
          19500000,
          21500000,
          26500000,
          20000000,
          18000000,
          19000000,
          15000000,
          17500000,
          14000000,
          21000000,
          15600000,
          19000000,
          16500000,
          19000000,
          16500000,
          15000000,
          14300000,
          18500000,
          19000000,
          19000000,
          15800000,
          17000000,
          15500000,
          16000000,
          12900000,
          13500000,
          17800000,
          13200000,
          14000000,
          17500000,
          17000000,
          13000000,
          17000000,
          12700000,
          13500000,
          17400000,
          17800000,
          12700000,
          16200000,
          11100000,
          13600000,
          13100000,
          12500000,
          13600000,
          12000000,
          20000000,
          13500000,
          14000000,
          10800000,
          5500000,
          2350000,
          8500000,
          1650000,
          10000000,
          2350000,
          8500000,
          5500000,
          6000000,
          4500000,
          63000000,
          4400000,
          4500000,
          2800000,
          3000000,
          60000000,
          7000000,
          2750000,
          1500000,
          2800000,
          4500000,
          1800000,
          8500000,
          6000000,
          6500000,
          8400000,
          8500000,
          1600000,
          2100000,
          1700000,
          1500000,
          1650000,
          6500000,
          3000000,
          4800000,
          4200000,
          2900000,
          3200000,
          3000000,
          5500000,
          1700000,
          2200000,
          1500000,
          2200000,
          3800000,
          1800000,
          2850000,
          2500000,
          3500000,
          2000000,
          3000000,
          2000000,
          3500000,
          1800000,
          1600000,
          2000000,
          1500000,
          3000000,
          1490000,
          3500000,
          4000000,
          4600000,
          1000000,
          1000000,
          3500000,
          2200000,
          9000000,
          6200000,
          2300000,
          3300000,
          7350000,
          12500000,
          3500000,
          13500000,
          9200000,
          2500000,
          17000000,
          9030000,
          6500000,
          7000000,
          4200000,
          5800000,
          4800000,
          7500000,
          3000000,
          4300000,
          7000000,
          6700000,
          9500000,
          17000000,
          8000000,
          12000000,
          9000000,
          11500000,
          20000000,
          8550000,
          10500000,
          12000000,
          11000000,
          12000000,
          9000000,
          10000000,
          8100000,
          9200000,
          14200000,
          7500000,
          9500000,
          14000000,
          11600000,
          12000000,
          7500000,
          9800000,
          12000000,
          12500000,
          16500000,
          12000000,
          7200000,
          15000000,
          10000000,
          11000000,
          24700000,
          24900000,
          11000000,
          24800000,
          24900000,
          24900000,
          25900000,
          13500000,
          30000000,
          4950000,
          16000000,
          30000000,
          68900000,
          1800000,
          12500000,
          1600000,
          14500000,
          25500000,
          25000000,
          18500000,
          39700000,
          6800000,
          22000000,
          17000000,
          27500000,
          73700000,
          52300000,
          16000000,
          5000000,
          16000000,
          12500000,
          3900000,
          20000000,
          24500000,
          20900000,
          43100000,
          18000000,
          50000000,
          18500000,
          46500000,
          17500000,
          42500000,
          15500000,
          15000000,
          40000000,
          20000000,
          6700000,
          16000000,
          25000000,
          25000000,
          37500000,
          25000000,
          23000000,
          17500000,
          44000000,
          15000000,
          42500000,
          38000000,
          19000000,
          43500000,
          19500000,
          14200000,
          14200000,
          13500000,
          19000000,
          7000000,
          18800000,
          2200000,
          23500000,
          16000000,
          20000000,
          13500000,
          3800000,
          17500000,
          12500000,
          19000000,
          15500000,
          13500000,
          21000000,
          12000000,
          35000000,
          20500000,
          52500000,
          7500000,
          7800000,
          23500000,
          8000000,
          8600000,
          6600000,
          30000000,
          18500000,
          6500000,
          15000000,
          16100000,
          6800000,
          9000000,
          13500000,
          16000000,
          11000000,
          180000000,
          37500000,
          18500000,
          135000000,
          36500000,
          35000000,
          7500000,
          6500000
         ],
         "xaxis": "x",
         "yaxis": "y"
        }
       ],
       "layout": {
        "autosize": true,
        "barmode": "relative",
        "legend": {
         "title": {
          "text": "Type"
         },
         "tracegroupgap": 0
        },
        "margin": {
         "t": 60
        },
        "template": {
         "data": {
          "bar": [
           {
            "error_x": {
             "color": "#2a3f5f"
            },
            "error_y": {
             "color": "#2a3f5f"
            },
            "marker": {
             "line": {
              "color": "#E5ECF6",
              "width": 0.5
             },
             "pattern": {
              "fillmode": "overlay",
              "size": 10,
              "solidity": 0.2
             }
            },
            "type": "bar"
           }
          ],
          "barpolar": [
           {
            "marker": {
             "line": {
              "color": "#E5ECF6",
              "width": 0.5
             },
             "pattern": {
              "fillmode": "overlay",
              "size": 10,
              "solidity": 0.2
             }
            },
            "type": "barpolar"
           }
          ],
          "carpet": [
           {
            "aaxis": {
             "endlinecolor": "#2a3f5f",
             "gridcolor": "white",
             "linecolor": "white",
             "minorgridcolor": "white",
             "startlinecolor": "#2a3f5f"
            },
            "baxis": {
             "endlinecolor": "#2a3f5f",
             "gridcolor": "white",
             "linecolor": "white",
             "minorgridcolor": "white",
             "startlinecolor": "#2a3f5f"
            },
            "type": "carpet"
           }
          ],
          "choropleth": [
           {
            "colorbar": {
             "outlinewidth": 0,
             "ticks": ""
            },
            "type": "choropleth"
           }
          ],
          "contour": [
           {
            "colorbar": {
             "outlinewidth": 0,
             "ticks": ""
            },
            "colorscale": [
             [
              0,
              "#0d0887"
             ],
             [
              0.1111111111111111,
              "#46039f"
             ],
             [
              0.2222222222222222,
              "#7201a8"
             ],
             [
              0.3333333333333333,
              "#9c179e"
             ],
             [
              0.4444444444444444,
              "#bd3786"
             ],
             [
              0.5555555555555556,
              "#d8576b"
             ],
             [
              0.6666666666666666,
              "#ed7953"
             ],
             [
              0.7777777777777778,
              "#fb9f3a"
             ],
             [
              0.8888888888888888,
              "#fdca26"
             ],
             [
              1,
              "#f0f921"
             ]
            ],
            "type": "contour"
           }
          ],
          "contourcarpet": [
           {
            "colorbar": {
             "outlinewidth": 0,
             "ticks": ""
            },
            "type": "contourcarpet"
           }
          ],
          "heatmap": [
           {
            "colorbar": {
             "outlinewidth": 0,
             "ticks": ""
            },
            "colorscale": [
             [
              0,
              "#0d0887"
             ],
             [
              0.1111111111111111,
              "#46039f"
             ],
             [
              0.2222222222222222,
              "#7201a8"
             ],
             [
              0.3333333333333333,
              "#9c179e"
             ],
             [
              0.4444444444444444,
              "#bd3786"
             ],
             [
              0.5555555555555556,
              "#d8576b"
             ],
             [
              0.6666666666666666,
              "#ed7953"
             ],
             [
              0.7777777777777778,
              "#fb9f3a"
             ],
             [
              0.8888888888888888,
              "#fdca26"
             ],
             [
              1,
              "#f0f921"
             ]
            ],
            "type": "heatmap"
           }
          ],
          "heatmapgl": [
           {
            "colorbar": {
             "outlinewidth": 0,
             "ticks": ""
            },
            "colorscale": [
             [
              0,
              "#0d0887"
             ],
             [
              0.1111111111111111,
              "#46039f"
             ],
             [
              0.2222222222222222,
              "#7201a8"
             ],
             [
              0.3333333333333333,
              "#9c179e"
             ],
             [
              0.4444444444444444,
              "#bd3786"
             ],
             [
              0.5555555555555556,
              "#d8576b"
             ],
             [
              0.6666666666666666,
              "#ed7953"
             ],
             [
              0.7777777777777778,
              "#fb9f3a"
             ],
             [
              0.8888888888888888,
              "#fdca26"
             ],
             [
              1,
              "#f0f921"
             ]
            ],
            "type": "heatmapgl"
           }
          ],
          "histogram": [
           {
            "marker": {
             "pattern": {
              "fillmode": "overlay",
              "size": 10,
              "solidity": 0.2
             }
            },
            "type": "histogram"
           }
          ],
          "histogram2d": [
           {
            "colorbar": {
             "outlinewidth": 0,
             "ticks": ""
            },
            "colorscale": [
             [
              0,
              "#0d0887"
             ],
             [
              0.1111111111111111,
              "#46039f"
             ],
             [
              0.2222222222222222,
              "#7201a8"
             ],
             [
              0.3333333333333333,
              "#9c179e"
             ],
             [
              0.4444444444444444,
              "#bd3786"
             ],
             [
              0.5555555555555556,
              "#d8576b"
             ],
             [
              0.6666666666666666,
              "#ed7953"
             ],
             [
              0.7777777777777778,
              "#fb9f3a"
             ],
             [
              0.8888888888888888,
              "#fdca26"
             ],
             [
              1,
              "#f0f921"
             ]
            ],
            "type": "histogram2d"
           }
          ],
          "histogram2dcontour": [
           {
            "colorbar": {
             "outlinewidth": 0,
             "ticks": ""
            },
            "colorscale": [
             [
              0,
              "#0d0887"
             ],
             [
              0.1111111111111111,
              "#46039f"
             ],
             [
              0.2222222222222222,
              "#7201a8"
             ],
             [
              0.3333333333333333,
              "#9c179e"
             ],
             [
              0.4444444444444444,
              "#bd3786"
             ],
             [
              0.5555555555555556,
              "#d8576b"
             ],
             [
              0.6666666666666666,
              "#ed7953"
             ],
             [
              0.7777777777777778,
              "#fb9f3a"
             ],
             [
              0.8888888888888888,
              "#fdca26"
             ],
             [
              1,
              "#f0f921"
             ]
            ],
            "type": "histogram2dcontour"
           }
          ],
          "mesh3d": [
           {
            "colorbar": {
             "outlinewidth": 0,
             "ticks": ""
            },
            "type": "mesh3d"
           }
          ],
          "parcoords": [
           {
            "line": {
             "colorbar": {
              "outlinewidth": 0,
              "ticks": ""
             }
            },
            "type": "parcoords"
           }
          ],
          "pie": [
           {
            "automargin": true,
            "type": "pie"
           }
          ],
          "scatter": [
           {
            "fillpattern": {
             "fillmode": "overlay",
             "size": 10,
             "solidity": 0.2
            },
            "type": "scatter"
           }
          ],
          "scatter3d": [
           {
            "line": {
             "colorbar": {
              "outlinewidth": 0,
              "ticks": ""
             }
            },
            "marker": {
             "colorbar": {
              "outlinewidth": 0,
              "ticks": ""
             }
            },
            "type": "scatter3d"
           }
          ],
          "scattercarpet": [
           {
            "marker": {
             "colorbar": {
              "outlinewidth": 0,
              "ticks": ""
             }
            },
            "type": "scattercarpet"
           }
          ],
          "scattergeo": [
           {
            "marker": {
             "colorbar": {
              "outlinewidth": 0,
              "ticks": ""
             }
            },
            "type": "scattergeo"
           }
          ],
          "scattergl": [
           {
            "marker": {
             "colorbar": {
              "outlinewidth": 0,
              "ticks": ""
             }
            },
            "type": "scattergl"
           }
          ],
          "scattermapbox": [
           {
            "marker": {
             "colorbar": {
              "outlinewidth": 0,
              "ticks": ""
             }
            },
            "type": "scattermapbox"
           }
          ],
          "scatterpolar": [
           {
            "marker": {
             "colorbar": {
              "outlinewidth": 0,
              "ticks": ""
             }
            },
            "type": "scatterpolar"
           }
          ],
          "scatterpolargl": [
           {
            "marker": {
             "colorbar": {
              "outlinewidth": 0,
              "ticks": ""
             }
            },
            "type": "scatterpolargl"
           }
          ],
          "scatterternary": [
           {
            "marker": {
             "colorbar": {
              "outlinewidth": 0,
              "ticks": ""
             }
            },
            "type": "scatterternary"
           }
          ],
          "surface": [
           {
            "colorbar": {
             "outlinewidth": 0,
             "ticks": ""
            },
            "colorscale": [
             [
              0,
              "#0d0887"
             ],
             [
              0.1111111111111111,
              "#46039f"
             ],
             [
              0.2222222222222222,
              "#7201a8"
             ],
             [
              0.3333333333333333,
              "#9c179e"
             ],
             [
              0.4444444444444444,
              "#bd3786"
             ],
             [
              0.5555555555555556,
              "#d8576b"
             ],
             [
              0.6666666666666666,
              "#ed7953"
             ],
             [
              0.7777777777777778,
              "#fb9f3a"
             ],
             [
              0.8888888888888888,
              "#fdca26"
             ],
             [
              1,
              "#f0f921"
             ]
            ],
            "type": "surface"
           }
          ],
          "table": [
           {
            "cells": {
             "fill": {
              "color": "#EBF0F8"
             },
             "line": {
              "color": "white"
             }
            },
            "header": {
             "fill": {
              "color": "#C8D4E3"
             },
             "line": {
              "color": "white"
             }
            },
            "type": "table"
           }
          ]
         },
         "layout": {
          "annotationdefaults": {
           "arrowcolor": "#2a3f5f",
           "arrowhead": 0,
           "arrowwidth": 1
          },
          "autotypenumbers": "strict",
          "coloraxis": {
           "colorbar": {
            "outlinewidth": 0,
            "ticks": ""
           }
          },
          "colorscale": {
           "diverging": [
            [
             0,
             "#8e0152"
            ],
            [
             0.1,
             "#c51b7d"
            ],
            [
             0.2,
             "#de77ae"
            ],
            [
             0.3,
             "#f1b6da"
            ],
            [
             0.4,
             "#fde0ef"
            ],
            [
             0.5,
             "#f7f7f7"
            ],
            [
             0.6,
             "#e6f5d0"
            ],
            [
             0.7,
             "#b8e186"
            ],
            [
             0.8,
             "#7fbc41"
            ],
            [
             0.9,
             "#4d9221"
            ],
            [
             1,
             "#276419"
            ]
           ],
           "sequential": [
            [
             0,
             "#0d0887"
            ],
            [
             0.1111111111111111,
             "#46039f"
            ],
            [
             0.2222222222222222,
             "#7201a8"
            ],
            [
             0.3333333333333333,
             "#9c179e"
            ],
            [
             0.4444444444444444,
             "#bd3786"
            ],
            [
             0.5555555555555556,
             "#d8576b"
            ],
            [
             0.6666666666666666,
             "#ed7953"
            ],
            [
             0.7777777777777778,
             "#fb9f3a"
            ],
            [
             0.8888888888888888,
             "#fdca26"
            ],
            [
             1,
             "#f0f921"
            ]
           ],
           "sequentialminus": [
            [
             0,
             "#0d0887"
            ],
            [
             0.1111111111111111,
             "#46039f"
            ],
            [
             0.2222222222222222,
             "#7201a8"
            ],
            [
             0.3333333333333333,
             "#9c179e"
            ],
            [
             0.4444444444444444,
             "#bd3786"
            ],
            [
             0.5555555555555556,
             "#d8576b"
            ],
            [
             0.6666666666666666,
             "#ed7953"
            ],
            [
             0.7777777777777778,
             "#fb9f3a"
            ],
            [
             0.8888888888888888,
             "#fdca26"
            ],
            [
             1,
             "#f0f921"
            ]
           ]
          },
          "colorway": [
           "#636efa",
           "#EF553B",
           "#00cc96",
           "#ab63fa",
           "#FFA15A",
           "#19d3f3",
           "#FF6692",
           "#B6E880",
           "#FF97FF",
           "#FECB52"
          ],
          "font": {
           "color": "#2a3f5f"
          },
          "geo": {
           "bgcolor": "white",
           "lakecolor": "white",
           "landcolor": "#E5ECF6",
           "showlakes": true,
           "showland": true,
           "subunitcolor": "white"
          },
          "hoverlabel": {
           "align": "left"
          },
          "hovermode": "closest",
          "mapbox": {
           "style": "light"
          },
          "paper_bgcolor": "white",
          "plot_bgcolor": "#E5ECF6",
          "polar": {
           "angularaxis": {
            "gridcolor": "white",
            "linecolor": "white",
            "ticks": ""
           },
           "bgcolor": "#E5ECF6",
           "radialaxis": {
            "gridcolor": "white",
            "linecolor": "white",
            "ticks": ""
           }
          },
          "scene": {
           "xaxis": {
            "backgroundcolor": "#E5ECF6",
            "gridcolor": "white",
            "gridwidth": 2,
            "linecolor": "white",
            "showbackground": true,
            "ticks": "",
            "zerolinecolor": "white"
           },
           "yaxis": {
            "backgroundcolor": "#E5ECF6",
            "gridcolor": "white",
            "gridwidth": 2,
            "linecolor": "white",
            "showbackground": true,
            "ticks": "",
            "zerolinecolor": "white"
           },
           "zaxis": {
            "backgroundcolor": "#E5ECF6",
            "gridcolor": "white",
            "gridwidth": 2,
            "linecolor": "white",
            "showbackground": true,
            "ticks": "",
            "zerolinecolor": "white"
           }
          },
          "shapedefaults": {
           "line": {
            "color": "#2a3f5f"
           }
          },
          "ternary": {
           "aaxis": {
            "gridcolor": "white",
            "linecolor": "white",
            "ticks": ""
           },
           "baxis": {
            "gridcolor": "white",
            "linecolor": "white",
            "ticks": ""
           },
           "bgcolor": "#E5ECF6",
           "caxis": {
            "gridcolor": "white",
            "linecolor": "white",
            "ticks": ""
           }
          },
          "title": {
           "x": 0.05
          },
          "xaxis": {
           "automargin": true,
           "gridcolor": "white",
           "linecolor": "white",
           "ticks": "",
           "title": {
            "standoff": 15
           },
           "zerolinecolor": "white",
           "zerolinewidth": 2
          },
          "yaxis": {
           "automargin": true,
           "gridcolor": "white",
           "linecolor": "white",
           "ticks": "",
           "title": {
            "standoff": 15
           },
           "zerolinecolor": "white",
           "zerolinewidth": 2
          }
         }
        },
        "xaxis": {
         "anchor": "y",
         "autorange": true,
         "domain": [
          0,
          1
         ],
         "range": [
          -0.5,
          244999999.5
         ],
         "title": {
          "text": "Price"
         },
         "type": "linear"
        },
        "yaxis": {
         "anchor": "x",
         "autorange": true,
         "domain": [
          0,
          1
         ],
         "range": [
          0,
          261.05263157894734
         ],
         "title": {
          "text": "count"
         }
        }
       }
      },
      "image/png": "[encoded data removed]",
      "text/html": [
       "<div>                            <div id=\"a13da9fc-287c-4e0f-82d3-930eb6e35cf5\" class=\"plotly-graph-div\" style=\"height:525px; width:100%;\"></div>            <script type=\"text/javascript\">                require([\"plotly\"], function(Plotly) {                    window.PLOTLYENV=window.PLOTLYENV || {};                                    if (document.getElementById(\"a13da9fc-287c-4e0f-82d3-930eb6e35cf5\")) {                    Plotly.newPlot(                        \"a13da9fc-287c-4e0f-82d3-930eb6e35cf5\",                        [{\"alignmentgroup\":\"True\",\"bingroup\":\"x\",\"hovertemplate\":\"Type=Builder_Floor<br>Price=%{x}<br>count=%{y}<extra></extra>\",\"legendgroup\":\"Builder_Floor\",\"marker\":{\"color\":\"#636efa\",\"pattern\":{\"shape\":\"\"}},\"name\":\"Builder_Floor\",\"offsetgroup\":\"Builder_Floor\",\"orientation\":\"v\",\"showlegend\":true,\"x\":[6500000,4200000,6200000,15500000,10000000,6800000,15000000,6200000,7700000,5500000,5000000,3310000,4700000,4500000,17000000,6000000,4500000,12000000,7000000,7000000,21000000,15000000,10500000,22500000,13600000,30000000,8910000,26000000,30000000,12500000,21000000,7800000,11500000,11500000,26000000,13000000,22000000,15800000,57500000,10000000,30000000,22000000,24000000,31500000,14600000,240000000,8300000,22500000,1850000,6800000,8900000,37500000,21000000,57500000,30000000,30000000,31500000,30000000,41500000,24800000,35000000,40000000,46000000,55000000,24500000,32500000,240000000,19000000,26000000,21000000,27500000,32500000,45000000,21000000,28000000,29500000,14000000,12500000,26000000,11500000,14600000,25500000,31000000,22000000,13400000,35000000,11000000,6300000,12500000,14500000,22500000,15500000,26000000,15800000,15000000,13000000,15000000,25000000,16500000,10300000,26000000,11000000,28500000,4500000,3600000,4300000,4000000,2000000,3000000,2000000,2000000,2600000,5100000,6000000,4000000,6200000,3500000,13500000,12500000,6500000,22000000,6000000,7300000,7600000,20000000,15000000,6200000,6200000,2300000,2400000,3800000,23000000,24500000,10000000,5500000,7000000,6500000,60000000,51000000,170000000,5510000,55000000,51000000,13000000,30000000,2400000,5500000,45000000,60000000,65000000,220000000,60000000,38500000,75000000,70000000,85000000,90000000,56000000,135500000,60000000,170000000,50000000,58000000,37500000,45000000,70000000,60000000,70000000,50000000,75000000,52500000,55000000,120000000,65000000,75000000,47500000,70000000,47500000,40000000,85000000,26000000,35000000,20000000,79000000,17000000,47500000,43000000,26000000,25000000,51000000,40000000,22500000,70000000,45000000,25500000,26500000,15000000,55000000,26000000,38000000,72500000,65000000,4600000,9200000,4500000,6500000,5650000,9300000,6500000,6000000,4500000,4100000,3800000,2900000,2000000,1550000,11300000,4500000,11500000,6000000,4500000,1900000,7000000,6000000,6400000,6500000,4000000,5000000,6000000,2500000,2700000,5700000,25000000,70000000,26500000,18500000,30000000,22000000,9000000,65000000,22500000,8700000,22000000,18500000,16000000,16000000,9000000,4500000,6000000,2700000,2600000,3500000,7000000,4500000,5500000,2700000,2400000,11500000,3600000,1700000,6600000,3700000,5400000,2550000,12500000,7000000,3500000,9000000,2300000,6000000,2650000,5510000,3200000,2600000,4000000,1850000,1700000,2800000,2150000,6800000,6200000,3100000,3400000,4000000,4800000,2500000,2000000,1900000,5800000,2900000,2000000,2600000,2900000,3200000,5400000,3800000,8200000,8000000,9500000,20000000,7400000,15000000,26500000,10400000,1700000,8000000,27000000,19500000,21100000,5900000,12000000,12000000,1500000,12500000,31000000,5000000,22500000,20000000,17500000,35000000,10200000,41000000,6000000,2200000,5500000,6200000,29500000,19000000,75000000,75000000,34000000,47500000,75000000,28500000,12500000,45000000,30500000,22500000,25000000,33700000,27000000,43500000,29000000,30000000,32500000,30000000,51000000,31000000,37500000,32500000,37500000,55000000,87500000,65000000,25000000,38000000,15000000,3000000,8500000,55000000,22500000,72500000,12500000,82500000,55000000,35000000,42500000,4700000,52500000,80000000,11000000,74000000,37500000,52500000,26000000,15500000,22000000,21000000,5000000,22000000,26500000,8770000,42500000,30000000,23100000,12500000,24500000,15000000,27500000,12000000,26000000,36500000,3000000,9000000,6300000,1500000,2800000,2600000,2350000,2000000,5000000,3500000,4500000,4000000,10800000,10000000,9000000,6000000,7000000,3700000,3100000,1500000,7090000,4500000,5500000,6990000,12500000,3000000,2800000,5000000,6000000,2500000,8500000,4900000,3500000,3000000,7020000,3500000,7000000,4500000,5990000,4400000,2500000,1600000,6500000,2200000,8500000,1700000,7000000,5600000,13500000,8500000,7200000,4000000,1700000,6000000,1200000,3500000,8500000,3200000,4400000,7200000,7500000,3500000,6500000,6200000,2500000,6000000,3790000,5000000,2100000,2300000,5900000,3500000,1850000,2300000,3800000,4500000,5200000,2200000,1600000,1750000,1800000,1900000,1000000,5000000,13000000,34000000,60000000,74500000,75000000,62500000,67000000,8500000,11500000,52500000,12000000,10700000,100000000,17000000,12500000,13000000,4200000,36000000,8100000,10000000,62500000,65000000,20000000,57500000,30000000,30000000,30000000,6500000,6900000,3600000,9300000,3300000,2400000,15000000,2600000,6000000,3600000,1700000,75000000,11700000,5500000,41000000,3800000,1500000,2400000,7000000,3100000,61500000,27500000,6540000,15000000,10000000,20000000,5500000,7000000,4100000,24000000,14500000,8000000,5000000,21000000,22500000,19000000,7500000,4000000,8000000,5800000,8000000,6000000,6500000,5500000,22500000,4600000,5500000,22500000,50000000,42500000,45500000,23000000,25000000,29000000,80000000,37500000,32500000,24500000,65000000,27500000,115000000,28000000,8000000,75100000,15000000,27500000,25000000,26000000,4200000,10000000,18500000,3300000,3800000,7000000,16500000,5600000,21000000,21000000,14000000,4700000,26000000,8000000,6800000,18000000,27500000,14000000,9000000,5500000,47500000,45000000,43500000,80000000,60000000,71000000,70000000,85000000,190000000,35000000,65000000,27500000,45000000,100000000,47000000,27500000,70000000,65000000,56000000,110000000,24000000,102500000,100000000,45000000,29000000,25500000,33500000,62500000,47500000,14700000,18000000,22500000,22000000,22200000,22500000,30000000,35000000,17500000,60000000,40000000,11500000,22500000,28500000,29000000,15500000,26000000,16500000,55000000,12500000,17500000,11500000,18500000],\"xaxis\":\"x\",\"yaxis\":\"y\",\"type\":\"histogram\"},{\"alignmentgroup\":\"True\",\"bingroup\":\"x\",\"hovertemplate\":\"Type=Apartment<br>Price=%{x}<br>count=%{y}<extra></extra>\",\"legendgroup\":\"Apartment\",\"marker\":{\"color\":\"#EF553B\",\"pattern\":{\"shape\":\"\"}},\"name\":\"Apartment\",\"offsetgroup\":\"Apartment\",\"orientation\":\"v\",\"showlegend\":true,\"x\":[5000000,15500000,4000000,25000000,11000000,5300000,10500000,3400000,5000000,13500000,25000000,4600000,1900000,5130000,5890000,3700000,17400000,15500000,2400000,17200000,14200000,13500000,30000000,21000000,20500000,24000000,16500000,14900000,19200000,14500000,15600000,11400000,31500000,15800000,16000000,10500000,14800000,14200000,24500000,20000000,11000000,1650000,1400000,2000000,7600000,4700000,5500000,2000000,7300000,13000000,11500000,2800000,2200000,4400000,13500000,4100000,12000000,3500000,15000000,17500000,1900000,5500000,10000000,4700000,135000000,93000000,4370000,4620000,1900000,70000000,3000000,3300000,24900000,17400000,25000000,57000000,2940000,15500000,17200000,15000000,50000000,160000000,40000000,29500000,51100000,9500000,2700000,5800000,5500000,3300000,3300000,9000000,14000000,7300000,2700000,3000000,6500000,8000000,4500000,6500000,4000000,7500000,2500000,3500000,5600000,35000000,6000000,37500000,55300000,16000000,50000000,24000000,7000000,15000000,3950000,1600000,36500000,20000000,15000000,25000000,18500000,23500000,8000000,23000000,31000000,7400000,15500000,12000000,23500000,25000000,7000000,17500000,25000000,29000000,21900000,7500000,23500000,24000000,16500000,24000000,17000000,40000000,7500000,3600000,35000000,6000000,29000000,2500000,21500000,15000000,28900000,1950000,3800000,14000000,7500000,2670000,2500000,5000000,25500000,23000000,24000000,21500000,28000000,52100000,20500000,25000000,16300000,2000000,160000000,17000000,4500000,8500000,8600000,13100000,7000000,13000000,16000000,3200000,6300000,5700000,21000000,7500000,6500000,18000000,15600000,15500000,15200000,25000000,15000000,15800000,31500000,14000000,13200000,15800000,16200000,15500000,14500000,14900000,17200000,18000000,15500000,15800000,12600000,15000000,19500000,16600000,17200000,13000000,16500000,10700000,16200000,16500000,14900000,27500000,62500000,70000000,35500000,42100000,42500000,44000000,43200000,52500000,34300000,38000000,52500000,37500000,37000000,40000000,36200000,29000000,42500000,60000000,36500000,42500000,71500000,65000000,58000000,27500000,70000000,65000000,28600000,39000000,32500000,34000000,16500000,13800000,21000000,22500000,15000000,20000000,20000000,19500000,21500000,26500000,20000000,18000000,19000000,15000000,17500000,14000000,21000000,15600000,19000000,16500000,19000000,16500000,15000000,14300000,18500000,19000000,19000000,15800000,17000000,15500000,16000000,12900000,13500000,17800000,13200000,14000000,17500000,17000000,13000000,17000000,12700000,13500000,17400000,17800000,12700000,16200000,11100000,13600000,13100000,12500000,13600000,12000000,20000000,13500000,14000000,10800000,5500000,2350000,8500000,1650000,10000000,2350000,8500000,5500000,6000000,4500000,63000000,4400000,4500000,2800000,3000000,60000000,7000000,2750000,1500000,2800000,4500000,1800000,8500000,6000000,6500000,8400000,8500000,1600000,2100000,1700000,1500000,1650000,6500000,3000000,4800000,4200000,2900000,3200000,3000000,5500000,1700000,2200000,1500000,2200000,3800000,1800000,2850000,2500000,3500000,2000000,3000000,2000000,3500000,1800000,1600000,2000000,1500000,3000000,1490000,3500000,4000000,4600000,1000000,1000000,3500000,2200000,9000000,6200000,2300000,3300000,7350000,12500000,3500000,13500000,9200000,2500000,17000000,9030000,6500000,7000000,4200000,5800000,4800000,7500000,3000000,4300000,7000000,6700000,9500000,17000000,8000000,12000000,9000000,11500000,20000000,8550000,10500000,12000000,11000000,12000000,9000000,10000000,8100000,9200000,14200000,7500000,9500000,14000000,11600000,12000000,7500000,9800000,12000000,12500000,16500000,12000000,7200000,15000000,10000000,11000000,24700000,24900000,11000000,24800000,24900000,24900000,25900000,13500000,30000000,4950000,16000000,30000000,68900000,1800000,12500000,1600000,14500000,25500000,25000000,18500000,39700000,6800000,22000000,17000000,27500000,73700000,52300000,16000000,5000000,16000000,12500000,3900000,20000000,24500000,20900000,43100000,18000000,50000000,18500000,46500000,17500000,42500000,15500000,15000000,40000000,20000000,6700000,16000000,25000000,25000000,37500000,25000000,23000000,17500000,44000000,15000000,42500000,38000000,19000000,43500000,19500000,14200000,14200000,13500000,19000000,7000000,18800000,2200000,23500000,16000000,20000000,13500000,3800000,17500000,12500000,19000000,15500000,13500000,21000000,12000000,35000000,20500000,52500000,7500000,7800000,23500000,8000000,8600000,6600000,30000000,18500000,6500000,15000000,16100000,6800000,9000000,13500000,16000000,11000000,180000000,37500000,18500000,135000000,36500000,35000000,7500000,6500000],\"xaxis\":\"x\",\"yaxis\":\"y\",\"type\":\"histogram\"}],                        {\"template\":{\"data\":{\"histogram2dcontour\":[{\"type\":\"histogram2dcontour\",\"colorbar\":{\"outlinewidth\":0,\"ticks\":\"\"},\"colorscale\":[[0.0,\"#0d0887\"],[0.1111111111111111,\"#46039f\"],[0.2222222222222222,\"#7201a8\"],[0.3333333333333333,\"#9c179e\"],[0.4444444444444444,\"#bd3786\"],[0.5555555555555556,\"#d8576b\"],[0.6666666666666666,\"#ed7953\"],[0.7777777777777778,\"#fb9f3a\"],[0.8888888888888888,\"#fdca26\"],[1.0,\"#f0f921\"]]}],\"choropleth\":[{\"type\":\"choropleth\",\"colorbar\":{\"outlinewidth\":0,\"ticks\":\"\"}}],\"histogram2d\":[{\"type\":\"histogram2d\",\"colorbar\":{\"outlinewidth\":0,\"ticks\":\"\"},\"colorscale\":[[0.0,\"#0d0887\"],[0.1111111111111111,\"#46039f\"],[0.2222222222222222,\"#7201a8\"],[0.3333333333333333,\"#9c179e\"],[0.4444444444444444,\"#bd3786\"],[0.5555555555555556,\"#d8576b\"],[0.6666666666666666,\"#ed7953\"],[0.7777777777777778,\"#fb9f3a\"],[0.8888888888888888,\"#fdca26\"],[1.0,\"#f0f921\"]]}],\"heatmap\":[{\"type\":\"heatmap\",\"colorbar\":{\"outlinewidth\":0,\"ticks\":\"\"},\"colorscale\":[[0.0,\"#0d0887\"],[0.1111111111111111,\"#46039f\"],[0.2222222222222222,\"#7201a8\"],[0.3333333333333333,\"#9c179e\"],[0.4444444444444444,\"#bd3786\"],[0.5555555555555556,\"#d8576b\"],[0.6666666666666666,\"#ed7953\"],[0.7777777777777778,\"#fb9f3a\"],[0.8888888888888888,\"#fdca26\"],[1.0,\"#f0f921\"]]}],\"heatmapgl\":[{\"type\":\"heatmapgl\",\"colorbar\":{\"outlinewidth\":0,\"ticks\":\"\"},\"colorscale\":[[0.0,\"#0d0887\"],[0.1111111111111111,\"#46039f\"],[0.2222222222222222,\"#7201a8\"],[0.3333333333333333,\"#9c179e\"],[0.4444444444444444,\"#bd3786\"],[0.5555555555555556,\"#d8576b\"],[0.6666666666666666,\"#ed7953\"],[0.7777777777777778,\"#fb9f3a\"],[0.8888888888888888,\"#fdca26\"],[1.0,\"#f0f921\"]]}],\"contourcarpet\":[{\"type\":\"contourcarpet\",\"colorbar\":{\"outlinewidth\":0,\"ticks\":\"\"}}],\"contour\":[{\"type\":\"contour\",\"colorbar\":{\"outlinewidth\":0,\"ticks\":\"\"},\"colorscale\":[[0.0,\"#0d0887\"],[0.1111111111111111,\"#46039f\"],[0.2222222222222222,\"#7201a8\"],[0.3333333333333333,\"#9c179e\"],[0.4444444444444444,\"#bd3786\"],[0.5555555555555556,\"#d8576b\"],[0.6666666666666666,\"#ed7953\"],[0.7777777777777778,\"#fb9f3a\"],[0.8888888888888888,\"#fdca26\"],[1.0,\"#f0f921\"]]}],\"surface\":[{\"type\":\"surface\",\"colorbar\":{\"outlinewidth\":0,\"ticks\":\"\"},\"colorscale\":[[0.0,\"#0d0887\"],[0.1111111111111111,\"#46039f\"],[0.2222222222222222,\"#7201a8\"],[0.3333333333333333,\"#9c179e\"],[0.4444444444444444,\"#bd3786\"],[0.5555555555555556,\"#d8576b\"],[0.6666666666666666,\"#ed7953\"],[0.7777777777777778,\"#fb9f3a\"],[0.8888888888888888,\"#fdca26\"],[1.0,\"#f0f921\"]]}],\"mesh3d\":[{\"type\":\"mesh3d\",\"colorbar\":{\"outlinewidth\":0,\"ticks\":\"\"}}],\"scatter\":[{\"fillpattern\":{\"fillmode\":\"overlay\",\"size\":10,\"solidity\":0.2},\"type\":\"scatter\"}],\"parcoords\":[{\"type\":\"parcoords\",\"line\":{\"colorbar\":{\"outlinewidth\":0,\"ticks\":\"\"}}}],\"scatterpolargl\":[{\"type\":\"scatterpolargl\",\"marker\":{\"colorbar\":{\"outlinewidth\":0,\"ticks\":\"\"}}}],\"bar\":[{\"error_x\":{\"color\":\"#2a3f5f\"},\"error_y\":{\"color\":\"#2a3f5f\"},\"marker\":{\"line\":{\"color\":\"#E5ECF6\",\"width\":0.5},\"pattern\":{\"fillmode\":\"overlay\",\"size\":10,\"solidity\":0.2}},\"type\":\"bar\"}],\"scattergeo\":[{\"type\":\"scattergeo\",\"marker\":{\"colorbar\":{\"outlinewidth\":0,\"ticks\":\"\"}}}],\"scatterpolar\":[{\"type\":\"scatterpolar\",\"marker\":{\"colorbar\":{\"outlinewidth\":0,\"ticks\":\"\"}}}],\"histogram\":[{\"marker\":{\"pattern\":{\"fillmode\":\"overlay\",\"size\":10,\"solidity\":0.2}},\"type\":\"histogram\"}],\"scattergl\":[{\"type\":\"scattergl\",\"marker\":{\"colorbar\":{\"outlinewidth\":0,\"ticks\":\"\"}}}],\"scatter3d\":[{\"type\":\"scatter3d\",\"line\":{\"colorbar\":{\"outlinewidth\":0,\"ticks\":\"\"}},\"marker\":{\"colorbar\":{\"outlinewidth\":0,\"ticks\":\"\"}}}],\"scattermapbox\":[{\"type\":\"scattermapbox\",\"marker\":{\"colorbar\":{\"outlinewidth\":0,\"ticks\":\"\"}}}],\"scatterternary\":[{\"type\":\"scatterternary\",\"marker\":{\"colorbar\":{\"outlinewidth\":0,\"ticks\":\"\"}}}],\"scattercarpet\":[{\"type\":\"scattercarpet\",\"marker\":{\"colorbar\":{\"outlinewidth\":0,\"ticks\":\"\"}}}],\"carpet\":[{\"aaxis\":{\"endlinecolor\":\"#2a3f5f\",\"gridcolor\":\"white\",\"linecolor\":\"white\",\"minorgridcolor\":\"white\",\"startlinecolor\":\"#2a3f5f\"},\"baxis\":{\"endlinecolor\":\"#2a3f5f\",\"gridcolor\":\"white\",\"linecolor\":\"white\",\"minorgridcolor\":\"white\",\"startlinecolor\":\"#2a3f5f\"},\"type\":\"carpet\"}],\"table\":[{\"cells\":{\"fill\":{\"color\":\"#EBF0F8\"},\"line\":{\"color\":\"white\"}},\"header\":{\"fill\":{\"color\":\"#C8D4E3\"},\"line\":{\"color\":\"white\"}},\"type\":\"table\"}],\"barpolar\":[{\"marker\":{\"line\":{\"color\":\"#E5ECF6\",\"width\":0.5},\"pattern\":{\"fillmode\":\"overlay\",\"size\":10,\"solidity\":0.2}},\"type\":\"barpolar\"}],\"pie\":[{\"automargin\":true,\"type\":\"pie\"}]},\"layout\":{\"autotypenumbers\":\"strict\",\"colorway\":[\"#636efa\",\"#EF553B\",\"#00cc96\",\"#ab63fa\",\"#FFA15A\",\"#19d3f3\",\"#FF6692\",\"#B6E880\",\"#FF97FF\",\"#FECB52\"],\"font\":{\"color\":\"#2a3f5f\"},\"hovermode\":\"closest\",\"hoverlabel\":{\"align\":\"left\"},\"paper_bgcolor\":\"white\",\"plot_bgcolor\":\"#E5ECF6\",\"polar\":{\"bgcolor\":\"#E5ECF6\",\"angularaxis\":{\"gridcolor\":\"white\",\"linecolor\":\"white\",\"ticks\":\"\"},\"radialaxis\":{\"gridcolor\":\"white\",\"linecolor\":\"white\",\"ticks\":\"\"}},\"ternary\":{\"bgcolor\":\"#E5ECF6\",\"aaxis\":{\"gridcolor\":\"white\",\"linecolor\":\"white\",\"ticks\":\"\"},\"baxis\":{\"gridcolor\":\"white\",\"linecolor\":\"white\",\"ticks\":\"\"},\"caxis\":{\"gridcolor\":\"white\",\"linecolor\":\"white\",\"ticks\":\"\"}},\"coloraxis\":{\"colorbar\":{\"outlinewidth\":0,\"ticks\":\"\"}},\"colorscale\":{\"sequential\":[[0.0,\"#0d0887\"],[0.1111111111111111,\"#46039f\"],[0.2222222222222222,\"#7201a8\"],[0.3333333333333333,\"#9c179e\"],[0.4444444444444444,\"#bd3786\"],[0.5555555555555556,\"#d8576b\"],[0.6666666666666666,\"#ed7953\"],[0.7777777777777778,\"#fb9f3a\"],[0.8888888888888888,\"#fdca26\"],[1.0,\"#f0f921\"]],\"sequentialminus\":[[0.0,\"#0d0887\"],[0.1111111111111111,\"#46039f\"],[0.2222222222222222,\"#7201a8\"],[0.3333333333333333,\"#9c179e\"],[0.4444444444444444,\"#bd3786\"],[0.5555555555555556,\"#d8576b\"],[0.6666666666666666,\"#ed7953\"],[0.7777777777777778,\"#fb9f3a\"],[0.8888888888888888,\"#fdca26\"],[1.0,\"#f0f921\"]],\"diverging\":[[0,\"#8e0152\"],[0.1,\"#c51b7d\"],[0.2,\"#de77ae\"],[0.3,\"#f1b6da\"],[0.4,\"#fde0ef\"],[0.5,\"#f7f7f7\"],[0.6,\"#e6f5d0\"],[0.7,\"#b8e186\"],[0.8,\"#7fbc41\"],[0.9,\"#4d9221\"],[1,\"#276419\"]]},\"xaxis\":{\"gridcolor\":\"white\",\"linecolor\":\"white\",\"ticks\":\"\",\"title\":{\"standoff\":15},\"zerolinecolor\":\"white\",\"automargin\":true,\"zerolinewidth\":2},\"yaxis\":{\"gridcolor\":\"white\",\"linecolor\":\"white\",\"ticks\":\"\",\"title\":{\"standoff\":15},\"zerolinecolor\":\"white\",\"automargin\":true,\"zerolinewidth\":2},\"scene\":{\"xaxis\":{\"backgroundcolor\":\"#E5ECF6\",\"gridcolor\":\"white\",\"linecolor\":\"white\",\"showbackground\":true,\"ticks\":\"\",\"zerolinecolor\":\"white\",\"gridwidth\":2},\"yaxis\":{\"backgroundcolor\":\"#E5ECF6\",\"gridcolor\":\"white\",\"linecolor\":\"white\",\"showbackground\":true,\"ticks\":\"\",\"zerolinecolor\":\"white\",\"gridwidth\":2},\"zaxis\":{\"backgroundcolor\":\"#E5ECF6\",\"gridcolor\":\"white\",\"linecolor\":\"white\",\"showbackground\":true,\"ticks\":\"\",\"zerolinecolor\":\"white\",\"gridwidth\":2}},\"shapedefaults\":{\"line\":{\"color\":\"#2a3f5f\"}},\"annotationdefaults\":{\"arrowcolor\":\"#2a3f5f\",\"arrowhead\":0,\"arrowwidth\":1},\"geo\":{\"bgcolor\":\"white\",\"landcolor\":\"#E5ECF6\",\"subunitcolor\":\"white\",\"showland\":true,\"showlakes\":true,\"lakecolor\":\"white\"},\"title\":{\"x\":0.05},\"mapbox\":{\"style\":\"light\"}}},\"xaxis\":{\"anchor\":\"y\",\"domain\":[0.0,1.0],\"title\":{\"text\":\"Price\"}},\"yaxis\":{\"anchor\":\"x\",\"domain\":[0.0,1.0],\"title\":{\"text\":\"count\"}},\"legend\":{\"title\":{\"text\":\"Type\"},\"tracegroupgap\":0},\"margin\":{\"t\":60},\"barmode\":\"relative\"},                        {\"responsive\": true}                    ).then(function(){\n",
       "                            \n",
       "var gd = document.getElementById('a13da9fc-287c-4e0f-82d3-930eb6e35cf5');\n",
       "var x = new MutationObserver(function (mutations, observer) {{\n",
       "        var display = window.getComputedStyle(gd).display;\n",
       "        if (!display || display === 'none') {{\n",
       "            console.log([gd, 'removed!']);\n",
       "            Plotly.purge(gd);\n",
       "            observer.disconnect();\n",
       "        }}\n",
       "}});\n",
       "\n",
       "// Listen for the removal of the full notebook cells\n",
       "var notebookContainer = gd.closest('#notebook-container');\n",
       "if (notebookContainer) {{\n",
       "    x.observe(notebookContainer, {childList: true});\n",
       "}}\n",
       "\n",
       "// Listen for the clearing of the current output cell\n",
       "var outputEl = gd.closest('.output');\n",
       "if (outputEl) {{\n",
       "    x.observe(outputEl, {childList: true});\n",
       "}}\n",
       "\n",
       "                        })                };                });            </script>        </div>"
      ]
     },
     "metadata": {},
     "output_type": "display_data"
    }
   ],
   "source": [
    "px.histogram(df1,x='Price', color = 'Type')"
   ]
  },
  {
   "cell_type": "code",
   "execution_count": 19,
   "id": "c16ef600-6784-46e7-9f1e-34c0e95b005b",
   "metadata": {},
   "outputs": [
    {
     "data": {
      "application/vnd.plotly.v1+json": {
       "config": {
        "plotlyServerURL": "https://plot.ly"
       },
       "data": [
        {
         "alignmentgroup": "True",
         "bingroup": "x",
         "hovertemplate": "BHK=%{x}<br>count=%{y}<extra></extra>",
         "legendgroup": "",
         "marker": {
          "color": "#636efa",
          "pattern": {
           "shape": ""
          }
         },
         "name": "",
         "offsetgroup": "",
         "orientation": "v",
         "showlegend": false,
         "type": "histogram",
         "x": [
          3,
          2,
          2,
          2,
          2,
          4,
          4,
          2,
          3,
          4,
          3,
          3,
          2,
          2,
          2,
          2,
          2,
          4,
          3,
          2,
          2,
          3,
          1,
          2,
          2,
          3,
          3,
          1,
          2,
          4,
          2,
          2,
          3,
          2,
          3,
          2,
          2,
          3,
          3,
          3,
          2,
          3,
          2,
          2,
          2,
          3,
          2,
          3,
          2,
          4,
          2,
          3,
          3,
          3,
          3,
          2,
          4,
          2,
          3,
          1,
          2,
          3,
          4,
          3,
          3,
          3,
          2,
          3,
          3,
          3,
          4,
          4,
          4,
          3,
          4,
          3,
          4,
          3,
          3,
          3,
          4,
          3,
          3,
          2,
          3,
          1,
          3,
          3,
          1,
          3,
          3,
          4,
          3,
          3,
          3,
          3,
          3,
          3,
          3,
          3,
          4,
          4,
          3,
          3,
          3,
          2,
          4,
          3,
          3,
          3,
          3,
          3,
          3,
          3,
          3,
          3,
          2,
          2,
          3,
          2,
          2,
          3,
          3,
          3,
          2,
          3,
          2,
          2,
          2,
          2,
          2,
          2,
          3,
          2,
          2,
          2,
          2,
          3,
          2,
          2,
          3,
          2,
          3,
          2,
          3,
          2,
          3,
          3,
          2,
          1,
          2,
          2,
          2,
          2,
          1,
          3,
          6,
          6,
          2,
          2,
          1,
          2,
          4,
          4,
          3,
          4,
          3,
          3,
          3,
          4,
          4,
          3,
          3,
          1,
          2,
          2,
          1,
          3,
          4,
          3,
          2,
          1,
          2,
          3,
          2,
          3,
          2,
          4,
          5,
          1,
          3,
          3,
          3,
          1,
          2,
          4,
          4,
          3,
          3,
          3,
          3,
          5,
          4,
          3,
          3,
          2,
          4,
          2,
          2,
          2,
          4,
          3,
          5,
          5,
          3,
          3,
          3,
          2,
          3,
          3,
          4,
          2,
          4,
          4,
          3,
          2,
          4,
          4,
          4,
          4,
          5,
          4,
          3,
          3,
          4,
          4,
          4,
          3,
          3,
          4,
          4,
          5,
          3,
          4,
          4,
          4,
          3,
          3,
          4,
          6,
          4,
          4,
          3,
          4,
          4,
          4,
          4,
          4,
          4,
          4,
          5,
          4,
          4,
          4,
          3,
          4,
          2,
          4,
          3,
          4,
          4,
          3,
          3,
          4,
          3,
          3,
          4,
          4,
          4,
          3,
          3,
          2,
          4,
          3,
          4,
          4,
          4,
          2,
          2,
          4,
          2,
          3,
          3,
          3,
          2,
          2,
          2,
          3,
          3,
          2,
          2,
          3,
          2,
          2,
          2,
          2,
          4,
          3,
          2,
          4,
          3,
          3,
          2,
          4,
          2,
          1,
          3,
          3,
          1,
          2,
          2,
          2,
          1,
          2,
          2,
          1,
          2,
          3,
          2,
          1,
          3,
          4,
          3,
          7,
          3,
          5,
          2,
          2,
          3,
          3,
          6,
          6,
          4,
          2,
          4,
          4,
          2,
          3,
          1,
          3,
          3,
          2,
          2,
          2,
          3,
          3,
          3,
          2,
          2,
          4,
          2,
          1,
          2,
          4,
          2,
          2,
          3,
          2,
          3,
          2,
          2,
          2,
          4,
          3,
          1,
          3,
          3,
          2,
          3,
          2,
          2,
          3,
          2,
          1,
          3,
          2,
          4,
          3,
          2,
          3,
          2,
          2,
          2,
          1,
          2,
          3,
          2,
          2,
          2,
          2,
          2,
          3,
          3,
          2,
          3,
          3,
          4,
          2,
          3,
          4,
          3,
          3,
          3,
          3,
          1,
          2,
          3,
          3,
          3,
          3,
          2,
          3,
          3,
          3,
          1,
          3,
          2,
          2,
          3,
          3,
          4,
          3,
          2,
          3,
          3,
          4,
          1,
          3,
          3,
          1,
          2,
          2,
          3,
          3,
          1,
          2,
          3,
          4,
          3,
          1,
          4,
          2,
          3,
          2,
          2,
          3,
          2,
          4,
          4,
          3,
          2,
          3,
          3,
          2,
          4,
          4,
          5,
          4,
          4,
          3,
          2,
          1,
          2,
          4,
          5,
          3,
          2,
          2,
          2,
          4,
          2,
          2,
          2,
          2,
          4,
          3,
          4,
          4,
          4,
          3,
          4,
          4,
          3,
          3,
          3,
          3,
          4,
          3,
          4,
          3,
          3,
          3,
          4,
          3,
          4,
          3,
          3,
          4,
          3,
          3,
          4,
          3,
          4,
          4,
          3,
          3,
          3,
          4,
          4,
          2,
          4,
          3,
          3,
          2,
          2,
          1,
          2,
          4,
          3,
          4,
          6,
          3,
          2,
          4,
          4,
          3,
          4,
          2,
          4,
          4,
          3,
          4,
          3,
          4,
          3,
          3,
          3,
          3,
          2,
          3,
          3,
          2,
          1,
          2,
          2,
          4,
          3,
          2,
          3,
          2,
          4,
          3,
          2,
          3,
          1,
          3,
          3,
          3,
          3,
          2,
          2,
          3,
          3,
          3,
          3,
          3,
          3,
          3,
          3,
          3,
          4,
          3,
          3,
          3,
          3,
          3,
          3,
          3,
          3,
          3,
          3,
          3,
          2,
          3,
          4,
          3,
          3,
          2,
          4,
          2,
          3,
          3,
          3,
          4,
          5,
          5,
          3,
          3,
          4,
          3,
          4,
          4,
          3,
          3,
          4,
          3,
          3,
          3,
          3,
          2,
          4,
          5,
          3,
          3,
          5,
          5,
          5,
          2,
          5,
          5,
          2,
          3,
          3,
          3,
          2,
          2,
          3,
          3,
          2,
          3,
          3,
          3,
          3,
          4,
          3,
          3,
          3,
          3,
          4,
          2,
          2,
          2,
          3,
          3,
          3,
          2,
          3,
          2,
          1,
          2,
          2,
          3,
          3,
          3,
          4,
          10,
          4,
          3,
          2,
          3,
          4,
          2,
          3,
          4,
          3,
          2,
          3,
          2,
          3,
          4,
          4,
          2,
          4,
          2,
          2,
          2,
          2,
          3,
          4,
          3,
          2,
          3,
          2,
          3,
          3,
          3,
          1,
          3,
          1,
          2,
          1,
          2,
          2,
          1,
          1,
          1,
          2,
          2,
          2,
          2,
          3,
          3,
          3,
          3,
          3,
          3,
          3,
          3,
          3,
          2,
          2,
          1,
          3,
          2,
          4,
          3,
          3,
          2,
          4,
          2,
          2,
          3,
          3,
          2,
          2,
          2,
          4,
          2,
          3,
          2,
          2,
          3,
          3,
          2,
          3,
          2,
          3,
          3,
          3,
          2,
          1,
          3,
          2,
          1,
          2,
          2,
          3,
          1,
          3,
          3,
          1,
          3,
          3,
          4,
          3,
          3,
          3,
          3,
          3,
          3,
          2,
          1,
          3,
          1,
          1,
          1,
          1,
          1,
          1,
          2,
          3,
          2,
          3,
          4,
          3,
          3,
          2,
          2,
          3,
          1,
          2,
          3,
          3,
          2,
          3,
          2,
          3,
          1,
          2,
          2,
          1,
          3,
          3,
          2,
          2,
          1,
          2,
          3,
          3,
          2,
          3,
          2,
          1,
          1,
          2,
          1,
          2,
          1,
          1,
          1,
          1,
          1,
          1,
          1,
          1,
          1,
          1,
          1,
          2,
          1,
          1,
          3,
          2,
          2,
          1,
          2,
          1,
          1,
          1,
          1,
          3,
          1,
          2,
          3,
          4,
          4,
          4,
          4,
          4,
          2,
          2,
          4,
          2,
          2,
          2,
          3,
          3,
          3,
          2,
          2,
          3,
          4,
          1,
          2,
          3,
          4,
          4,
          3,
          4,
          3,
          3,
          3,
          1,
          2,
          4,
          1,
          2,
          2,
          1,
          3,
          3,
          1,
          3,
          3,
          3,
          2,
          2,
          1,
          3,
          3,
          1,
          2,
          3,
          2,
          1,
          1,
          1,
          2,
          2,
          2,
          3,
          3,
          2,
          3,
          2,
          3,
          4,
          2,
          4,
          3,
          3,
          3,
          2,
          2,
          2,
          3,
          3,
          2,
          2,
          3,
          3,
          3,
          2,
          3,
          3,
          3,
          3,
          3,
          2,
          3,
          2,
          3,
          2,
          2,
          2,
          1,
          2,
          4,
          2,
          2,
          2,
          2,
          2,
          3,
          3,
          2,
          3,
          3,
          4,
          4,
          2,
          4,
          2,
          2,
          3,
          2,
          3,
          3,
          2,
          2,
          4,
          4,
          3,
          3,
          2,
          4,
          4,
          3,
          3,
          2,
          3,
          5,
          4,
          3,
          3,
          2,
          2,
          3,
          2,
          1,
          2,
          2,
          3,
          2,
          2,
          3,
          3,
          3,
          3,
          3,
          3,
          4,
          3,
          4,
          3,
          4,
          3,
          2,
          4,
          3,
          2,
          3,
          3,
          3,
          3,
          4,
          3,
          3,
          3,
          4,
          3,
          4,
          2,
          4,
          3,
          4,
          3,
          3,
          3,
          2,
          3,
          3,
          2,
          3,
          2,
          3,
          3,
          1,
          3,
          3,
          3,
          3,
          1,
          3,
          3,
          2,
          3,
          2,
          2,
          3,
          2,
          2,
          2,
          4,
          3,
          2,
          3,
          2,
          2,
          3,
          4,
          4,
          4,
          3,
          3,
          3,
          3,
          3,
          4,
          3,
          4,
          4,
          2,
          3,
          3,
          5,
          3,
          5,
          3,
          2,
          4,
          2,
          2,
          3,
          3,
          4,
          3,
          3,
          2,
          2,
          2,
          2,
          3,
          3,
          3,
          1,
          2,
          3,
          3,
          3,
          3,
          2,
          3,
          3,
          2,
          2,
          2,
          2,
          2,
          3,
          3,
          2,
          2,
          3,
          3,
          2,
          2,
          2,
          2,
          2,
          3,
          3,
          3,
          5,
          4,
          3,
          4,
          3,
          3,
          4,
          4,
          4,
          4,
          3,
          4,
          2,
          3,
          4,
          3,
          3,
          4,
          3,
          4,
          3,
          4,
          4,
          3,
          4,
          4,
          3,
          3,
          3,
          3,
          4,
          3,
          3,
          2,
          3,
          3,
          3,
          3,
          2,
          4,
          2,
          3,
          3,
          4,
          4,
          3,
          3,
          3,
          3,
          3,
          3,
          3,
          4,
          3,
          3,
          2,
          3
         ],
         "xaxis": "x",
         "yaxis": "y"
        }
       ],
       "layout": {
        "autosize": true,
        "barmode": "relative",
        "legend": {
         "tracegroupgap": 0
        },
        "margin": {
         "t": 60
        },
        "template": {
         "data": {
          "bar": [
           {
            "error_x": {
             "color": "#2a3f5f"
            },
            "error_y": {
             "color": "#2a3f5f"
            },
            "marker": {
             "line": {
              "color": "#E5ECF6",
              "width": 0.5
             },
             "pattern": {
              "fillmode": "overlay",
              "size": 10,
              "solidity": 0.2
             }
            },
            "type": "bar"
           }
          ],
          "barpolar": [
           {
            "marker": {
             "line": {
              "color": "#E5ECF6",
              "width": 0.5
             },
             "pattern": {
              "fillmode": "overlay",
              "size": 10,
              "solidity": 0.2
             }
            },
            "type": "barpolar"
           }
          ],
          "carpet": [
           {
            "aaxis": {
             "endlinecolor": "#2a3f5f",
             "gridcolor": "white",
             "linecolor": "white",
             "minorgridcolor": "white",
             "startlinecolor": "#2a3f5f"
            },
            "baxis": {
             "endlinecolor": "#2a3f5f",
             "gridcolor": "white",
             "linecolor": "white",
             "minorgridcolor": "white",
             "startlinecolor": "#2a3f5f"
            },
            "type": "carpet"
           }
          ],
          "choropleth": [
           {
            "colorbar": {
             "outlinewidth": 0,
             "ticks": ""
            },
            "type": "choropleth"
           }
          ],
          "contour": [
           {
            "colorbar": {
             "outlinewidth": 0,
             "ticks": ""
            },
            "colorscale": [
             [
              0,
              "#0d0887"
             ],
             [
              0.1111111111111111,
              "#46039f"
             ],
             [
              0.2222222222222222,
              "#7201a8"
             ],
             [
              0.3333333333333333,
              "#9c179e"
             ],
             [
              0.4444444444444444,
              "#bd3786"
             ],
             [
              0.5555555555555556,
              "#d8576b"
             ],
             [
              0.6666666666666666,
              "#ed7953"
             ],
             [
              0.7777777777777778,
              "#fb9f3a"
             ],
             [
              0.8888888888888888,
              "#fdca26"
             ],
             [
              1,
              "#f0f921"
             ]
            ],
            "type": "contour"
           }
          ],
          "contourcarpet": [
           {
            "colorbar": {
             "outlinewidth": 0,
             "ticks": ""
            },
            "type": "contourcarpet"
           }
          ],
          "heatmap": [
           {
            "colorbar": {
             "outlinewidth": 0,
             "ticks": ""
            },
            "colorscale": [
             [
              0,
              "#0d0887"
             ],
             [
              0.1111111111111111,
              "#46039f"
             ],
             [
              0.2222222222222222,
              "#7201a8"
             ],
             [
              0.3333333333333333,
              "#9c179e"
             ],
             [
              0.4444444444444444,
              "#bd3786"
             ],
             [
              0.5555555555555556,
              "#d8576b"
             ],
             [
              0.6666666666666666,
              "#ed7953"
             ],
             [
              0.7777777777777778,
              "#fb9f3a"
             ],
             [
              0.8888888888888888,
              "#fdca26"
             ],
             [
              1,
              "#f0f921"
             ]
            ],
            "type": "heatmap"
           }
          ],
          "heatmapgl": [
           {
            "colorbar": {
             "outlinewidth": 0,
             "ticks": ""
            },
            "colorscale": [
             [
              0,
              "#0d0887"
             ],
             [
              0.1111111111111111,
              "#46039f"
             ],
             [
              0.2222222222222222,
              "#7201a8"
             ],
             [
              0.3333333333333333,
              "#9c179e"
             ],
             [
              0.4444444444444444,
              "#bd3786"
             ],
             [
              0.5555555555555556,
              "#d8576b"
             ],
             [
              0.6666666666666666,
              "#ed7953"
             ],
             [
              0.7777777777777778,
              "#fb9f3a"
             ],
             [
              0.8888888888888888,
              "#fdca26"
             ],
             [
              1,
              "#f0f921"
             ]
            ],
            "type": "heatmapgl"
           }
          ],
          "histogram": [
           {
            "marker": {
             "pattern": {
              "fillmode": "overlay",
              "size": 10,
              "solidity": 0.2
             }
            },
            "type": "histogram"
           }
          ],
          "histogram2d": [
           {
            "colorbar": {
             "outlinewidth": 0,
             "ticks": ""
            },
            "colorscale": [
             [
              0,
              "#0d0887"
             ],
             [
              0.1111111111111111,
              "#46039f"
             ],
             [
              0.2222222222222222,
              "#7201a8"
             ],
             [
              0.3333333333333333,
              "#9c179e"
             ],
             [
              0.4444444444444444,
              "#bd3786"
             ],
             [
              0.5555555555555556,
              "#d8576b"
             ],
             [
              0.6666666666666666,
              "#ed7953"
             ],
             [
              0.7777777777777778,
              "#fb9f3a"
             ],
             [
              0.8888888888888888,
              "#fdca26"
             ],
             [
              1,
              "#f0f921"
             ]
            ],
            "type": "histogram2d"
           }
          ],
          "histogram2dcontour": [
           {
            "colorbar": {
             "outlinewidth": 0,
             "ticks": ""
            },
            "colorscale": [
             [
              0,
              "#0d0887"
             ],
             [
              0.1111111111111111,
              "#46039f"
             ],
             [
              0.2222222222222222,
              "#7201a8"
             ],
             [
              0.3333333333333333,
              "#9c179e"
             ],
             [
              0.4444444444444444,
              "#bd3786"
             ],
             [
              0.5555555555555556,
              "#d8576b"
             ],
             [
              0.6666666666666666,
              "#ed7953"
             ],
             [
              0.7777777777777778,
              "#fb9f3a"
             ],
             [
              0.8888888888888888,
              "#fdca26"
             ],
             [
              1,
              "#f0f921"
             ]
            ],
            "type": "histogram2dcontour"
           }
          ],
          "mesh3d": [
           {
            "colorbar": {
             "outlinewidth": 0,
             "ticks": ""
            },
            "type": "mesh3d"
           }
          ],
          "parcoords": [
           {
            "line": {
             "colorbar": {
              "outlinewidth": 0,
              "ticks": ""
             }
            },
            "type": "parcoords"
           }
          ],
          "pie": [
           {
            "automargin": true,
            "type": "pie"
           }
          ],
          "scatter": [
           {
            "fillpattern": {
             "fillmode": "overlay",
             "size": 10,
             "solidity": 0.2
            },
            "type": "scatter"
           }
          ],
          "scatter3d": [
           {
            "line": {
             "colorbar": {
              "outlinewidth": 0,
              "ticks": ""
             }
            },
            "marker": {
             "colorbar": {
              "outlinewidth": 0,
              "ticks": ""
             }
            },
            "type": "scatter3d"
           }
          ],
          "scattercarpet": [
           {
            "marker": {
             "colorbar": {
              "outlinewidth": 0,
              "ticks": ""
             }
            },
            "type": "scattercarpet"
           }
          ],
          "scattergeo": [
           {
            "marker": {
             "colorbar": {
              "outlinewidth": 0,
              "ticks": ""
             }
            },
            "type": "scattergeo"
           }
          ],
          "scattergl": [
           {
            "marker": {
             "colorbar": {
              "outlinewidth": 0,
              "ticks": ""
             }
            },
            "type": "scattergl"
           }
          ],
          "scattermapbox": [
           {
            "marker": {
             "colorbar": {
              "outlinewidth": 0,
              "ticks": ""
             }
            },
            "type": "scattermapbox"
           }
          ],
          "scatterpolar": [
           {
            "marker": {
             "colorbar": {
              "outlinewidth": 0,
              "ticks": ""
             }
            },
            "type": "scatterpolar"
           }
          ],
          "scatterpolargl": [
           {
            "marker": {
             "colorbar": {
              "outlinewidth": 0,
              "ticks": ""
             }
            },
            "type": "scatterpolargl"
           }
          ],
          "scatterternary": [
           {
            "marker": {
             "colorbar": {
              "outlinewidth": 0,
              "ticks": ""
             }
            },
            "type": "scatterternary"
           }
          ],
          "surface": [
           {
            "colorbar": {
             "outlinewidth": 0,
             "ticks": ""
            },
            "colorscale": [
             [
              0,
              "#0d0887"
             ],
             [
              0.1111111111111111,
              "#46039f"
             ],
             [
              0.2222222222222222,
              "#7201a8"
             ],
             [
              0.3333333333333333,
              "#9c179e"
             ],
             [
              0.4444444444444444,
              "#bd3786"
             ],
             [
              0.5555555555555556,
              "#d8576b"
             ],
             [
              0.6666666666666666,
              "#ed7953"
             ],
             [
              0.7777777777777778,
              "#fb9f3a"
             ],
             [
              0.8888888888888888,
              "#fdca26"
             ],
             [
              1,
              "#f0f921"
             ]
            ],
            "type": "surface"
           }
          ],
          "table": [
           {
            "cells": {
             "fill": {
              "color": "#EBF0F8"
             },
             "line": {
              "color": "white"
             }
            },
            "header": {
             "fill": {
              "color": "#C8D4E3"
             },
             "line": {
              "color": "white"
             }
            },
            "type": "table"
           }
          ]
         },
         "layout": {
          "annotationdefaults": {
           "arrowcolor": "#2a3f5f",
           "arrowhead": 0,
           "arrowwidth": 1
          },
          "autotypenumbers": "strict",
          "coloraxis": {
           "colorbar": {
            "outlinewidth": 0,
            "ticks": ""
           }
          },
          "colorscale": {
           "diverging": [
            [
             0,
             "#8e0152"
            ],
            [
             0.1,
             "#c51b7d"
            ],
            [
             0.2,
             "#de77ae"
            ],
            [
             0.3,
             "#f1b6da"
            ],
            [
             0.4,
             "#fde0ef"
            ],
            [
             0.5,
             "#f7f7f7"
            ],
            [
             0.6,
             "#e6f5d0"
            ],
            [
             0.7,
             "#b8e186"
            ],
            [
             0.8,
             "#7fbc41"
            ],
            [
             0.9,
             "#4d9221"
            ],
            [
             1,
             "#276419"
            ]
           ],
           "sequential": [
            [
             0,
             "#0d0887"
            ],
            [
             0.1111111111111111,
             "#46039f"
            ],
            [
             0.2222222222222222,
             "#7201a8"
            ],
            [
             0.3333333333333333,
             "#9c179e"
            ],
            [
             0.4444444444444444,
             "#bd3786"
            ],
            [
             0.5555555555555556,
             "#d8576b"
            ],
            [
             0.6666666666666666,
             "#ed7953"
            ],
            [
             0.7777777777777778,
             "#fb9f3a"
            ],
            [
             0.8888888888888888,
             "#fdca26"
            ],
            [
             1,
             "#f0f921"
            ]
           ],
           "sequentialminus": [
            [
             0,
             "#0d0887"
            ],
            [
             0.1111111111111111,
             "#46039f"
            ],
            [
             0.2222222222222222,
             "#7201a8"
            ],
            [
             0.3333333333333333,
             "#9c179e"
            ],
            [
             0.4444444444444444,
             "#bd3786"
            ],
            [
             0.5555555555555556,
             "#d8576b"
            ],
            [
             0.6666666666666666,
             "#ed7953"
            ],
            [
             0.7777777777777778,
             "#fb9f3a"
            ],
            [
             0.8888888888888888,
             "#fdca26"
            ],
            [
             1,
             "#f0f921"
            ]
           ]
          },
          "colorway": [
           "#636efa",
           "#EF553B",
           "#00cc96",
           "#ab63fa",
           "#FFA15A",
           "#19d3f3",
           "#FF6692",
           "#B6E880",
           "#FF97FF",
           "#FECB52"
          ],
          "font": {
           "color": "#2a3f5f"
          },
          "geo": {
           "bgcolor": "white",
           "lakecolor": "white",
           "landcolor": "#E5ECF6",
           "showlakes": true,
           "showland": true,
           "subunitcolor": "white"
          },
          "hoverlabel": {
           "align": "left"
          },
          "hovermode": "closest",
          "mapbox": {
           "style": "light"
          },
          "paper_bgcolor": "white",
          "plot_bgcolor": "#E5ECF6",
          "polar": {
           "angularaxis": {
            "gridcolor": "white",
            "linecolor": "white",
            "ticks": ""
           },
           "bgcolor": "#E5ECF6",
           "radialaxis": {
            "gridcolor": "white",
            "linecolor": "white",
            "ticks": ""
           }
          },
          "scene": {
           "xaxis": {
            "backgroundcolor": "#E5ECF6",
            "gridcolor": "white",
            "gridwidth": 2,
            "linecolor": "white",
            "showbackground": true,
            "ticks": "",
            "zerolinecolor": "white"
           },
           "yaxis": {
            "backgroundcolor": "#E5ECF6",
            "gridcolor": "white",
            "gridwidth": 2,
            "linecolor": "white",
            "showbackground": true,
            "ticks": "",
            "zerolinecolor": "white"
           },
           "zaxis": {
            "backgroundcolor": "#E5ECF6",
            "gridcolor": "white",
            "gridwidth": 2,
            "linecolor": "white",
            "showbackground": true,
            "ticks": "",
            "zerolinecolor": "white"
           }
          },
          "shapedefaults": {
           "line": {
            "color": "#2a3f5f"
           }
          },
          "ternary": {
           "aaxis": {
            "gridcolor": "white",
            "linecolor": "white",
            "ticks": ""
           },
           "baxis": {
            "gridcolor": "white",
            "linecolor": "white",
            "ticks": ""
           },
           "bgcolor": "#E5ECF6",
           "caxis": {
            "gridcolor": "white",
            "linecolor": "white",
            "ticks": ""
           }
          },
          "title": {
           "x": 0.05
          },
          "xaxis": {
           "automargin": true,
           "gridcolor": "white",
           "linecolor": "white",
           "ticks": "",
           "title": {
            "standoff": 15
           },
           "zerolinecolor": "white",
           "zerolinewidth": 2
          },
          "yaxis": {
           "automargin": true,
           "gridcolor": "white",
           "linecolor": "white",
           "ticks": "",
           "title": {
            "standoff": 15
           },
           "zerolinecolor": "white",
           "zerolinewidth": 2
          }
         }
        },
        "xaxis": {
         "anchor": "y",
         "autorange": true,
         "domain": [
          0,
          1
         ],
         "range": [
          0.5,
          10.5
         ],
         "title": {
          "text": "BHK"
         },
         "type": "linear"
        },
        "yaxis": {
         "anchor": "x",
         "autorange": true,
         "domain": [
          0,
          1
         ],
         "range": [
          0,
          524.2105263157895
         ],
         "title": {
          "text": "count"
         }
        }
       }
      },
      "image/png": "[encoded data removed]",
      "text/html": [
       "<div>                            <div id=\"186712b8-60b0-4b7f-b3bd-92c7ef53b88f\" class=\"plotly-graph-div\" style=\"height:525px; width:100%;\"></div>            <script type=\"text/javascript\">                require([\"plotly\"], function(Plotly) {                    window.PLOTLYENV=window.PLOTLYENV || {};                                    if (document.getElementById(\"186712b8-60b0-4b7f-b3bd-92c7ef53b88f\")) {                    Plotly.newPlot(                        \"186712b8-60b0-4b7f-b3bd-92c7ef53b88f\",                        [{\"alignmentgroup\":\"True\",\"bingroup\":\"x\",\"hovertemplate\":\"BHK=%{x}<br>count=%{y}<extra></extra>\",\"legendgroup\":\"\",\"marker\":{\"color\":\"#636efa\",\"pattern\":{\"shape\":\"\"}},\"name\":\"\",\"offsetgroup\":\"\",\"orientation\":\"v\",\"showlegend\":false,\"x\":[3,2,2,2,2,4,4,2,3,4,3,3,2,2,2,2,2,4,3,2,2,3,1,2,2,3,3,1,2,4,2,2,3,2,3,2,2,3,3,3,2,3,2,2,2,3,2,3,2,4,2,3,3,3,3,2,4,2,3,1,2,3,4,3,3,3,2,3,3,3,4,4,4,3,4,3,4,3,3,3,4,3,3,2,3,1,3,3,1,3,3,4,3,3,3,3,3,3,3,3,4,4,3,3,3,2,4,3,3,3,3,3,3,3,3,3,2,2,3,2,2,3,3,3,2,3,2,2,2,2,2,2,3,2,2,2,2,3,2,2,3,2,3,2,3,2,3,3,2,1,2,2,2,2,1,3,6,6,2,2,1,2,4,4,3,4,3,3,3,4,4,3,3,1,2,2,1,3,4,3,2,1,2,3,2,3,2,4,5,1,3,3,3,1,2,4,4,3,3,3,3,5,4,3,3,2,4,2,2,2,4,3,5,5,3,3,3,2,3,3,4,2,4,4,3,2,4,4,4,4,5,4,3,3,4,4,4,3,3,4,4,5,3,4,4,4,3,3,4,6,4,4,3,4,4,4,4,4,4,4,5,4,4,4,3,4,2,4,3,4,4,3,3,4,3,3,4,4,4,3,3,2,4,3,4,4,4,2,2,4,2,3,3,3,2,2,2,3,3,2,2,3,2,2,2,2,4,3,2,4,3,3,2,4,2,1,3,3,1,2,2,2,1,2,2,1,2,3,2,1,3,4,3,7,3,5,2,2,3,3,6,6,4,2,4,4,2,3,1,3,3,2,2,2,3,3,3,2,2,4,2,1,2,4,2,2,3,2,3,2,2,2,4,3,1,3,3,2,3,2,2,3,2,1,3,2,4,3,2,3,2,2,2,1,2,3,2,2,2,2,2,3,3,2,3,3,4,2,3,4,3,3,3,3,1,2,3,3,3,3,2,3,3,3,1,3,2,2,3,3,4,3,2,3,3,4,1,3,3,1,2,2,3,3,1,2,3,4,3,1,4,2,3,2,2,3,2,4,4,3,2,3,3,2,4,4,5,4,4,3,2,1,2,4,5,3,2,2,2,4,2,2,2,2,4,3,4,4,4,3,4,4,3,3,3,3,4,3,4,3,3,3,4,3,4,3,3,4,3,3,4,3,4,4,3,3,3,4,4,2,4,3,3,2,2,1,2,4,3,4,6,3,2,4,4,3,4,2,4,4,3,4,3,4,3,3,3,3,2,3,3,2,1,2,2,4,3,2,3,2,4,3,2,3,1,3,3,3,3,2,2,3,3,3,3,3,3,3,3,3,4,3,3,3,3,3,3,3,3,3,3,3,2,3,4,3,3,2,4,2,3,3,3,4,5,5,3,3,4,3,4,4,3,3,4,3,3,3,3,2,4,5,3,3,5,5,5,2,5,5,2,3,3,3,2,2,3,3,2,3,3,3,3,4,3,3,3,3,4,2,2,2,3,3,3,2,3,2,1,2,2,3,3,3,4,10,4,3,2,3,4,2,3,4,3,2,3,2,3,4,4,2,4,2,2,2,2,3,4,3,2,3,2,3,3,3,1,3,1,2,1,2,2,1,1,1,2,2,2,2,3,3,3,3,3,3,3,3,3,2,2,1,3,2,4,3,3,2,4,2,2,3,3,2,2,2,4,2,3,2,2,3,3,2,3,2,3,3,3,2,1,3,2,1,2,2,3,1,3,3,1,3,3,4,3,3,3,3,3,3,2,1,3,1,1,1,1,1,1,2,3,2,3,4,3,3,2,2,3,1,2,3,3,2,3,2,3,1,2,2,1,3,3,2,2,1,2,3,3,2,3,2,1,1,2,1,2,1,1,1,1,1,1,1,1,1,1,1,2,1,1,3,2,2,1,2,1,1,1,1,3,1,2,3,4,4,4,4,4,2,2,4,2,2,2,3,3,3,2,2,3,4,1,2,3,4,4,3,4,3,3,3,1,2,4,1,2,2,1,3,3,1,3,3,3,2,2,1,3,3,1,2,3,2,1,1,1,2,2,2,3,3,2,3,2,3,4,2,4,3,3,3,2,2,2,3,3,2,2,3,3,3,2,3,3,3,3,3,2,3,2,3,2,2,2,1,2,4,2,2,2,2,2,3,3,2,3,3,4,4,2,4,2,2,3,2,3,3,2,2,4,4,3,3,2,4,4,3,3,2,3,5,4,3,3,2,2,3,2,1,2,2,3,2,2,3,3,3,3,3,3,4,3,4,3,4,3,2,4,3,2,3,3,3,3,4,3,3,3,4,3,4,2,4,3,4,3,3,3,2,3,3,2,3,2,3,3,1,3,3,3,3,1,3,3,2,3,2,2,3,2,2,2,4,3,2,3,2,2,3,4,4,4,3,3,3,3,3,4,3,4,4,2,3,3,5,3,5,3,2,4,2,2,3,3,4,3,3,2,2,2,2,3,3,3,1,2,3,3,3,3,2,3,3,2,2,2,2,2,3,3,2,2,3,3,2,2,2,2,2,3,3,3,5,4,3,4,3,3,4,4,4,4,3,4,2,3,4,3,3,4,3,4,3,4,4,3,4,4,3,3,3,3,4,3,3,2,3,3,3,3,2,4,2,3,3,4,4,3,3,3,3,3,3,3,4,3,3,2,3],\"xaxis\":\"x\",\"yaxis\":\"y\",\"type\":\"histogram\"}],                        {\"template\":{\"data\":{\"histogram2dcontour\":[{\"type\":\"histogram2dcontour\",\"colorbar\":{\"outlinewidth\":0,\"ticks\":\"\"},\"colorscale\":[[0.0,\"#0d0887\"],[0.1111111111111111,\"#46039f\"],[0.2222222222222222,\"#7201a8\"],[0.3333333333333333,\"#9c179e\"],[0.4444444444444444,\"#bd3786\"],[0.5555555555555556,\"#d8576b\"],[0.6666666666666666,\"#ed7953\"],[0.7777777777777778,\"#fb9f3a\"],[0.8888888888888888,\"#fdca26\"],[1.0,\"#f0f921\"]]}],\"choropleth\":[{\"type\":\"choropleth\",\"colorbar\":{\"outlinewidth\":0,\"ticks\":\"\"}}],\"histogram2d\":[{\"type\":\"histogram2d\",\"colorbar\":{\"outlinewidth\":0,\"ticks\":\"\"},\"colorscale\":[[0.0,\"#0d0887\"],[0.1111111111111111,\"#46039f\"],[0.2222222222222222,\"#7201a8\"],[0.3333333333333333,\"#9c179e\"],[0.4444444444444444,\"#bd3786\"],[0.5555555555555556,\"#d8576b\"],[0.6666666666666666,\"#ed7953\"],[0.7777777777777778,\"#fb9f3a\"],[0.8888888888888888,\"#fdca26\"],[1.0,\"#f0f921\"]]}],\"heatmap\":[{\"type\":\"heatmap\",\"colorbar\":{\"outlinewidth\":0,\"ticks\":\"\"},\"colorscale\":[[0.0,\"#0d0887\"],[0.1111111111111111,\"#46039f\"],[0.2222222222222222,\"#7201a8\"],[0.3333333333333333,\"#9c179e\"],[0.4444444444444444,\"#bd3786\"],[0.5555555555555556,\"#d8576b\"],[0.6666666666666666,\"#ed7953\"],[0.7777777777777778,\"#fb9f3a\"],[0.8888888888888888,\"#fdca26\"],[1.0,\"#f0f921\"]]}],\"heatmapgl\":[{\"type\":\"heatmapgl\",\"colorbar\":{\"outlinewidth\":0,\"ticks\":\"\"},\"colorscale\":[[0.0,\"#0d0887\"],[0.1111111111111111,\"#46039f\"],[0.2222222222222222,\"#7201a8\"],[0.3333333333333333,\"#9c179e\"],[0.4444444444444444,\"#bd3786\"],[0.5555555555555556,\"#d8576b\"],[0.6666666666666666,\"#ed7953\"],[0.7777777777777778,\"#fb9f3a\"],[0.8888888888888888,\"#fdca26\"],[1.0,\"#f0f921\"]]}],\"contourcarpet\":[{\"type\":\"contourcarpet\",\"colorbar\":{\"outlinewidth\":0,\"ticks\":\"\"}}],\"contour\":[{\"type\":\"contour\",\"colorbar\":{\"outlinewidth\":0,\"ticks\":\"\"},\"colorscale\":[[0.0,\"#0d0887\"],[0.1111111111111111,\"#46039f\"],[0.2222222222222222,\"#7201a8\"],[0.3333333333333333,\"#9c179e\"],[0.4444444444444444,\"#bd3786\"],[0.5555555555555556,\"#d8576b\"],[0.6666666666666666,\"#ed7953\"],[0.7777777777777778,\"#fb9f3a\"],[0.8888888888888888,\"#fdca26\"],[1.0,\"#f0f921\"]]}],\"surface\":[{\"type\":\"surface\",\"colorbar\":{\"outlinewidth\":0,\"ticks\":\"\"},\"colorscale\":[[0.0,\"#0d0887\"],[0.1111111111111111,\"#46039f\"],[0.2222222222222222,\"#7201a8\"],[0.3333333333333333,\"#9c179e\"],[0.4444444444444444,\"#bd3786\"],[0.5555555555555556,\"#d8576b\"],[0.6666666666666666,\"#ed7953\"],[0.7777777777777778,\"#fb9f3a\"],[0.8888888888888888,\"#fdca26\"],[1.0,\"#f0f921\"]]}],\"mesh3d\":[{\"type\":\"mesh3d\",\"colorbar\":{\"outlinewidth\":0,\"ticks\":\"\"}}],\"scatter\":[{\"fillpattern\":{\"fillmode\":\"overlay\",\"size\":10,\"solidity\":0.2},\"type\":\"scatter\"}],\"parcoords\":[{\"type\":\"parcoords\",\"line\":{\"colorbar\":{\"outlinewidth\":0,\"ticks\":\"\"}}}],\"scatterpolargl\":[{\"type\":\"scatterpolargl\",\"marker\":{\"colorbar\":{\"outlinewidth\":0,\"ticks\":\"\"}}}],\"bar\":[{\"error_x\":{\"color\":\"#2a3f5f\"},\"error_y\":{\"color\":\"#2a3f5f\"},\"marker\":{\"line\":{\"color\":\"#E5ECF6\",\"width\":0.5},\"pattern\":{\"fillmode\":\"overlay\",\"size\":10,\"solidity\":0.2}},\"type\":\"bar\"}],\"scattergeo\":[{\"type\":\"scattergeo\",\"marker\":{\"colorbar\":{\"outlinewidth\":0,\"ticks\":\"\"}}}],\"scatterpolar\":[{\"type\":\"scatterpolar\",\"marker\":{\"colorbar\":{\"outlinewidth\":0,\"ticks\":\"\"}}}],\"histogram\":[{\"marker\":{\"pattern\":{\"fillmode\":\"overlay\",\"size\":10,\"solidity\":0.2}},\"type\":\"histogram\"}],\"scattergl\":[{\"type\":\"scattergl\",\"marker\":{\"colorbar\":{\"outlinewidth\":0,\"ticks\":\"\"}}}],\"scatter3d\":[{\"type\":\"scatter3d\",\"line\":{\"colorbar\":{\"outlinewidth\":0,\"ticks\":\"\"}},\"marker\":{\"colorbar\":{\"outlinewidth\":0,\"ticks\":\"\"}}}],\"scattermapbox\":[{\"type\":\"scattermapbox\",\"marker\":{\"colorbar\":{\"outlinewidth\":0,\"ticks\":\"\"}}}],\"scatterternary\":[{\"type\":\"scatterternary\",\"marker\":{\"colorbar\":{\"outlinewidth\":0,\"ticks\":\"\"}}}],\"scattercarpet\":[{\"type\":\"scattercarpet\",\"marker\":{\"colorbar\":{\"outlinewidth\":0,\"ticks\":\"\"}}}],\"carpet\":[{\"aaxis\":{\"endlinecolor\":\"#2a3f5f\",\"gridcolor\":\"white\",\"linecolor\":\"white\",\"minorgridcolor\":\"white\",\"startlinecolor\":\"#2a3f5f\"},\"baxis\":{\"endlinecolor\":\"#2a3f5f\",\"gridcolor\":\"white\",\"linecolor\":\"white\",\"minorgridcolor\":\"white\",\"startlinecolor\":\"#2a3f5f\"},\"type\":\"carpet\"}],\"table\":[{\"cells\":{\"fill\":{\"color\":\"#EBF0F8\"},\"line\":{\"color\":\"white\"}},\"header\":{\"fill\":{\"color\":\"#C8D4E3\"},\"line\":{\"color\":\"white\"}},\"type\":\"table\"}],\"barpolar\":[{\"marker\":{\"line\":{\"color\":\"#E5ECF6\",\"width\":0.5},\"pattern\":{\"fillmode\":\"overlay\",\"size\":10,\"solidity\":0.2}},\"type\":\"barpolar\"}],\"pie\":[{\"automargin\":true,\"type\":\"pie\"}]},\"layout\":{\"autotypenumbers\":\"strict\",\"colorway\":[\"#636efa\",\"#EF553B\",\"#00cc96\",\"#ab63fa\",\"#FFA15A\",\"#19d3f3\",\"#FF6692\",\"#B6E880\",\"#FF97FF\",\"#FECB52\"],\"font\":{\"color\":\"#2a3f5f\"},\"hovermode\":\"closest\",\"hoverlabel\":{\"align\":\"left\"},\"paper_bgcolor\":\"white\",\"plot_bgcolor\":\"#E5ECF6\",\"polar\":{\"bgcolor\":\"#E5ECF6\",\"angularaxis\":{\"gridcolor\":\"white\",\"linecolor\":\"white\",\"ticks\":\"\"},\"radialaxis\":{\"gridcolor\":\"white\",\"linecolor\":\"white\",\"ticks\":\"\"}},\"ternary\":{\"bgcolor\":\"#E5ECF6\",\"aaxis\":{\"gridcolor\":\"white\",\"linecolor\":\"white\",\"ticks\":\"\"},\"baxis\":{\"gridcolor\":\"white\",\"linecolor\":\"white\",\"ticks\":\"\"},\"caxis\":{\"gridcolor\":\"white\",\"linecolor\":\"white\",\"ticks\":\"\"}},\"coloraxis\":{\"colorbar\":{\"outlinewidth\":0,\"ticks\":\"\"}},\"colorscale\":{\"sequential\":[[0.0,\"#0d0887\"],[0.1111111111111111,\"#46039f\"],[0.2222222222222222,\"#7201a8\"],[0.3333333333333333,\"#9c179e\"],[0.4444444444444444,\"#bd3786\"],[0.5555555555555556,\"#d8576b\"],[0.6666666666666666,\"#ed7953\"],[0.7777777777777778,\"#fb9f3a\"],[0.8888888888888888,\"#fdca26\"],[1.0,\"#f0f921\"]],\"sequentialminus\":[[0.0,\"#0d0887\"],[0.1111111111111111,\"#46039f\"],[0.2222222222222222,\"#7201a8\"],[0.3333333333333333,\"#9c179e\"],[0.4444444444444444,\"#bd3786\"],[0.5555555555555556,\"#d8576b\"],[0.6666666666666666,\"#ed7953\"],[0.7777777777777778,\"#fb9f3a\"],[0.8888888888888888,\"#fdca26\"],[1.0,\"#f0f921\"]],\"diverging\":[[0,\"#8e0152\"],[0.1,\"#c51b7d\"],[0.2,\"#de77ae\"],[0.3,\"#f1b6da\"],[0.4,\"#fde0ef\"],[0.5,\"#f7f7f7\"],[0.6,\"#e6f5d0\"],[0.7,\"#b8e186\"],[0.8,\"#7fbc41\"],[0.9,\"#4d9221\"],[1,\"#276419\"]]},\"xaxis\":{\"gridcolor\":\"white\",\"linecolor\":\"white\",\"ticks\":\"\",\"title\":{\"standoff\":15},\"zerolinecolor\":\"white\",\"automargin\":true,\"zerolinewidth\":2},\"yaxis\":{\"gridcolor\":\"white\",\"linecolor\":\"white\",\"ticks\":\"\",\"title\":{\"standoff\":15},\"zerolinecolor\":\"white\",\"automargin\":true,\"zerolinewidth\":2},\"scene\":{\"xaxis\":{\"backgroundcolor\":\"#E5ECF6\",\"gridcolor\":\"white\",\"linecolor\":\"white\",\"showbackground\":true,\"ticks\":\"\",\"zerolinecolor\":\"white\",\"gridwidth\":2},\"yaxis\":{\"backgroundcolor\":\"#E5ECF6\",\"gridcolor\":\"white\",\"linecolor\":\"white\",\"showbackground\":true,\"ticks\":\"\",\"zerolinecolor\":\"white\",\"gridwidth\":2},\"zaxis\":{\"backgroundcolor\":\"#E5ECF6\",\"gridcolor\":\"white\",\"linecolor\":\"white\",\"showbackground\":true,\"ticks\":\"\",\"zerolinecolor\":\"white\",\"gridwidth\":2}},\"shapedefaults\":{\"line\":{\"color\":\"#2a3f5f\"}},\"annotationdefaults\":{\"arrowcolor\":\"#2a3f5f\",\"arrowhead\":0,\"arrowwidth\":1},\"geo\":{\"bgcolor\":\"white\",\"landcolor\":\"#E5ECF6\",\"subunitcolor\":\"white\",\"showland\":true,\"showlakes\":true,\"lakecolor\":\"white\"},\"title\":{\"x\":0.05},\"mapbox\":{\"style\":\"light\"}}},\"xaxis\":{\"anchor\":\"y\",\"domain\":[0.0,1.0],\"title\":{\"text\":\"BHK\"}},\"yaxis\":{\"anchor\":\"x\",\"domain\":[0.0,1.0],\"title\":{\"text\":\"count\"}},\"legend\":{\"tracegroupgap\":0},\"margin\":{\"t\":60},\"barmode\":\"relative\"},                        {\"responsive\": true}                    ).then(function(){\n",
       "                            \n",
       "var gd = document.getElementById('186712b8-60b0-4b7f-b3bd-92c7ef53b88f');\n",
       "var x = new MutationObserver(function (mutations, observer) {{\n",
       "        var display = window.getComputedStyle(gd).display;\n",
       "        if (!display || display === 'none') {{\n",
       "            console.log([gd, 'removed!']);\n",
       "            Plotly.purge(gd);\n",
       "            observer.disconnect();\n",
       "        }}\n",
       "}});\n",
       "\n",
       "// Listen for the removal of the full notebook cells\n",
       "var notebookContainer = gd.closest('#notebook-container');\n",
       "if (notebookContainer) {{\n",
       "    x.observe(notebookContainer, {childList: true});\n",
       "}}\n",
       "\n",
       "// Listen for the clearing of the current output cell\n",
       "var outputEl = gd.closest('.output');\n",
       "if (outputEl) {{\n",
       "    x.observe(outputEl, {childList: true});\n",
       "}}\n",
       "\n",
       "                        })                };                });            </script>        </div>"
      ]
     },
     "metadata": {},
     "output_type": "display_data"
    }
   ],
   "source": [
    "px.histogram(df1,x='BHK')"
   ]
  },
  {
   "cell_type": "code",
   "execution_count": 20,
   "id": "c67d46c3-7161-40ef-abf9-7fc165547a3e",
   "metadata": {},
   "outputs": [
    {
     "data": {
      "application/vnd.plotly.v1+json": {
       "config": {
        "plotlyServerURL": "https://plot.ly"
       },
       "data": [
        {
         "alignmentgroup": "True",
         "bingroup": "x",
         "hovertemplate": "Area=%{x}<br>count=%{y}<extra></extra>",
         "legendgroup": "",
         "marker": {
          "color": "#636efa",
          "pattern": {
           "shape": ""
          }
         },
         "name": "",
         "offsetgroup": "",
         "orientation": "v",
         "showlegend": false,
         "type": "histogram",
         "x": [
          800,
          750,
          950,
          600,
          650,
          1300,
          1350,
          650,
          985,
          1300,
          1100,
          870,
          630,
          660,
          344.4448,
          660,
          550,
          1100,
          1150,
          650,
          850,
          900,
          430.556,
          900,
          914.9315,
          1100,
          800,
          500,
          28,
          2160,
          800,
          900,
          1080,
          750,
          1450,
          900,
          810,
          1350,
          1710,
          1650,
          1280,
          1260,
          1130,
          600,
          850,
          1500,
          900,
          1000,
          900,
          2925,
          900,
          1600,
          1143,
          1150,
          1500,
          850,
          8000,
          890,
          1100,
          750,
          850,
          1350,
          1387,
          1050,
          1500,
          1200,
          700,
          1700,
          1550,
          1400,
          1900,
          2160,
          1700,
          1850,
          1800,
          1620,
          1800,
          1540,
          1600,
          1400,
          2300,
          1560,
          1500,
          1050,
          1800,
          400,
          1150,
          1525,
          900,
          1450,
          1260,
          2925,
          1710,
          1600,
          1500,
          2200,
          1350,
          1710,
          1350,
          1500,
          2880,
          2700,
          1400,
          1800,
          1400,
          1000,
          8000,
          1700,
          1600,
          1350,
          1700,
          1400,
          1450,
          1350,
          1700,
          1600,
          800,
          1350,
          1500,
          750,
          850,
          1575,
          1675,
          1350,
          900,
          1800,
          900,
          900,
          900,
          800,
          1100,
          810,
          1500,
          900,
          825,
          900,
          875,
          1350,
          750,
          900,
          1350,
          900,
          1800,
          900,
          810,
          450,
          100,
          900,
          500,
          450,
          75,
          270,
          500,
          444,
          400,
          729,
          4050,
          2400,
          450,
          405,
          666,
          1000,
          1360,
          1550,
          850,
          2170,
          720,
          850,
          950,
          2300,
          1300,
          1100,
          1030,
          350,
          720,
          800,
          350,
          980,
          1600,
          1450,
          445,
          380,
          680,
          1600,
          630,
          1500,
          550,
          2500,
          2800,
          300,
          800,
          1295,
          700,
          350,
          450,
          2200,
          2300,
          1150,
          800,
          850,
          720,
          4688,
          3901,
          950,
          1000,
          850,
          2400,
          540,
          540,
          976,
          2700,
          1500,
          2900,
          5025,
          1000,
          1135,
          2306,
          850,
          1200,
          1700,
          1800,
          1100,
          22050,
          1550,
          1600,
          700,
          45,
          3510,
          4500,
          1800,
          6000,
          4300,
          1700,
          2500,
          4500,
          2450,
          10350,
          4800,
          1600,
          3500,
          2100,
          4200,
          1500,
          8150,
          2200,
          3500,
          2070,
          3500,
          2000,
          2800,
          2550,
          4500,
          1400,
          2800,
          2700,
          4500,
          7200,
          2799,
          2650,
          2200,
          3500,
          2200,
          2200,
          3500,
          1440,
          3150,
          900,
          3690,
          1200,
          4500,
          2799,
          1350,
          1200,
          2177,
          1500,
          1600,
          4500,
          2150,
          2107,
          1150,
          1240,
          1000,
          4500,
          1150,
          2000,
          4500,
          3000,
          700,
          750,
          1350,
          900,
          970,
          1000,
          1425,
          440,
          1017,
          650,
          950,
          810,
          750,
          990,
          800,
          675,
          558,
          445,
          360,
          1350,
          850,
          846,
          1300,
          900,
          1050,
          850,
          1650,
          1150,
          495.1394,
          1053,
          810,
          750,
          540,
          747,
          720,
          376.7365,
          1125,
          713,
          360,
          900,
          713,
          504,
          70,
          850,
          2430,
          2475,
          2970,
          2250,
          1500,
          1512,
          400,
          2160,
          630,
          324,
          720,
          675,
          700,
          675,
          720,
          850,
          801,
          450,
          1000,
          990,
          420,
          450,
          1000,
          900,
          800,
          720,
          450,
          675,
          1700,
          550,
          387,
          450,
          900,
          500,
          441,
          800,
          450,
          1000,
          715,
          600,
          540,
          312,
          810,
          270,
          900,
          1000,
          540,
          1000,
          500,
          540,
          780,
          450,
          360,
          900,
          495,
          1200,
          1000,
          620,
          680,
          805,
          729,
          540,
          360,
          550,
          1001,
          450,
          550,
          550,
          675,
          585,
          810,
          765,
          70,
          800,
          900,
          1680,
          900,
          2000,
          2000,
          1900,
          1530,
          100,
          900,
          270,
          950,
          1800,
          1500,
          1800,
          1800,
          850,
          140,
          900,
          1800,
          200,
          1782,
          900,
          405,
          1500,
          66,
          2000,
          1200,
          1100,
          1400,
          1600,
          1600,
          600,
          1600,
          2000,
          650,
          1100,
          1075,
          1450,
          1200,
          600,
          1000,
          1600,
          1750,
          1300,
          550,
          2200,
          1100,
          1700,
          1100,
          1000,
          1350,
          1184,
          2000,
          3500,
          900,
          1250,
          504,
          65,
          450,
          1800,
          1800,
          1530,
          1750,
          2210,
          760,
          400,
          380,
          904.1676,
          900,
          810,
          100,
          50,
          58,
          900,
          1650,
          1000,
          852,
          700,
          1000,
          1700,
          1350,
          2100,
          2600,
          3000,
          1450,
          2050,
          3000,
          1800,
          900,
          1500,
          1500,
          1800,
          1674,
          2025,
          1300,
          990,
          2100,
          2250,
          1500,
          2700,
          1700,
          1700,
          2050,
          1800,
          1500,
          2000,
          1500,
          24300,
          2475,
          1800,
          1300,
          1500,
          2100,
          1800,
          1100,
          2035,
          1100,
          1550,
          700,
          150,
          540,
          810,
          3250,
          1600,
          4000,
          5500,
          900,
          972,
          4150,
          2250,
          1650,
          2610,
          600,
          1700,
          2250,
          880,
          4200,
          1450,
          2200,
          1620,
          1078,
          1710,
          1150,
          450,
          1818,
          1800,
          780,
          405,
          900,
          807.2925,
          2700,
          1100,
          585,
          2152.78,
          960,
          1800,
          1100,
          900,
          1620,
          378,
          800,
          1350,
          850,
          1580,
          820,
          594,
          14220,
          800,
          1500,
          1600,
          1650,
          1600,
          1900,
          1400,
          1550,
          2000,
          1500,
          1550,
          1600,
          1600,
          1800,
          1470,
          1500,
          1750,
          1650,
          1850,
          1480,
          1214,
          1380,
          1600,
          1585,
          1700,
          1200,
          1800,
          1000,
          1500,
          1700,
          1750,
          2700,
          3050,
          3405,
          1500,
          2105,
          2500,
          2090,
          2525,
          2500,
          2100,
          2022,
          2650,
          1850,
          2100,
          1700,
          2105,
          1250,
          2552,
          3112,
          2125,
          2065,
          3405,
          3050,
          2300,
          1455,
          3400,
          3100,
          1400,
          2126,
          1815,
          1700,
          700,
          980,
          1350,
          1800,
          968.751,
          1250,
          1800,
          1400,
          1000,
          1800,
          1500,
          1600,
          1400,
          1400,
          2700,
          1100,
          1200,
          1400,
          1500,
          1320,
          1300,
          1150,
          1440,
          1400,
          450,
          1300,
          1200,
          1300,
          1400,
          1400,
          1600,
          1200,
          1600,
          1250,
          950,
          1200,
          1400,
          950,
          1350,
          1550,
          1300,
          1000,
          1500,
          950,
          1200,
          1400,
          1500,
          1050,
          1550,
          950,
          1150,
          1150,
          1150,
          1500,
          1800,
          1300,
          1150,
          1500,
          1150,
          900,
          1150,
          1000,
          450,
          1350,
          445,
          1200,
          50,
          1100,
          700,
          500,
          540,
          450,
          800,
          700,
          750,
          750,
          1600,
          1000,
          900,
          1700,
          1100,
          1000,
          1000,
          1100,
          765,
          900,
          600,
          360,
          950,
          3600,
          1305,
          1800,
          950,
          800,
          1800,
          800,
          675,
          1175,
          1500,
          810,
          630,
          650,
          1800,
          725,
          900,
          750,
          700,
          950,
          1600,
          900,
          1500,
          500,
          1035,
          825,
          1300,
          765,
          580,
          1750,
          650,
          405,
          675,
          850,
          800,
          405,
          1350,
          1350,
          450,
          1300,
          1050,
          1675,
          1250,
          1080,
          1170,
          1250,
          1500,
          1350,
          855,
          540,
          1044.0983,
          405,
          500,
          450,
          405,
          405,
          450,
          173,
          1100,
          600,
          800,
          990,
          1100,
          1100,
          527,
          1000,
          1000,
          450,
          600,
          950,
          855,
          770,
          810,
          710,
          950,
          450,
          500,
          600,
          420,
          900,
          945,
          565,
          450,
          430,
          550,
          810,
          720,
          360,
          820,
          459,
          378,
          450,
          900,
          360,
          559.7228,
          350,
          365,
          390,
          350,
          210,
          50,
          500,
          350,
          379,
          236.8058,
          445,
          452.0838,
          350,
          437,
          61,
          495,
          900,
          350,
          585,
          198,
          4900,
          2077.4327,
          50,
          990,
          425,
          750,
          1400,
          3600,
          3000,
          2750,
          2050,
          3000,
          850,
          750,
          2600,
          800,
          550,
          700,
          2316,
          900,
          100,
          900,
          1500,
          650,
          2000,
          500,
          1125,
          1300,
          2500,
          2200,
          1290,
          2250,
          1350,
          1400,
          1700,
          450,
          750,
          1500,
          400,
          650,
          900,
          400,
          900,
          1000,
          405,
          1700,
          800,
          1076.39,
          750,
          460,
          370,
          1800,
          1080,
          350,
          500,
          900,
          800,
          350,
          430.556,
          500,
          1450,
          800,
          1000,
          1000,
          1600,
          900,
          1500,
          1050,
          1300,
          1600,
          900,
          1350,
          1000,
          1400,
          975,
          900,
          1100,
          950,
          1300,
          1459,
          1000,
          1100,
          1450,
          1450,
          1150,
          780,
          1300,
          1350,
          1200,
          1460,
          1460,
          1100,
          1500,
          1050,
          1350,
          1500,
          976,
          540,
          450,
          900,
          2500,
          979.5149,
          945,
          976,
          1531,
          1000,
          750,
          900,
          1512,
          35,
          1500,
          2907,
          2210,
          750,
          2518.7526,
          588,
          540,
          1100,
          550,
          750,
          1260,
          675,
          810,
          3150,
          2000,
          1775,
          1135,
          1252,
          2000,
          530,
          1332,
          1017,
          987,
          1912,
          5236,
          2805,
          1500,
          1280,
          675,
          576,
          1206,
          1143,
          345,
          720,
          468,
          1600,
          950,
          535,
          1200,
          1501,
          1135,
          1200,
          2200,
          1240,
          3002,
          1350,
          2300,
          1429,
          2430,
          1450,
          1250,
          2800,
          1646,
          900,
          1250,
          900,
          1590,
          990,
          2282,
          1260,
          1457,
          1400,
          2175,
          1450,
          2800,
          861.112,
          2282,
          1753,
          2659,
          1550,
          1470,
          702,
          1138,
          1600,
          1600,
          1250,
          810,
          585,
          1700,
          1800,
          600,
          1250,
          600,
          1600,
          1100,
          450,
          855,
          1291.668,
          1300,
          1350,
          900,
          850,
          1650,
          650,
          630,
          1250,
          1800,
          1500,
          1100,
          1400,
          1300,
          1100,
          1600,
          2250,
          2592,
          1800,
          1700,
          1640,
          2572,
          2100,
          1620,
          2500,
          2250,
          2445,
          2250,
          800,
          1450,
          1440,
          5220,
          1800,
          4455,
          195,
          807.2925,
          3500,
          1000,
          900,
          1800,
          17010,
          2340,
          1350,
          464,
          954,
          1155,
          500,
          700,
          900,
          1260,
          950,
          405,
          1800,
          1300,
          1000,
          900,
          1800,
          720,
          1485,
          1600,
          1200,
          900,
          900,
          800,
          1150,
          900,
          1070,
          1050,
          1000,
          1550,
          1300,
          810,
          900,
          1200,
          1000,
          720,
          2520,
          1700,
          1800,
          6000,
          1800,
          2000,
          2066,
          2050,
          1100,
          4500,
          4500,
          6500,
          4350,
          1750,
          3600,
          1200,
          1500,
          2250,
          1800,
          1600,
          2800,
          1700,
          2400,
          1980,
          2100,
          5400,
          1250,
          2300,
          2700,
          1450,
          2097,
          1250,
          1600,
          2600,
          1700,
          1116,
          1070,
          1200,
          1200,
          1200,
          1450,
          1000,
          2430,
          945,
          1650,
          1350,
          2625,
          1800,
          125,
          1440,
          1900,
          1800,
          1200,
          1800,
          1200,
          4118,
          1050,
          875,
          990,
          11050
         ],
         "xaxis": "x",
         "yaxis": "y"
        }
       ],
       "layout": {
        "autosize": true,
        "barmode": "relative",
        "legend": {
         "tracegroupgap": 0
        },
        "margin": {
         "t": 60
        },
        "template": {
         "data": {
          "bar": [
           {
            "error_x": {
             "color": "#2a3f5f"
            },
            "error_y": {
             "color": "#2a3f5f"
            },
            "marker": {
             "line": {
              "color": "#E5ECF6",
              "width": 0.5
             },
             "pattern": {
              "fillmode": "overlay",
              "size": 10,
              "solidity": 0.2
             }
            },
            "type": "bar"
           }
          ],
          "barpolar": [
           {
            "marker": {
             "line": {
              "color": "#E5ECF6",
              "width": 0.5
             },
             "pattern": {
              "fillmode": "overlay",
              "size": 10,
              "solidity": 0.2
             }
            },
            "type": "barpolar"
           }
          ],
          "carpet": [
           {
            "aaxis": {
             "endlinecolor": "#2a3f5f",
             "gridcolor": "white",
             "linecolor": "white",
             "minorgridcolor": "white",
             "startlinecolor": "#2a3f5f"
            },
            "baxis": {
             "endlinecolor": "#2a3f5f",
             "gridcolor": "white",
             "linecolor": "white",
             "minorgridcolor": "white",
             "startlinecolor": "#2a3f5f"
            },
            "type": "carpet"
           }
          ],
          "choropleth": [
           {
            "colorbar": {
             "outlinewidth": 0,
             "ticks": ""
            },
            "type": "choropleth"
           }
          ],
          "contour": [
           {
            "colorbar": {
             "outlinewidth": 0,
             "ticks": ""
            },
            "colorscale": [
             [
              0,
              "#0d0887"
             ],
             [
              0.1111111111111111,
              "#46039f"
             ],
             [
              0.2222222222222222,
              "#7201a8"
             ],
             [
              0.3333333333333333,
              "#9c179e"
             ],
             [
              0.4444444444444444,
              "#bd3786"
             ],
             [
              0.5555555555555556,
              "#d8576b"
             ],
             [
              0.6666666666666666,
              "#ed7953"
             ],
             [
              0.7777777777777778,
              "#fb9f3a"
             ],
             [
              0.8888888888888888,
              "#fdca26"
             ],
             [
              1,
              "#f0f921"
             ]
            ],
            "type": "contour"
           }
          ],
          "contourcarpet": [
           {
            "colorbar": {
             "outlinewidth": 0,
             "ticks": ""
            },
            "type": "contourcarpet"
           }
          ],
          "heatmap": [
           {
            "colorbar": {
             "outlinewidth": 0,
             "ticks": ""
            },
            "colorscale": [
             [
              0,
              "#0d0887"
             ],
             [
              0.1111111111111111,
              "#46039f"
             ],
             [
              0.2222222222222222,
              "#7201a8"
             ],
             [
              0.3333333333333333,
              "#9c179e"
             ],
             [
              0.4444444444444444,
              "#bd3786"
             ],
             [
              0.5555555555555556,
              "#d8576b"
             ],
             [
              0.6666666666666666,
              "#ed7953"
             ],
             [
              0.7777777777777778,
              "#fb9f3a"
             ],
             [
              0.8888888888888888,
              "#fdca26"
             ],
             [
              1,
              "#f0f921"
             ]
            ],
            "type": "heatmap"
           }
          ],
          "heatmapgl": [
           {
            "colorbar": {
             "outlinewidth": 0,
             "ticks": ""
            },
            "colorscale": [
             [
              0,
              "#0d0887"
             ],
             [
              0.1111111111111111,
              "#46039f"
             ],
             [
              0.2222222222222222,
              "#7201a8"
             ],
             [
              0.3333333333333333,
              "#9c179e"
             ],
             [
              0.4444444444444444,
              "#bd3786"
             ],
             [
              0.5555555555555556,
              "#d8576b"
             ],
             [
              0.6666666666666666,
              "#ed7953"
             ],
             [
              0.7777777777777778,
              "#fb9f3a"
             ],
             [
              0.8888888888888888,
              "#fdca26"
             ],
             [
              1,
              "#f0f921"
             ]
            ],
            "type": "heatmapgl"
           }
          ],
          "histogram": [
           {
            "marker": {
             "pattern": {
              "fillmode": "overlay",
              "size": 10,
              "solidity": 0.2
             }
            },
            "type": "histogram"
           }
          ],
          "histogram2d": [
           {
            "colorbar": {
             "outlinewidth": 0,
             "ticks": ""
            },
            "colorscale": [
             [
              0,
              "#0d0887"
             ],
             [
              0.1111111111111111,
              "#46039f"
             ],
             [
              0.2222222222222222,
              "#7201a8"
             ],
             [
              0.3333333333333333,
              "#9c179e"
             ],
             [
              0.4444444444444444,
              "#bd3786"
             ],
             [
              0.5555555555555556,
              "#d8576b"
             ],
             [
              0.6666666666666666,
              "#ed7953"
             ],
             [
              0.7777777777777778,
              "#fb9f3a"
             ],
             [
              0.8888888888888888,
              "#fdca26"
             ],
             [
              1,
              "#f0f921"
             ]
            ],
            "type": "histogram2d"
           }
          ],
          "histogram2dcontour": [
           {
            "colorbar": {
             "outlinewidth": 0,
             "ticks": ""
            },
            "colorscale": [
             [
              0,
              "#0d0887"
             ],
             [
              0.1111111111111111,
              "#46039f"
             ],
             [
              0.2222222222222222,
              "#7201a8"
             ],
             [
              0.3333333333333333,
              "#9c179e"
             ],
             [
              0.4444444444444444,
              "#bd3786"
             ],
             [
              0.5555555555555556,
              "#d8576b"
             ],
             [
              0.6666666666666666,
              "#ed7953"
             ],
             [
              0.7777777777777778,
              "#fb9f3a"
             ],
             [
              0.8888888888888888,
              "#fdca26"
             ],
             [
              1,
              "#f0f921"
             ]
            ],
            "type": "histogram2dcontour"
           }
          ],
          "mesh3d": [
           {
            "colorbar": {
             "outlinewidth": 0,
             "ticks": ""
            },
            "type": "mesh3d"
           }
          ],
          "parcoords": [
           {
            "line": {
             "colorbar": {
              "outlinewidth": 0,
              "ticks": ""
             }
            },
            "type": "parcoords"
           }
          ],
          "pie": [
           {
            "automargin": true,
            "type": "pie"
           }
          ],
          "scatter": [
           {
            "fillpattern": {
             "fillmode": "overlay",
             "size": 10,
             "solidity": 0.2
            },
            "type": "scatter"
           }
          ],
          "scatter3d": [
           {
            "line": {
             "colorbar": {
              "outlinewidth": 0,
              "ticks": ""
             }
            },
            "marker": {
             "colorbar": {
              "outlinewidth": 0,
              "ticks": ""
             }
            },
            "type": "scatter3d"
           }
          ],
          "scattercarpet": [
           {
            "marker": {
             "colorbar": {
              "outlinewidth": 0,
              "ticks": ""
             }
            },
            "type": "scattercarpet"
           }
          ],
          "scattergeo": [
           {
            "marker": {
             "colorbar": {
              "outlinewidth": 0,
              "ticks": ""
             }
            },
            "type": "scattergeo"
           }
          ],
          "scattergl": [
           {
            "marker": {
             "colorbar": {
              "outlinewidth": 0,
              "ticks": ""
             }
            },
            "type": "scattergl"
           }
          ],
          "scattermapbox": [
           {
            "marker": {
             "colorbar": {
              "outlinewidth": 0,
              "ticks": ""
             }
            },
            "type": "scattermapbox"
           }
          ],
          "scatterpolar": [
           {
            "marker": {
             "colorbar": {
              "outlinewidth": 0,
              "ticks": ""
             }
            },
            "type": "scatterpolar"
           }
          ],
          "scatterpolargl": [
           {
            "marker": {
             "colorbar": {
              "outlinewidth": 0,
              "ticks": ""
             }
            },
            "type": "scatterpolargl"
           }
          ],
          "scatterternary": [
           {
            "marker": {
             "colorbar": {
              "outlinewidth": 0,
              "ticks": ""
             }
            },
            "type": "scatterternary"
           }
          ],
          "surface": [
           {
            "colorbar": {
             "outlinewidth": 0,
             "ticks": ""
            },
            "colorscale": [
             [
              0,
              "#0d0887"
             ],
             [
              0.1111111111111111,
              "#46039f"
             ],
             [
              0.2222222222222222,
              "#7201a8"
             ],
             [
              0.3333333333333333,
              "#9c179e"
             ],
             [
              0.4444444444444444,
              "#bd3786"
             ],
             [
              0.5555555555555556,
              "#d8576b"
             ],
             [
              0.6666666666666666,
              "#ed7953"
             ],
             [
              0.7777777777777778,
              "#fb9f3a"
             ],
             [
              0.8888888888888888,
              "#fdca26"
             ],
             [
              1,
              "#f0f921"
             ]
            ],
            "type": "surface"
           }
          ],
          "table": [
           {
            "cells": {
             "fill": {
              "color": "#EBF0F8"
             },
             "line": {
              "color": "white"
             }
            },
            "header": {
             "fill": {
              "color": "#C8D4E3"
             },
             "line": {
              "color": "white"
             }
            },
            "type": "table"
           }
          ]
         },
         "layout": {
          "annotationdefaults": {
           "arrowcolor": "#2a3f5f",
           "arrowhead": 0,
           "arrowwidth": 1
          },
          "autotypenumbers": "strict",
          "coloraxis": {
           "colorbar": {
            "outlinewidth": 0,
            "ticks": ""
           }
          },
          "colorscale": {
           "diverging": [
            [
             0,
             "#8e0152"
            ],
            [
             0.1,
             "#c51b7d"
            ],
            [
             0.2,
             "#de77ae"
            ],
            [
             0.3,
             "#f1b6da"
            ],
            [
             0.4,
             "#fde0ef"
            ],
            [
             0.5,
             "#f7f7f7"
            ],
            [
             0.6,
             "#e6f5d0"
            ],
            [
             0.7,
             "#b8e186"
            ],
            [
             0.8,
             "#7fbc41"
            ],
            [
             0.9,
             "#4d9221"
            ],
            [
             1,
             "#276419"
            ]
           ],
           "sequential": [
            [
             0,
             "#0d0887"
            ],
            [
             0.1111111111111111,
             "#46039f"
            ],
            [
             0.2222222222222222,
             "#7201a8"
            ],
            [
             0.3333333333333333,
             "#9c179e"
            ],
            [
             0.4444444444444444,
             "#bd3786"
            ],
            [
             0.5555555555555556,
             "#d8576b"
            ],
            [
             0.6666666666666666,
             "#ed7953"
            ],
            [
             0.7777777777777778,
             "#fb9f3a"
            ],
            [
             0.8888888888888888,
             "#fdca26"
            ],
            [
             1,
             "#f0f921"
            ]
           ],
           "sequentialminus": [
            [
             0,
             "#0d0887"
            ],
            [
             0.1111111111111111,
             "#46039f"
            ],
            [
             0.2222222222222222,
             "#7201a8"
            ],
            [
             0.3333333333333333,
             "#9c179e"
            ],
            [
             0.4444444444444444,
             "#bd3786"
            ],
            [
             0.5555555555555556,
             "#d8576b"
            ],
            [
             0.6666666666666666,
             "#ed7953"
            ],
            [
             0.7777777777777778,
             "#fb9f3a"
            ],
            [
             0.8888888888888888,
             "#fdca26"
            ],
            [
             1,
             "#f0f921"
            ]
           ]
          },
          "colorway": [
           "#636efa",
           "#EF553B",
           "#00cc96",
           "#ab63fa",
           "#FFA15A",
           "#19d3f3",
           "#FF6692",
           "#B6E880",
           "#FF97FF",
           "#FECB52"
          ],
          "font": {
           "color": "#2a3f5f"
          },
          "geo": {
           "bgcolor": "white",
           "lakecolor": "white",
           "landcolor": "#E5ECF6",
           "showlakes": true,
           "showland": true,
           "subunitcolor": "white"
          },
          "hoverlabel": {
           "align": "left"
          },
          "hovermode": "closest",
          "mapbox": {
           "style": "light"
          },
          "paper_bgcolor": "white",
          "plot_bgcolor": "#E5ECF6",
          "polar": {
           "angularaxis": {
            "gridcolor": "white",
            "linecolor": "white",
            "ticks": ""
           },
           "bgcolor": "#E5ECF6",
           "radialaxis": {
            "gridcolor": "white",
            "linecolor": "white",
            "ticks": ""
           }
          },
          "scene": {
           "xaxis": {
            "backgroundcolor": "#E5ECF6",
            "gridcolor": "white",
            "gridwidth": 2,
            "linecolor": "white",
            "showbackground": true,
            "ticks": "",
            "zerolinecolor": "white"
           },
           "yaxis": {
            "backgroundcolor": "#E5ECF6",
            "gridcolor": "white",
            "gridwidth": 2,
            "linecolor": "white",
            "showbackground": true,
            "ticks": "",
            "zerolinecolor": "white"
           },
           "zaxis": {
            "backgroundcolor": "#E5ECF6",
            "gridcolor": "white",
            "gridwidth": 2,
            "linecolor": "white",
            "showbackground": true,
            "ticks": "",
            "zerolinecolor": "white"
           }
          },
          "shapedefaults": {
           "line": {
            "color": "#2a3f5f"
           }
          },
          "ternary": {
           "aaxis": {
            "gridcolor": "white",
            "linecolor": "white",
            "ticks": ""
           },
           "baxis": {
            "gridcolor": "white",
            "linecolor": "white",
            "ticks": ""
           },
           "bgcolor": "#E5ECF6",
           "caxis": {
            "gridcolor": "white",
            "linecolor": "white",
            "ticks": ""
           }
          },
          "title": {
           "x": 0.05
          },
          "xaxis": {
           "automargin": true,
           "gridcolor": "white",
           "linecolor": "white",
           "ticks": "",
           "title": {
            "standoff": 15
           },
           "zerolinecolor": "white",
           "zerolinewidth": 2
          },
          "yaxis": {
           "automargin": true,
           "gridcolor": "white",
           "linecolor": "white",
           "ticks": "",
           "title": {
            "standoff": 15
           },
           "zerolinecolor": "white",
           "zerolinewidth": 2
          }
         }
        },
        "xaxis": {
         "anchor": "y",
         "autorange": true,
         "domain": [
          0,
          1
         ],
         "range": [
          0,
          24400
         ],
         "title": {
          "text": "Area"
         },
         "type": "linear"
        },
        "yaxis": {
         "anchor": "x",
         "autorange": true,
         "domain": [
          0,
          1
         ],
         "range": [
          0,
          196.8421052631579
         ],
         "title": {
          "text": "count"
         }
        }
       }
      },
      "image/png": "[encoded data removed]",
      "text/html": [
       "<div>                            <div id=\"fab23ccd-faf7-4442-87aa-468a09e908c5\" class=\"plotly-graph-div\" style=\"height:525px; width:100%;\"></div>            <script type=\"text/javascript\">                require([\"plotly\"], function(Plotly) {                    window.PLOTLYENV=window.PLOTLYENV || {};                                    if (document.getElementById(\"fab23ccd-faf7-4442-87aa-468a09e908c5\")) {                    Plotly.newPlot(                        \"fab23ccd-faf7-4442-87aa-468a09e908c5\",                        [{\"alignmentgroup\":\"True\",\"bingroup\":\"x\",\"hovertemplate\":\"Area=%{x}<br>count=%{y}<extra></extra>\",\"legendgroup\":\"\",\"marker\":{\"color\":\"#636efa\",\"pattern\":{\"shape\":\"\"}},\"name\":\"\",\"offsetgroup\":\"\",\"orientation\":\"v\",\"showlegend\":false,\"x\":[800.0,750.0,950.0,600.0,650.0,1300.0,1350.0,650.0,985.0,1300.0,1100.0,870.0,630.0,660.0,344.4448,660.0,550.0,1100.0,1150.0,650.0,850.0,900.0,430.556,900.0,914.9315,1100.0,800.0,500.0,28.0,2160.0,800.0,900.0,1080.0,750.0,1450.0,900.0,810.0,1350.0,1710.0,1650.0,1280.0,1260.0,1130.0,600.0,850.0,1500.0,900.0,1000.0,900.0,2925.0,900.0,1600.0,1143.0,1150.0,1500.0,850.0,8000.0,890.0,1100.0,750.0,850.0,1350.0,1387.0,1050.0,1500.0,1200.0,700.0,1700.0,1550.0,1400.0,1900.0,2160.0,1700.0,1850.0,1800.0,1620.0,1800.0,1540.0,1600.0,1400.0,2300.0,1560.0,1500.0,1050.0,1800.0,400.0,1150.0,1525.0,900.0,1450.0,1260.0,2925.0,1710.0,1600.0,1500.0,2200.0,1350.0,1710.0,1350.0,1500.0,2880.0,2700.0,1400.0,1800.0,1400.0,1000.0,8000.0,1700.0,1600.0,1350.0,1700.0,1400.0,1450.0,1350.0,1700.0,1600.0,800.0,1350.0,1500.0,750.0,850.0,1575.0,1675.0,1350.0,900.0,1800.0,900.0,900.0,900.0,800.0,1100.0,810.0,1500.0,900.0,825.0,900.0,875.0,1350.0,750.0,900.0,1350.0,900.0,1800.0,900.0,810.0,450.0,100.0,900.0,500.0,450.0,75.0,270.0,500.0,444.0,400.0,729.0,4050.0,2400.0,450.0,405.0,666.0,1000.0,1360.0,1550.0,850.0,2170.0,720.0,850.0,950.0,2300.0,1300.0,1100.0,1030.0,350.0,720.0,800.0,350.0,980.0,1600.0,1450.0,445.0,380.0,680.0,1600.0,630.0,1500.0,550.0,2500.0,2800.0,300.0,800.0,1295.0,700.0,350.0,450.0,2200.0,2300.0,1150.0,800.0,850.0,720.0,4688.0,3901.0,950.0,1000.0,850.0,2400.0,540.0,540.0,976.0,2700.0,1500.0,2900.0,5025.0,1000.0,1135.0,2306.0,850.0,1200.0,1700.0,1800.0,1100.0,22050.0,1550.0,1600.0,700.0,45.0,3510.0,4500.0,1800.0,6000.0,4300.0,1700.0,2500.0,4500.0,2450.0,10350.0,4800.0,1600.0,3500.0,2100.0,4200.0,1500.0,8150.0,2200.0,3500.0,2070.0,3500.0,2000.0,2800.0,2550.0,4500.0,1400.0,2800.0,2700.0,4500.0,7200.0,2799.0,2650.0,2200.0,3500.0,2200.0,2200.0,3500.0,1440.0,3150.0,900.0,3690.0,1200.0,4500.0,2799.0,1350.0,1200.0,2177.0,1500.0,1600.0,4500.0,2150.0,2107.0,1150.0,1240.0,1000.0,4500.0,1150.0,2000.0,4500.0,3000.0,700.0,750.0,1350.0,900.0,970.0,1000.0,1425.0,440.0,1017.0,650.0,950.0,810.0,750.0,990.0,800.0,675.0,558.0,445.0,360.0,1350.0,850.0,846.0,1300.0,900.0,1050.0,850.0,1650.0,1150.0,495.1394,1053.0,810.0,750.0,540.0,747.0,720.0,376.7365,1125.0,713.0,360.0,900.0,713.0,504.0,70.0,850.0,2430.0,2475.0,2970.0,2250.0,1500.0,1512.0,400.0,2160.0,630.0,324.0,720.0,675.0,700.0,675.0,720.0,850.0,801.0,450.0,1000.0,990.0,420.0,450.0,1000.0,900.0,800.0,720.0,450.0,675.0,1700.0,550.0,387.0,450.0,900.0,500.0,441.0,800.0,450.0,1000.0,715.0,600.0,540.0,312.0,810.0,270.0,900.0,1000.0,540.0,1000.0,500.0,540.0,780.0,450.0,360.0,900.0,495.0,1200.0,1000.0,620.0,680.0,805.0,729.0,540.0,360.0,550.0,1001.0,450.0,550.0,550.0,675.0,585.0,810.0,765.0,70.0,800.0,900.0,1680.0,900.0,2000.0,2000.0,1900.0,1530.0,100.0,900.0,270.0,950.0,1800.0,1500.0,1800.0,1800.0,850.0,140.0,900.0,1800.0,200.0,1782.0,900.0,405.0,1500.0,66.0,2000.0,1200.0,1100.0,1400.0,1600.0,1600.0,600.0,1600.0,2000.0,650.0,1100.0,1075.0,1450.0,1200.0,600.0,1000.0,1600.0,1750.0,1300.0,550.0,2200.0,1100.0,1700.0,1100.0,1000.0,1350.0,1184.0,2000.0,3500.0,900.0,1250.0,504.0,65.0,450.0,1800.0,1800.0,1530.0,1750.0,2210.0,760.0,400.0,380.0,904.1676,900.0,810.0,100.0,50.0,58.0,900.0,1650.0,1000.0,852.0,700.0,1000.0,1700.0,1350.0,2100.0,2600.0,3000.0,1450.0,2050.0,3000.0,1800.0,900.0,1500.0,1500.0,1800.0,1674.0,2025.0,1300.0,990.0,2100.0,2250.0,1500.0,2700.0,1700.0,1700.0,2050.0,1800.0,1500.0,2000.0,1500.0,24300.0,2475.0,1800.0,1300.0,1500.0,2100.0,1800.0,1100.0,2035.0,1100.0,1550.0,700.0,150.0,540.0,810.0,3250.0,1600.0,4000.0,5500.0,900.0,972.0,4150.0,2250.0,1650.0,2610.0,600.0,1700.0,2250.0,880.0,4200.0,1450.0,2200.0,1620.0,1078.0,1710.0,1150.0,450.0,1818.0,1800.0,780.0,405.0,900.0,807.2925,2700.0,1100.0,585.0,2152.78,960.0,1800.0,1100.0,900.0,1620.0,378.0,800.0,1350.0,850.0,1580.0,820.0,594.0,14220.0,800.0,1500.0,1600.0,1650.0,1600.0,1900.0,1400.0,1550.0,2000.0,1500.0,1550.0,1600.0,1600.0,1800.0,1470.0,1500.0,1750.0,1650.0,1850.0,1480.0,1214.0,1380.0,1600.0,1585.0,1700.0,1200.0,1800.0,1000.0,1500.0,1700.0,1750.0,2700.0,3050.0,3405.0,1500.0,2105.0,2500.0,2090.0,2525.0,2500.0,2100.0,2022.0,2650.0,1850.0,2100.0,1700.0,2105.0,1250.0,2552.0,3112.0,2125.0,2065.0,3405.0,3050.0,2300.0,1455.0,3400.0,3100.0,1400.0,2126.0,1815.0,1700.0,700.0,980.0,1350.0,1800.0,968.751,1250.0,1800.0,1400.0,1000.0,1800.0,1500.0,1600.0,1400.0,1400.0,2700.0,1100.0,1200.0,1400.0,1500.0,1320.0,1300.0,1150.0,1440.0,1400.0,450.0,1300.0,1200.0,1300.0,1400.0,1400.0,1600.0,1200.0,1600.0,1250.0,950.0,1200.0,1400.0,950.0,1350.0,1550.0,1300.0,1000.0,1500.0,950.0,1200.0,1400.0,1500.0,1050.0,1550.0,950.0,1150.0,1150.0,1150.0,1500.0,1800.0,1300.0,1150.0,1500.0,1150.0,900.0,1150.0,1000.0,450.0,1350.0,445.0,1200.0,50.0,1100.0,700.0,500.0,540.0,450.0,800.0,700.0,750.0,750.0,1600.0,1000.0,900.0,1700.0,1100.0,1000.0,1000.0,1100.0,765.0,900.0,600.0,360.0,950.0,3600.0,1305.0,1800.0,950.0,800.0,1800.0,800.0,675.0,1175.0,1500.0,810.0,630.0,650.0,1800.0,725.0,900.0,750.0,700.0,950.0,1600.0,900.0,1500.0,500.0,1035.0,825.0,1300.0,765.0,580.0,1750.0,650.0,405.0,675.0,850.0,800.0,405.0,1350.0,1350.0,450.0,1300.0,1050.0,1675.0,1250.0,1080.0,1170.0,1250.0,1500.0,1350.0,855.0,540.0,1044.0983,405.0,500.0,450.0,405.0,405.0,450.0,173.0,1100.0,600.0,800.0,990.0,1100.0,1100.0,527.0,1000.0,1000.0,450.0,600.0,950.0,855.0,770.0,810.0,710.0,950.0,450.0,500.0,600.0,420.0,900.0,945.0,565.0,450.0,430.0,550.0,810.0,720.0,360.0,820.0,459.0,378.0,450.0,900.0,360.0,559.7228,350.0,365.0,390.0,350.0,210.0,50.0,500.0,350.0,379.0,236.8058,445.0,452.0838,350.0,437.0,61.0,495.0,900.0,350.0,585.0,198.0,4900.0,2077.4327,50.0,990.0,425.0,750.0,1400.0,3600.0,3000.0,2750.0,2050.0,3000.0,850.0,750.0,2600.0,800.0,550.0,700.0,2316.0,900.0,100.0,900.0,1500.0,650.0,2000.0,500.0,1125.0,1300.0,2500.0,2200.0,1290.0,2250.0,1350.0,1400.0,1700.0,450.0,750.0,1500.0,400.0,650.0,900.0,400.0,900.0,1000.0,405.0,1700.0,800.0,1076.39,750.0,460.0,370.0,1800.0,1080.0,350.0,500.0,900.0,800.0,350.0,430.556,500.0,1450.0,800.0,1000.0,1000.0,1600.0,900.0,1500.0,1050.0,1300.0,1600.0,900.0,1350.0,1000.0,1400.0,975.0,900.0,1100.0,950.0,1300.0,1459.0,1000.0,1100.0,1450.0,1450.0,1150.0,780.0,1300.0,1350.0,1200.0,1460.0,1460.0,1100.0,1500.0,1050.0,1350.0,1500.0,976.0,540.0,450.0,900.0,2500.0,979.5149,945.0,976.0,1531.0,1000.0,750.0,900.0,1512.0,35.0,1500.0,2907.0,2210.0,750.0,2518.7526,588.0,540.0,1100.0,550.0,750.0,1260.0,675.0,810.0,3150.0,2000.0,1775.0,1135.0,1252.0,2000.0,530.0,1332.0,1017.0,987.0,1912.0,5236.0,2805.0,1500.0,1280.0,675.0,576.0,1206.0,1143.0,345.0,720.0,468.0,1600.0,950.0,535.0,1200.0,1501.0,1135.0,1200.0,2200.0,1240.0,3002.0,1350.0,2300.0,1429.0,2430.0,1450.0,1250.0,2800.0,1646.0,900.0,1250.0,900.0,1590.0,990.0,2282.0,1260.0,1457.0,1400.0,2175.0,1450.0,2800.0,861.112,2282.0,1753.0,2659.0,1550.0,1470.0,702.0,1138.0,1600.0,1600.0,1250.0,810.0,585.0,1700.0,1800.0,600.0,1250.0,600.0,1600.0,1100.0,450.0,855.0,1291.668,1300.0,1350.0,900.0,850.0,1650.0,650.0,630.0,1250.0,1800.0,1500.0,1100.0,1400.0,1300.0,1100.0,1600.0,2250.0,2592.0,1800.0,1700.0,1640.0,2572.0,2100.0,1620.0,2500.0,2250.0,2445.0,2250.0,800.0,1450.0,1440.0,5220.0,1800.0,4455.0,195.0,807.2925,3500.0,1000.0,900.0,1800.0,17010.0,2340.0,1350.0,464.0,954.0,1155.0,500.0,700.0,900.0,1260.0,950.0,405.0,1800.0,1300.0,1000.0,900.0,1800.0,720.0,1485.0,1600.0,1200.0,900.0,900.0,800.0,1150.0,900.0,1070.0,1050.0,1000.0,1550.0,1300.0,810.0,900.0,1200.0,1000.0,720.0,2520.0,1700.0,1800.0,6000.0,1800.0,2000.0,2066.0,2050.0,1100.0,4500.0,4500.0,6500.0,4350.0,1750.0,3600.0,1200.0,1500.0,2250.0,1800.0,1600.0,2800.0,1700.0,2400.0,1980.0,2100.0,5400.0,1250.0,2300.0,2700.0,1450.0,2097.0,1250.0,1600.0,2600.0,1700.0,1116.0,1070.0,1200.0,1200.0,1200.0,1450.0,1000.0,2430.0,945.0,1650.0,1350.0,2625.0,1800.0,125.0,1440.0,1900.0,1800.0,1200.0,1800.0,1200.0,4118.0,1050.0,875.0,990.0,11050.0],\"xaxis\":\"x\",\"yaxis\":\"y\",\"type\":\"histogram\"}],                        {\"template\":{\"data\":{\"histogram2dcontour\":[{\"type\":\"histogram2dcontour\",\"colorbar\":{\"outlinewidth\":0,\"ticks\":\"\"},\"colorscale\":[[0.0,\"#0d0887\"],[0.1111111111111111,\"#46039f\"],[0.2222222222222222,\"#7201a8\"],[0.3333333333333333,\"#9c179e\"],[0.4444444444444444,\"#bd3786\"],[0.5555555555555556,\"#d8576b\"],[0.6666666666666666,\"#ed7953\"],[0.7777777777777778,\"#fb9f3a\"],[0.8888888888888888,\"#fdca26\"],[1.0,\"#f0f921\"]]}],\"choropleth\":[{\"type\":\"choropleth\",\"colorbar\":{\"outlinewidth\":0,\"ticks\":\"\"}}],\"histogram2d\":[{\"type\":\"histogram2d\",\"colorbar\":{\"outlinewidth\":0,\"ticks\":\"\"},\"colorscale\":[[0.0,\"#0d0887\"],[0.1111111111111111,\"#46039f\"],[0.2222222222222222,\"#7201a8\"],[0.3333333333333333,\"#9c179e\"],[0.4444444444444444,\"#bd3786\"],[0.5555555555555556,\"#d8576b\"],[0.6666666666666666,\"#ed7953\"],[0.7777777777777778,\"#fb9f3a\"],[0.8888888888888888,\"#fdca26\"],[1.0,\"#f0f921\"]]}],\"heatmap\":[{\"type\":\"heatmap\",\"colorbar\":{\"outlinewidth\":0,\"ticks\":\"\"},\"colorscale\":[[0.0,\"#0d0887\"],[0.1111111111111111,\"#46039f\"],[0.2222222222222222,\"#7201a8\"],[0.3333333333333333,\"#9c179e\"],[0.4444444444444444,\"#bd3786\"],[0.5555555555555556,\"#d8576b\"],[0.6666666666666666,\"#ed7953\"],[0.7777777777777778,\"#fb9f3a\"],[0.8888888888888888,\"#fdca26\"],[1.0,\"#f0f921\"]]}],\"heatmapgl\":[{\"type\":\"heatmapgl\",\"colorbar\":{\"outlinewidth\":0,\"ticks\":\"\"},\"colorscale\":[[0.0,\"#0d0887\"],[0.1111111111111111,\"#46039f\"],[0.2222222222222222,\"#7201a8\"],[0.3333333333333333,\"#9c179e\"],[0.4444444444444444,\"#bd3786\"],[0.5555555555555556,\"#d8576b\"],[0.6666666666666666,\"#ed7953\"],[0.7777777777777778,\"#fb9f3a\"],[0.8888888888888888,\"#fdca26\"],[1.0,\"#f0f921\"]]}],\"contourcarpet\":[{\"type\":\"contourcarpet\",\"colorbar\":{\"outlinewidth\":0,\"ticks\":\"\"}}],\"contour\":[{\"type\":\"contour\",\"colorbar\":{\"outlinewidth\":0,\"ticks\":\"\"},\"colorscale\":[[0.0,\"#0d0887\"],[0.1111111111111111,\"#46039f\"],[0.2222222222222222,\"#7201a8\"],[0.3333333333333333,\"#9c179e\"],[0.4444444444444444,\"#bd3786\"],[0.5555555555555556,\"#d8576b\"],[0.6666666666666666,\"#ed7953\"],[0.7777777777777778,\"#fb9f3a\"],[0.8888888888888888,\"#fdca26\"],[1.0,\"#f0f921\"]]}],\"surface\":[{\"type\":\"surface\",\"colorbar\":{\"outlinewidth\":0,\"ticks\":\"\"},\"colorscale\":[[0.0,\"#0d0887\"],[0.1111111111111111,\"#46039f\"],[0.2222222222222222,\"#7201a8\"],[0.3333333333333333,\"#9c179e\"],[0.4444444444444444,\"#bd3786\"],[0.5555555555555556,\"#d8576b\"],[0.6666666666666666,\"#ed7953\"],[0.7777777777777778,\"#fb9f3a\"],[0.8888888888888888,\"#fdca26\"],[1.0,\"#f0f921\"]]}],\"mesh3d\":[{\"type\":\"mesh3d\",\"colorbar\":{\"outlinewidth\":0,\"ticks\":\"\"}}],\"scatter\":[{\"fillpattern\":{\"fillmode\":\"overlay\",\"size\":10,\"solidity\":0.2},\"type\":\"scatter\"}],\"parcoords\":[{\"type\":\"parcoords\",\"line\":{\"colorbar\":{\"outlinewidth\":0,\"ticks\":\"\"}}}],\"scatterpolargl\":[{\"type\":\"scatterpolargl\",\"marker\":{\"colorbar\":{\"outlinewidth\":0,\"ticks\":\"\"}}}],\"bar\":[{\"error_x\":{\"color\":\"#2a3f5f\"},\"error_y\":{\"color\":\"#2a3f5f\"},\"marker\":{\"line\":{\"color\":\"#E5ECF6\",\"width\":0.5},\"pattern\":{\"fillmode\":\"overlay\",\"size\":10,\"solidity\":0.2}},\"type\":\"bar\"}],\"scattergeo\":[{\"type\":\"scattergeo\",\"marker\":{\"colorbar\":{\"outlinewidth\":0,\"ticks\":\"\"}}}],\"scatterpolar\":[{\"type\":\"scatterpolar\",\"marker\":{\"colorbar\":{\"outlinewidth\":0,\"ticks\":\"\"}}}],\"histogram\":[{\"marker\":{\"pattern\":{\"fillmode\":\"overlay\",\"size\":10,\"solidity\":0.2}},\"type\":\"histogram\"}],\"scattergl\":[{\"type\":\"scattergl\",\"marker\":{\"colorbar\":{\"outlinewidth\":0,\"ticks\":\"\"}}}],\"scatter3d\":[{\"type\":\"scatter3d\",\"line\":{\"colorbar\":{\"outlinewidth\":0,\"ticks\":\"\"}},\"marker\":{\"colorbar\":{\"outlinewidth\":0,\"ticks\":\"\"}}}],\"scattermapbox\":[{\"type\":\"scattermapbox\",\"marker\":{\"colorbar\":{\"outlinewidth\":0,\"ticks\":\"\"}}}],\"scatterternary\":[{\"type\":\"scatterternary\",\"marker\":{\"colorbar\":{\"outlinewidth\":0,\"ticks\":\"\"}}}],\"scattercarpet\":[{\"type\":\"scattercarpet\",\"marker\":{\"colorbar\":{\"outlinewidth\":0,\"ticks\":\"\"}}}],\"carpet\":[{\"aaxis\":{\"endlinecolor\":\"#2a3f5f\",\"gridcolor\":\"white\",\"linecolor\":\"white\",\"minorgridcolor\":\"white\",\"startlinecolor\":\"#2a3f5f\"},\"baxis\":{\"endlinecolor\":\"#2a3f5f\",\"gridcolor\":\"white\",\"linecolor\":\"white\",\"minorgridcolor\":\"white\",\"startlinecolor\":\"#2a3f5f\"},\"type\":\"carpet\"}],\"table\":[{\"cells\":{\"fill\":{\"color\":\"#EBF0F8\"},\"line\":{\"color\":\"white\"}},\"header\":{\"fill\":{\"color\":\"#C8D4E3\"},\"line\":{\"color\":\"white\"}},\"type\":\"table\"}],\"barpolar\":[{\"marker\":{\"line\":{\"color\":\"#E5ECF6\",\"width\":0.5},\"pattern\":{\"fillmode\":\"overlay\",\"size\":10,\"solidity\":0.2}},\"type\":\"barpolar\"}],\"pie\":[{\"automargin\":true,\"type\":\"pie\"}]},\"layout\":{\"autotypenumbers\":\"strict\",\"colorway\":[\"#636efa\",\"#EF553B\",\"#00cc96\",\"#ab63fa\",\"#FFA15A\",\"#19d3f3\",\"#FF6692\",\"#B6E880\",\"#FF97FF\",\"#FECB52\"],\"font\":{\"color\":\"#2a3f5f\"},\"hovermode\":\"closest\",\"hoverlabel\":{\"align\":\"left\"},\"paper_bgcolor\":\"white\",\"plot_bgcolor\":\"#E5ECF6\",\"polar\":{\"bgcolor\":\"#E5ECF6\",\"angularaxis\":{\"gridcolor\":\"white\",\"linecolor\":\"white\",\"ticks\":\"\"},\"radialaxis\":{\"gridcolor\":\"white\",\"linecolor\":\"white\",\"ticks\":\"\"}},\"ternary\":{\"bgcolor\":\"#E5ECF6\",\"aaxis\":{\"gridcolor\":\"white\",\"linecolor\":\"white\",\"ticks\":\"\"},\"baxis\":{\"gridcolor\":\"white\",\"linecolor\":\"white\",\"ticks\":\"\"},\"caxis\":{\"gridcolor\":\"white\",\"linecolor\":\"white\",\"ticks\":\"\"}},\"coloraxis\":{\"colorbar\":{\"outlinewidth\":0,\"ticks\":\"\"}},\"colorscale\":{\"sequential\":[[0.0,\"#0d0887\"],[0.1111111111111111,\"#46039f\"],[0.2222222222222222,\"#7201a8\"],[0.3333333333333333,\"#9c179e\"],[0.4444444444444444,\"#bd3786\"],[0.5555555555555556,\"#d8576b\"],[0.6666666666666666,\"#ed7953\"],[0.7777777777777778,\"#fb9f3a\"],[0.8888888888888888,\"#fdca26\"],[1.0,\"#f0f921\"]],\"sequentialminus\":[[0.0,\"#0d0887\"],[0.1111111111111111,\"#46039f\"],[0.2222222222222222,\"#7201a8\"],[0.3333333333333333,\"#9c179e\"],[0.4444444444444444,\"#bd3786\"],[0.5555555555555556,\"#d8576b\"],[0.6666666666666666,\"#ed7953\"],[0.7777777777777778,\"#fb9f3a\"],[0.8888888888888888,\"#fdca26\"],[1.0,\"#f0f921\"]],\"diverging\":[[0,\"#8e0152\"],[0.1,\"#c51b7d\"],[0.2,\"#de77ae\"],[0.3,\"#f1b6da\"],[0.4,\"#fde0ef\"],[0.5,\"#f7f7f7\"],[0.6,\"#e6f5d0\"],[0.7,\"#b8e186\"],[0.8,\"#7fbc41\"],[0.9,\"#4d9221\"],[1,\"#276419\"]]},\"xaxis\":{\"gridcolor\":\"white\",\"linecolor\":\"white\",\"ticks\":\"\",\"title\":{\"standoff\":15},\"zerolinecolor\":\"white\",\"automargin\":true,\"zerolinewidth\":2},\"yaxis\":{\"gridcolor\":\"white\",\"linecolor\":\"white\",\"ticks\":\"\",\"title\":{\"standoff\":15},\"zerolinecolor\":\"white\",\"automargin\":true,\"zerolinewidth\":2},\"scene\":{\"xaxis\":{\"backgroundcolor\":\"#E5ECF6\",\"gridcolor\":\"white\",\"linecolor\":\"white\",\"showbackground\":true,\"ticks\":\"\",\"zerolinecolor\":\"white\",\"gridwidth\":2},\"yaxis\":{\"backgroundcolor\":\"#E5ECF6\",\"gridcolor\":\"white\",\"linecolor\":\"white\",\"showbackground\":true,\"ticks\":\"\",\"zerolinecolor\":\"white\",\"gridwidth\":2},\"zaxis\":{\"backgroundcolor\":\"#E5ECF6\",\"gridcolor\":\"white\",\"linecolor\":\"white\",\"showbackground\":true,\"ticks\":\"\",\"zerolinecolor\":\"white\",\"gridwidth\":2}},\"shapedefaults\":{\"line\":{\"color\":\"#2a3f5f\"}},\"annotationdefaults\":{\"arrowcolor\":\"#2a3f5f\",\"arrowhead\":0,\"arrowwidth\":1},\"geo\":{\"bgcolor\":\"white\",\"landcolor\":\"#E5ECF6\",\"subunitcolor\":\"white\",\"showland\":true,\"showlakes\":true,\"lakecolor\":\"white\"},\"title\":{\"x\":0.05},\"mapbox\":{\"style\":\"light\"}}},\"xaxis\":{\"anchor\":\"y\",\"domain\":[0.0,1.0],\"title\":{\"text\":\"Area\"}},\"yaxis\":{\"anchor\":\"x\",\"domain\":[0.0,1.0],\"title\":{\"text\":\"count\"}},\"legend\":{\"tracegroupgap\":0},\"margin\":{\"t\":60},\"barmode\":\"relative\"},                        {\"responsive\": true}                    ).then(function(){\n",
       "                            \n",
       "var gd = document.getElementById('fab23ccd-faf7-4442-87aa-468a09e908c5');\n",
       "var x = new MutationObserver(function (mutations, observer) {{\n",
       "        var display = window.getComputedStyle(gd).display;\n",
       "        if (!display || display === 'none') {{\n",
       "            console.log([gd, 'removed!']);\n",
       "            Plotly.purge(gd);\n",
       "            observer.disconnect();\n",
       "        }}\n",
       "}});\n",
       "\n",
       "// Listen for the removal of the full notebook cells\n",
       "var notebookContainer = gd.closest('#notebook-container');\n",
       "if (notebookContainer) {{\n",
       "    x.observe(notebookContainer, {childList: true});\n",
       "}}\n",
       "\n",
       "// Listen for the clearing of the current output cell\n",
       "var outputEl = gd.closest('.output');\n",
       "if (outputEl) {{\n",
       "    x.observe(outputEl, {childList: true});\n",
       "}}\n",
       "\n",
       "                        })                };                });            </script>        </div>"
      ]
     },
     "metadata": {},
     "output_type": "display_data"
    }
   ],
   "source": [
    "px.histogram(df1,x='Area',barmode='relative')"
   ]
  },
  {
   "cell_type": "code",
   "execution_count": 21,
   "id": "3f28925a-1db4-4140-801e-4043ff484623",
   "metadata": {},
   "outputs": [
    {
     "data": {
      "application/vnd.plotly.v1+json": {
       "config": {
        "plotlyServerURL": "https://plot.ly"
       },
       "data": [
        {
         "alignmentgroup": "True",
         "bingroup": "x",
         "hovertemplate": "Price=%{x}<br>count=%{y}<extra></extra>",
         "legendgroup": "",
         "marker": {
          "color": "#636efa",
          "pattern": {
           "shape": ""
          }
         },
         "name": "",
         "offsetgroup": "",
         "orientation": "v",
         "showlegend": false,
         "type": "histogram",
         "x": [
          6500000,
          5000000,
          15500000,
          4200000,
          6200000,
          15500000,
          10000000,
          4000000,
          6800000,
          15000000,
          6200000,
          7700000,
          5500000,
          5000000,
          3310000,
          4700000,
          4500000,
          17000000,
          25000000,
          6000000,
          11000000,
          4500000,
          5300000,
          10500000,
          12000000,
          7000000,
          7000000,
          3400000,
          5000000,
          21000000,
          15000000,
          10500000,
          22500000,
          13600000,
          30000000,
          13500000,
          8910000,
          25000000,
          26000000,
          30000000,
          12500000,
          21000000,
          7800000,
          11500000,
          11500000,
          26000000,
          13000000,
          22000000,
          15800000,
          57500000,
          10000000,
          30000000,
          22000000,
          24000000,
          31500000,
          14600000,
          240000000,
          8300000,
          22500000,
          4600000,
          1900000,
          5130000,
          5890000,
          3700000,
          17400000,
          15500000,
          2400000,
          17200000,
          14200000,
          13500000,
          30000000,
          21000000,
          20500000,
          24000000,
          16500000,
          14900000,
          19200000,
          14500000,
          15600000,
          11400000,
          31500000,
          15800000,
          16000000,
          10500000,
          14800000,
          1850000,
          6800000,
          14200000,
          8900000,
          37500000,
          21000000,
          57500000,
          30000000,
          30000000,
          31500000,
          30000000,
          41500000,
          24800000,
          35000000,
          40000000,
          46000000,
          55000000,
          24500000,
          24500000,
          32500000,
          20000000,
          240000000,
          19000000,
          26000000,
          21000000,
          27500000,
          32500000,
          45000000,
          21000000,
          28000000,
          29500000,
          14000000,
          12500000,
          26000000,
          11500000,
          14600000,
          25500000,
          31000000,
          22000000,
          13400000,
          35000000,
          11000000,
          6300000,
          12500000,
          14500000,
          22500000,
          15500000,
          26000000,
          15800000,
          15000000,
          13000000,
          15000000,
          25000000,
          16500000,
          10300000,
          26000000,
          11000000,
          28500000,
          11000000,
          4500000,
          3600000,
          4300000,
          4000000,
          1650000,
          2000000,
          3000000,
          1400000,
          2000000,
          2000000,
          2000000,
          2600000,
          5100000,
          6000000,
          4000000,
          6200000,
          3500000,
          7600000,
          13500000,
          12500000,
          6500000,
          22000000,
          6000000,
          7300000,
          7600000,
          20000000,
          15000000,
          6200000,
          6200000,
          2300000,
          4700000,
          5500000,
          2000000,
          7300000,
          13000000,
          11500000,
          2800000,
          2200000,
          4400000,
          13500000,
          4100000,
          12000000,
          3500000,
          15000000,
          17500000,
          1900000,
          5500000,
          10000000,
          4700000,
          2400000,
          3800000,
          23000000,
          24500000,
          10000000,
          5500000,
          7000000,
          6500000,
          135000000,
          93000000,
          4370000,
          4620000,
          1900000,
          70000000,
          3000000,
          3300000,
          24900000,
          60000000,
          17400000,
          51000000,
          170000000,
          5510000,
          25000000,
          57000000,
          2940000,
          15500000,
          17200000,
          55000000,
          15000000,
          51000000,
          13000000,
          30000000,
          2400000,
          5500000,
          45000000,
          60000000,
          65000000,
          220000000,
          60000000,
          38500000,
          50000000,
          75000000,
          70000000,
          160000000,
          85000000,
          40000000,
          90000000,
          56000000,
          135500000,
          60000000,
          170000000,
          50000000,
          58000000,
          37500000,
          45000000,
          70000000,
          29500000,
          60000000,
          70000000,
          50000000,
          75000000,
          52500000,
          55000000,
          120000000,
          65000000,
          75000000,
          47500000,
          70000000,
          47500000,
          40000000,
          85000000,
          26000000,
          35000000,
          20000000,
          79000000,
          17000000,
          47500000,
          43000000,
          26000000,
          25000000,
          51000000,
          40000000,
          22500000,
          70000000,
          45000000,
          51100000,
          25500000,
          26500000,
          15000000,
          55000000,
          26000000,
          38000000,
          72500000,
          65000000,
          4600000,
          9200000,
          9500000,
          4500000,
          6500000,
          5650000,
          9300000,
          2700000,
          6500000,
          5800000,
          5500000,
          6000000,
          4500000,
          4100000,
          3800000,
          3300000,
          2900000,
          2000000,
          1550000,
          11300000,
          4500000,
          3300000,
          11500000,
          6000000,
          9000000,
          4500000,
          14000000,
          7300000,
          1900000,
          7000000,
          6000000,
          6400000,
          2700000,
          6500000,
          4000000,
          3000000,
          5000000,
          6000000,
          2500000,
          6500000,
          8000000,
          2700000,
          4500000,
          5700000,
          25000000,
          70000000,
          26500000,
          18500000,
          30000000,
          22000000,
          9000000,
          65000000,
          22500000,
          8700000,
          22000000,
          18500000,
          16000000,
          16000000,
          9000000,
          4500000,
          6000000,
          2700000,
          6500000,
          4000000,
          2600000,
          3500000,
          7500000,
          7000000,
          4500000,
          5500000,
          2700000,
          2400000,
          11500000,
          3600000,
          1700000,
          2500000,
          6600000,
          3700000,
          3500000,
          5400000,
          2550000,
          12500000,
          5600000,
          7000000,
          3500000,
          35000000,
          9000000,
          2300000,
          6000000,
          6000000,
          2650000,
          5510000,
          3200000,
          2600000,
          4000000,
          1850000,
          1700000,
          2800000,
          2150000,
          6800000,
          6200000,
          3100000,
          3400000,
          4000000,
          4800000,
          2500000,
          2000000,
          1900000,
          5800000,
          2900000,
          2000000,
          2600000,
          2900000,
          3200000,
          5400000,
          3800000,
          8200000,
          8000000,
          9500000,
          20000000,
          7400000,
          37500000,
          15000000,
          55300000,
          26500000,
          16000000,
          10400000,
          1700000,
          8000000,
          27000000,
          19500000,
          50000000,
          21100000,
          5900000,
          12000000,
          12000000,
          24000000,
          7000000,
          15000000,
          1500000,
          3950000,
          12500000,
          1600000,
          36500000,
          20000000,
          15000000,
          25000000,
          18500000,
          23500000,
          8000000,
          23000000,
          31000000,
          7400000,
          15500000,
          12000000,
          23500000,
          25000000,
          7000000,
          17500000,
          25000000,
          29000000,
          21900000,
          7500000,
          23500000,
          24000000,
          31000000,
          16500000,
          5000000,
          24000000,
          17000000,
          40000000,
          22500000,
          20000000,
          7500000,
          3600000,
          35000000,
          6000000,
          17500000,
          35000000,
          10200000,
          29000000,
          41000000,
          6000000,
          2500000,
          2200000,
          21500000,
          15000000,
          28900000,
          5500000,
          1950000,
          3800000,
          6200000,
          14000000,
          7500000,
          2670000,
          2500000,
          5000000,
          29500000,
          19000000,
          25500000,
          75000000,
          75000000,
          34000000,
          47500000,
          75000000,
          23000000,
          24000000,
          21500000,
          28500000,
          12500000,
          45000000,
          30500000,
          22500000,
          28000000,
          25000000,
          33700000,
          27000000,
          43500000,
          29000000,
          30000000,
          52100000,
          32500000,
          20500000,
          25000000,
          30000000,
          51000000,
          31000000,
          37500000,
          32500000,
          37500000,
          55000000,
          87500000,
          16300000,
          65000000,
          25000000,
          38000000,
          15000000,
          2000000,
          3000000,
          8500000,
          55000000,
          22500000,
          72500000,
          160000000,
          12500000,
          17000000,
          82500000,
          55000000,
          35000000,
          42500000,
          4700000,
          52500000,
          80000000,
          11000000,
          74000000,
          37500000,
          52500000,
          26000000,
          15500000,
          22000000,
          21000000,
          5000000,
          22000000,
          26500000,
          8770000,
          4500000,
          8500000,
          8600000,
          42500000,
          13100000,
          7000000,
          30000000,
          13000000,
          23100000,
          16000000,
          12500000,
          24500000,
          3200000,
          6300000,
          15000000,
          5700000,
          21000000,
          7500000,
          6500000,
          27500000,
          12000000,
          18000000,
          15600000,
          15500000,
          15200000,
          25000000,
          15000000,
          15800000,
          31500000,
          14000000,
          13200000,
          15800000,
          16200000,
          15500000,
          14500000,
          14900000,
          17200000,
          18000000,
          15500000,
          15800000,
          12600000,
          15000000,
          19500000,
          16600000,
          17200000,
          13000000,
          16500000,
          10700000,
          16200000,
          16500000,
          14900000,
          27500000,
          62500000,
          70000000,
          35500000,
          42100000,
          42500000,
          44000000,
          43200000,
          52500000,
          34300000,
          38000000,
          52500000,
          37500000,
          37000000,
          40000000,
          36200000,
          29000000,
          42500000,
          60000000,
          36500000,
          42500000,
          71500000,
          65000000,
          58000000,
          27500000,
          70000000,
          65000000,
          28600000,
          39000000,
          32500000,
          34000000,
          16500000,
          13800000,
          21000000,
          22500000,
          15000000,
          20000000,
          20000000,
          26000000,
          19500000,
          21500000,
          26500000,
          20000000,
          18000000,
          19000000,
          36500000,
          15000000,
          17500000,
          14000000,
          21000000,
          15600000,
          19000000,
          16500000,
          19000000,
          16500000,
          3000000,
          15000000,
          14300000,
          18500000,
          19000000,
          19000000,
          15800000,
          17000000,
          15500000,
          16000000,
          12900000,
          13500000,
          17800000,
          13200000,
          14000000,
          17500000,
          17000000,
          13000000,
          17000000,
          12700000,
          13500000,
          17400000,
          17800000,
          12700000,
          16200000,
          11100000,
          13600000,
          13100000,
          12500000,
          13600000,
          12000000,
          20000000,
          13500000,
          14000000,
          10800000,
          9000000,
          6300000,
          5500000,
          2350000,
          8500000,
          1650000,
          10000000,
          1500000,
          2800000,
          2600000,
          2350000,
          2350000,
          2000000,
          5000000,
          3500000,
          4500000,
          4000000,
          10800000,
          10000000,
          9000000,
          8500000,
          6000000,
          5500000,
          7000000,
          6000000,
          3700000,
          3100000,
          4500000,
          1500000,
          7090000,
          4500000,
          5500000,
          63000000,
          6990000,
          4400000,
          12500000,
          3000000,
          2800000,
          5000000,
          6000000,
          4500000,
          2800000,
          2500000,
          8500000,
          3000000,
          4900000,
          3500000,
          3000000,
          7020000,
          60000000,
          3500000,
          7000000,
          7000000,
          4500000,
          5990000,
          4400000,
          2500000,
          1600000,
          6500000,
          2750000,
          1500000,
          2200000,
          2800000,
          4500000,
          1800000,
          8500000,
          8500000,
          1700000,
          7000000,
          5600000,
          13500000,
          8500000,
          6000000,
          7200000,
          6500000,
          8400000,
          8500000,
          4000000,
          1700000,
          6000000,
          1600000,
          2100000,
          1700000,
          1500000,
          1200000,
          1650000,
          3500000,
          8500000,
          3200000,
          4400000,
          7200000,
          7500000,
          6500000,
          3500000,
          6500000,
          6200000,
          2500000,
          3000000,
          6000000,
          4800000,
          3790000,
          4200000,
          2900000,
          5000000,
          2100000,
          3200000,
          3000000,
          2300000,
          5900000,
          5500000,
          3500000,
          1700000,
          1850000,
          2300000,
          3800000,
          4500000,
          2200000,
          5200000,
          2200000,
          1500000,
          2200000,
          3800000,
          1800000,
          2850000,
          2500000,
          3500000,
          2000000,
          3000000,
          2000000,
          3500000,
          1800000,
          1600000,
          1600000,
          2000000,
          1500000,
          3000000,
          1490000,
          3500000,
          4000000,
          1750000,
          4600000,
          1800000,
          1900000,
          1000000,
          1000000,
          1000000,
          3500000,
          5000000,
          2200000,
          13000000,
          34000000,
          60000000,
          74500000,
          75000000,
          62500000,
          67000000,
          8500000,
          11500000,
          52500000,
          12000000,
          10700000,
          9000000,
          100000000,
          6200000,
          17000000,
          12500000,
          13000000,
          4200000,
          36000000,
          2300000,
          8100000,
          10000000,
          62500000,
          65000000,
          20000000,
          57500000,
          30000000,
          30000000,
          30000000,
          3300000,
          7350000,
          12500000,
          3500000,
          6500000,
          6900000,
          3600000,
          13500000,
          9200000,
          2500000,
          17000000,
          9030000,
          9300000,
          6500000,
          3300000,
          2400000,
          15000000,
          7000000,
          4200000,
          5800000,
          4800000,
          7500000,
          3000000,
          4300000,
          2600000,
          7000000,
          6000000,
          6700000,
          9500000,
          17000000,
          8000000,
          12000000,
          9000000,
          11500000,
          20000000,
          8550000,
          10500000,
          12000000,
          11000000,
          12000000,
          9000000,
          10000000,
          8100000,
          9200000,
          14200000,
          7500000,
          9500000,
          14000000,
          11600000,
          12000000,
          7500000,
          9800000,
          12000000,
          12500000,
          16500000,
          12000000,
          7200000,
          15000000,
          10000000,
          11000000,
          24700000,
          24900000,
          3600000,
          1700000,
          11000000,
          75000000,
          24800000,
          24900000,
          24900000,
          25900000,
          11700000,
          13500000,
          5500000,
          30000000,
          4950000,
          16000000,
          30000000,
          41000000,
          3800000,
          68900000,
          1800000,
          1500000,
          12500000,
          1600000,
          2400000,
          7000000,
          3100000,
          14500000,
          61500000,
          27500000,
          25500000,
          25000000,
          18500000,
          39700000,
          6800000,
          6540000,
          22000000,
          17000000,
          27500000,
          73700000,
          52300000,
          16000000,
          15000000,
          10000000,
          5000000,
          20000000,
          16000000,
          5500000,
          7000000,
          4100000,
          24000000,
          12500000,
          3900000,
          14500000,
          20000000,
          24500000,
          20900000,
          43100000,
          18000000,
          50000000,
          18500000,
          46500000,
          17500000,
          42500000,
          15500000,
          15000000,
          40000000,
          20000000,
          6700000,
          16000000,
          8000000,
          25000000,
          25000000,
          37500000,
          25000000,
          23000000,
          17500000,
          44000000,
          15000000,
          42500000,
          5000000,
          38000000,
          19000000,
          43500000,
          19500000,
          14200000,
          14200000,
          13500000,
          21000000,
          22500000,
          19000000,
          7500000,
          4000000,
          8000000,
          19000000,
          7000000,
          5800000,
          8000000,
          18800000,
          6000000,
          2200000,
          6500000,
          23500000,
          16000000,
          20000000,
          5500000,
          13500000,
          22500000,
          3800000,
          4600000,
          17500000,
          5500000,
          22500000,
          12500000,
          19000000,
          15500000,
          13500000,
          21000000,
          50000000,
          42500000,
          45500000,
          23000000,
          12000000,
          35000000,
          25000000,
          29000000,
          80000000,
          20500000,
          52500000,
          37500000,
          7500000,
          32500000,
          24500000,
          65000000,
          27500000,
          115000000,
          28000000,
          8000000,
          75100000,
          7800000,
          15000000,
          27500000,
          25000000,
          26000000,
          23500000,
          4200000,
          10000000,
          18500000,
          3300000,
          3800000,
          7000000,
          16500000,
          8000000,
          5600000,
          21000000,
          21000000,
          8600000,
          6600000,
          14000000,
          4700000,
          30000000,
          26000000,
          18500000,
          6500000,
          15000000,
          8000000,
          16100000,
          6800000,
          6800000,
          9000000,
          18000000,
          27500000,
          13500000,
          14000000,
          9000000,
          16000000,
          11000000,
          5500000,
          47500000,
          45000000,
          43500000,
          180000000,
          80000000,
          37500000,
          60000000,
          71000000,
          18500000,
          70000000,
          85000000,
          190000000,
          135000000,
          35000000,
          65000000,
          27500000,
          45000000,
          100000000,
          47000000,
          27500000,
          70000000,
          36500000,
          65000000,
          35000000,
          56000000,
          110000000,
          24000000,
          102500000,
          100000000,
          45000000,
          29000000,
          25500000,
          33500000,
          62500000,
          47500000,
          14700000,
          18000000,
          22500000,
          22000000,
          22200000,
          22500000,
          7500000,
          30000000,
          6500000,
          35000000,
          17500000,
          60000000,
          40000000,
          11500000,
          22500000,
          28500000,
          29000000,
          15500000,
          26000000,
          16500000,
          55000000,
          12500000,
          17500000,
          11500000,
          18500000
         ],
         "xaxis": "x",
         "yaxis": "y"
        }
       ],
       "layout": {
        "autosize": true,
        "barmode": "relative",
        "legend": {
         "tracegroupgap": 0
        },
        "margin": {
         "t": 60
        },
        "template": {
         "data": {
          "bar": [
           {
            "error_x": {
             "color": "#2a3f5f"
            },
            "error_y": {
             "color": "#2a3f5f"
            },
            "marker": {
             "line": {
              "color": "#E5ECF6",
              "width": 0.5
             },
             "pattern": {
              "fillmode": "overlay",
              "size": 10,
              "solidity": 0.2
             }
            },
            "type": "bar"
           }
          ],
          "barpolar": [
           {
            "marker": {
             "line": {
              "color": "#E5ECF6",
              "width": 0.5
             },
             "pattern": {
              "fillmode": "overlay",
              "size": 10,
              "solidity": 0.2
             }
            },
            "type": "barpolar"
           }
          ],
          "carpet": [
           {
            "aaxis": {
             "endlinecolor": "#2a3f5f",
             "gridcolor": "white",
             "linecolor": "white",
             "minorgridcolor": "white",
             "startlinecolor": "#2a3f5f"
            },
            "baxis": {
             "endlinecolor": "#2a3f5f",
             "gridcolor": "white",
             "linecolor": "white",
             "minorgridcolor": "white",
             "startlinecolor": "#2a3f5f"
            },
            "type": "carpet"
           }
          ],
          "choropleth": [
           {
            "colorbar": {
             "outlinewidth": 0,
             "ticks": ""
            },
            "type": "choropleth"
           }
          ],
          "contour": [
           {
            "colorbar": {
             "outlinewidth": 0,
             "ticks": ""
            },
            "colorscale": [
             [
              0,
              "#0d0887"
             ],
             [
              0.1111111111111111,
              "#46039f"
             ],
             [
              0.2222222222222222,
              "#7201a8"
             ],
             [
              0.3333333333333333,
              "#9c179e"
             ],
             [
              0.4444444444444444,
              "#bd3786"
             ],
             [
              0.5555555555555556,
              "#d8576b"
             ],
             [
              0.6666666666666666,
              "#ed7953"
             ],
             [
              0.7777777777777778,
              "#fb9f3a"
             ],
             [
              0.8888888888888888,
              "#fdca26"
             ],
             [
              1,
              "#f0f921"
             ]
            ],
            "type": "contour"
           }
          ],
          "contourcarpet": [
           {
            "colorbar": {
             "outlinewidth": 0,
             "ticks": ""
            },
            "type": "contourcarpet"
           }
          ],
          "heatmap": [
           {
            "colorbar": {
             "outlinewidth": 0,
             "ticks": ""
            },
            "colorscale": [
             [
              0,
              "#0d0887"
             ],
             [
              0.1111111111111111,
              "#46039f"
             ],
             [
              0.2222222222222222,
              "#7201a8"
             ],
             [
              0.3333333333333333,
              "#9c179e"
             ],
             [
              0.4444444444444444,
              "#bd3786"
             ],
             [
              0.5555555555555556,
              "#d8576b"
             ],
             [
              0.6666666666666666,
              "#ed7953"
             ],
             [
              0.7777777777777778,
              "#fb9f3a"
             ],
             [
              0.8888888888888888,
              "#fdca26"
             ],
             [
              1,
              "#f0f921"
             ]
            ],
            "type": "heatmap"
           }
          ],
          "heatmapgl": [
           {
            "colorbar": {
             "outlinewidth": 0,
             "ticks": ""
            },
            "colorscale": [
             [
              0,
              "#0d0887"
             ],
             [
              0.1111111111111111,
              "#46039f"
             ],
             [
              0.2222222222222222,
              "#7201a8"
             ],
             [
              0.3333333333333333,
              "#9c179e"
             ],
             [
              0.4444444444444444,
              "#bd3786"
             ],
             [
              0.5555555555555556,
              "#d8576b"
             ],
             [
              0.6666666666666666,
              "#ed7953"
             ],
             [
              0.7777777777777778,
              "#fb9f3a"
             ],
             [
              0.8888888888888888,
              "#fdca26"
             ],
             [
              1,
              "#f0f921"
             ]
            ],
            "type": "heatmapgl"
           }
          ],
          "histogram": [
           {
            "marker": {
             "pattern": {
              "fillmode": "overlay",
              "size": 10,
              "solidity": 0.2
             }
            },
            "type": "histogram"
           }
          ],
          "histogram2d": [
           {
            "colorbar": {
             "outlinewidth": 0,
             "ticks": ""
            },
            "colorscale": [
             [
              0,
              "#0d0887"
             ],
             [
              0.1111111111111111,
              "#46039f"
             ],
             [
              0.2222222222222222,
              "#7201a8"
             ],
             [
              0.3333333333333333,
              "#9c179e"
             ],
             [
              0.4444444444444444,
              "#bd3786"
             ],
             [
              0.5555555555555556,
              "#d8576b"
             ],
             [
              0.6666666666666666,
              "#ed7953"
             ],
             [
              0.7777777777777778,
              "#fb9f3a"
             ],
             [
              0.8888888888888888,
              "#fdca26"
             ],
             [
              1,
              "#f0f921"
             ]
            ],
            "type": "histogram2d"
           }
          ],
          "histogram2dcontour": [
           {
            "colorbar": {
             "outlinewidth": 0,
             "ticks": ""
            },
            "colorscale": [
             [
              0,
              "#0d0887"
             ],
             [
              0.1111111111111111,
              "#46039f"
             ],
             [
              0.2222222222222222,
              "#7201a8"
             ],
             [
              0.3333333333333333,
              "#9c179e"
             ],
             [
              0.4444444444444444,
              "#bd3786"
             ],
             [
              0.5555555555555556,
              "#d8576b"
             ],
             [
              0.6666666666666666,
              "#ed7953"
             ],
             [
              0.7777777777777778,
              "#fb9f3a"
             ],
             [
              0.8888888888888888,
              "#fdca26"
             ],
             [
              1,
              "#f0f921"
             ]
            ],
            "type": "histogram2dcontour"
           }
          ],
          "mesh3d": [
           {
            "colorbar": {
             "outlinewidth": 0,
             "ticks": ""
            },
            "type": "mesh3d"
           }
          ],
          "parcoords": [
           {
            "line": {
             "colorbar": {
              "outlinewidth": 0,
              "ticks": ""
             }
            },
            "type": "parcoords"
           }
          ],
          "pie": [
           {
            "automargin": true,
            "type": "pie"
           }
          ],
          "scatter": [
           {
            "fillpattern": {
             "fillmode": "overlay",
             "size": 10,
             "solidity": 0.2
            },
            "type": "scatter"
           }
          ],
          "scatter3d": [
           {
            "line": {
             "colorbar": {
              "outlinewidth": 0,
              "ticks": ""
             }
            },
            "marker": {
             "colorbar": {
              "outlinewidth": 0,
              "ticks": ""
             }
            },
            "type": "scatter3d"
           }
          ],
          "scattercarpet": [
           {
            "marker": {
             "colorbar": {
              "outlinewidth": 0,
              "ticks": ""
             }
            },
            "type": "scattercarpet"
           }
          ],
          "scattergeo": [
           {
            "marker": {
             "colorbar": {
              "outlinewidth": 0,
              "ticks": ""
             }
            },
            "type": "scattergeo"
           }
          ],
          "scattergl": [
           {
            "marker": {
             "colorbar": {
              "outlinewidth": 0,
              "ticks": ""
             }
            },
            "type": "scattergl"
           }
          ],
          "scattermapbox": [
           {
            "marker": {
             "colorbar": {
              "outlinewidth": 0,
              "ticks": ""
             }
            },
            "type": "scattermapbox"
           }
          ],
          "scatterpolar": [
           {
            "marker": {
             "colorbar": {
              "outlinewidth": 0,
              "ticks": ""
             }
            },
            "type": "scatterpolar"
           }
          ],
          "scatterpolargl": [
           {
            "marker": {
             "colorbar": {
              "outlinewidth": 0,
              "ticks": ""
             }
            },
            "type": "scatterpolargl"
           }
          ],
          "scatterternary": [
           {
            "marker": {
             "colorbar": {
              "outlinewidth": 0,
              "ticks": ""
             }
            },
            "type": "scatterternary"
           }
          ],
          "surface": [
           {
            "colorbar": {
             "outlinewidth": 0,
             "ticks": ""
            },
            "colorscale": [
             [
              0,
              "#0d0887"
             ],
             [
              0.1111111111111111,
              "#46039f"
             ],
             [
              0.2222222222222222,
              "#7201a8"
             ],
             [
              0.3333333333333333,
              "#9c179e"
             ],
             [
              0.4444444444444444,
              "#bd3786"
             ],
             [
              0.5555555555555556,
              "#d8576b"
             ],
             [
              0.6666666666666666,
              "#ed7953"
             ],
             [
              0.7777777777777778,
              "#fb9f3a"
             ],
             [
              0.8888888888888888,
              "#fdca26"
             ],
             [
              1,
              "#f0f921"
             ]
            ],
            "type": "surface"
           }
          ],
          "table": [
           {
            "cells": {
             "fill": {
              "color": "#EBF0F8"
             },
             "line": {
              "color": "white"
             }
            },
            "header": {
             "fill": {
              "color": "#C8D4E3"
             },
             "line": {
              "color": "white"
             }
            },
            "type": "table"
           }
          ]
         },
         "layout": {
          "annotationdefaults": {
           "arrowcolor": "#2a3f5f",
           "arrowhead": 0,
           "arrowwidth": 1
          },
          "autotypenumbers": "strict",
          "coloraxis": {
           "colorbar": {
            "outlinewidth": 0,
            "ticks": ""
           }
          },
          "colorscale": {
           "diverging": [
            [
             0,
             "#8e0152"
            ],
            [
             0.1,
             "#c51b7d"
            ],
            [
             0.2,
             "#de77ae"
            ],
            [
             0.3,
             "#f1b6da"
            ],
            [
             0.4,
             "#fde0ef"
            ],
            [
             0.5,
             "#f7f7f7"
            ],
            [
             0.6,
             "#e6f5d0"
            ],
            [
             0.7,
             "#b8e186"
            ],
            [
             0.8,
             "#7fbc41"
            ],
            [
             0.9,
             "#4d9221"
            ],
            [
             1,
             "#276419"
            ]
           ],
           "sequential": [
            [
             0,
             "#0d0887"
            ],
            [
             0.1111111111111111,
             "#46039f"
            ],
            [
             0.2222222222222222,
             "#7201a8"
            ],
            [
             0.3333333333333333,
             "#9c179e"
            ],
            [
             0.4444444444444444,
             "#bd3786"
            ],
            [
             0.5555555555555556,
             "#d8576b"
            ],
            [
             0.6666666666666666,
             "#ed7953"
            ],
            [
             0.7777777777777778,
             "#fb9f3a"
            ],
            [
             0.8888888888888888,
             "#fdca26"
            ],
            [
             1,
             "#f0f921"
            ]
           ],
           "sequentialminus": [
            [
             0,
             "#0d0887"
            ],
            [
             0.1111111111111111,
             "#46039f"
            ],
            [
             0.2222222222222222,
             "#7201a8"
            ],
            [
             0.3333333333333333,
             "#9c179e"
            ],
            [
             0.4444444444444444,
             "#bd3786"
            ],
            [
             0.5555555555555556,
             "#d8576b"
            ],
            [
             0.6666666666666666,
             "#ed7953"
            ],
            [
             0.7777777777777778,
             "#fb9f3a"
            ],
            [
             0.8888888888888888,
             "#fdca26"
            ],
            [
             1,
             "#f0f921"
            ]
           ]
          },
          "colorway": [
           "#636efa",
           "#EF553B",
           "#00cc96",
           "#ab63fa",
           "#FFA15A",
           "#19d3f3",
           "#FF6692",
           "#B6E880",
           "#FF97FF",
           "#FECB52"
          ],
          "font": {
           "color": "#2a3f5f"
          },
          "geo": {
           "bgcolor": "white",
           "lakecolor": "white",
           "landcolor": "#E5ECF6",
           "showlakes": true,
           "showland": true,
           "subunitcolor": "white"
          },
          "hoverlabel": {
           "align": "left"
          },
          "hovermode": "closest",
          "mapbox": {
           "style": "light"
          },
          "paper_bgcolor": "white",
          "plot_bgcolor": "#E5ECF6",
          "polar": {
           "angularaxis": {
            "gridcolor": "white",
            "linecolor": "white",
            "ticks": ""
           },
           "bgcolor": "#E5ECF6",
           "radialaxis": {
            "gridcolor": "white",
            "linecolor": "white",
            "ticks": ""
           }
          },
          "scene": {
           "xaxis": {
            "backgroundcolor": "#E5ECF6",
            "gridcolor": "white",
            "gridwidth": 2,
            "linecolor": "white",
            "showbackground": true,
            "ticks": "",
            "zerolinecolor": "white"
           },
           "yaxis": {
            "backgroundcolor": "#E5ECF6",
            "gridcolor": "white",
            "gridwidth": 2,
            "linecolor": "white",
            "showbackground": true,
            "ticks": "",
            "zerolinecolor": "white"
           },
           "zaxis": {
            "backgroundcolor": "#E5ECF6",
            "gridcolor": "white",
            "gridwidth": 2,
            "linecolor": "white",
            "showbackground": true,
            "ticks": "",
            "zerolinecolor": "white"
           }
          },
          "shapedefaults": {
           "line": {
            "color": "#2a3f5f"
           }
          },
          "ternary": {
           "aaxis": {
            "gridcolor": "white",
            "linecolor": "white",
            "ticks": ""
           },
           "baxis": {
            "gridcolor": "white",
            "linecolor": "white",
            "ticks": ""
           },
           "bgcolor": "#E5ECF6",
           "caxis": {
            "gridcolor": "white",
            "linecolor": "white",
            "ticks": ""
           }
          },
          "title": {
           "x": 0.05
          },
          "xaxis": {
           "automargin": true,
           "gridcolor": "white",
           "linecolor": "white",
           "ticks": "",
           "title": {
            "standoff": 15
           },
           "zerolinecolor": "white",
           "zerolinewidth": 2
          },
          "yaxis": {
           "automargin": true,
           "gridcolor": "white",
           "linecolor": "white",
           "ticks": "",
           "title": {
            "standoff": 15
           },
           "zerolinecolor": "white",
           "zerolinewidth": 2
          }
         }
        },
        "xaxis": {
         "anchor": "y",
         "autorange": true,
         "domain": [
          0,
          1
         ],
         "range": [
          -0.5,
          244999999.5
         ],
         "title": {
          "text": "Price"
         },
         "type": "linear"
        },
        "yaxis": {
         "anchor": "x",
         "autorange": true,
         "domain": [
          0,
          1
         ],
         "range": [
          0,
          261.05263157894734
         ],
         "title": {
          "text": "count"
         }
        }
       }
      },
      "image/png": "[encoded data removed]",
      "text/html": [
       "<div>                            <div id=\"3d5cb165-0c9a-4ad2-8293-af2afd21d790\" class=\"plotly-graph-div\" style=\"height:525px; width:100%;\"></div>            <script type=\"text/javascript\">                require([\"plotly\"], function(Plotly) {                    window.PLOTLYENV=window.PLOTLYENV || {};                                    if (document.getElementById(\"3d5cb165-0c9a-4ad2-8293-af2afd21d790\")) {                    Plotly.newPlot(                        \"3d5cb165-0c9a-4ad2-8293-af2afd21d790\",                        [{\"alignmentgroup\":\"True\",\"bingroup\":\"x\",\"hovertemplate\":\"Price=%{x}<br>count=%{y}<extra></extra>\",\"legendgroup\":\"\",\"marker\":{\"color\":\"#636efa\",\"pattern\":{\"shape\":\"\"}},\"name\":\"\",\"offsetgroup\":\"\",\"orientation\":\"v\",\"showlegend\":false,\"x\":[6500000,5000000,15500000,4200000,6200000,15500000,10000000,4000000,6800000,15000000,6200000,7700000,5500000,5000000,3310000,4700000,4500000,17000000,25000000,6000000,11000000,4500000,5300000,10500000,12000000,7000000,7000000,3400000,5000000,21000000,15000000,10500000,22500000,13600000,30000000,13500000,8910000,25000000,26000000,30000000,12500000,21000000,7800000,11500000,11500000,26000000,13000000,22000000,15800000,57500000,10000000,30000000,22000000,24000000,31500000,14600000,240000000,8300000,22500000,4600000,1900000,5130000,5890000,3700000,17400000,15500000,2400000,17200000,14200000,13500000,30000000,21000000,20500000,24000000,16500000,14900000,19200000,14500000,15600000,11400000,31500000,15800000,16000000,10500000,14800000,1850000,6800000,14200000,8900000,37500000,21000000,57500000,30000000,30000000,31500000,30000000,41500000,24800000,35000000,40000000,46000000,55000000,24500000,24500000,32500000,20000000,240000000,19000000,26000000,21000000,27500000,32500000,45000000,21000000,28000000,29500000,14000000,12500000,26000000,11500000,14600000,25500000,31000000,22000000,13400000,35000000,11000000,6300000,12500000,14500000,22500000,15500000,26000000,15800000,15000000,13000000,15000000,25000000,16500000,10300000,26000000,11000000,28500000,11000000,4500000,3600000,4300000,4000000,1650000,2000000,3000000,1400000,2000000,2000000,2000000,2600000,5100000,6000000,4000000,6200000,3500000,7600000,13500000,12500000,6500000,22000000,6000000,7300000,7600000,20000000,15000000,6200000,6200000,2300000,4700000,5500000,2000000,7300000,13000000,11500000,2800000,2200000,4400000,13500000,4100000,12000000,3500000,15000000,17500000,1900000,5500000,10000000,4700000,2400000,3800000,23000000,24500000,10000000,5500000,7000000,6500000,135000000,93000000,4370000,4620000,1900000,70000000,3000000,3300000,24900000,60000000,17400000,51000000,170000000,5510000,25000000,57000000,2940000,15500000,17200000,55000000,15000000,51000000,13000000,30000000,2400000,5500000,45000000,60000000,65000000,220000000,60000000,38500000,50000000,75000000,70000000,160000000,85000000,40000000,90000000,56000000,135500000,60000000,170000000,50000000,58000000,37500000,45000000,70000000,29500000,60000000,70000000,50000000,75000000,52500000,55000000,120000000,65000000,75000000,47500000,70000000,47500000,40000000,85000000,26000000,35000000,20000000,79000000,17000000,47500000,43000000,26000000,25000000,51000000,40000000,22500000,70000000,45000000,51100000,25500000,26500000,15000000,55000000,26000000,38000000,72500000,65000000,4600000,9200000,9500000,4500000,6500000,5650000,9300000,2700000,6500000,5800000,5500000,6000000,4500000,4100000,3800000,3300000,2900000,2000000,1550000,11300000,4500000,3300000,11500000,6000000,9000000,4500000,14000000,7300000,1900000,7000000,6000000,6400000,2700000,6500000,4000000,3000000,5000000,6000000,2500000,6500000,8000000,2700000,4500000,5700000,25000000,70000000,26500000,18500000,30000000,22000000,9000000,65000000,22500000,8700000,22000000,18500000,16000000,16000000,9000000,4500000,6000000,2700000,6500000,4000000,2600000,3500000,7500000,7000000,4500000,5500000,2700000,2400000,11500000,3600000,1700000,2500000,6600000,3700000,3500000,5400000,2550000,12500000,5600000,7000000,3500000,35000000,9000000,2300000,6000000,6000000,2650000,5510000,3200000,2600000,4000000,1850000,1700000,2800000,2150000,6800000,6200000,3100000,3400000,4000000,4800000,2500000,2000000,1900000,5800000,2900000,2000000,2600000,2900000,3200000,5400000,3800000,8200000,8000000,9500000,20000000,7400000,37500000,15000000,55300000,26500000,16000000,10400000,1700000,8000000,27000000,19500000,50000000,21100000,5900000,12000000,12000000,24000000,7000000,15000000,1500000,3950000,12500000,1600000,36500000,20000000,15000000,25000000,18500000,23500000,8000000,23000000,31000000,7400000,15500000,12000000,23500000,25000000,7000000,17500000,25000000,29000000,21900000,7500000,23500000,24000000,31000000,16500000,5000000,24000000,17000000,40000000,22500000,20000000,7500000,3600000,35000000,6000000,17500000,35000000,10200000,29000000,41000000,6000000,2500000,2200000,21500000,15000000,28900000,5500000,1950000,3800000,6200000,14000000,7500000,2670000,2500000,5000000,29500000,19000000,25500000,75000000,75000000,34000000,47500000,75000000,23000000,24000000,21500000,28500000,12500000,45000000,30500000,22500000,28000000,25000000,33700000,27000000,43500000,29000000,30000000,52100000,32500000,20500000,25000000,30000000,51000000,31000000,37500000,32500000,37500000,55000000,87500000,16300000,65000000,25000000,38000000,15000000,2000000,3000000,8500000,55000000,22500000,72500000,160000000,12500000,17000000,82500000,55000000,35000000,42500000,4700000,52500000,80000000,11000000,74000000,37500000,52500000,26000000,15500000,22000000,21000000,5000000,22000000,26500000,8770000,4500000,8500000,8600000,42500000,13100000,7000000,30000000,13000000,23100000,16000000,12500000,24500000,3200000,6300000,15000000,5700000,21000000,7500000,6500000,27500000,12000000,18000000,15600000,15500000,15200000,25000000,15000000,15800000,31500000,14000000,13200000,15800000,16200000,15500000,14500000,14900000,17200000,18000000,15500000,15800000,12600000,15000000,19500000,16600000,17200000,13000000,16500000,10700000,16200000,16500000,14900000,27500000,62500000,70000000,35500000,42100000,42500000,44000000,43200000,52500000,34300000,38000000,52500000,37500000,37000000,40000000,36200000,29000000,42500000,60000000,36500000,42500000,71500000,65000000,58000000,27500000,70000000,65000000,28600000,39000000,32500000,34000000,16500000,13800000,21000000,22500000,15000000,20000000,20000000,26000000,19500000,21500000,26500000,20000000,18000000,19000000,36500000,15000000,17500000,14000000,21000000,15600000,19000000,16500000,19000000,16500000,3000000,15000000,14300000,18500000,19000000,19000000,15800000,17000000,15500000,16000000,12900000,13500000,17800000,13200000,14000000,17500000,17000000,13000000,17000000,12700000,13500000,17400000,17800000,12700000,16200000,11100000,13600000,13100000,12500000,13600000,12000000,20000000,13500000,14000000,10800000,9000000,6300000,5500000,2350000,8500000,1650000,10000000,1500000,2800000,2600000,2350000,2350000,2000000,5000000,3500000,4500000,4000000,10800000,10000000,9000000,8500000,6000000,5500000,7000000,6000000,3700000,3100000,4500000,1500000,7090000,4500000,5500000,63000000,6990000,4400000,12500000,3000000,2800000,5000000,6000000,4500000,2800000,2500000,8500000,3000000,4900000,3500000,3000000,7020000,60000000,3500000,7000000,7000000,4500000,5990000,4400000,2500000,1600000,6500000,2750000,1500000,2200000,2800000,4500000,1800000,8500000,8500000,1700000,7000000,5600000,13500000,8500000,6000000,7200000,6500000,8400000,8500000,4000000,1700000,6000000,1600000,2100000,1700000,1500000,1200000,1650000,3500000,8500000,3200000,4400000,7200000,7500000,6500000,3500000,6500000,6200000,2500000,3000000,6000000,4800000,3790000,4200000,2900000,5000000,2100000,3200000,3000000,2300000,5900000,5500000,3500000,1700000,1850000,2300000,3800000,4500000,2200000,5200000,2200000,1500000,2200000,3800000,1800000,2850000,2500000,3500000,2000000,3000000,2000000,3500000,1800000,1600000,1600000,2000000,1500000,3000000,1490000,3500000,4000000,1750000,4600000,1800000,1900000,1000000,1000000,1000000,3500000,5000000,2200000,13000000,34000000,60000000,74500000,75000000,62500000,67000000,8500000,11500000,52500000,12000000,10700000,9000000,100000000,6200000,17000000,12500000,13000000,4200000,36000000,2300000,8100000,10000000,62500000,65000000,20000000,57500000,30000000,30000000,30000000,3300000,7350000,12500000,3500000,6500000,6900000,3600000,13500000,9200000,2500000,17000000,9030000,9300000,6500000,3300000,2400000,15000000,7000000,4200000,5800000,4800000,7500000,3000000,4300000,2600000,7000000,6000000,6700000,9500000,17000000,8000000,12000000,9000000,11500000,20000000,8550000,10500000,12000000,11000000,12000000,9000000,10000000,8100000,9200000,14200000,7500000,9500000,14000000,11600000,12000000,7500000,9800000,12000000,12500000,16500000,12000000,7200000,15000000,10000000,11000000,24700000,24900000,3600000,1700000,11000000,75000000,24800000,24900000,24900000,25900000,11700000,13500000,5500000,30000000,4950000,16000000,30000000,41000000,3800000,68900000,1800000,1500000,12500000,1600000,2400000,7000000,3100000,14500000,61500000,27500000,25500000,25000000,18500000,39700000,6800000,6540000,22000000,17000000,27500000,73700000,52300000,16000000,15000000,10000000,5000000,20000000,16000000,5500000,7000000,4100000,24000000,12500000,3900000,14500000,20000000,24500000,20900000,43100000,18000000,50000000,18500000,46500000,17500000,42500000,15500000,15000000,40000000,20000000,6700000,16000000,8000000,25000000,25000000,37500000,25000000,23000000,17500000,44000000,15000000,42500000,5000000,38000000,19000000,43500000,19500000,14200000,14200000,13500000,21000000,22500000,19000000,7500000,4000000,8000000,19000000,7000000,5800000,8000000,18800000,6000000,2200000,6500000,23500000,16000000,20000000,5500000,13500000,22500000,3800000,4600000,17500000,5500000,22500000,12500000,19000000,15500000,13500000,21000000,50000000,42500000,45500000,23000000,12000000,35000000,25000000,29000000,80000000,20500000,52500000,37500000,7500000,32500000,24500000,65000000,27500000,115000000,28000000,8000000,75100000,7800000,15000000,27500000,25000000,26000000,23500000,4200000,10000000,18500000,3300000,3800000,7000000,16500000,8000000,5600000,21000000,21000000,8600000,6600000,14000000,4700000,30000000,26000000,18500000,6500000,15000000,8000000,16100000,6800000,6800000,9000000,18000000,27500000,13500000,14000000,9000000,16000000,11000000,5500000,47500000,45000000,43500000,180000000,80000000,37500000,60000000,71000000,18500000,70000000,85000000,190000000,135000000,35000000,65000000,27500000,45000000,100000000,47000000,27500000,70000000,36500000,65000000,35000000,56000000,110000000,24000000,102500000,100000000,45000000,29000000,25500000,33500000,62500000,47500000,14700000,18000000,22500000,22000000,22200000,22500000,7500000,30000000,6500000,35000000,17500000,60000000,40000000,11500000,22500000,28500000,29000000,15500000,26000000,16500000,55000000,12500000,17500000,11500000,18500000],\"xaxis\":\"x\",\"yaxis\":\"y\",\"type\":\"histogram\"}],                        {\"template\":{\"data\":{\"histogram2dcontour\":[{\"type\":\"histogram2dcontour\",\"colorbar\":{\"outlinewidth\":0,\"ticks\":\"\"},\"colorscale\":[[0.0,\"#0d0887\"],[0.1111111111111111,\"#46039f\"],[0.2222222222222222,\"#7201a8\"],[0.3333333333333333,\"#9c179e\"],[0.4444444444444444,\"#bd3786\"],[0.5555555555555556,\"#d8576b\"],[0.6666666666666666,\"#ed7953\"],[0.7777777777777778,\"#fb9f3a\"],[0.8888888888888888,\"#fdca26\"],[1.0,\"#f0f921\"]]}],\"choropleth\":[{\"type\":\"choropleth\",\"colorbar\":{\"outlinewidth\":0,\"ticks\":\"\"}}],\"histogram2d\":[{\"type\":\"histogram2d\",\"colorbar\":{\"outlinewidth\":0,\"ticks\":\"\"},\"colorscale\":[[0.0,\"#0d0887\"],[0.1111111111111111,\"#46039f\"],[0.2222222222222222,\"#7201a8\"],[0.3333333333333333,\"#9c179e\"],[0.4444444444444444,\"#bd3786\"],[0.5555555555555556,\"#d8576b\"],[0.6666666666666666,\"#ed7953\"],[0.7777777777777778,\"#fb9f3a\"],[0.8888888888888888,\"#fdca26\"],[1.0,\"#f0f921\"]]}],\"heatmap\":[{\"type\":\"heatmap\",\"colorbar\":{\"outlinewidth\":0,\"ticks\":\"\"},\"colorscale\":[[0.0,\"#0d0887\"],[0.1111111111111111,\"#46039f\"],[0.2222222222222222,\"#7201a8\"],[0.3333333333333333,\"#9c179e\"],[0.4444444444444444,\"#bd3786\"],[0.5555555555555556,\"#d8576b\"],[0.6666666666666666,\"#ed7953\"],[0.7777777777777778,\"#fb9f3a\"],[0.8888888888888888,\"#fdca26\"],[1.0,\"#f0f921\"]]}],\"heatmapgl\":[{\"type\":\"heatmapgl\",\"colorbar\":{\"outlinewidth\":0,\"ticks\":\"\"},\"colorscale\":[[0.0,\"#0d0887\"],[0.1111111111111111,\"#46039f\"],[0.2222222222222222,\"#7201a8\"],[0.3333333333333333,\"#9c179e\"],[0.4444444444444444,\"#bd3786\"],[0.5555555555555556,\"#d8576b\"],[0.6666666666666666,\"#ed7953\"],[0.7777777777777778,\"#fb9f3a\"],[0.8888888888888888,\"#fdca26\"],[1.0,\"#f0f921\"]]}],\"contourcarpet\":[{\"type\":\"contourcarpet\",\"colorbar\":{\"outlinewidth\":0,\"ticks\":\"\"}}],\"contour\":[{\"type\":\"contour\",\"colorbar\":{\"outlinewidth\":0,\"ticks\":\"\"},\"colorscale\":[[0.0,\"#0d0887\"],[0.1111111111111111,\"#46039f\"],[0.2222222222222222,\"#7201a8\"],[0.3333333333333333,\"#9c179e\"],[0.4444444444444444,\"#bd3786\"],[0.5555555555555556,\"#d8576b\"],[0.6666666666666666,\"#ed7953\"],[0.7777777777777778,\"#fb9f3a\"],[0.8888888888888888,\"#fdca26\"],[1.0,\"#f0f921\"]]}],\"surface\":[{\"type\":\"surface\",\"colorbar\":{\"outlinewidth\":0,\"ticks\":\"\"},\"colorscale\":[[0.0,\"#0d0887\"],[0.1111111111111111,\"#46039f\"],[0.2222222222222222,\"#7201a8\"],[0.3333333333333333,\"#9c179e\"],[0.4444444444444444,\"#bd3786\"],[0.5555555555555556,\"#d8576b\"],[0.6666666666666666,\"#ed7953\"],[0.7777777777777778,\"#fb9f3a\"],[0.8888888888888888,\"#fdca26\"],[1.0,\"#f0f921\"]]}],\"mesh3d\":[{\"type\":\"mesh3d\",\"colorbar\":{\"outlinewidth\":0,\"ticks\":\"\"}}],\"scatter\":[{\"fillpattern\":{\"fillmode\":\"overlay\",\"size\":10,\"solidity\":0.2},\"type\":\"scatter\"}],\"parcoords\":[{\"type\":\"parcoords\",\"line\":{\"colorbar\":{\"outlinewidth\":0,\"ticks\":\"\"}}}],\"scatterpolargl\":[{\"type\":\"scatterpolargl\",\"marker\":{\"colorbar\":{\"outlinewidth\":0,\"ticks\":\"\"}}}],\"bar\":[{\"error_x\":{\"color\":\"#2a3f5f\"},\"error_y\":{\"color\":\"#2a3f5f\"},\"marker\":{\"line\":{\"color\":\"#E5ECF6\",\"width\":0.5},\"pattern\":{\"fillmode\":\"overlay\",\"size\":10,\"solidity\":0.2}},\"type\":\"bar\"}],\"scattergeo\":[{\"type\":\"scattergeo\",\"marker\":{\"colorbar\":{\"outlinewidth\":0,\"ticks\":\"\"}}}],\"scatterpolar\":[{\"type\":\"scatterpolar\",\"marker\":{\"colorbar\":{\"outlinewidth\":0,\"ticks\":\"\"}}}],\"histogram\":[{\"marker\":{\"pattern\":{\"fillmode\":\"overlay\",\"size\":10,\"solidity\":0.2}},\"type\":\"histogram\"}],\"scattergl\":[{\"type\":\"scattergl\",\"marker\":{\"colorbar\":{\"outlinewidth\":0,\"ticks\":\"\"}}}],\"scatter3d\":[{\"type\":\"scatter3d\",\"line\":{\"colorbar\":{\"outlinewidth\":0,\"ticks\":\"\"}},\"marker\":{\"colorbar\":{\"outlinewidth\":0,\"ticks\":\"\"}}}],\"scattermapbox\":[{\"type\":\"scattermapbox\",\"marker\":{\"colorbar\":{\"outlinewidth\":0,\"ticks\":\"\"}}}],\"scatterternary\":[{\"type\":\"scatterternary\",\"marker\":{\"colorbar\":{\"outlinewidth\":0,\"ticks\":\"\"}}}],\"scattercarpet\":[{\"type\":\"scattercarpet\",\"marker\":{\"colorbar\":{\"outlinewidth\":0,\"ticks\":\"\"}}}],\"carpet\":[{\"aaxis\":{\"endlinecolor\":\"#2a3f5f\",\"gridcolor\":\"white\",\"linecolor\":\"white\",\"minorgridcolor\":\"white\",\"startlinecolor\":\"#2a3f5f\"},\"baxis\":{\"endlinecolor\":\"#2a3f5f\",\"gridcolor\":\"white\",\"linecolor\":\"white\",\"minorgridcolor\":\"white\",\"startlinecolor\":\"#2a3f5f\"},\"type\":\"carpet\"}],\"table\":[{\"cells\":{\"fill\":{\"color\":\"#EBF0F8\"},\"line\":{\"color\":\"white\"}},\"header\":{\"fill\":{\"color\":\"#C8D4E3\"},\"line\":{\"color\":\"white\"}},\"type\":\"table\"}],\"barpolar\":[{\"marker\":{\"line\":{\"color\":\"#E5ECF6\",\"width\":0.5},\"pattern\":{\"fillmode\":\"overlay\",\"size\":10,\"solidity\":0.2}},\"type\":\"barpolar\"}],\"pie\":[{\"automargin\":true,\"type\":\"pie\"}]},\"layout\":{\"autotypenumbers\":\"strict\",\"colorway\":[\"#636efa\",\"#EF553B\",\"#00cc96\",\"#ab63fa\",\"#FFA15A\",\"#19d3f3\",\"#FF6692\",\"#B6E880\",\"#FF97FF\",\"#FECB52\"],\"font\":{\"color\":\"#2a3f5f\"},\"hovermode\":\"closest\",\"hoverlabel\":{\"align\":\"left\"},\"paper_bgcolor\":\"white\",\"plot_bgcolor\":\"#E5ECF6\",\"polar\":{\"bgcolor\":\"#E5ECF6\",\"angularaxis\":{\"gridcolor\":\"white\",\"linecolor\":\"white\",\"ticks\":\"\"},\"radialaxis\":{\"gridcolor\":\"white\",\"linecolor\":\"white\",\"ticks\":\"\"}},\"ternary\":{\"bgcolor\":\"#E5ECF6\",\"aaxis\":{\"gridcolor\":\"white\",\"linecolor\":\"white\",\"ticks\":\"\"},\"baxis\":{\"gridcolor\":\"white\",\"linecolor\":\"white\",\"ticks\":\"\"},\"caxis\":{\"gridcolor\":\"white\",\"linecolor\":\"white\",\"ticks\":\"\"}},\"coloraxis\":{\"colorbar\":{\"outlinewidth\":0,\"ticks\":\"\"}},\"colorscale\":{\"sequential\":[[0.0,\"#0d0887\"],[0.1111111111111111,\"#46039f\"],[0.2222222222222222,\"#7201a8\"],[0.3333333333333333,\"#9c179e\"],[0.4444444444444444,\"#bd3786\"],[0.5555555555555556,\"#d8576b\"],[0.6666666666666666,\"#ed7953\"],[0.7777777777777778,\"#fb9f3a\"],[0.8888888888888888,\"#fdca26\"],[1.0,\"#f0f921\"]],\"sequentialminus\":[[0.0,\"#0d0887\"],[0.1111111111111111,\"#46039f\"],[0.2222222222222222,\"#7201a8\"],[0.3333333333333333,\"#9c179e\"],[0.4444444444444444,\"#bd3786\"],[0.5555555555555556,\"#d8576b\"],[0.6666666666666666,\"#ed7953\"],[0.7777777777777778,\"#fb9f3a\"],[0.8888888888888888,\"#fdca26\"],[1.0,\"#f0f921\"]],\"diverging\":[[0,\"#8e0152\"],[0.1,\"#c51b7d\"],[0.2,\"#de77ae\"],[0.3,\"#f1b6da\"],[0.4,\"#fde0ef\"],[0.5,\"#f7f7f7\"],[0.6,\"#e6f5d0\"],[0.7,\"#b8e186\"],[0.8,\"#7fbc41\"],[0.9,\"#4d9221\"],[1,\"#276419\"]]},\"xaxis\":{\"gridcolor\":\"white\",\"linecolor\":\"white\",\"ticks\":\"\",\"title\":{\"standoff\":15},\"zerolinecolor\":\"white\",\"automargin\":true,\"zerolinewidth\":2},\"yaxis\":{\"gridcolor\":\"white\",\"linecolor\":\"white\",\"ticks\":\"\",\"title\":{\"standoff\":15},\"zerolinecolor\":\"white\",\"automargin\":true,\"zerolinewidth\":2},\"scene\":{\"xaxis\":{\"backgroundcolor\":\"#E5ECF6\",\"gridcolor\":\"white\",\"linecolor\":\"white\",\"showbackground\":true,\"ticks\":\"\",\"zerolinecolor\":\"white\",\"gridwidth\":2},\"yaxis\":{\"backgroundcolor\":\"#E5ECF6\",\"gridcolor\":\"white\",\"linecolor\":\"white\",\"showbackground\":true,\"ticks\":\"\",\"zerolinecolor\":\"white\",\"gridwidth\":2},\"zaxis\":{\"backgroundcolor\":\"#E5ECF6\",\"gridcolor\":\"white\",\"linecolor\":\"white\",\"showbackground\":true,\"ticks\":\"\",\"zerolinecolor\":\"white\",\"gridwidth\":2}},\"shapedefaults\":{\"line\":{\"color\":\"#2a3f5f\"}},\"annotationdefaults\":{\"arrowcolor\":\"#2a3f5f\",\"arrowhead\":0,\"arrowwidth\":1},\"geo\":{\"bgcolor\":\"white\",\"landcolor\":\"#E5ECF6\",\"subunitcolor\":\"white\",\"showland\":true,\"showlakes\":true,\"lakecolor\":\"white\"},\"title\":{\"x\":0.05},\"mapbox\":{\"style\":\"light\"}}},\"xaxis\":{\"anchor\":\"y\",\"domain\":[0.0,1.0],\"title\":{\"text\":\"Price\"}},\"yaxis\":{\"anchor\":\"x\",\"domain\":[0.0,1.0],\"title\":{\"text\":\"count\"}},\"legend\":{\"tracegroupgap\":0},\"margin\":{\"t\":60},\"barmode\":\"relative\"},                        {\"responsive\": true}                    ).then(function(){\n",
       "                            \n",
       "var gd = document.getElementById('3d5cb165-0c9a-4ad2-8293-af2afd21d790');\n",
       "var x = new MutationObserver(function (mutations, observer) {{\n",
       "        var display = window.getComputedStyle(gd).display;\n",
       "        if (!display || display === 'none') {{\n",
       "            console.log([gd, 'removed!']);\n",
       "            Plotly.purge(gd);\n",
       "            observer.disconnect();\n",
       "        }}\n",
       "}});\n",
       "\n",
       "// Listen for the removal of the full notebook cells\n",
       "var notebookContainer = gd.closest('#notebook-container');\n",
       "if (notebookContainer) {{\n",
       "    x.observe(notebookContainer, {childList: true});\n",
       "}}\n",
       "\n",
       "// Listen for the clearing of the current output cell\n",
       "var outputEl = gd.closest('.output');\n",
       "if (outputEl) {{\n",
       "    x.observe(outputEl, {childList: true});\n",
       "}}\n",
       "\n",
       "                        })                };                });            </script>        </div>"
      ]
     },
     "metadata": {},
     "output_type": "display_data"
    }
   ],
   "source": [
    "px.histogram(df1,x='Price')"
   ]
  },
  {
   "cell_type": "code",
   "execution_count": 22,
   "id": "ceaafa4b-00c1-4992-917a-154b589a9659",
   "metadata": {},
   "outputs": [
    {
     "data": {
      "text/plain": [
       "Furnishing\n",
       "Semi-Furnished    667\n",
       "Unfurnished       329\n",
       "Furnished         174\n",
       "Name: count, dtype: int64"
      ]
     },
     "execution_count": 22,
     "metadata": {},
     "output_type": "execute_result"
    }
   ],
   "source": [
    "df1['Furnishing'].value_counts()"
   ]
  },
  {
   "cell_type": "code",
   "execution_count": 23,
   "id": "d3b92112-7347-4402-a0d1-060bb0bed41e",
   "metadata": {},
   "outputs": [
    {
     "data": {
      "text/plain": [
       "Status\n",
       "Ready_to_move    1109\n",
       "Almost_ready       61\n",
       "Name: count, dtype: int64"
      ]
     },
     "execution_count": 23,
     "metadata": {},
     "output_type": "execute_result"
    }
   ],
   "source": [
    "df1['Status'].value_counts()"
   ]
  },
  {
   "cell_type": "code",
   "execution_count": 24,
   "id": "eccca2d0-2be3-43f2-8c96-b10ab204fff5",
   "metadata": {},
   "outputs": [
    {
     "data": {
      "text/plain": [
       "Locality\n",
       "Lajpat Nagar 3                            32\n",
       "Kailash Colony, Greater Kailash           30\n",
       "Yamuna Vihar, Shahdara                    29\n",
       "Lajpat Nagar 2                            29\n",
       "J R Designers Floors, Rohini Sector 24    28\n",
       "                                          ..\n",
       "Anupam Enclave, Saket                      1\n",
       "Metrotech Builder Floors, Saket            1\n",
       "Saket Court Residential Complex, Saket     1\n",
       "Project Paryavaran Complex, Saket          1\n",
       "Chittaranjan Park Block A                  1\n",
       "Name: count, Length: 363, dtype: int64"
      ]
     },
     "execution_count": 24,
     "metadata": {},
     "output_type": "execute_result"
    }
   ],
   "source": [
    "df1['Locality'].value_counts()"
   ]
  },
  {
   "cell_type": "code",
   "execution_count": 25,
   "id": "8b352529-b9ab-4706-b140-cdd631d5cc05",
   "metadata": {},
   "outputs": [
    {
     "data": {
      "text/html": [
       "<div>\n",
       "<style scoped>\n",
       "    .dataframe tbody tr th:only-of-type {\n",
       "        vertical-align: middle;\n",
       "    }\n",
       "\n",
       "    .dataframe tbody tr th {\n",
       "        vertical-align: top;\n",
       "    }\n",
       "\n",
       "    .dataframe thead th {\n",
       "        text-align: right;\n",
       "    }\n",
       "</style>\n",
       "<table border=\"1\" class=\"dataframe\">\n",
       "  <thead>\n",
       "    <tr style=\"text-align: right;\">\n",
       "      <th></th>\n",
       "      <th>Area</th>\n",
       "      <th>BHK</th>\n",
       "      <th>Bathroom</th>\n",
       "      <th>Furnishing</th>\n",
       "      <th>Locality</th>\n",
       "      <th>Parking</th>\n",
       "      <th>Price</th>\n",
       "      <th>Status</th>\n",
       "      <th>Transaction</th>\n",
       "      <th>Type</th>\n",
       "      <th>Per_Sqft</th>\n",
       "    </tr>\n",
       "  </thead>\n",
       "  <tbody>\n",
       "    <tr>\n",
       "      <th>0</th>\n",
       "      <td>800.0</td>\n",
       "      <td>3</td>\n",
       "      <td>2.0</td>\n",
       "      <td>1</td>\n",
       "      <td>282</td>\n",
       "      <td>1.0</td>\n",
       "      <td>6500000</td>\n",
       "      <td>1</td>\n",
       "      <td>0</td>\n",
       "      <td>1</td>\n",
       "      <td>15817.306639</td>\n",
       "    </tr>\n",
       "    <tr>\n",
       "      <th>1</th>\n",
       "      <td>750.0</td>\n",
       "      <td>2</td>\n",
       "      <td>2.0</td>\n",
       "      <td>1</td>\n",
       "      <td>138</td>\n",
       "      <td>1.0</td>\n",
       "      <td>5000000</td>\n",
       "      <td>1</td>\n",
       "      <td>0</td>\n",
       "      <td>0</td>\n",
       "      <td>6667.000000</td>\n",
       "    </tr>\n",
       "    <tr>\n",
       "      <th>2</th>\n",
       "      <td>950.0</td>\n",
       "      <td>2</td>\n",
       "      <td>2.0</td>\n",
       "      <td>0</td>\n",
       "      <td>49</td>\n",
       "      <td>1.0</td>\n",
       "      <td>15500000</td>\n",
       "      <td>1</td>\n",
       "      <td>1</td>\n",
       "      <td>0</td>\n",
       "      <td>6667.000000</td>\n",
       "    </tr>\n",
       "    <tr>\n",
       "      <th>3</th>\n",
       "      <td>600.0</td>\n",
       "      <td>2</td>\n",
       "      <td>2.0</td>\n",
       "      <td>1</td>\n",
       "      <td>280</td>\n",
       "      <td>1.0</td>\n",
       "      <td>4200000</td>\n",
       "      <td>1</td>\n",
       "      <td>1</td>\n",
       "      <td>1</td>\n",
       "      <td>6667.000000</td>\n",
       "    </tr>\n",
       "    <tr>\n",
       "      <th>4</th>\n",
       "      <td>650.0</td>\n",
       "      <td>2</td>\n",
       "      <td>2.0</td>\n",
       "      <td>1</td>\n",
       "      <td>281</td>\n",
       "      <td>1.0</td>\n",
       "      <td>6200000</td>\n",
       "      <td>1</td>\n",
       "      <td>0</td>\n",
       "      <td>1</td>\n",
       "      <td>6667.000000</td>\n",
       "    </tr>\n",
       "  </tbody>\n",
       "</table>\n",
       "</div>"
      ],
      "text/plain": [
       "    Area  BHK  Bathroom  Furnishing  Locality  Parking     Price  Status  \\\n",
       "0  800.0    3       2.0           1       282      1.0   6500000       1   \n",
       "1  750.0    2       2.0           1       138      1.0   5000000       1   \n",
       "2  950.0    2       2.0           0        49      1.0  15500000       1   \n",
       "3  600.0    2       2.0           1       280      1.0   4200000       1   \n",
       "4  650.0    2       2.0           1       281      1.0   6200000       1   \n",
       "\n",
       "   Transaction  Type      Per_Sqft  \n",
       "0            0     1  15817.306639  \n",
       "1            0     0   6667.000000  \n",
       "2            1     0   6667.000000  \n",
       "3            1     1   6667.000000  \n",
       "4            0     1   6667.000000  "
      ]
     },
     "execution_count": 25,
     "metadata": {},
     "output_type": "execute_result"
    }
   ],
   "source": [
    "from sklearn.preprocessing import LabelEncoder\n",
    "cols = ['Furnishing','Status','Transaction','Type','Locality']\n",
    "df1[cols] = df1[cols].apply(LabelEncoder().fit_transform)\n",
    "df1.head(n=5)"
   ]
  },
  {
   "cell_type": "code",
   "execution_count": 26,
   "id": "7acd49ed-dad2-4e8e-89b8-f1b4a7e4bfa1",
   "metadata": {},
   "outputs": [
    {
     "data": {
      "application/vnd.plotly.v1+json": {
       "config": {
        "plotlyServerURL": "https://plot.ly"
       },
       "data": [
        {
         "customdata": [
          [
           15817.306638566912,
           1,
           1
          ],
          [
           6667,
           0,
           1
          ],
          [
           6667,
           0,
           1
          ],
          [
           6667,
           1,
           1
          ],
          [
           6667,
           1,
           1
          ],
          [
           6667,
           1,
           1
          ],
          [
           6667,
           1,
           1
          ],
          [
           6154,
           0,
           1
          ],
          [
           6154,
           1,
           0
          ],
          [
           6154,
           1,
           1
          ],
          [
           6154,
           1,
           1
          ],
          [
           6154,
           1,
           1
          ],
          [
           6154,
           1,
           1
          ],
          [
           6154,
           1,
           1
          ],
          [
           6154,
           1,
           1
          ],
          [
           6154,
           1,
           1
          ],
          [
           6154,
           1,
           1
          ],
          [
           6154,
           1,
           1
          ],
          [
           6154,
           0,
           1
          ],
          [
           6154,
           1,
           1
          ],
          [
           6154,
           0,
           1
          ],
          [
           6154,
           1,
           1
          ],
          [
           6154,
           0,
           1
          ],
          [
           6154,
           0,
           1
          ],
          [
           6154,
           1,
           1
          ],
          [
           6364,
           1,
           1
          ],
          [
           8750,
           1,
           1
          ],
          [
           8750,
           0,
           1
          ],
          [
           8750,
           0,
           1
          ],
          [
           9722,
           1,
           1
          ],
          [
           15817.306638566912,
           1,
           1
          ],
          [
           15817.306638566912,
           1,
           1
          ],
          [
           15817.306638566912,
           1,
           1
          ],
          [
           15817.306638566912,
           1,
           1
          ],
          [
           15817.306638566912,
           1,
           1
          ],
          [
           15817.306638566912,
           0,
           1
          ],
          [
           15817.306638566912,
           1,
           1
          ],
          [
           15817.306638566912,
           0,
           1
          ],
          [
           15817.306638566912,
           1,
           1
          ],
          [
           15817.306638566912,
           1,
           1
          ],
          [
           15817.306638566912,
           1,
           1
          ],
          [
           15817.306638566912,
           1,
           1
          ],
          [
           15817.306638566912,
           1,
           1
          ],
          [
           15817.306638566912,
           1,
           1
          ],
          [
           15817.306638566912,
           1,
           1
          ],
          [
           15817.306638566912,
           1,
           1
          ],
          [
           14444,
           1,
           1
          ],
          [
           22000,
           1,
           1
          ],
          [
           22000,
           1,
           1
          ],
          [
           22000,
           1,
           1
          ],
          [
           22000,
           1,
           1
          ],
          [
           22000,
           1,
           1
          ],
          [
           22000,
           1,
           1
          ],
          [
           22000,
           1,
           1
          ],
          [
           22000,
           1,
           1
          ],
          [
           22000,
           1,
           1
          ],
          [
           22000,
           1,
           1
          ],
          [
           22000,
           1,
           1
          ],
          [
           22000,
           1,
           1
          ],
          [
           15817.306638566912,
           0,
           1
          ],
          [
           2235,
           0,
           1
          ],
          [
           3800,
           0,
           1
          ],
          [
           4247,
           0,
           1
          ],
          [
           3524,
           0,
           1
          ],
          [
           3524,
           0,
           1
          ],
          [
           3524,
           0,
           1
          ],
          [
           3524,
           0,
           0
          ],
          [
           3524,
           0,
           1
          ],
          [
           3524,
           0,
           1
          ],
          [
           3524,
           0,
           1
          ],
          [
           3524,
           0,
           1
          ],
          [
           3524,
           0,
           1
          ],
          [
           3524,
           0,
           1
          ],
          [
           3524,
           0,
           1
          ],
          [
           3524,
           0,
           1
          ],
          [
           3524,
           0,
           1
          ],
          [
           3524,
           0,
           1
          ],
          [
           3524,
           0,
           1
          ],
          [
           3524,
           0,
           1
          ],
          [
           3524,
           0,
           1
          ],
          [
           3524,
           0,
           1
          ],
          [
           3524,
           0,
           1
          ],
          [
           3524,
           0,
           1
          ],
          [
           3524,
           0,
           1
          ],
          [
           3524,
           0,
           1
          ],
          [
           3524,
           1,
           1
          ],
          [
           3524,
           1,
           1
          ],
          [
           3524,
           0,
           1
          ],
          [
           15817.306638566912,
           1,
           1
          ],
          [
           15817.306638566912,
           1,
           1
          ],
          [
           15817.306638566912,
           1,
           1
          ],
          [
           15817.306638566912,
           1,
           1
          ],
          [
           15817.306638566912,
           1,
           1
          ],
          [
           15817.306638566912,
           1,
           1
          ],
          [
           15817.306638566912,
           1,
           1
          ],
          [
           15817.306638566912,
           1,
           1
          ],
          [
           15817.306638566912,
           1,
           1
          ],
          [
           15817.306638566912,
           1,
           1
          ],
          [
           15817.306638566912,
           1,
           1
          ],
          [
           26666,
           1,
           1
          ],
          [
           15972,
           1,
           1
          ],
          [
           183333,
           1,
           1
          ],
          [
           183333,
           1,
           1
          ],
          [
           183333,
           0,
           1
          ],
          [
           183333,
           1,
           1
          ],
          [
           20000,
           0,
           1
          ],
          [
           20000,
           1,
           1
          ],
          [
           20000,
           1,
           1
          ],
          [
           20000,
           1,
           1
          ],
          [
           15556,
           1,
           1
          ],
          [
           16176,
           1,
           1
          ],
          [
           16176,
           1,
           1
          ],
          [
           16176,
           1,
           1
          ],
          [
           15556,
           1,
           1
          ],
          [
           15556,
           1,
           1
          ],
          [
           15556,
           1,
           1
          ],
          [
           15817.306638566912,
           1,
           1
          ],
          [
           9259,
           1,
           1
          ],
          [
           9259,
           1,
           1
          ],
          [
           9259,
           1,
           1
          ],
          [
           9259,
           1,
           1
          ],
          [
           9259,
           1,
           1
          ],
          [
           18507,
           1,
           1
          ],
          [
           18507,
           1,
           1
          ],
          [
           18507,
           1,
           1
          ],
          [
           18507,
           1,
           0
          ],
          [
           18507,
           1,
           1
          ],
          [
           7000,
           1,
           1
          ],
          [
           7000,
           1,
           1
          ],
          [
           7000,
           1,
           1
          ],
          [
           7000,
           1,
           1
          ],
          [
           7000,
           1,
           1
          ],
          [
           7000,
           1,
           1
          ],
          [
           7000,
           1,
           1
          ],
          [
           7000,
           1,
           1
          ],
          [
           7000,
           1,
           1
          ],
          [
           7000,
           1,
           1
          ],
          [
           7000,
           1,
           1
          ],
          [
           7000,
           1,
           1
          ],
          [
           7000,
           1,
           1
          ],
          [
           7000,
           1,
           1
          ],
          [
           7000,
           1,
           1
          ],
          [
           7000,
           1,
           1
          ],
          [
           15817.306638566912,
           0,
           1
          ],
          [
           15817.306638566912,
           1,
           1
          ],
          [
           72000,
           1,
           1
          ],
          [
           43000,
           1,
           1
          ],
          [
           4444,
           1,
           1
          ],
          [
           3300,
           0,
           1
          ],
          [
           4444,
           1,
           1
          ],
          [
           40000,
           1,
           1
          ],
          [
           5185,
           0,
           1
          ],
          [
           4000,
           1,
           1
          ],
          [
           4000,
           0,
           1
          ],
          [
           4000,
           1,
           1
          ],
          [
           3567,
           1,
           1
          ],
          [
           1259,
           1,
           1
          ],
          [
           2500,
           1,
           1
          ],
          [
           2500,
           1,
           1
          ],
          [
           2500,
           1,
           1
          ],
          [
           5255,
           1,
           1
          ],
          [
           5255,
           0,
           1
          ],
          [
           5255,
           1,
           1
          ],
          [
           5255,
           1,
           1
          ],
          [
           5255,
           1,
           1
          ],
          [
           5255,
           1,
           1
          ],
          [
           5255,
           1,
           1
          ],
          [
           5255,
           1,
           1
          ],
          [
           5255,
           1,
           1
          ],
          [
           5255,
           1,
           1
          ],
          [
           5255,
           1,
           1
          ],
          [
           5255,
           1,
           1
          ],
          [
           5255,
           1,
           1
          ],
          [
           15817.306638566912,
           1,
           1
          ],
          [
           6528,
           0,
           1
          ],
          [
           6875,
           0,
           1
          ],
          [
           5714,
           0,
           1
          ],
          [
           7449,
           0,
           1
          ],
          [
           8125,
           0,
           1
          ],
          [
           7931,
           0,
           1
          ],
          [
           7931,
           0,
           1
          ],
          [
           5789,
           0,
           1
          ],
          [
           6471,
           0,
           1
          ],
          [
           8438,
           0,
           1
          ],
          [
           6508,
           0,
           1
          ],
          [
           8000,
           0,
           1
          ],
          [
           6364,
           0,
           1
          ],
          [
           6000,
           0,
           1
          ],
          [
           6250,
           0,
           1
          ],
          [
           6333,
           0,
           1
          ],
          [
           6875,
           0,
           1
          ],
          [
           6875,
           0,
           1
          ],
          [
           6714,
           0,
           1
          ],
          [
           6714,
           1,
           1
          ],
          [
           6714,
           1,
           1
          ],
          [
           6714,
           1,
           1
          ],
          [
           6714,
           1,
           1
          ],
          [
           6714,
           1,
           1
          ],
          [
           6714,
           1,
           1
          ],
          [
           6714,
           1,
           1
          ],
          [
           6714,
           1,
           1
          ],
          [
           28797,
           0,
           0
          ],
          [
           23840,
           0,
           0
          ],
          [
           4600,
           0,
           1
          ],
          [
           4620,
           0,
           1
          ],
          [
           2235,
           0,
           1
          ],
          [
           2235,
           0,
           1
          ],
          [
           5000,
           0,
           1
          ],
          [
           6111,
           0,
           1
          ],
          [
           25512,
           0,
           1
          ],
          [
           22222,
           1,
           1
          ],
          [
           22222,
           0,
           1
          ],
          [
           22222,
           1,
           0
          ],
          [
           22222,
           1,
           0
          ],
          [
           22222,
           1,
           0
          ],
          [
           22222,
           0,
           0
          ],
          [
           24718,
           0,
           0
          ],
          [
           24718,
           0,
           0
          ],
          [
           24718,
           0,
           1
          ],
          [
           24718,
           0,
           1
          ],
          [
           30556,
           1,
           1
          ],
          [
           30556,
           0,
           1
          ],
          [
           30556,
           1,
           0
          ],
          [
           30556,
           1,
           1
          ],
          [
           18750,
           1,
           1
          ],
          [
           18750,
           1,
           1
          ],
          [
           18750,
           1,
           1
          ],
          [
           15817.306638566912,
           1,
           1
          ],
          [
           120000,
           1,
           1
          ],
          [
           120000,
           1,
           1
          ],
          [
           120000,
           1,
           1
          ],
          [
           120000,
           1,
           1
          ],
          [
           120000,
           1,
           1
          ],
          [
           120000,
           0,
           1
          ],
          [
           120000,
           1,
           1
          ],
          [
           120000,
           1,
           1
          ],
          [
           15459,
           0,
           1
          ],
          [
           15459,
           1,
           1
          ],
          [
           15459,
           0,
           1
          ],
          [
           15459,
           1,
           1
          ],
          [
           15459,
           1,
           1
          ],
          [
           15459,
           1,
           1
          ],
          [
           15459,
           1,
           1
          ],
          [
           15459,
           1,
           1
          ],
          [
           15459,
           1,
           1
          ],
          [
           15459,
           1,
           1
          ],
          [
           15459,
           1,
           1
          ],
          [
           15459,
           1,
           1
          ],
          [
           15459,
           1,
           1
          ],
          [
           15459,
           0,
           1
          ],
          [
           23529,
           1,
           1
          ],
          [
           23529,
           1,
           1
          ],
          [
           23529,
           1,
           1
          ],
          [
           23529,
           1,
           1
          ],
          [
           23529,
           1,
           1
          ],
          [
           23529,
           1,
           1
          ],
          [
           16667,
           1,
           1
          ],
          [
           15817.306638566912,
           1,
           1
          ],
          [
           15817.306638566912,
           1,
           1
          ],
          [
           15817.306638566912,
           1,
           1
          ],
          [
           20000,
           1,
           1
          ],
          [
           20000,
           1,
           1
          ],
          [
           20000,
           1,
           1
          ],
          [
           20000,
           1,
           1
          ],
          [
           20000,
           1,
           1
          ],
          [
           11111,
           1,
           1
          ],
          [
           11111,
           1,
           1
          ],
          [
           21409,
           1,
           0
          ],
          [
           21409,
           1,
           1
          ],
          [
           95000,
           1,
           1
          ],
          [
           15363,
           1,
           1
          ],
          [
           19259,
           1,
           1
          ],
          [
           20833,
           1,
           1
          ],
          [
           20833,
           1,
           1
          ],
          [
           20833,
           1,
           1
          ],
          [
           20833,
           1,
           1
          ],
          [
           20833,
           1,
           1
          ],
          [
           20930,
           1,
           1
          ],
          [
           20930,
           0,
           1
          ],
          [
           20930,
           1,
           1
          ],
          [
           20930,
           1,
           1
          ],
          [
           20930,
           1,
           1
          ],
          [
           20930,
           1,
           1
          ],
          [
           20930,
           1,
           1
          ],
          [
           20930,
           1,
           1
          ],
          [
           20930,
           1,
           1
          ],
          [
           20930,
           1,
           1
          ],
          [
           15817.306638566912,
           1,
           1
          ],
          [
           15817.306638566912,
           1,
           1
          ],
          [
           15817.306638566912,
           0,
           1
          ],
          [
           15817.306638566912,
           1,
           1
          ],
          [
           15817.306638566912,
           1,
           1
          ],
          [
           15817.306638566912,
           1,
           1
          ],
          [
           6526,
           1,
           1
          ],
          [
           6526,
           0,
           1
          ],
          [
           6526,
           1,
           1
          ],
          [
           6526,
           0,
           1
          ],
          [
           6526,
           0,
           1
          ],
          [
           6526,
           1,
           1
          ],
          [
           6526,
           1,
           1
          ],
          [
           6526,
           1,
           1
          ],
          [
           6526,
           1,
           1
          ],
          [
           6526,
           0,
           1
          ],
          [
           6526,
           1,
           1
          ],
          [
           6526,
           1,
           1
          ],
          [
           6526,
           1,
           1
          ],
          [
           6526,
           1,
           1
          ],
          [
           6526,
           1,
           1
          ],
          [
           3901,
           0,
           1
          ],
          [
           3901,
           1,
           1
          ],
          [
           3901,
           1,
           0
          ],
          [
           3901,
           0,
           1
          ],
          [
           3901,
           1,
           1
          ],
          [
           3901,
           0,
           0
          ],
          [
           6347,
           0,
           1
          ],
          [
           41304,
           1,
           1
          ],
          [
           41304,
           1,
           1
          ],
          [
           15817.306638566912,
           1,
           1
          ],
          [
           15817.306638566912,
           1,
           1
          ],
          [
           5000,
           0,
           1
          ],
          [
           8701,
           1,
           1
          ],
          [
           5556,
           1,
           1
          ],
          [
           85715,
           0,
           1
          ],
          [
           4444,
           1,
           1
          ],
          [
           4444,
           1,
           1
          ],
          [
           6944,
           1,
           1
          ],
          [
           7222,
           0,
           1
          ],
          [
           11220,
           0,
           1
          ],
          [
           5357,
           1,
           1
          ],
          [
           5357,
           0,
           1
          ],
          [
           6706,
           1,
           1
          ],
          [
           10288,
           1,
           1
          ],
          [
           28283,
           1,
           1
          ],
          [
           8923,
           1,
           1
          ],
          [
           8222,
           1,
           1
          ],
          [
           20000,
           1,
           1
          ],
          [
           14550,
           1,
           1
          ],
          [
           14550,
           1,
           1
          ],
          [
           30093,
           1,
           1
          ],
          [
           35714,
           1,
           1
          ],
          [
           35714,
           1,
           1
          ],
          [
           35714,
           1,
           1
          ],
          [
           35714,
           1,
           1
          ],
          [
           22857,
           1,
           1
          ],
          [
           22857,
           1,
           1
          ],
          [
           12500,
           1,
           1
          ],
          [
           12500,
           1,
           1
          ],
          [
           15817.306638566912,
           1,
           1
          ],
          [
           15817.306638566912,
           1,
           1
          ],
          [
           15817.306638566912,
           0,
           1
          ],
          [
           4040,
           0,
           1
          ],
          [
           4040,
           1,
           1
          ],
          [
           7778,
           1,
           1
          ],
          [
           7778,
           0,
           1
          ],
          [
           7778,
           1,
           1
          ],
          [
           7778,
           1,
           1
          ],
          [
           7778,
           1,
           1
          ],
          [
           7778,
           1,
           1
          ],
          [
           32000,
           1,
           1
          ],
          [
           32000,
           1,
           1
          ],
          [
           32000,
           1,
           1
          ],
          [
           32000,
           1,
           1
          ],
          [
           32000,
           0,
           1
          ],
          [
           32000,
           1,
           1
          ],
          [
           32000,
           1,
           1
          ],
          [
           32000,
           0,
           1
          ],
          [
           32000,
           1,
           1
          ],
          [
           5666,
           1,
           1
          ],
          [
           5666,
           1,
           1
          ],
          [
           5666,
           0,
           1
          ],
          [
           11667,
           1,
           1
          ],
          [
           11667,
           1,
           1
          ],
          [
           112179,
           0,
           1
          ],
          [
           11111,
           1,
           1
          ],
          [
           11111,
           1,
           1
          ],
          [
           11111,
           1,
           1
          ],
          [
           11111,
           0,
           1
          ],
          [
           15817.306638566912,
           1,
           1
          ],
          [
           6111,
           1,
           0
          ],
          [
           6111,
           1,
           1
          ],
          [
           6111,
           1,
           1
          ],
          [
           6111,
           1,
           1
          ],
          [
           6111,
           1,
           1
          ],
          [
           6111,
           1,
           1
          ],
          [
           6111,
           1,
           1
          ],
          [
           6111,
           1,
           1
          ],
          [
           6111,
           1,
           1
          ],
          [
           6111,
           1,
           1
          ],
          [
           6111,
           1,
           1
          ],
          [
           6111,
           1,
           1
          ],
          [
           6111,
           1,
           1
          ],
          [
           6584,
           1,
           1
          ],
          [
           6584,
           1,
           1
          ],
          [
           6584,
           1,
           1
          ],
          [
           6584,
           1,
           1
          ],
          [
           5794,
           1,
           1
          ],
          [
           5794,
           1,
           1
          ],
          [
           5794,
           1,
           1
          ],
          [
           5794,
           1,
           1
          ],
          [
           5794,
           1,
           1
          ],
          [
           5794,
           1,
           1
          ],
          [
           5794,
           1,
           1
          ],
          [
           5794,
           1,
           1
          ],
          [
           23840,
           1,
           1
          ],
          [
           23840,
           1,
           1
          ],
          [
           23840,
           1,
           1
          ],
          [
           23840,
           1,
           1
          ],
          [
           23840,
           1,
           1
          ],
          [
           23840,
           0,
           1
          ],
          [
           7500,
           1,
           1
          ],
          [
           7500,
           0,
           0
          ],
          [
           7500,
           1,
           1
          ],
          [
           160000,
           0,
           1
          ],
          [
           11556,
           1,
           1
          ],
          [
           11556,
           1,
           1
          ],
          [
           8421,
           1,
           1
          ],
          [
           8421,
           1,
           1
          ],
          [
           8421,
           1,
           1
          ],
          [
           27778,
           0,
           1
          ],
          [
           11722,
           1,
           1
          ],
          [
           24718,
           1,
           1
          ],
          [
           85714,
           1,
           1
          ],
          [
           13333,
           1,
           1
          ],
          [
           13333,
           0,
           1
          ],
          [
           13333,
           0,
           1
          ],
          [
           8418,
           0,
           1
          ],
          [
           1667,
           1,
           1
          ],
          [
           1667,
           0,
           1
          ],
          [
           8333,
           1,
           1
          ],
          [
           24242,
           0,
           1
          ],
          [
           15817.306638566912,
           0,
           1
          ],
          [
           15817.306638566912,
           0,
           1
          ],
          [
           15817.306638566912,
           0,
           1
          ],
          [
           15817.306638566912,
           0,
           1
          ],
          [
           15817.306638566912,
           0,
           1
          ],
          [
           15817.306638566912,
           0,
           1
          ],
          [
           15817.306638566912,
           0,
           1
          ],
          [
           15817.306638566912,
           0,
           1
          ],
          [
           15500,
           0,
           1
          ],
          [
           15500,
           0,
           1
          ],
          [
           15500,
           0,
           1
          ],
          [
           15500,
           0,
           1
          ],
          [
           15500,
           0,
           1
          ],
          [
           20833,
           0,
           1
          ],
          [
           20833,
           0,
           1
          ],
          [
           20833,
           0,
           1
          ],
          [
           20833,
           0,
           1
          ],
          [
           20833,
           0,
           1
          ],
          [
           20833,
           0,
           1
          ],
          [
           20833,
           0,
           1
          ],
          [
           10681,
           0,
           1
          ],
          [
           21818,
           0,
           1
          ],
          [
           21818,
           1,
           1
          ],
          [
           21818,
           0,
           1
          ],
          [
           21818,
           1,
           1
          ],
          [
           21818,
           0,
           1
          ],
          [
           14358,
           0,
           1
          ],
          [
           14358,
           0,
           1
          ],
          [
           14358,
           1,
           1
          ],
          [
           14358,
           1,
           1
          ],
          [
           4444,
           0,
           1
          ],
          [
           7143,
           0,
           1
          ],
          [
           7143,
           0,
           1
          ],
          [
           13333,
           0,
           1
          ],
          [
           9722,
           1,
           1
          ],
          [
           19444,
           1,
           1
          ],
          [
           6667,
           1,
           1
          ],
          [
           6667,
           0,
           1
          ],
          [
           6667,
           1,
           1
          ],
          [
           6667,
           1,
           1
          ],
          [
           6667,
           0,
           1
          ],
          [
           6667,
           1,
           1
          ],
          [
           6667,
           0,
           1
          ],
          [
           6667,
           0,
           1
          ],
          [
           6667,
           0,
           1
          ],
          [
           6667,
           1,
           1
          ],
          [
           6667,
           0,
           1
          ],
          [
           6667,
           0,
           1
          ],
          [
           6667,
           1,
           1
          ],
          [
           6667,
           0,
           0
          ],
          [
           6667,
           0,
           1
          ],
          [
           6667,
           0,
           1
          ],
          [
           6667,
           0,
           1
          ],
          [
           5000,
           0,
           1
          ],
          [
           21071,
           1,
           1
          ],
          [
           14074,
           1,
           1
          ],
          [
           14074,
           0,
           1
          ],
          [
           28846,
           1,
           1
          ],
          [
           28846,
           1,
           1
          ],
          [
           28846,
           1,
           0
          ],
          [
           28846,
           1,
           1
          ],
          [
           28846,
           1,
           1
          ],
          [
           28846,
           0,
           1
          ],
          [
           28846,
           0,
           1
          ],
          [
           28846,
           0,
           1
          ],
          [
           28846,
           1,
           1
          ],
          [
           6944,
           1,
           1
          ],
          [
           6944,
           1,
           1
          ],
          [
           6944,
           1,
           1
          ],
          [
           6944,
           1,
           1
          ],
          [
           6944,
           0,
           1
          ],
          [
           14705,
           1,
           1
          ],
          [
           14705,
           1,
           1
          ],
          [
           18000,
           1,
           1
          ],
          [
           18000,
           1,
           1
          ],
          [
           18000,
           1,
           1
          ],
          [
           17647,
           1,
           1
          ],
          [
           17647,
           0,
           1
          ],
          [
           18055,
           1,
           1
          ],
          [
           18055,
           0,
           1
          ],
          [
           12500,
           0,
           1
          ],
          [
           12500,
           1,
           1
          ],
          [
           12500,
           1,
           1
          ],
          [
           12500,
           1,
           1
          ],
          [
           15817.306638566912,
           1,
           1
          ],
          [
           15817.306638566912,
           1,
           1
          ],
          [
           25000,
           1,
           1
          ],
          [
           25000,
           1,
           1
          ],
          [
           25000,
           1,
           1
          ],
          [
           14818,
           0,
           1
          ],
          [
           14818,
           1,
           1
          ],
          [
           14818,
           1,
           1
          ],
          [
           14818,
           1,
           1
          ],
          [
           14818,
           1,
           1
          ],
          [
           14818,
           0,
           1
          ],
          [
           14818,
           1,
           1
          ],
          [
           14818,
           1,
           1
          ],
          [
           14818,
           1,
           1
          ],
          [
           14818,
           1,
           1
          ],
          [
           14818,
           1,
           1
          ],
          [
           14818,
           0,
           1
          ],
          [
           14818,
           1,
           1
          ],
          [
           14818,
           0,
           1
          ],
          [
           14818,
           1,
           1
          ],
          [
           14818,
           1,
           1
          ],
          [
           14818,
           1,
           1
          ],
          [
           14818,
           1,
           1
          ],
          [
           14818,
           1,
           1
          ],
          [
           14818,
           1,
           1
          ],
          [
           14818,
           1,
           1
          ],
          [
           14818,
           1,
           1
          ],
          [
           14818,
           1,
           1
          ],
          [
           14818,
           1,
           1
          ],
          [
           23863,
           1,
           1
          ],
          [
           15817.306638566912,
           1,
           1
          ],
          [
           15817.306638566912,
           1,
           1
          ],
          [
           15817.306638566912,
           1,
           1
          ],
          [
           15817.306638566912,
           1,
           1
          ],
          [
           15817.306638566912,
           1,
           1
          ],
          [
           15817.306638566912,
           1,
           1
          ],
          [
           14722,
           1,
           1
          ],
          [
           14722,
           1,
           1
          ],
          [
           14722,
           0,
           1
          ],
          [
           14722,
           0,
           1
          ],
          [
           14722,
           0,
           1
          ],
          [
           14722,
           1,
           1
          ],
          [
           14722,
           0,
           1
          ],
          [
           14722,
           0,
           1
          ],
          [
           14722,
           1,
           1
          ],
          [
           14722,
           0,
           1
          ],
          [
           14722,
           1,
           1
          ],
          [
           14722,
           0,
           1
          ],
          [
           13889,
           1,
           1
          ],
          [
           13889,
           1,
           1
          ],
          [
           13889,
           0,
           1
          ],
          [
           7875,
           0,
           1
          ],
          [
           11111,
           1,
           1
          ],
          [
           11111,
           0,
           1
          ],
          [
           11111,
           0,
           1
          ],
          [
           11111,
           0,
           1
          ],
          [
           10943,
           0,
           1
          ],
          [
           10943,
           1,
           1
          ],
          [
           10943,
           1,
           1
          ],
          [
           10943,
           0,
           1
          ],
          [
           15817.306638566912,
           0,
           1
          ],
          [
           15817.306638566912,
           0,
           1
          ],
          [
           15817.306638566912,
           0,
           1
          ],
          [
           15817.306638566912,
           0,
           1
          ],
          [
           15817.306638566912,
           0,
           1
          ],
          [
           15817.306638566912,
           0,
           1
          ],
          [
           15817.306638566912,
           0,
           1
          ],
          [
           15817.306638566912,
           0,
           1
          ],
          [
           15817.306638566912,
           0,
           1
          ],
          [
           15817.306638566912,
           0,
           1
          ],
          [
           15817.306638566912,
           0,
           1
          ],
          [
           15817.306638566912,
           0,
           1
          ],
          [
           15817.306638566912,
           0,
           1
          ],
          [
           15817.306638566912,
           0,
           1
          ],
          [
           15817.306638566912,
           0,
           1
          ],
          [
           15817.306638566912,
           0,
           1
          ],
          [
           15817.306638566912,
           0,
           1
          ],
          [
           15817.306638566912,
           0,
           1
          ],
          [
           15817.306638566912,
           0,
           1
          ],
          [
           15817.306638566912,
           0,
           1
          ],
          [
           15817.306638566912,
           0,
           1
          ],
          [
           15817.306638566912,
           0,
           1
          ],
          [
           15817.306638566912,
           0,
           1
          ],
          [
           15817.306638566912,
           0,
           1
          ],
          [
           15817.306638566912,
           0,
           1
          ],
          [
           10700,
           0,
           1
          ],
          [
           10700,
           0,
           1
          ],
          [
           10700,
           0,
           1
          ],
          [
           10700,
           0,
           1
          ],
          [
           10700,
           0,
           1
          ],
          [
           20492,
           0,
           1
          ],
          [
           20558,
           0,
           1
          ],
          [
           20558,
           0,
           1
          ],
          [
           20558,
           0,
           1
          ],
          [
           17000,
           0,
           1
          ],
          [
           21052,
           0,
           1
          ],
          [
           21052,
           0,
           1
          ],
          [
           21000,
           0,
           1
          ],
          [
           16333,
           0,
           1
          ],
          [
           18793,
           0,
           1
          ],
          [
           19811,
           0,
           1
          ],
          [
           20270,
           0,
           1
          ],
          [
           17619,
           0,
           1
          ],
          [
           17619,
           0,
           1
          ],
          [
           17197,
           0,
           1
          ],
          [
           17197,
           0,
           1
          ],
          [
           16654,
           0,
           1
          ],
          [
           19280,
           0,
           1
          ],
          [
           17176,
           0,
           1
          ],
          [
           20581,
           0,
           1
          ],
          [
           20999,
           0,
           1
          ],
          [
           21311,
           0,
           1
          ],
          [
           21311,
           0,
           1
          ],
          [
           18900,
           0,
           1
          ],
          [
           20588,
           0,
           1
          ],
          [
           20967,
           0,
           1
          ],
          [
           20967,
           0,
           1
          ],
          [
           18344,
           0,
           1
          ],
          [
           17906,
           0,
           1
          ],
          [
           17906,
           0,
           1
          ],
          [
           15817.306638566912,
           0,
           1
          ],
          [
           15817.306638566912,
           0,
           1
          ],
          [
           15817.306638566912,
           0,
           1
          ],
          [
           15817.306638566912,
           0,
           1
          ],
          [
           15817.306638566912,
           0,
           1
          ],
          [
           15817.306638566912,
           0,
           1
          ],
          [
           15817.306638566912,
           0,
           1
          ],
          [
           15817.306638566912,
           1,
           1
          ],
          [
           15817.306638566912,
           0,
           1
          ],
          [
           15817.306638566912,
           0,
           1
          ],
          [
           15817.306638566912,
           0,
           1
          ],
          [
           12500,
           0,
           1
          ],
          [
           12500,
           0,
           1
          ],
          [
           12500,
           0,
           1
          ],
          [
           12500,
           1,
           1
          ],
          [
           12500,
           0,
           1
          ],
          [
           12500,
           0,
           1
          ],
          [
           12500,
           0,
           1
          ],
          [
           12500,
           0,
           1
          ],
          [
           12500,
           0,
           1
          ],
          [
           12500,
           0,
           1
          ],
          [
           12500,
           0,
           1
          ],
          [
           12500,
           0,
           1
          ],
          [
           12500,
           0,
           1
          ],
          [
           12500,
           1,
           1
          ],
          [
           11538,
           0,
           1
          ],
          [
           11538,
           0,
           1
          ],
          [
           11538,
           0,
           1
          ],
          [
           11538,
           0,
           1
          ],
          [
           11538,
           0,
           1
          ],
          [
           15817.306638566912,
           0,
           1
          ],
          [
           15817.306638566912,
           0,
           1
          ],
          [
           15817.306638566912,
           0,
           1
          ],
          [
           15817.306638566912,
           0,
           1
          ],
          [
           15817.306638566912,
           0,
           1
          ],
          [
           15817.306638566912,
           0,
           1
          ],
          [
           15817.306638566912,
           0,
           1
          ],
          [
           15817.306638566912,
           0,
           1
          ],
          [
           15817.306638566912,
           0,
           1
          ],
          [
           15817.306638566912,
           0,
           1
          ],
          [
           15817.306638566912,
           0,
           1
          ],
          [
           15817.306638566912,
           0,
           1
          ],
          [
           15817.306638566912,
           0,
           1
          ],
          [
           15817.306638566912,
           0,
           1
          ],
          [
           15817.306638566912,
           0,
           1
          ],
          [
           15817.306638566912,
           0,
           1
          ],
          [
           15817.306638566912,
           0,
           1
          ],
          [
           15817.306638566912,
           0,
           1
          ],
          [
           15817.306638566912,
           0,
           1
          ],
          [
           15817.306638566912,
           0,
           1
          ],
          [
           15817.306638566912,
           0,
           1
          ],
          [
           15817.306638566912,
           0,
           1
          ],
          [
           15817.306638566912,
           0,
           1
          ],
          [
           15817.306638566912,
           0,
           1
          ],
          [
           6667,
           0,
           1
          ],
          [
           15384,
           0,
           1
          ],
          [
           15384,
           0,
           1
          ],
          [
           15384,
           0,
           1
          ],
          [
           15384,
           0,
           1
          ],
          [
           15817.306638566912,
           1,
           1
          ],
          [
           15817.306638566912,
           1,
           1
          ],
          [
           15817.306638566912,
           0,
           1
          ],
          [
           5222,
           0,
           1
          ],
          [
           5222,
           0,
           1
          ],
          [
           5222,
           0,
           1
          ],
          [
           8333,
           0,
           1
          ],
          [
           8333,
           1,
           1
          ],
          [
           8333,
           1,
           1
          ],
          [
           3714,
           1,
           1
          ],
          [
           3714,
           1,
           1
          ],
          [
           3714,
           0,
           1
          ],
          [
           3714,
           1,
           1
          ],
          [
           3714,
           1,
           0
          ],
          [
           3714,
           1,
           1
          ],
          [
           3714,
           1,
           0
          ],
          [
           3714,
           1,
           1
          ],
          [
           3714,
           1,
           1
          ],
          [
           3714,
           1,
           1
          ],
          [
           3714,
           1,
           1
          ],
          [
           3714,
           0,
           1
          ],
          [
           3714,
           1,
           1
          ],
          [
           3714,
           0,
           1
          ],
          [
           7000,
           1,
           1
          ],
          [
           5455,
           0,
           1
          ],
          [
           4837,
           1,
           1
          ],
          [
           3444,
           1,
           1
          ],
          [
           3444,
           0,
           1
          ],
          [
           4167,
           1,
           1
          ],
          [
           15817.306638566912,
           1,
           0
          ],
          [
           15817.306638566912,
           1,
           1
          ],
          [
           15817.306638566912,
           1,
           0
          ],
          [
           15817.306638566912,
           0,
           0
          ],
          [
           15817.306638566912,
           1,
           0
          ],
          [
           15817.306638566912,
           0,
           1
          ],
          [
           15817.306638566912,
           1,
           1
          ],
          [
           15817.306638566912,
           1,
           1
          ],
          [
           15817.306638566912,
           1,
           1
          ],
          [
           15817.306638566912,
           1,
           0
          ],
          [
           15817.306638566912,
           1,
           1
          ],
          [
           15817.306638566912,
           0,
           1
          ],
          [
           15817.306638566912,
           0,
           1
          ],
          [
           15817.306638566912,
           1,
           1
          ],
          [
           15817.306638566912,
           1,
           1
          ],
          [
           4138,
           0,
           1
          ],
          [
           4138,
           1,
           1
          ],
          [
           4138,
           1,
           1
          ],
          [
           4138,
           1,
           1
          ],
          [
           4138,
           1,
           0
          ],
          [
           4138,
           0,
           0
          ],
          [
           4138,
           1,
           1
          ],
          [
           4138,
           1,
           1
          ],
          [
           4138,
           0,
           1
          ],
          [
           4138,
           1,
           1
          ],
          [
           4138,
           1,
           1
          ],
          [
           4138,
           1,
           1
          ],
          [
           4138,
           1,
           1
          ],
          [
           4138,
           1,
           1
          ],
          [
           4138,
           1,
           1
          ],
          [
           15817.306638566912,
           0,
           1
          ],
          [
           15817.306638566912,
           0,
           1
          ],
          [
           3259,
           1,
           1
          ],
          [
           3294,
           0,
           1
          ],
          [
           3294,
           0,
           1
          ],
          [
           3294,
           0,
           1
          ],
          [
           3294,
           1,
           1
          ],
          [
           3294,
           0,
           1
          ],
          [
           3294,
           1,
           1
          ],
          [
           3294,
           1,
           1
          ],
          [
           3294,
           1,
           1
          ],
          [
           8060,
           1,
           1
          ],
          [
           8060,
           1,
           0
          ],
          [
           8060,
           0,
           1
          ],
          [
           8060,
           1,
           0
          ],
          [
           8060,
           0,
           1
          ],
          [
           8060,
           0,
           1
          ],
          [
           8060,
           0,
           1
          ],
          [
           4678,
           1,
           1
          ],
          [
           3148,
           1,
           1
          ],
          [
           3148,
           1,
           1
          ],
          [
           3148,
           0,
           1
          ],
          [
           4200,
           0,
           1
          ],
          [
           3778,
           0,
           1
          ],
          [
           3778,
           0,
           1
          ],
          [
           2963,
           1,
           1
          ],
          [
           3667,
           0,
           1
          ],
          [
           3667,
           1,
           1
          ],
          [
           7727,
           1,
           1
          ],
          [
           5333,
           1,
           1
          ],
          [
           15817.306638566912,
           1,
           1
          ],
          [
           15817.306638566912,
           1,
           0
          ],
          [
           15817.306638566912,
           1,
           1
          ],
          [
           15817.306638566912,
           0,
           1
          ],
          [
           15817.306638566912,
           1,
           1
          ],
          [
           15817.306638566912,
           1,
           1
          ],
          [
           15817.306638566912,
           1,
           1
          ],
          [
           15817.306638566912,
           1,
           1
          ],
          [
           15817.306638566912,
           0,
           1
          ],
          [
           15817.306638566912,
           1,
           1
          ],
          [
           15817.306638566912,
           0,
           1
          ],
          [
           4922,
           1,
           1
          ],
          [
           4922,
           0,
           1
          ],
          [
           4922,
           0,
           1
          ],
          [
           4922,
           1,
           1
          ],
          [
           4922,
           1,
           1
          ],
          [
           4922,
           0,
           1
          ],
          [
           4922,
           0,
           1
          ],
          [
           4922,
           1,
           1
          ],
          [
           6556,
           1,
           0
          ],
          [
           5820,
           0,
           1
          ],
          [
           5820,
           1,
           1
          ],
          [
           3778,
           0,
           1
          ],
          [
           3778,
           1,
           1
          ],
          [
           3778,
           1,
           1
          ],
          [
           42222,
           1,
           1
          ],
          [
           42222,
           1,
           1
          ],
          [
           42222,
           0,
           1
          ],
          [
           42222,
           1,
           1
          ],
          [
           43137,
           1,
           1
          ],
          [
           15817.306638566912,
           0,
           1
          ],
          [
           4889,
           0,
           1
          ],
          [
           4222,
           0,
           1
          ],
          [
           5000,
           0,
           1
          ],
          [
           5092,
           0,
           1
          ],
          [
           7143,
           0,
           1
          ],
          [
           7143,
           0,
           1
          ],
          [
           5128,
           0,
           1
          ],
          [
           5128,
           0,
           1
          ],
          [
           5128,
           0,
           1
          ],
          [
           5128,
           0,
           1
          ],
          [
           3600,
           0,
           1
          ],
          [
           4571,
           0,
           1
          ],
          [
           4221,
           1,
           1
          ],
          [
           4221,
           0,
           1
          ],
          [
           4221,
           0,
           1
          ],
          [
           6636,
           0,
           1
          ],
          [
           4270,
           0,
           1
          ],
          [
           4270,
           0,
           1
          ],
          [
           4270,
           0,
           1
          ],
          [
           4270,
           1,
           1
          ],
          [
           4270,
           0,
           1
          ],
          [
           5143,
           1,
           1
          ],
          [
           3248,
           1,
           1
          ],
          [
           5051,
           0,
           1
          ],
          [
           5051,
           0,
           1
          ],
          [
           5051,
           1,
           1
          ],
          [
           5051,
           0,
           1
          ],
          [
           5051,
           1,
           1
          ],
          [
           5176,
           0,
           1
          ],
          [
           15817.306638566912,
           1,
           0
          ],
          [
           15817.306638566912,
           1,
           1
          ],
          [
           15817.306638566912,
           1,
           1
          ],
          [
           15817.306638566912,
           1,
           1
          ],
          [
           15817.306638566912,
           1,
           0
          ],
          [
           15817.306638566912,
           1,
           1
          ],
          [
           14888,
           1,
           1
          ],
          [
           14888,
           1,
           1
          ],
          [
           14888,
           1,
           0
          ],
          [
           14888,
           1,
           1
          ],
          [
           14888,
           1,
           1
          ],
          [
           14888,
           1,
           1
          ],
          [
           14888,
           0,
           1
          ],
          [
           14888,
           1,
           1
          ],
          [
           14888,
           0,
           1
          ],
          [
           14888,
           1,
           1
          ],
          [
           14888,
           1,
           1
          ],
          [
           14888,
           1,
           1
          ],
          [
           14888,
           1,
           1
          ],
          [
           14888,
           1,
           1
          ],
          [
           14888,
           0,
           1
          ],
          [
           7200,
           1,
           1
          ],
          [
           7200,
           1,
           1
          ],
          [
           7200,
           1,
           1
          ],
          [
           7200,
           1,
           1
          ],
          [
           7200,
           1,
           1
          ],
          [
           7200,
           1,
           1
          ],
          [
           7200,
           1,
           1
          ],
          [
           21429,
           1,
           1
          ],
          [
           21429,
           1,
           1
          ],
          [
           15817.306638566912,
           0,
           1
          ],
          [
           15817.306638566912,
           0,
           1
          ],
          [
           15817.306638566912,
           0,
           1
          ],
          [
           15817.306638566912,
           0,
           1
          ],
          [
           15817.306638566912,
           1,
           1
          ],
          [
           7666,
           1,
           1
          ],
          [
           7666,
           1,
           1
          ],
          [
           7666,
           0,
           1
          ],
          [
           9200,
           0,
           1
          ],
          [
           9200,
           0,
           1
          ],
          [
           9200,
           0,
           1
          ],
          [
           9200,
           0,
           1
          ],
          [
           8640,
           1,
           1
          ],
          [
           8640,
           0,
           1
          ],
          [
           8640,
           1,
           1
          ],
          [
           6486,
           1,
           1
          ],
          [
           8333,
           1,
           1
          ],
          [
           8333,
           0,
           1
          ],
          [
           12000,
           0,
           1
          ],
          [
           12000,
           0,
           1
          ],
          [
           12000,
           0,
           1
          ],
          [
           9375,
           0,
           1
          ],
          [
           9375,
           0,
           1
          ],
          [
           9375,
           0,
           1
          ],
          [
           5200,
           1,
           1
          ],
          [
           5200,
           0,
           1
          ],
          [
           7500,
           1,
           1
          ],
          [
           6700,
           0,
           1
          ],
          [
           9500,
           0,
           1
          ],
          [
           10625,
           0,
           1
          ],
          [
           15817.306638566912,
           0,
           1
          ],
          [
           15817.306638566912,
           0,
           1
          ],
          [
           15817.306638566912,
           0,
           1
          ],
          [
           15817.306638566912,
           0,
           1
          ],
          [
           15817.306638566912,
           0,
           1
          ],
          [
           15817.306638566912,
           0,
           1
          ],
          [
           15817.306638566912,
           0,
           1
          ],
          [
           15817.306638566912,
           0,
           1
          ],
          [
           15817.306638566912,
           0,
           1
          ],
          [
           15817.306638566912,
           0,
           1
          ],
          [
           15817.306638566912,
           0,
           1
          ],
          [
           15817.306638566912,
           0,
           1
          ],
          [
           15817.306638566912,
           0,
           1
          ],
          [
           15817.306638566912,
           0,
           1
          ],
          [
           15817.306638566912,
           0,
           1
          ],
          [
           15817.306638566912,
           0,
           1
          ],
          [
           15817.306638566912,
           0,
           1
          ],
          [
           9655,
           0,
           1
          ],
          [
           9655,
           0,
           1
          ],
          [
           9655,
           0,
           1
          ],
          [
           9655,
           0,
           1
          ],
          [
           9655,
           0,
           1
          ],
          [
           9655,
           0,
           1
          ],
          [
           9655,
           0,
           1
          ],
          [
           9655,
           0,
           1
          ],
          [
           9655,
           0,
           1
          ],
          [
           9655,
           0,
           1
          ],
          [
           10000,
           0,
           1
          ],
          [
           10000,
           0,
           1
          ],
          [
           10000,
           0,
           1
          ],
          [
           16466,
           0,
           0
          ],
          [
           25512,
           0,
           0
          ],
          [
           25512,
           1,
           1
          ],
          [
           25512,
           1,
           1
          ],
          [
           25512,
           0,
           1
          ],
          [
           30000,
           1,
           1
          ],
          [
           30000,
           0,
           0
          ],
          [
           30000,
           0,
           0
          ],
          [
           30000,
           0,
           0
          ],
          [
           16917,
           0,
           0
          ],
          [
           16917,
           1,
           1
          ],
          [
           16917,
           0,
           1
          ],
          [
           16917,
           1,
           1
          ],
          [
           19841,
           0,
           0
          ],
          [
           19841,
           0,
           1
          ],
          [
           19841,
           0,
           1
          ],
          [
           10320,
           0,
           1
          ],
          [
           10320,
           1,
           1
          ],
          [
           10320,
           1,
           1
          ],
          [
           10320,
           0,
           0
          ],
          [
           10320,
           0,
           1
          ],
          [
           2778,
           1,
           1
          ],
          [
           2778,
           0,
           1
          ],
          [
           2778,
           0,
           1
          ],
          [
           2778,
           1,
           1
          ],
          [
           5556,
           1,
           1
          ],
          [
           5556,
           1,
           1
          ],
          [
           5556,
           0,
           1
          ],
          [
           5556,
           1,
           1
          ],
          [
           5556,
           1,
           1
          ],
          [
           14366,
           0,
           0
          ],
          [
           14366,
           0,
           0
          ],
          [
           14776,
           0,
           0
          ],
          [
           14776,
           0,
           0
          ],
          [
           14776,
           0,
           1
          ],
          [
           14776,
           1,
           1
          ],
          [
           14776,
           0,
           1
          ],
          [
           14366,
           0,
           1
          ],
          [
           14382,
           0,
           0
          ],
          [
           14092,
           0,
           0
          ],
          [
           14092,
           0,
           0
          ],
          [
           14092,
           0,
           1
          ],
          [
           14092,
           1,
           1
          ],
          [
           14815,
           1,
           1
          ],
          [
           14815,
           0,
           1
          ],
          [
           16584,
           1,
           1
          ],
          [
           125984,
           0,
           1
          ],
          [
           125984,
           1,
           1
          ],
          [
           9722,
           1,
           1
          ],
          [
           8761,
           1,
           1
          ],
          [
           8761,
           1,
           1
          ],
          [
           8761,
           0,
           1
          ],
          [
           7290,
           0,
           1
          ],
          [
           7290,
           1,
           1
          ],
          [
           13324,
           0,
           0
          ],
          [
           13324,
           0,
           0
          ],
          [
           13324,
           0,
           0
          ],
          [
           13324,
           0,
           1
          ],
          [
           15817.306638566912,
           0,
           1
          ],
          [
           15817.306638566912,
           0,
           1
          ],
          [
           15817.306638566912,
           0,
           1
          ],
          [
           15817.306638566912,
           0,
           1
          ],
          [
           15817.306638566912,
           0,
           1
          ],
          [
           15817.306638566912,
           0,
           1
          ],
          [
           15817.306638566912,
           0,
           1
          ],
          [
           15817.306638566912,
           0,
           1
          ],
          [
           14285,
           0,
           1
          ],
          [
           12151,
           0,
           1
          ],
          [
           12151,
           0,
           1
          ],
          [
           12151,
           0,
           1
          ],
          [
           8889,
           1,
           1
          ],
          [
           8889,
           0,
           1
          ],
          [
           8889,
           0,
           1
          ],
          [
           8889,
           0,
           1
          ],
          [
           8889,
           0,
           1
          ],
          [
           8889,
           0,
           1
          ],
          [
           8889,
           0,
           1
          ],
          [
           8889,
           0,
           1
          ],
          [
           8889,
           0,
           1
          ],
          [
           15178,
           0,
           1
          ],
          [
           5806,
           1,
           1
          ],
          [
           5806,
           0,
           1
          ],
          [
           10838,
           0,
           1
          ],
          [
           10838,
           0,
           1
          ],
          [
           10838,
           0,
           1
          ],
          [
           10838,
           0,
           1
          ],
          [
           10838,
           0,
           1
          ],
          [
           10838,
           0,
           1
          ],
          [
           15817.306638566912,
           1,
           1
          ],
          [
           15817.306638566912,
           1,
           1
          ],
          [
           15817.306638566912,
           1,
           1
          ],
          [
           15817.306638566912,
           1,
           1
          ],
          [
           15817.306638566912,
           1,
           1
          ],
          [
           15817.306638566912,
           1,
           1
          ],
          [
           10556,
           0,
           1
          ],
          [
           10556,
           0,
           1
          ],
          [
           10556,
           1,
           1
          ],
          [
           10556,
           1,
           1
          ],
          [
           10556,
           0,
           1
          ],
          [
           10556,
           1,
           1
          ],
          [
           10556,
           0,
           1
          ],
          [
           10556,
           1,
           1
          ],
          [
           10556,
           0,
           1
          ],
          [
           12307,
           0,
           1
          ],
          [
           12307,
           0,
           1
          ],
          [
           12307,
           1,
           1
          ],
          [
           15882,
           0,
           1
          ],
          [
           15882,
           1,
           1
          ],
          [
           15882,
           0,
           1
          ],
          [
           65714,
           1,
           1
          ],
          [
           65714,
           0,
           1
          ],
          [
           65714,
           1,
           1
          ],
          [
           65714,
           1,
           1
          ],
          [
           11363,
           0,
           1
          ],
          [
           13571,
           0,
           1
          ],
          [
           11923,
           0,
           1
          ],
          [
           12272,
           0,
           1
          ],
          [
           13125,
           0,
           1
          ],
          [
           15817.306638566912,
           1,
           1
          ],
          [
           15817.306638566912,
           1,
           1
          ],
          [
           15817.306638566912,
           1,
           0
          ],
          [
           15817.306638566912,
           1,
           1
          ],
          [
           15817.306638566912,
           0,
           1
          ],
          [
           13608,
           0,
           1
          ],
          [
           11905,
           1,
           1
          ],
          [
           11905,
           1,
           1
          ],
          [
           11905,
           1,
           1
          ],
          [
           11905,
           0,
           1
          ],
          [
           11905,
           0,
           1
          ],
          [
           11905,
           1,
           1
          ],
          [
           11905,
           0,
           1
          ],
          [
           11905,
           1,
           1
          ],
          [
           11905,
           1,
           1
          ],
          [
           11905,
           1,
           1
          ],
          [
           11905,
           1,
           1
          ],
          [
           11905,
           1,
           0
          ],
          [
           11905,
           1,
           0
          ],
          [
           9909,
           1,
           1
          ],
          [
           9909,
           1,
           1
          ],
          [
           7800,
           0,
           1
          ],
          [
           16667,
           1,
           1
          ],
          [
           15278,
           1,
           1
          ],
          [
           15278,
           1,
           1
          ],
          [
           15278,
           1,
           1
          ],
          [
           15278,
           0,
           1
          ],
          [
           15278,
           1,
           1
          ],
          [
           15278,
           1,
           1
          ],
          [
           15278,
           1,
           1
          ],
          [
           15817.306638566912,
           1,
           1
          ],
          [
           15817.306638566912,
           1,
           1
          ],
          [
           15817.306638566912,
           1,
           1
          ],
          [
           15817.306638566912,
           1,
           1
          ],
          [
           15817.306638566912,
           0,
           1
          ],
          [
           15817.306638566912,
           1,
           1
          ],
          [
           15817.306638566912,
           1,
           1
          ],
          [
           15817.306638566912,
           1,
           1
          ],
          [
           15817.306638566912,
           0,
           1
          ],
          [
           15817.306638566912,
           0,
           1
          ],
          [
           15817.306638566912,
           1,
           1
          ],
          [
           15817.306638566912,
           1,
           1
          ],
          [
           15817.306638566912,
           0,
           1
          ],
          [
           15817.306638566912,
           1,
           1
          ],
          [
           15817.306638566912,
           0,
           1
          ],
          [
           15817.306638566912,
           0,
           1
          ],
          [
           15817.306638566912,
           0,
           1
          ],
          [
           10000,
           1,
           1
          ],
          [
           10000,
           0,
           1
          ],
          [
           10000,
           1,
           1
          ],
          [
           10000,
           0,
           1
          ],
          [
           10000,
           0,
           1
          ],
          [
           18000,
           1,
           1
          ],
          [
           18000,
           1,
           1
          ],
          [
           18000,
           0,
           1
          ],
          [
           18000,
           1,
           1
          ],
          [
           18000,
           1,
           1
          ],
          [
           18000,
           0,
           1
          ],
          [
           18000,
           0,
           1
          ],
          [
           18000,
           1,
           0
          ],
          [
           15817.306638566912,
           1,
           1
          ],
          [
           15817.306638566912,
           1,
           1
          ],
          [
           24166,
           1,
           1
          ],
          [
           30000,
           0,
           1
          ],
          [
           30000,
           1,
           1
          ],
          [
           30000,
           0,
           1
          ],
          [
           30000,
           1,
           0
          ],
          [
           30000,
           1,
           1
          ],
          [
           30000,
           0,
           1
          ],
          [
           30000,
           1,
           1
          ],
          [
           170000,
           1,
           1
          ],
          [
           170000,
           1,
           1
          ],
          [
           170000,
           0,
           1
          ],
          [
           170000,
           1,
           1
          ],
          [
           18055,
           1,
           0
          ],
          [
           18055,
           1,
           1
          ],
          [
           18055,
           1,
           1
          ],
          [
           18055,
           1,
           1
          ],
          [
           18055,
           1,
           1
          ],
          [
           18055,
           1,
           1
          ],
          [
           25000,
           1,
           1
          ],
          [
           25000,
           0,
           1
          ],
          [
           25000,
           1,
           1
          ],
          [
           17677,
           0,
           0
          ],
          [
           17677,
           1,
           1
          ],
          [
           17677,
           1,
           1
          ],
          [
           17677,
           1,
           1
          ],
          [
           17677,
           1,
           1
          ],
          [
           37037,
           1,
           1
          ],
          [
           37037,
           1,
           1
          ],
          [
           15817.306638566912,
           1,
           1
          ],
          [
           15817.306638566912,
           1,
           0
          ],
          [
           20938,
           1,
           1
          ],
          [
           20938,
           1,
           1
          ],
          [
           20938,
           1,
           1
          ],
          [
           20938,
           1,
           1
          ],
          [
           20938,
           1,
           1
          ],
          [
           20938,
           1,
           1
          ],
          [
           18333,
           1,
           1
          ],
          [
           18333,
           1,
           1
          ],
          [
           18333,
           1,
           1
          ],
          [
           18333,
           0,
           1
          ],
          [
           18333,
           1,
           1
          ],
          [
           6878,
           0,
           1
          ],
          [
           6878,
           1,
           1
          ],
          [
           6878,
           1,
           1
          ],
          [
           6878,
           1,
           1
          ],
          [
           6878,
           1,
           1
          ],
          [
           6878,
           1,
           1
          ],
          [
           6878,
           1,
           1
          ],
          [
           6878,
           1,
           1
          ],
          [
           6878,
           1,
           1
          ],
          [
           12916,
           1,
           1
          ],
          [
           12916,
           1,
           1
          ],
          [
           12916,
           1,
           1
          ],
          [
           12916,
           1,
           1
          ],
          [
           12916,
           1,
           1
          ],
          [
           12916,
           1,
           1
          ],
          [
           12916,
           1,
           1
          ],
          [
           12916,
           1,
           1
          ]
         ],
         "hovertemplate": "Price=%{x}<br>Area=%{y}<br>BHK=%{marker.size}<br>Per_Sqft=%{customdata[0]}<br>Type=%{customdata[1]}<br>Status=%{customdata[2]}<br>Locality=%{marker.color}<extra></extra>",
         "legendgroup": "",
         "marker": {
          "color": [
           282,
           138,
           49,
           280,
           281,
           280,
           280,
           93,
           277,
           278,
           276,
           282,
           280,
           280,
           285,
           283,
           278,
           273,
           272,
           280,
           192,
           354,
           274,
           244,
           284,
           276,
           282,
           302,
           282,
           275,
           167,
           166,
           355,
           170,
           169,
           166,
           89,
           166,
           168,
           166,
           166,
           169,
           170,
           8,
           167,
           168,
           8,
           355,
           168,
           169,
           167,
           169,
           355,
           355,
           169,
           168,
           166,
           167,
           355,
           62,
           326,
           175,
           92,
           340,
           162,
           19,
           175,
           334,
           324,
           48,
           203,
           40,
           215,
           101,
           193,
           52,
           22,
           211,
           18,
           137,
           202,
           21,
           154,
           165,
           105,
           104,
           103,
           48,
           169,
           169,
           169,
           169,
           169,
           169,
           169,
           169,
           169,
           169,
           169,
           169,
           169,
           169,
           169,
           169,
           169,
           169,
           166,
           169,
           169,
           169,
           169,
           169,
           169,
           169,
           169,
           169,
           168,
           168,
           168,
           356,
           168,
           168,
           168,
           168,
           168,
           168,
           168,
           356,
           168,
           168,
           168,
           168,
           168,
           168,
           168,
           168,
           168,
           168,
           168,
           168,
           168,
           168,
           168,
           34,
           34,
           37,
           35,
           34,
           35,
           34,
           34,
           35,
           35,
           35,
           34,
           34,
           35,
           36,
           34,
           36,
           35,
           303,
           280,
           280,
           279,
           279,
           279,
           279,
           279,
           279,
           278,
           276,
           276,
           271,
           138,
           138,
           138,
           138,
           138,
           138,
           138,
           138,
           138,
           138,
           138,
           138,
           138,
           138,
           138,
           138,
           138,
           138,
           138,
           138,
           138,
           138,
           138,
           138,
           138,
           138,
           138,
           341,
           341,
           343,
           357,
           326,
           108,
           5,
           163,
           118,
           0,
           162,
           141,
           124,
           231,
           339,
           341,
           97,
           19,
           334,
           351,
           346,
           123,
           280,
           123,
           155,
           29,
           110,
           218,
           218,
           176,
           220,
           109,
           176,
           218,
           110,
           176,
           176,
           218,
           218,
           218,
           109,
           218,
           176,
           146,
           218,
           109,
           176,
           218,
           335,
           218,
           218,
           218,
           218,
           219,
           218,
           176,
           145,
           145,
           145,
           145,
           145,
           145,
           145,
           145,
           145,
           145,
           145,
           145,
           145,
           145,
           145,
           145,
           145,
           145,
           145,
           145,
           145,
           145,
           145,
           145,
           145,
           145,
           145,
           145,
           145,
           145,
           268,
           143,
           130,
           213,
           23,
           286,
           213,
           313,
           358,
           84,
           313,
           360,
           23,
           313,
           268,
           313,
           287,
           267,
           190,
           189,
           121,
           323,
           189,
           267,
           130,
           142,
           313,
           6,
           313,
           213,
           360,
           360,
           360,
           360,
           360,
           360,
           360,
           360,
           360,
           360,
           360,
           360,
           360,
           360,
           360,
           360,
           360,
           360,
           360,
           360,
           362,
           360,
           360,
           360,
           360,
           360,
           360,
           360,
           360,
           142,
           172,
           172,
           172,
           172,
           172,
           172,
           172,
           172,
           172,
           172,
           172,
           172,
           172,
           127,
           127,
           171,
           172,
           172,
           159,
           171,
           174,
           173,
           172,
           172,
           172,
           27,
           172,
           127,
           172,
           172,
           342,
           231,
           102,
           344,
           342,
           344,
           342,
           288,
           344,
           288,
           342,
           342,
           102,
           157,
           200,
           342,
           342,
           344,
           199,
           102,
           344,
           345,
           342,
           342,
           224,
           102,
           240,
           241,
           241,
           241,
           241,
           239,
           241,
           341,
           239,
           239,
           241,
           241,
           241,
           239,
           241,
           239,
           241,
           241,
           260,
           241,
           241,
           239,
           239,
           24,
           241,
           241,
           24,
           65,
           68,
           346,
           346,
           64,
           56,
           346,
           304,
           64,
           63,
           346,
           63,
           67,
           347,
           106,
           64,
           111,
           349,
           63,
           350,
           66,
           349,
           346,
           346,
           158,
           79,
           111,
           348,
           346,
           346,
           54,
           312,
           315,
           312,
           266,
           151,
           264,
           349,
           329,
           113,
           160,
           113,
           336,
           317,
           113,
           113,
           317,
           113,
           328,
           313,
           172,
           314,
           313,
           172,
           298,
           11,
           298,
           298,
           298,
           263,
           298,
           197,
           299,
           246,
           263,
           298,
           251,
           298,
           298,
           298,
           246,
           298,
           298,
           298,
           298,
           263,
           298,
           298,
           298,
           298,
           298,
           298,
           298,
           298,
           291,
           16,
           291,
           291,
           291,
           291,
           291,
           292,
           291,
           291,
           16,
           16,
           161,
           295,
           291,
           291,
           291,
           161,
           291,
           291,
           291,
           291,
           294,
           16,
           291,
           291,
           16,
           291,
           293,
           296,
           269,
           232,
           261,
           234,
           238,
           232,
           235,
           236,
           76,
           232,
           15,
           128,
           232,
           238,
           198,
           212,
           233,
           232,
           232,
           164,
           238,
           75,
           261,
           237,
           325,
           232,
           20,
           235,
           128,
           333,
           18,
           265,
           265,
           120,
           39,
           26,
           201,
           25,
           1,
           25,
           297,
           262,
           1,
           1,
           126,
           135,
           1,
           25,
           91,
           1,
           301,
           309,
           1,
           229,
           214,
           144,
           221,
           126,
           227,
           289,
           51,
           50,
           51,
           50,
           247,
           50,
           248,
           248,
           50,
           247,
           51,
           50,
           50,
           51,
           50,
           50,
           248,
           51,
           248,
           50,
           50,
           50,
           50,
           51,
           248,
           50,
           50,
           50,
           51,
           248,
           7,
           321,
           209,
           112,
           13,
           209,
           13,
           321,
           209,
           337,
           7,
           209,
           210,
           7,
           125,
           7,
           7,
           7,
           249,
           7,
           250,
           209,
           7,
           225,
           7,
           359,
           225,
           225,
           338,
           7,
           70,
           61,
           71,
           61,
           61,
           61,
           61,
           61,
           61,
           61,
           61,
           60,
           60,
           61,
           61,
           61,
           61,
           61,
           61,
           61,
           61,
           60,
           61,
           61,
           327,
           327,
           305,
           306,
           69,
           222,
           222,
           331,
           222,
           330,
           331,
           188,
           136,
           332,
           331,
           222,
           331,
           330,
           330,
           222,
           330,
           330,
           222,
           222,
           188,
           222,
           222,
           222,
           188,
           330,
           188,
           136,
           330,
           136,
           41,
           43,
           139,
           41,
           41,
           41,
           42,
           41,
           41,
           139,
           41,
           41,
           42,
           41,
           42,
           41,
           41,
           41,
           42,
           41,
           88,
           41,
           41,
           42,
           42,
           14,
           41,
           41,
           42,
           42,
           194,
           194,
           194,
           194,
           194,
           194,
           194,
           194,
           194,
           196,
           194,
           194,
           194,
           194,
           9,
           195,
           9,
           194,
           194,
           194,
           194,
           194,
           194,
           194,
           9,
           194,
           33,
           194,
           194,
           194,
           177,
           178,
           178,
           177,
           178,
           179,
           178,
           178,
           177,
           178,
           178,
           177,
           177,
           177,
           178,
           178,
           178,
           178,
           178,
           178,
           178,
           181,
           180,
           177,
           177,
           177,
           178,
           353,
           177,
           180,
           206,
           58,
           55,
           72,
           204,
           204,
           204,
           74,
           57,
           74,
           74,
           81,
           74,
           74,
           204,
           205,
           58,
           204,
           74,
           32,
           204,
           208,
           74,
           204,
           207,
           74,
           57,
           74,
           204,
           204,
           183,
           322,
           115,
           115,
           115,
           115,
           114,
           183,
           183,
           114,
           183,
           183,
           183,
           115,
           156,
           183,
           184,
           183,
           156,
           183,
           183,
           183,
           183,
           115,
           115,
           183,
           115,
           322,
           322,
           322,
           98,
           129,
           100,
           98,
           98,
           98,
           98,
           98,
           53,
           98,
           53,
           99,
           98,
           83,
           98,
           98,
           98,
           99,
           80,
           99,
           98,
           98,
           59,
           99,
           98,
           99,
           98,
           98,
           82,
           53,
           352,
           352,
           352,
           300,
           187,
           245,
           2,
           107,
           316,
           352,
           186,
           352,
           352,
           352,
           352,
           310,
           300,
           310,
           2,
           352,
           352,
           10,
           217,
           182,
           242,
           352,
           352,
           38,
           134,
           117,
           118,
           118,
           3,
           29,
           329,
           329,
           119,
           119,
           119,
           118,
           329,
           329,
           4,
           118,
           3,
           329,
           329,
           329,
           4,
           119,
           140,
           361,
           329,
           29,
           28,
           3,
           4,
           329,
           329,
           329,
           339,
           339,
           339,
           339,
           96,
           30,
           339,
           339,
           339,
           339,
           339,
           78,
           152,
           152,
           243,
           152,
           77,
           152,
           96,
           152,
           153,
           77,
           96,
           152,
           339,
           339,
           339,
           339,
           85,
           86,
           223,
           223,
           223,
           223,
           86,
           86,
           86,
           86,
           223,
           86,
           223,
           86,
           223,
           86,
           86,
           223,
           223,
           85,
           86,
           86,
           223,
           86,
           86,
           223,
           223,
           86,
           223,
           223,
           319,
           319,
           318,
           320,
           311,
           311,
           319,
           320,
           230,
           311,
           319,
           230,
           230,
           311,
           319,
           319,
           319,
           319,
           319,
           319,
           230,
           12,
           319,
           230,
           319,
           319,
           319,
           319,
           319,
           319,
           256,
           252,
           259,
           252,
           259,
           259,
           257,
           258,
           259,
           259,
           87,
           252,
           256,
           255,
           258,
           259,
           252,
           259,
           258,
           258,
           259,
           254,
           31,
           253,
           259,
           253,
           253,
           31,
           253,
           228,
           122,
           122,
           122,
           147,
           122,
           73,
           147,
           147,
           122,
           116,
           122,
           122,
           270,
           147,
           94,
           90,
           147,
           150,
           94,
           122,
           148,
           148,
           149,
           185,
           95,
           147,
           147,
           94,
           148,
           122,
           131,
           131,
           131,
           132,
           131,
           307,
           131,
           133,
           290,
           131,
           133,
           191,
           226,
           131,
           290,
           133,
           131,
           133,
           131,
           131,
           131,
           308,
           133,
           307,
           133,
           133,
           290,
           131,
           133,
           290,
           44,
           17,
           44,
           44,
           44,
           44,
           44,
           44,
           44,
           46,
           44,
           44,
           47,
           44,
           44,
           216,
           44,
           44,
           44,
           44,
           44,
           44,
           44,
           216,
           44,
           44,
           44,
           44,
           45,
           44
          ],
          "coloraxis": "coloraxis",
          "size": [
           3,
           2,
           2,
           2,
           2,
           4,
           4,
           2,
           3,
           4,
           3,
           3,
           2,
           2,
           2,
           2,
           2,
           4,
           3,
           2,
           2,
           3,
           1,
           2,
           2,
           3,
           3,
           1,
           2,
           4,
           2,
           2,
           3,
           2,
           3,
           2,
           2,
           3,
           3,
           3,
           2,
           3,
           2,
           2,
           2,
           3,
           2,
           3,
           2,
           4,
           2,
           3,
           3,
           3,
           3,
           2,
           4,
           2,
           3,
           1,
           2,
           3,
           4,
           3,
           3,
           3,
           2,
           3,
           3,
           3,
           4,
           4,
           4,
           3,
           4,
           3,
           4,
           3,
           3,
           3,
           4,
           3,
           3,
           2,
           3,
           1,
           3,
           3,
           1,
           3,
           3,
           4,
           3,
           3,
           3,
           3,
           3,
           3,
           3,
           3,
           4,
           4,
           3,
           3,
           3,
           2,
           4,
           3,
           3,
           3,
           3,
           3,
           3,
           3,
           3,
           3,
           2,
           2,
           3,
           2,
           2,
           3,
           3,
           3,
           2,
           3,
           2,
           2,
           2,
           2,
           2,
           2,
           3,
           2,
           2,
           2,
           2,
           3,
           2,
           2,
           3,
           2,
           3,
           2,
           3,
           2,
           3,
           3,
           2,
           1,
           2,
           2,
           2,
           2,
           1,
           3,
           6,
           6,
           2,
           2,
           1,
           2,
           4,
           4,
           3,
           4,
           3,
           3,
           3,
           4,
           4,
           3,
           3,
           1,
           2,
           2,
           1,
           3,
           4,
           3,
           2,
           1,
           2,
           3,
           2,
           3,
           2,
           4,
           5,
           1,
           3,
           3,
           3,
           1,
           2,
           4,
           4,
           3,
           3,
           3,
           3,
           5,
           4,
           3,
           3,
           2,
           4,
           2,
           2,
           2,
           4,
           3,
           5,
           5,
           3,
           3,
           3,
           2,
           3,
           3,
           4,
           2,
           4,
           4,
           3,
           2,
           4,
           4,
           4,
           4,
           5,
           4,
           3,
           3,
           4,
           4,
           4,
           3,
           3,
           4,
           4,
           5,
           3,
           4,
           4,
           4,
           3,
           3,
           4,
           6,
           4,
           4,
           3,
           4,
           4,
           4,
           4,
           4,
           4,
           4,
           5,
           4,
           4,
           4,
           3,
           4,
           2,
           4,
           3,
           4,
           4,
           3,
           3,
           4,
           3,
           3,
           4,
           4,
           4,
           3,
           3,
           2,
           4,
           3,
           4,
           4,
           4,
           2,
           2,
           4,
           2,
           3,
           3,
           3,
           2,
           2,
           2,
           3,
           3,
           2,
           2,
           3,
           2,
           2,
           2,
           2,
           4,
           3,
           2,
           4,
           3,
           3,
           2,
           4,
           2,
           1,
           3,
           3,
           1,
           2,
           2,
           2,
           1,
           2,
           2,
           1,
           2,
           3,
           2,
           1,
           3,
           4,
           3,
           7,
           3,
           5,
           2,
           2,
           3,
           3,
           6,
           6,
           4,
           2,
           4,
           4,
           2,
           3,
           1,
           3,
           3,
           2,
           2,
           2,
           3,
           3,
           3,
           2,
           2,
           4,
           2,
           1,
           2,
           4,
           2,
           2,
           3,
           2,
           3,
           2,
           2,
           2,
           4,
           3,
           1,
           3,
           3,
           2,
           3,
           2,
           2,
           3,
           2,
           1,
           3,
           2,
           4,
           3,
           2,
           3,
           2,
           2,
           2,
           1,
           2,
           3,
           2,
           2,
           2,
           2,
           2,
           3,
           3,
           2,
           3,
           3,
           4,
           2,
           3,
           4,
           3,
           3,
           3,
           3,
           1,
           2,
           3,
           3,
           3,
           3,
           2,
           3,
           3,
           3,
           1,
           3,
           2,
           2,
           3,
           3,
           4,
           3,
           2,
           3,
           3,
           4,
           1,
           3,
           3,
           1,
           2,
           2,
           3,
           3,
           1,
           2,
           3,
           4,
           3,
           1,
           4,
           2,
           3,
           2,
           2,
           3,
           2,
           4,
           4,
           3,
           2,
           3,
           3,
           2,
           4,
           4,
           5,
           4,
           4,
           3,
           2,
           1,
           2,
           4,
           5,
           3,
           2,
           2,
           2,
           4,
           2,
           2,
           2,
           2,
           4,
           3,
           4,
           4,
           4,
           3,
           4,
           4,
           3,
           3,
           3,
           3,
           4,
           3,
           4,
           3,
           3,
           3,
           4,
           3,
           4,
           3,
           3,
           4,
           3,
           3,
           4,
           3,
           4,
           4,
           3,
           3,
           3,
           4,
           4,
           2,
           4,
           3,
           3,
           2,
           2,
           1,
           2,
           4,
           3,
           4,
           6,
           3,
           2,
           4,
           4,
           3,
           4,
           2,
           4,
           4,
           3,
           4,
           3,
           4,
           3,
           3,
           3,
           3,
           2,
           3,
           3,
           2,
           1,
           2,
           2,
           4,
           3,
           2,
           3,
           2,
           4,
           3,
           2,
           3,
           1,
           3,
           3,
           3,
           3,
           2,
           2,
           3,
           3,
           3,
           3,
           3,
           3,
           3,
           3,
           3,
           4,
           3,
           3,
           3,
           3,
           3,
           3,
           3,
           3,
           3,
           3,
           3,
           2,
           3,
           4,
           3,
           3,
           2,
           4,
           2,
           3,
           3,
           3,
           4,
           5,
           5,
           3,
           3,
           4,
           3,
           4,
           4,
           3,
           3,
           4,
           3,
           3,
           3,
           3,
           2,
           4,
           5,
           3,
           3,
           5,
           5,
           5,
           2,
           5,
           5,
           2,
           3,
           3,
           3,
           2,
           2,
           3,
           3,
           2,
           3,
           3,
           3,
           3,
           4,
           3,
           3,
           3,
           3,
           4,
           2,
           2,
           2,
           3,
           3,
           3,
           2,
           3,
           2,
           1,
           2,
           2,
           3,
           3,
           3,
           4,
           10,
           4,
           3,
           2,
           3,
           4,
           2,
           3,
           4,
           3,
           2,
           3,
           2,
           3,
           4,
           4,
           2,
           4,
           2,
           2,
           2,
           2,
           3,
           4,
           3,
           2,
           3,
           2,
           3,
           3,
           3,
           1,
           3,
           1,
           2,
           1,
           2,
           2,
           1,
           1,
           1,
           2,
           2,
           2,
           2,
           3,
           3,
           3,
           3,
           3,
           3,
           3,
           3,
           3,
           2,
           2,
           1,
           3,
           2,
           4,
           3,
           3,
           2,
           4,
           2,
           2,
           3,
           3,
           2,
           2,
           2,
           4,
           2,
           3,
           2,
           2,
           3,
           3,
           2,
           3,
           2,
           3,
           3,
           3,
           2,
           1,
           3,
           2,
           1,
           2,
           2,
           3,
           1,
           3,
           3,
           1,
           3,
           3,
           4,
           3,
           3,
           3,
           3,
           3,
           3,
           2,
           1,
           3,
           1,
           1,
           1,
           1,
           1,
           1,
           2,
           3,
           2,
           3,
           4,
           3,
           3,
           2,
           2,
           3,
           1,
           2,
           3,
           3,
           2,
           3,
           2,
           3,
           1,
           2,
           2,
           1,
           3,
           3,
           2,
           2,
           1,
           2,
           3,
           3,
           2,
           3,
           2,
           1,
           1,
           2,
           1,
           2,
           1,
           1,
           1,
           1,
           1,
           1,
           1,
           1,
           1,
           1,
           1,
           2,
           1,
           1,
           3,
           2,
           2,
           1,
           2,
           1,
           1,
           1,
           1,
           3,
           1,
           2,
           3,
           4,
           4,
           4,
           4,
           4,
           2,
           2,
           4,
           2,
           2,
           2,
           3,
           3,
           3,
           2,
           2,
           3,
           4,
           1,
           2,
           3,
           4,
           4,
           3,
           4,
           3,
           3,
           3,
           1,
           2,
           4,
           1,
           2,
           2,
           1,
           3,
           3,
           1,
           3,
           3,
           3,
           2,
           2,
           1,
           3,
           3,
           1,
           2,
           3,
           2,
           1,
           1,
           1,
           2,
           2,
           2,
           3,
           3,
           2,
           3,
           2,
           3,
           4,
           2,
           4,
           3,
           3,
           3,
           2,
           2,
           2,
           3,
           3,
           2,
           2,
           3,
           3,
           3,
           2,
           3,
           3,
           3,
           3,
           3,
           2,
           3,
           2,
           3,
           2,
           2,
           2,
           1,
           2,
           4,
           2,
           2,
           2,
           2,
           2,
           3,
           3,
           2,
           3,
           3,
           4,
           4,
           2,
           4,
           2,
           2,
           3,
           2,
           3,
           3,
           2,
           2,
           4,
           4,
           3,
           3,
           2,
           4,
           4,
           3,
           3,
           2,
           3,
           5,
           4,
           3,
           3,
           2,
           2,
           3,
           2,
           1,
           2,
           2,
           3,
           2,
           2,
           3,
           3,
           3,
           3,
           3,
           3,
           4,
           3,
           4,
           3,
           4,
           3,
           2,
           4,
           3,
           2,
           3,
           3,
           3,
           3,
           4,
           3,
           3,
           3,
           4,
           3,
           4,
           2,
           4,
           3,
           4,
           3,
           3,
           3,
           2,
           3,
           3,
           2,
           3,
           2,
           3,
           3,
           1,
           3,
           3,
           3,
           3,
           1,
           3,
           3,
           2,
           3,
           2,
           2,
           3,
           2,
           2,
           2,
           4,
           3,
           2,
           3,
           2,
           2,
           3,
           4,
           4,
           4,
           3,
           3,
           3,
           3,
           3,
           4,
           3,
           4,
           4,
           2,
           3,
           3,
           5,
           3,
           5,
           3,
           2,
           4,
           2,
           2,
           3,
           3,
           4,
           3,
           3,
           2,
           2,
           2,
           2,
           3,
           3,
           3,
           1,
           2,
           3,
           3,
           3,
           3,
           2,
           3,
           3,
           2,
           2,
           2,
           2,
           2,
           3,
           3,
           2,
           2,
           3,
           3,
           2,
           2,
           2,
           2,
           2,
           3,
           3,
           3,
           5,
           4,
           3,
           4,
           3,
           3,
           4,
           4,
           4,
           4,
           3,
           4,
           2,
           3,
           4,
           3,
           3,
           4,
           3,
           4,
           3,
           4,
           4,
           3,
           4,
           4,
           3,
           3,
           3,
           3,
           4,
           3,
           3,
           2,
           3,
           3,
           3,
           3,
           2,
           4,
           2,
           3,
           3,
           4,
           4,
           3,
           3,
           3,
           3,
           3,
           3,
           3,
           4,
           3,
           3,
           2,
           3
          ],
          "sizemode": "area",
          "sizeref": 0.025,
          "symbol": "circle"
         },
         "mode": "markers",
         "name": "",
         "showlegend": false,
         "type": "scattergl",
         "x": [
          6500000,
          5000000,
          15500000,
          4200000,
          6200000,
          15500000,
          10000000,
          4000000,
          6800000,
          15000000,
          6200000,
          7700000,
          5500000,
          5000000,
          3310000,
          4700000,
          4500000,
          17000000,
          25000000,
          6000000,
          11000000,
          4500000,
          5300000,
          10500000,
          12000000,
          7000000,
          7000000,
          3400000,
          5000000,
          21000000,
          15000000,
          10500000,
          22500000,
          13600000,
          30000000,
          13500000,
          8910000,
          25000000,
          26000000,
          30000000,
          12500000,
          21000000,
          7800000,
          11500000,
          11500000,
          26000000,
          13000000,
          22000000,
          15800000,
          57500000,
          10000000,
          30000000,
          22000000,
          24000000,
          31500000,
          14600000,
          240000000,
          8300000,
          22500000,
          4600000,
          1900000,
          5130000,
          5890000,
          3700000,
          17400000,
          15500000,
          2400000,
          17200000,
          14200000,
          13500000,
          30000000,
          21000000,
          20500000,
          24000000,
          16500000,
          14900000,
          19200000,
          14500000,
          15600000,
          11400000,
          31500000,
          15800000,
          16000000,
          10500000,
          14800000,
          1850000,
          6800000,
          14200000,
          8900000,
          37500000,
          21000000,
          57500000,
          30000000,
          30000000,
          31500000,
          30000000,
          41500000,
          24800000,
          35000000,
          40000000,
          46000000,
          55000000,
          24500000,
          24500000,
          32500000,
          20000000,
          240000000,
          19000000,
          26000000,
          21000000,
          27500000,
          32500000,
          45000000,
          21000000,
          28000000,
          29500000,
          14000000,
          12500000,
          26000000,
          11500000,
          14600000,
          25500000,
          31000000,
          22000000,
          13400000,
          35000000,
          11000000,
          6300000,
          12500000,
          14500000,
          22500000,
          15500000,
          26000000,
          15800000,
          15000000,
          13000000,
          15000000,
          25000000,
          16500000,
          10300000,
          26000000,
          11000000,
          28500000,
          11000000,
          4500000,
          3600000,
          4300000,
          4000000,
          1650000,
          2000000,
          3000000,
          1400000,
          2000000,
          2000000,
          2000000,
          2600000,
          5100000,
          6000000,
          4000000,
          6200000,
          3500000,
          7600000,
          13500000,
          12500000,
          6500000,
          22000000,
          6000000,
          7300000,
          7600000,
          20000000,
          15000000,
          6200000,
          6200000,
          2300000,
          4700000,
          5500000,
          2000000,
          7300000,
          13000000,
          11500000,
          2800000,
          2200000,
          4400000,
          13500000,
          4100000,
          12000000,
          3500000,
          15000000,
          17500000,
          1900000,
          5500000,
          10000000,
          4700000,
          2400000,
          3800000,
          23000000,
          24500000,
          10000000,
          5500000,
          7000000,
          6500000,
          135000000,
          93000000,
          4370000,
          4620000,
          1900000,
          70000000,
          3000000,
          3300000,
          24900000,
          60000000,
          17400000,
          51000000,
          170000000,
          5510000,
          25000000,
          57000000,
          2940000,
          15500000,
          17200000,
          55000000,
          15000000,
          51000000,
          13000000,
          30000000,
          2400000,
          5500000,
          45000000,
          60000000,
          65000000,
          220000000,
          60000000,
          38500000,
          50000000,
          75000000,
          70000000,
          160000000,
          85000000,
          40000000,
          90000000,
          56000000,
          135500000,
          60000000,
          170000000,
          50000000,
          58000000,
          37500000,
          45000000,
          70000000,
          29500000,
          60000000,
          70000000,
          50000000,
          75000000,
          52500000,
          55000000,
          120000000,
          65000000,
          75000000,
          47500000,
          70000000,
          47500000,
          40000000,
          85000000,
          26000000,
          35000000,
          20000000,
          79000000,
          17000000,
          47500000,
          43000000,
          26000000,
          25000000,
          51000000,
          40000000,
          22500000,
          70000000,
          45000000,
          51100000,
          25500000,
          26500000,
          15000000,
          55000000,
          26000000,
          38000000,
          72500000,
          65000000,
          4600000,
          9200000,
          9500000,
          4500000,
          6500000,
          5650000,
          9300000,
          2700000,
          6500000,
          5800000,
          5500000,
          6000000,
          4500000,
          4100000,
          3800000,
          3300000,
          2900000,
          2000000,
          1550000,
          11300000,
          4500000,
          3300000,
          11500000,
          6000000,
          9000000,
          4500000,
          14000000,
          7300000,
          1900000,
          7000000,
          6000000,
          6400000,
          2700000,
          6500000,
          4000000,
          3000000,
          5000000,
          6000000,
          2500000,
          6500000,
          8000000,
          2700000,
          4500000,
          5700000,
          25000000,
          70000000,
          26500000,
          18500000,
          30000000,
          22000000,
          9000000,
          65000000,
          22500000,
          8700000,
          22000000,
          18500000,
          16000000,
          16000000,
          9000000,
          4500000,
          6000000,
          2700000,
          6500000,
          4000000,
          2600000,
          3500000,
          7500000,
          7000000,
          4500000,
          5500000,
          2700000,
          2400000,
          11500000,
          3600000,
          1700000,
          2500000,
          6600000,
          3700000,
          3500000,
          5400000,
          2550000,
          12500000,
          5600000,
          7000000,
          3500000,
          35000000,
          9000000,
          2300000,
          6000000,
          6000000,
          2650000,
          5510000,
          3200000,
          2600000,
          4000000,
          1850000,
          1700000,
          2800000,
          2150000,
          6800000,
          6200000,
          3100000,
          3400000,
          4000000,
          4800000,
          2500000,
          2000000,
          1900000,
          5800000,
          2900000,
          2000000,
          2600000,
          2900000,
          3200000,
          5400000,
          3800000,
          8200000,
          8000000,
          9500000,
          20000000,
          7400000,
          37500000,
          15000000,
          55300000,
          26500000,
          16000000,
          10400000,
          1700000,
          8000000,
          27000000,
          19500000,
          50000000,
          21100000,
          5900000,
          12000000,
          12000000,
          24000000,
          7000000,
          15000000,
          1500000,
          3950000,
          12500000,
          1600000,
          36500000,
          20000000,
          15000000,
          25000000,
          18500000,
          23500000,
          8000000,
          23000000,
          31000000,
          7400000,
          15500000,
          12000000,
          23500000,
          25000000,
          7000000,
          17500000,
          25000000,
          29000000,
          21900000,
          7500000,
          23500000,
          24000000,
          31000000,
          16500000,
          5000000,
          24000000,
          17000000,
          40000000,
          22500000,
          20000000,
          7500000,
          3600000,
          35000000,
          6000000,
          17500000,
          35000000,
          10200000,
          29000000,
          41000000,
          6000000,
          2500000,
          2200000,
          21500000,
          15000000,
          28900000,
          5500000,
          1950000,
          3800000,
          6200000,
          14000000,
          7500000,
          2670000,
          2500000,
          5000000,
          29500000,
          19000000,
          25500000,
          75000000,
          75000000,
          34000000,
          47500000,
          75000000,
          23000000,
          24000000,
          21500000,
          28500000,
          12500000,
          45000000,
          30500000,
          22500000,
          28000000,
          25000000,
          33700000,
          27000000,
          43500000,
          29000000,
          30000000,
          52100000,
          32500000,
          20500000,
          25000000,
          30000000,
          51000000,
          31000000,
          37500000,
          32500000,
          37500000,
          55000000,
          87500000,
          16300000,
          65000000,
          25000000,
          38000000,
          15000000,
          2000000,
          3000000,
          8500000,
          55000000,
          22500000,
          72500000,
          160000000,
          12500000,
          17000000,
          82500000,
          55000000,
          35000000,
          42500000,
          4700000,
          52500000,
          80000000,
          11000000,
          74000000,
          37500000,
          52500000,
          26000000,
          15500000,
          22000000,
          21000000,
          5000000,
          22000000,
          26500000,
          8770000,
          4500000,
          8500000,
          8600000,
          42500000,
          13100000,
          7000000,
          30000000,
          13000000,
          23100000,
          16000000,
          12500000,
          24500000,
          3200000,
          6300000,
          15000000,
          5700000,
          21000000,
          7500000,
          6500000,
          27500000,
          12000000,
          18000000,
          15600000,
          15500000,
          15200000,
          25000000,
          15000000,
          15800000,
          31500000,
          14000000,
          13200000,
          15800000,
          16200000,
          15500000,
          14500000,
          14900000,
          17200000,
          18000000,
          15500000,
          15800000,
          12600000,
          15000000,
          19500000,
          16600000,
          17200000,
          13000000,
          16500000,
          10700000,
          16200000,
          16500000,
          14900000,
          27500000,
          62500000,
          70000000,
          35500000,
          42100000,
          42500000,
          44000000,
          43200000,
          52500000,
          34300000,
          38000000,
          52500000,
          37500000,
          37000000,
          40000000,
          36200000,
          29000000,
          42500000,
          60000000,
          36500000,
          42500000,
          71500000,
          65000000,
          58000000,
          27500000,
          70000000,
          65000000,
          28600000,
          39000000,
          32500000,
          34000000,
          16500000,
          13800000,
          21000000,
          22500000,
          15000000,
          20000000,
          20000000,
          26000000,
          19500000,
          21500000,
          26500000,
          20000000,
          18000000,
          19000000,
          36500000,
          15000000,
          17500000,
          14000000,
          21000000,
          15600000,
          19000000,
          16500000,
          19000000,
          16500000,
          3000000,
          15000000,
          14300000,
          18500000,
          19000000,
          19000000,
          15800000,
          17000000,
          15500000,
          16000000,
          12900000,
          13500000,
          17800000,
          13200000,
          14000000,
          17500000,
          17000000,
          13000000,
          17000000,
          12700000,
          13500000,
          17400000,
          17800000,
          12700000,
          16200000,
          11100000,
          13600000,
          13100000,
          12500000,
          13600000,
          12000000,
          20000000,
          13500000,
          14000000,
          10800000,
          9000000,
          6300000,
          5500000,
          2350000,
          8500000,
          1650000,
          10000000,
          1500000,
          2800000,
          2600000,
          2350000,
          2350000,
          2000000,
          5000000,
          3500000,
          4500000,
          4000000,
          10800000,
          10000000,
          9000000,
          8500000,
          6000000,
          5500000,
          7000000,
          6000000,
          3700000,
          3100000,
          4500000,
          1500000,
          7090000,
          4500000,
          5500000,
          63000000,
          6990000,
          4400000,
          12500000,
          3000000,
          2800000,
          5000000,
          6000000,
          4500000,
          2800000,
          2500000,
          8500000,
          3000000,
          4900000,
          3500000,
          3000000,
          7020000,
          60000000,
          3500000,
          7000000,
          7000000,
          4500000,
          5990000,
          4400000,
          2500000,
          1600000,
          6500000,
          2750000,
          1500000,
          2200000,
          2800000,
          4500000,
          1800000,
          8500000,
          8500000,
          1700000,
          7000000,
          5600000,
          13500000,
          8500000,
          6000000,
          7200000,
          6500000,
          8400000,
          8500000,
          4000000,
          1700000,
          6000000,
          1600000,
          2100000,
          1700000,
          1500000,
          1200000,
          1650000,
          3500000,
          8500000,
          3200000,
          4400000,
          7200000,
          7500000,
          6500000,
          3500000,
          6500000,
          6200000,
          2500000,
          3000000,
          6000000,
          4800000,
          3790000,
          4200000,
          2900000,
          5000000,
          2100000,
          3200000,
          3000000,
          2300000,
          5900000,
          5500000,
          3500000,
          1700000,
          1850000,
          2300000,
          3800000,
          4500000,
          2200000,
          5200000,
          2200000,
          1500000,
          2200000,
          3800000,
          1800000,
          2850000,
          2500000,
          3500000,
          2000000,
          3000000,
          2000000,
          3500000,
          1800000,
          1600000,
          1600000,
          2000000,
          1500000,
          3000000,
          1490000,
          3500000,
          4000000,
          1750000,
          4600000,
          1800000,
          1900000,
          1000000,
          1000000,
          1000000,
          3500000,
          5000000,
          2200000,
          13000000,
          34000000,
          60000000,
          74500000,
          75000000,
          62500000,
          67000000,
          8500000,
          11500000,
          52500000,
          12000000,
          10700000,
          9000000,
          100000000,
          6200000,
          17000000,
          12500000,
          13000000,
          4200000,
          36000000,
          2300000,
          8100000,
          10000000,
          62500000,
          65000000,
          20000000,
          57500000,
          30000000,
          30000000,
          30000000,
          3300000,
          7350000,
          12500000,
          3500000,
          6500000,
          6900000,
          3600000,
          13500000,
          9200000,
          2500000,
          17000000,
          9030000,
          9300000,
          6500000,
          3300000,
          2400000,
          15000000,
          7000000,
          4200000,
          5800000,
          4800000,
          7500000,
          3000000,
          4300000,
          2600000,
          7000000,
          6000000,
          6700000,
          9500000,
          17000000,
          8000000,
          12000000,
          9000000,
          11500000,
          20000000,
          8550000,
          10500000,
          12000000,
          11000000,
          12000000,
          9000000,
          10000000,
          8100000,
          9200000,
          14200000,
          7500000,
          9500000,
          14000000,
          11600000,
          12000000,
          7500000,
          9800000,
          12000000,
          12500000,
          16500000,
          12000000,
          7200000,
          15000000,
          10000000,
          11000000,
          24700000,
          24900000,
          3600000,
          1700000,
          11000000,
          75000000,
          24800000,
          24900000,
          24900000,
          25900000,
          11700000,
          13500000,
          5500000,
          30000000,
          4950000,
          16000000,
          30000000,
          41000000,
          3800000,
          68900000,
          1800000,
          1500000,
          12500000,
          1600000,
          2400000,
          7000000,
          3100000,
          14500000,
          61500000,
          27500000,
          25500000,
          25000000,
          18500000,
          39700000,
          6800000,
          6540000,
          22000000,
          17000000,
          27500000,
          73700000,
          52300000,
          16000000,
          15000000,
          10000000,
          5000000,
          20000000,
          16000000,
          5500000,
          7000000,
          4100000,
          24000000,
          12500000,
          3900000,
          14500000,
          20000000,
          24500000,
          20900000,
          43100000,
          18000000,
          50000000,
          18500000,
          46500000,
          17500000,
          42500000,
          15500000,
          15000000,
          40000000,
          20000000,
          6700000,
          16000000,
          8000000,
          25000000,
          25000000,
          37500000,
          25000000,
          23000000,
          17500000,
          44000000,
          15000000,
          42500000,
          5000000,
          38000000,
          19000000,
          43500000,
          19500000,
          14200000,
          14200000,
          13500000,
          21000000,
          22500000,
          19000000,
          7500000,
          4000000,
          8000000,
          19000000,
          7000000,
          5800000,
          8000000,
          18800000,
          6000000,
          2200000,
          6500000,
          23500000,
          16000000,
          20000000,
          5500000,
          13500000,
          22500000,
          3800000,
          4600000,
          17500000,
          5500000,
          22500000,
          12500000,
          19000000,
          15500000,
          13500000,
          21000000,
          50000000,
          42500000,
          45500000,
          23000000,
          12000000,
          35000000,
          25000000,
          29000000,
          80000000,
          20500000,
          52500000,
          37500000,
          7500000,
          32500000,
          24500000,
          65000000,
          27500000,
          115000000,
          28000000,
          8000000,
          75100000,
          7800000,
          15000000,
          27500000,
          25000000,
          26000000,
          23500000,
          4200000,
          10000000,
          18500000,
          3300000,
          3800000,
          7000000,
          16500000,
          8000000,
          5600000,
          21000000,
          21000000,
          8600000,
          6600000,
          14000000,
          4700000,
          30000000,
          26000000,
          18500000,
          6500000,
          15000000,
          8000000,
          16100000,
          6800000,
          6800000,
          9000000,
          18000000,
          27500000,
          13500000,
          14000000,
          9000000,
          16000000,
          11000000,
          5500000,
          47500000,
          45000000,
          43500000,
          180000000,
          80000000,
          37500000,
          60000000,
          71000000,
          18500000,
          70000000,
          85000000,
          190000000,
          135000000,
          35000000,
          65000000,
          27500000,
          45000000,
          100000000,
          47000000,
          27500000,
          70000000,
          36500000,
          65000000,
          35000000,
          56000000,
          110000000,
          24000000,
          102500000,
          100000000,
          45000000,
          29000000,
          25500000,
          33500000,
          62500000,
          47500000,
          14700000,
          18000000,
          22500000,
          22000000,
          22200000,
          22500000,
          7500000,
          30000000,
          6500000,
          35000000,
          17500000,
          60000000,
          40000000,
          11500000,
          22500000,
          28500000,
          29000000,
          15500000,
          26000000,
          16500000,
          55000000,
          12500000,
          17500000,
          11500000,
          18500000
         ],
         "xaxis": "x",
         "y": [
          800,
          750,
          950,
          600,
          650,
          1300,
          1350,
          650,
          985,
          1300,
          1100,
          870,
          630,
          660,
          344.4448,
          660,
          550,
          1100,
          1150,
          650,
          850,
          900,
          430.556,
          900,
          914.9315,
          1100,
          800,
          500,
          28,
          2160,
          800,
          900,
          1080,
          750,
          1450,
          900,
          810,
          1350,
          1710,
          1650,
          1280,
          1260,
          1130,
          600,
          850,
          1500,
          900,
          1000,
          900,
          2925,
          900,
          1600,
          1143,
          1150,
          1500,
          850,
          8000,
          890,
          1100,
          750,
          850,
          1350,
          1387,
          1050,
          1500,
          1200,
          700,
          1700,
          1550,
          1400,
          1900,
          2160,
          1700,
          1850,
          1800,
          1620,
          1800,
          1540,
          1600,
          1400,
          2300,
          1560,
          1500,
          1050,
          1800,
          400,
          1150,
          1525,
          900,
          1450,
          1260,
          2925,
          1710,
          1600,
          1500,
          2200,
          1350,
          1710,
          1350,
          1500,
          2880,
          2700,
          1400,
          1800,
          1400,
          1000,
          8000,
          1700,
          1600,
          1350,
          1700,
          1400,
          1450,
          1350,
          1700,
          1600,
          800,
          1350,
          1500,
          750,
          850,
          1575,
          1675,
          1350,
          900,
          1800,
          900,
          900,
          900,
          800,
          1100,
          810,
          1500,
          900,
          825,
          900,
          875,
          1350,
          750,
          900,
          1350,
          900,
          1800,
          900,
          810,
          450,
          100,
          900,
          500,
          450,
          75,
          270,
          500,
          444,
          400,
          729,
          4050,
          2400,
          450,
          405,
          666,
          1000,
          1360,
          1550,
          850,
          2170,
          720,
          850,
          950,
          2300,
          1300,
          1100,
          1030,
          350,
          720,
          800,
          350,
          980,
          1600,
          1450,
          445,
          380,
          680,
          1600,
          630,
          1500,
          550,
          2500,
          2800,
          300,
          800,
          1295,
          700,
          350,
          450,
          2200,
          2300,
          1150,
          800,
          850,
          720,
          4688,
          3901,
          950,
          1000,
          850,
          2400,
          540,
          540,
          976,
          2700,
          1500,
          2900,
          5025,
          1000,
          1135,
          2306,
          850,
          1200,
          1700,
          1800,
          1100,
          22050,
          1550,
          1600,
          700,
          45,
          3510,
          4500,
          1800,
          6000,
          4300,
          1700,
          2500,
          4500,
          2450,
          10350,
          4800,
          1600,
          3500,
          2100,
          4200,
          1500,
          8150,
          2200,
          3500,
          2070,
          3500,
          2000,
          2800,
          2550,
          4500,
          1400,
          2800,
          2700,
          4500,
          7200,
          2799,
          2650,
          2200,
          3500,
          2200,
          2200,
          3500,
          1440,
          3150,
          900,
          3690,
          1200,
          4500,
          2799,
          1350,
          1200,
          2177,
          1500,
          1600,
          4500,
          2150,
          2107,
          1150,
          1240,
          1000,
          4500,
          1150,
          2000,
          4500,
          3000,
          700,
          750,
          1350,
          900,
          970,
          1000,
          1425,
          440,
          1017,
          650,
          950,
          810,
          750,
          990,
          800,
          675,
          558,
          445,
          360,
          1350,
          850,
          846,
          1300,
          900,
          1050,
          850,
          1650,
          1150,
          495.1394,
          1053,
          810,
          750,
          540,
          747,
          720,
          376.7365,
          1125,
          713,
          360,
          900,
          713,
          504,
          70,
          850,
          2430,
          2475,
          2970,
          2250,
          1500,
          1512,
          400,
          2160,
          630,
          324,
          720,
          675,
          700,
          675,
          720,
          850,
          801,
          450,
          1000,
          990,
          420,
          450,
          1000,
          900,
          800,
          720,
          450,
          675,
          1700,
          550,
          387,
          450,
          900,
          500,
          441,
          800,
          450,
          1000,
          715,
          600,
          540,
          312,
          810,
          270,
          900,
          1000,
          540,
          1000,
          500,
          540,
          780,
          450,
          360,
          900,
          495,
          1200,
          1000,
          620,
          680,
          805,
          729,
          540,
          360,
          550,
          1001,
          450,
          550,
          550,
          675,
          585,
          810,
          765,
          70,
          800,
          900,
          1680,
          900,
          2000,
          2000,
          1900,
          1530,
          100,
          900,
          270,
          950,
          1800,
          1500,
          1800,
          1800,
          850,
          140,
          900,
          1800,
          200,
          1782,
          900,
          405,
          1500,
          66,
          2000,
          1200,
          1100,
          1400,
          1600,
          1600,
          600,
          1600,
          2000,
          650,
          1100,
          1075,
          1450,
          1200,
          600,
          1000,
          1600,
          1750,
          1300,
          550,
          2200,
          1100,
          1700,
          1100,
          1000,
          1350,
          1184,
          2000,
          3500,
          900,
          1250,
          504,
          65,
          450,
          1800,
          1800,
          1530,
          1750,
          2210,
          760,
          400,
          380,
          904.1676,
          900,
          810,
          100,
          50,
          58,
          900,
          1650,
          1000,
          852,
          700,
          1000,
          1700,
          1350,
          2100,
          2600,
          3000,
          1450,
          2050,
          3000,
          1800,
          900,
          1500,
          1500,
          1800,
          1674,
          2025,
          1300,
          990,
          2100,
          2250,
          1500,
          2700,
          1700,
          1700,
          2050,
          1800,
          1500,
          2000,
          1500,
          24300,
          2475,
          1800,
          1300,
          1500,
          2100,
          1800,
          1100,
          2035,
          1100,
          1550,
          700,
          150,
          540,
          810,
          3250,
          1600,
          4000,
          5500,
          900,
          972,
          4150,
          2250,
          1650,
          2610,
          600,
          1700,
          2250,
          880,
          4200,
          1450,
          2200,
          1620,
          1078,
          1710,
          1150,
          450,
          1818,
          1800,
          780,
          405,
          900,
          807.2925,
          2700,
          1100,
          585,
          2152.78,
          960,
          1800,
          1100,
          900,
          1620,
          378,
          800,
          1350,
          850,
          1580,
          820,
          594,
          14220,
          800,
          1500,
          1600,
          1650,
          1600,
          1900,
          1400,
          1550,
          2000,
          1500,
          1550,
          1600,
          1600,
          1800,
          1470,
          1500,
          1750,
          1650,
          1850,
          1480,
          1214,
          1380,
          1600,
          1585,
          1700,
          1200,
          1800,
          1000,
          1500,
          1700,
          1750,
          2700,
          3050,
          3405,
          1500,
          2105,
          2500,
          2090,
          2525,
          2500,
          2100,
          2022,
          2650,
          1850,
          2100,
          1700,
          2105,
          1250,
          2552,
          3112,
          2125,
          2065,
          3405,
          3050,
          2300,
          1455,
          3400,
          3100,
          1400,
          2126,
          1815,
          1700,
          700,
          980,
          1350,
          1800,
          968.751,
          1250,
          1800,
          1400,
          1000,
          1800,
          1500,
          1600,
          1400,
          1400,
          2700,
          1100,
          1200,
          1400,
          1500,
          1320,
          1300,
          1150,
          1440,
          1400,
          450,
          1300,
          1200,
          1300,
          1400,
          1400,
          1600,
          1200,
          1600,
          1250,
          950,
          1200,
          1400,
          950,
          1350,
          1550,
          1300,
          1000,
          1500,
          950,
          1200,
          1400,
          1500,
          1050,
          1550,
          950,
          1150,
          1150,
          1150,
          1500,
          1800,
          1300,
          1150,
          1500,
          1150,
          900,
          1150,
          1000,
          450,
          1350,
          445,
          1200,
          50,
          1100,
          700,
          500,
          540,
          450,
          800,
          700,
          750,
          750,
          1600,
          1000,
          900,
          1700,
          1100,
          1000,
          1000,
          1100,
          765,
          900,
          600,
          360,
          950,
          3600,
          1305,
          1800,
          950,
          800,
          1800,
          800,
          675,
          1175,
          1500,
          810,
          630,
          650,
          1800,
          725,
          900,
          750,
          700,
          950,
          1600,
          900,
          1500,
          500,
          1035,
          825,
          1300,
          765,
          580,
          1750,
          650,
          405,
          675,
          850,
          800,
          405,
          1350,
          1350,
          450,
          1300,
          1050,
          1675,
          1250,
          1080,
          1170,
          1250,
          1500,
          1350,
          855,
          540,
          1044.0983,
          405,
          500,
          450,
          405,
          405,
          450,
          173,
          1100,
          600,
          800,
          990,
          1100,
          1100,
          527,
          1000,
          1000,
          450,
          600,
          950,
          855,
          770,
          810,
          710,
          950,
          450,
          500,
          600,
          420,
          900,
          945,
          565,
          450,
          430,
          550,
          810,
          720,
          360,
          820,
          459,
          378,
          450,
          900,
          360,
          559.7228,
          350,
          365,
          390,
          350,
          210,
          50,
          500,
          350,
          379,
          236.8058,
          445,
          452.0838,
          350,
          437,
          61,
          495,
          900,
          350,
          585,
          198,
          4900,
          2077.4327,
          50,
          990,
          425,
          750,
          1400,
          3600,
          3000,
          2750,
          2050,
          3000,
          850,
          750,
          2600,
          800,
          550,
          700,
          2316,
          900,
          100,
          900,
          1500,
          650,
          2000,
          500,
          1125,
          1300,
          2500,
          2200,
          1290,
          2250,
          1350,
          1400,
          1700,
          450,
          750,
          1500,
          400,
          650,
          900,
          400,
          900,
          1000,
          405,
          1700,
          800,
          1076.39,
          750,
          460,
          370,
          1800,
          1080,
          350,
          500,
          900,
          800,
          350,
          430.556,
          500,
          1450,
          800,
          1000,
          1000,
          1600,
          900,
          1500,
          1050,
          1300,
          1600,
          900,
          1350,
          1000,
          1400,
          975,
          900,
          1100,
          950,
          1300,
          1459,
          1000,
          1100,
          1450,
          1450,
          1150,
          780,
          1300,
          1350,
          1200,
          1460,
          1460,
          1100,
          1500,
          1050,
          1350,
          1500,
          976,
          540,
          450,
          900,
          2500,
          979.5149,
          945,
          976,
          1531,
          1000,
          750,
          900,
          1512,
          35,
          1500,
          2907,
          2210,
          750,
          2518.7526,
          588,
          540,
          1100,
          550,
          750,
          1260,
          675,
          810,
          3150,
          2000,
          1775,
          1135,
          1252,
          2000,
          530,
          1332,
          1017,
          987,
          1912,
          5236,
          2805,
          1500,
          1280,
          675,
          576,
          1206,
          1143,
          345,
          720,
          468,
          1600,
          950,
          535,
          1200,
          1501,
          1135,
          1200,
          2200,
          1240,
          3002,
          1350,
          2300,
          1429,
          2430,
          1450,
          1250,
          2800,
          1646,
          900,
          1250,
          900,
          1590,
          990,
          2282,
          1260,
          1457,
          1400,
          2175,
          1450,
          2800,
          861.112,
          2282,
          1753,
          2659,
          1550,
          1470,
          702,
          1138,
          1600,
          1600,
          1250,
          810,
          585,
          1700,
          1800,
          600,
          1250,
          600,
          1600,
          1100,
          450,
          855,
          1291.668,
          1300,
          1350,
          900,
          850,
          1650,
          650,
          630,
          1250,
          1800,
          1500,
          1100,
          1400,
          1300,
          1100,
          1600,
          2250,
          2592,
          1800,
          1700,
          1640,
          2572,
          2100,
          1620,
          2500,
          2250,
          2445,
          2250,
          800,
          1450,
          1440,
          5220,
          1800,
          4455,
          195,
          807.2925,
          3500,
          1000,
          900,
          1800,
          17010,
          2340,
          1350,
          464,
          954,
          1155,
          500,
          700,
          900,
          1260,
          950,
          405,
          1800,
          1300,
          1000,
          900,
          1800,
          720,
          1485,
          1600,
          1200,
          900,
          900,
          800,
          1150,
          900,
          1070,
          1050,
          1000,
          1550,
          1300,
          810,
          900,
          1200,
          1000,
          720,
          2520,
          1700,
          1800,
          6000,
          1800,
          2000,
          2066,
          2050,
          1100,
          4500,
          4500,
          6500,
          4350,
          1750,
          3600,
          1200,
          1500,
          2250,
          1800,
          1600,
          2800,
          1700,
          2400,
          1980,
          2100,
          5400,
          1250,
          2300,
          2700,
          1450,
          2097,
          1250,
          1600,
          2600,
          1700,
          1116,
          1070,
          1200,
          1200,
          1200,
          1450,
          1000,
          2430,
          945,
          1650,
          1350,
          2625,
          1800,
          125,
          1440,
          1900,
          1800,
          1200,
          1800,
          1200,
          4118,
          1050,
          875,
          990,
          11050
         ],
         "yaxis": "y"
        }
       ],
       "layout": {
        "autosize": true,
        "coloraxis": {
         "colorbar": {
          "title": {
           "text": "Locality"
          }
         },
         "colorscale": [
          [
           0,
           "#0d0887"
          ],
          [
           0.1111111111111111,
           "#46039f"
          ],
          [
           0.2222222222222222,
           "#7201a8"
          ],
          [
           0.3333333333333333,
           "#9c179e"
          ],
          [
           0.4444444444444444,
           "#bd3786"
          ],
          [
           0.5555555555555556,
           "#d8576b"
          ],
          [
           0.6666666666666666,
           "#ed7953"
          ],
          [
           0.7777777777777778,
           "#fb9f3a"
          ],
          [
           0.8888888888888888,
           "#fdca26"
          ],
          [
           1,
           "#f0f921"
          ]
         ]
        },
        "legend": {
         "itemsizing": "constant",
         "tracegroupgap": 0
        },
        "margin": {
         "t": 60
        },
        "template": {
         "data": {
          "bar": [
           {
            "error_x": {
             "color": "#2a3f5f"
            },
            "error_y": {
             "color": "#2a3f5f"
            },
            "marker": {
             "line": {
              "color": "#E5ECF6",
              "width": 0.5
             },
             "pattern": {
              "fillmode": "overlay",
              "size": 10,
              "solidity": 0.2
             }
            },
            "type": "bar"
           }
          ],
          "barpolar": [
           {
            "marker": {
             "line": {
              "color": "#E5ECF6",
              "width": 0.5
             },
             "pattern": {
              "fillmode": "overlay",
              "size": 10,
              "solidity": 0.2
             }
            },
            "type": "barpolar"
           }
          ],
          "carpet": [
           {
            "aaxis": {
             "endlinecolor": "#2a3f5f",
             "gridcolor": "white",
             "linecolor": "white",
             "minorgridcolor": "white",
             "startlinecolor": "#2a3f5f"
            },
            "baxis": {
             "endlinecolor": "#2a3f5f",
             "gridcolor": "white",
             "linecolor": "white",
             "minorgridcolor": "white",
             "startlinecolor": "#2a3f5f"
            },
            "type": "carpet"
           }
          ],
          "choropleth": [
           {
            "colorbar": {
             "outlinewidth": 0,
             "ticks": ""
            },
            "type": "choropleth"
           }
          ],
          "contour": [
           {
            "colorbar": {
             "outlinewidth": 0,
             "ticks": ""
            },
            "colorscale": [
             [
              0,
              "#0d0887"
             ],
             [
              0.1111111111111111,
              "#46039f"
             ],
             [
              0.2222222222222222,
              "#7201a8"
             ],
             [
              0.3333333333333333,
              "#9c179e"
             ],
             [
              0.4444444444444444,
              "#bd3786"
             ],
             [
              0.5555555555555556,
              "#d8576b"
             ],
             [
              0.6666666666666666,
              "#ed7953"
             ],
             [
              0.7777777777777778,
              "#fb9f3a"
             ],
             [
              0.8888888888888888,
              "#fdca26"
             ],
             [
              1,
              "#f0f921"
             ]
            ],
            "type": "contour"
           }
          ],
          "contourcarpet": [
           {
            "colorbar": {
             "outlinewidth": 0,
             "ticks": ""
            },
            "type": "contourcarpet"
           }
          ],
          "heatmap": [
           {
            "colorbar": {
             "outlinewidth": 0,
             "ticks": ""
            },
            "colorscale": [
             [
              0,
              "#0d0887"
             ],
             [
              0.1111111111111111,
              "#46039f"
             ],
             [
              0.2222222222222222,
              "#7201a8"
             ],
             [
              0.3333333333333333,
              "#9c179e"
             ],
             [
              0.4444444444444444,
              "#bd3786"
             ],
             [
              0.5555555555555556,
              "#d8576b"
             ],
             [
              0.6666666666666666,
              "#ed7953"
             ],
             [
              0.7777777777777778,
              "#fb9f3a"
             ],
             [
              0.8888888888888888,
              "#fdca26"
             ],
             [
              1,
              "#f0f921"
             ]
            ],
            "type": "heatmap"
           }
          ],
          "heatmapgl": [
           {
            "colorbar": {
             "outlinewidth": 0,
             "ticks": ""
            },
            "colorscale": [
             [
              0,
              "#0d0887"
             ],
             [
              0.1111111111111111,
              "#46039f"
             ],
             [
              0.2222222222222222,
              "#7201a8"
             ],
             [
              0.3333333333333333,
              "#9c179e"
             ],
             [
              0.4444444444444444,
              "#bd3786"
             ],
             [
              0.5555555555555556,
              "#d8576b"
             ],
             [
              0.6666666666666666,
              "#ed7953"
             ],
             [
              0.7777777777777778,
              "#fb9f3a"
             ],
             [
              0.8888888888888888,
              "#fdca26"
             ],
             [
              1,
              "#f0f921"
             ]
            ],
            "type": "heatmapgl"
           }
          ],
          "histogram": [
           {
            "marker": {
             "pattern": {
              "fillmode": "overlay",
              "size": 10,
              "solidity": 0.2
             }
            },
            "type": "histogram"
           }
          ],
          "histogram2d": [
           {
            "colorbar": {
             "outlinewidth": 0,
             "ticks": ""
            },
            "colorscale": [
             [
              0,
              "#0d0887"
             ],
             [
              0.1111111111111111,
              "#46039f"
             ],
             [
              0.2222222222222222,
              "#7201a8"
             ],
             [
              0.3333333333333333,
              "#9c179e"
             ],
             [
              0.4444444444444444,
              "#bd3786"
             ],
             [
              0.5555555555555556,
              "#d8576b"
             ],
             [
              0.6666666666666666,
              "#ed7953"
             ],
             [
              0.7777777777777778,
              "#fb9f3a"
             ],
             [
              0.8888888888888888,
              "#fdca26"
             ],
             [
              1,
              "#f0f921"
             ]
            ],
            "type": "histogram2d"
           }
          ],
          "histogram2dcontour": [
           {
            "colorbar": {
             "outlinewidth": 0,
             "ticks": ""
            },
            "colorscale": [
             [
              0,
              "#0d0887"
             ],
             [
              0.1111111111111111,
              "#46039f"
             ],
             [
              0.2222222222222222,
              "#7201a8"
             ],
             [
              0.3333333333333333,
              "#9c179e"
             ],
             [
              0.4444444444444444,
              "#bd3786"
             ],
             [
              0.5555555555555556,
              "#d8576b"
             ],
             [
              0.6666666666666666,
              "#ed7953"
             ],
             [
              0.7777777777777778,
              "#fb9f3a"
             ],
             [
              0.8888888888888888,
              "#fdca26"
             ],
             [
              1,
              "#f0f921"
             ]
            ],
            "type": "histogram2dcontour"
           }
          ],
          "mesh3d": [
           {
            "colorbar": {
             "outlinewidth": 0,
             "ticks": ""
            },
            "type": "mesh3d"
           }
          ],
          "parcoords": [
           {
            "line": {
             "colorbar": {
              "outlinewidth": 0,
              "ticks": ""
             }
            },
            "type": "parcoords"
           }
          ],
          "pie": [
           {
            "automargin": true,
            "type": "pie"
           }
          ],
          "scatter": [
           {
            "fillpattern": {
             "fillmode": "overlay",
             "size": 10,
             "solidity": 0.2
            },
            "type": "scatter"
           }
          ],
          "scatter3d": [
           {
            "line": {
             "colorbar": {
              "outlinewidth": 0,
              "ticks": ""
             }
            },
            "marker": {
             "colorbar": {
              "outlinewidth": 0,
              "ticks": ""
             }
            },
            "type": "scatter3d"
           }
          ],
          "scattercarpet": [
           {
            "marker": {
             "colorbar": {
              "outlinewidth": 0,
              "ticks": ""
             }
            },
            "type": "scattercarpet"
           }
          ],
          "scattergeo": [
           {
            "marker": {
             "colorbar": {
              "outlinewidth": 0,
              "ticks": ""
             }
            },
            "type": "scattergeo"
           }
          ],
          "scattergl": [
           {
            "marker": {
             "colorbar": {
              "outlinewidth": 0,
              "ticks": ""
             }
            },
            "type": "scattergl"
           }
          ],
          "scattermapbox": [
           {
            "marker": {
             "colorbar": {
              "outlinewidth": 0,
              "ticks": ""
             }
            },
            "type": "scattermapbox"
           }
          ],
          "scatterpolar": [
           {
            "marker": {
             "colorbar": {
              "outlinewidth": 0,
              "ticks": ""
             }
            },
            "type": "scatterpolar"
           }
          ],
          "scatterpolargl": [
           {
            "marker": {
             "colorbar": {
              "outlinewidth": 0,
              "ticks": ""
             }
            },
            "type": "scatterpolargl"
           }
          ],
          "scatterternary": [
           {
            "marker": {
             "colorbar": {
              "outlinewidth": 0,
              "ticks": ""
             }
            },
            "type": "scatterternary"
           }
          ],
          "surface": [
           {
            "colorbar": {
             "outlinewidth": 0,
             "ticks": ""
            },
            "colorscale": [
             [
              0,
              "#0d0887"
             ],
             [
              0.1111111111111111,
              "#46039f"
             ],
             [
              0.2222222222222222,
              "#7201a8"
             ],
             [
              0.3333333333333333,
              "#9c179e"
             ],
             [
              0.4444444444444444,
              "#bd3786"
             ],
             [
              0.5555555555555556,
              "#d8576b"
             ],
             [
              0.6666666666666666,
              "#ed7953"
             ],
             [
              0.7777777777777778,
              "#fb9f3a"
             ],
             [
              0.8888888888888888,
              "#fdca26"
             ],
             [
              1,
              "#f0f921"
             ]
            ],
            "type": "surface"
           }
          ],
          "table": [
           {
            "cells": {
             "fill": {
              "color": "#EBF0F8"
             },
             "line": {
              "color": "white"
             }
            },
            "header": {
             "fill": {
              "color": "#C8D4E3"
             },
             "line": {
              "color": "white"
             }
            },
            "type": "table"
           }
          ]
         },
         "layout": {
          "annotationdefaults": {
           "arrowcolor": "#2a3f5f",
           "arrowhead": 0,
           "arrowwidth": 1
          },
          "autotypenumbers": "strict",
          "coloraxis": {
           "colorbar": {
            "outlinewidth": 0,
            "ticks": ""
           }
          },
          "colorscale": {
           "diverging": [
            [
             0,
             "#8e0152"
            ],
            [
             0.1,
             "#c51b7d"
            ],
            [
             0.2,
             "#de77ae"
            ],
            [
             0.3,
             "#f1b6da"
            ],
            [
             0.4,
             "#fde0ef"
            ],
            [
             0.5,
             "#f7f7f7"
            ],
            [
             0.6,
             "#e6f5d0"
            ],
            [
             0.7,
             "#b8e186"
            ],
            [
             0.8,
             "#7fbc41"
            ],
            [
             0.9,
             "#4d9221"
            ],
            [
             1,
             "#276419"
            ]
           ],
           "sequential": [
            [
             0,
             "#0d0887"
            ],
            [
             0.1111111111111111,
             "#46039f"
            ],
            [
             0.2222222222222222,
             "#7201a8"
            ],
            [
             0.3333333333333333,
             "#9c179e"
            ],
            [
             0.4444444444444444,
             "#bd3786"
            ],
            [
             0.5555555555555556,
             "#d8576b"
            ],
            [
             0.6666666666666666,
             "#ed7953"
            ],
            [
             0.7777777777777778,
             "#fb9f3a"
            ],
            [
             0.8888888888888888,
             "#fdca26"
            ],
            [
             1,
             "#f0f921"
            ]
           ],
           "sequentialminus": [
            [
             0,
             "#0d0887"
            ],
            [
             0.1111111111111111,
             "#46039f"
            ],
            [
             0.2222222222222222,
             "#7201a8"
            ],
            [
             0.3333333333333333,
             "#9c179e"
            ],
            [
             0.4444444444444444,
             "#bd3786"
            ],
            [
             0.5555555555555556,
             "#d8576b"
            ],
            [
             0.6666666666666666,
             "#ed7953"
            ],
            [
             0.7777777777777778,
             "#fb9f3a"
            ],
            [
             0.8888888888888888,
             "#fdca26"
            ],
            [
             1,
             "#f0f921"
            ]
           ]
          },
          "colorway": [
           "#636efa",
           "#EF553B",
           "#00cc96",
           "#ab63fa",
           "#FFA15A",
           "#19d3f3",
           "#FF6692",
           "#B6E880",
           "#FF97FF",
           "#FECB52"
          ],
          "font": {
           "color": "#2a3f5f"
          },
          "geo": {
           "bgcolor": "white",
           "lakecolor": "white",
           "landcolor": "#E5ECF6",
           "showlakes": true,
           "showland": true,
           "subunitcolor": "white"
          },
          "hoverlabel": {
           "align": "left"
          },
          "hovermode": "closest",
          "mapbox": {
           "style": "light"
          },
          "paper_bgcolor": "white",
          "plot_bgcolor": "#E5ECF6",
          "polar": {
           "angularaxis": {
            "gridcolor": "white",
            "linecolor": "white",
            "ticks": ""
           },
           "bgcolor": "#E5ECF6",
           "radialaxis": {
            "gridcolor": "white",
            "linecolor": "white",
            "ticks": ""
           }
          },
          "scene": {
           "xaxis": {
            "backgroundcolor": "#E5ECF6",
            "gridcolor": "white",
            "gridwidth": 2,
            "linecolor": "white",
            "showbackground": true,
            "ticks": "",
            "zerolinecolor": "white"
           },
           "yaxis": {
            "backgroundcolor": "#E5ECF6",
            "gridcolor": "white",
            "gridwidth": 2,
            "linecolor": "white",
            "showbackground": true,
            "ticks": "",
            "zerolinecolor": "white"
           },
           "zaxis": {
            "backgroundcolor": "#E5ECF6",
            "gridcolor": "white",
            "gridwidth": 2,
            "linecolor": "white",
            "showbackground": true,
            "ticks": "",
            "zerolinecolor": "white"
           }
          },
          "shapedefaults": {
           "line": {
            "color": "#2a3f5f"
           }
          },
          "ternary": {
           "aaxis": {
            "gridcolor": "white",
            "linecolor": "white",
            "ticks": ""
           },
           "baxis": {
            "gridcolor": "white",
            "linecolor": "white",
            "ticks": ""
           },
           "bgcolor": "#E5ECF6",
           "caxis": {
            "gridcolor": "white",
            "linecolor": "white",
            "ticks": ""
           }
          },
          "title": {
           "x": 0.05
          },
          "xaxis": {
           "automargin": true,
           "gridcolor": "white",
           "linecolor": "white",
           "ticks": "",
           "title": {
            "standoff": 15
           },
           "zerolinecolor": "white",
           "zerolinewidth": 2
          },
          "yaxis": {
           "automargin": true,
           "gridcolor": "white",
           "linecolor": "white",
           "ticks": "",
           "title": {
            "standoff": 15
           },
           "zerolinecolor": "white",
           "zerolinewidth": 2
          }
         }
        },
        "xaxis": {
         "anchor": "y",
         "autorange": true,
         "domain": [
          0,
          1
         ],
         "range": [
          -14513546.126632197,
          256509946.37743092
         ],
         "title": {
          "text": "Price"
         },
         "type": "linear"
        },
        "yaxis": {
         "anchor": "x",
         "autorange": true,
         "domain": [
          0,
          1
         ],
         "range": [
          -2847.3953867876517,
          27164.800518203723
         ],
         "title": {
          "text": "Area"
         },
         "type": "linear"
        }
       }
      },
      "image/png": "[encoded data removed]",
      "text/html": [
       "<div>                            <div id=\"7bc23813-c63c-478b-a387-6310a063722b\" class=\"plotly-graph-div\" style=\"height:525px; width:100%;\"></div>            <script type=\"text/javascript\">                require([\"plotly\"], function(Plotly) {                    window.PLOTLYENV=window.PLOTLYENV || {};                                    if (document.getElementById(\"7bc23813-c63c-478b-a387-6310a063722b\")) {                    Plotly.newPlot(                        \"7bc23813-c63c-478b-a387-6310a063722b\",                        [{\"customdata\":[[15817.306638566912,1.0,1.0],[6667.0,0.0,1.0],[6667.0,0.0,1.0],[6667.0,1.0,1.0],[6667.0,1.0,1.0],[6667.0,1.0,1.0],[6667.0,1.0,1.0],[6154.0,0.0,1.0],[6154.0,1.0,0.0],[6154.0,1.0,1.0],[6154.0,1.0,1.0],[6154.0,1.0,1.0],[6154.0,1.0,1.0],[6154.0,1.0,1.0],[6154.0,1.0,1.0],[6154.0,1.0,1.0],[6154.0,1.0,1.0],[6154.0,1.0,1.0],[6154.0,0.0,1.0],[6154.0,1.0,1.0],[6154.0,0.0,1.0],[6154.0,1.0,1.0],[6154.0,0.0,1.0],[6154.0,0.0,1.0],[6154.0,1.0,1.0],[6364.0,1.0,1.0],[8750.0,1.0,1.0],[8750.0,0.0,1.0],[8750.0,0.0,1.0],[9722.0,1.0,1.0],[15817.306638566912,1.0,1.0],[15817.306638566912,1.0,1.0],[15817.306638566912,1.0,1.0],[15817.306638566912,1.0,1.0],[15817.306638566912,1.0,1.0],[15817.306638566912,0.0,1.0],[15817.306638566912,1.0,1.0],[15817.306638566912,0.0,1.0],[15817.306638566912,1.0,1.0],[15817.306638566912,1.0,1.0],[15817.306638566912,1.0,1.0],[15817.306638566912,1.0,1.0],[15817.306638566912,1.0,1.0],[15817.306638566912,1.0,1.0],[15817.306638566912,1.0,1.0],[15817.306638566912,1.0,1.0],[14444.0,1.0,1.0],[22000.0,1.0,1.0],[22000.0,1.0,1.0],[22000.0,1.0,1.0],[22000.0,1.0,1.0],[22000.0,1.0,1.0],[22000.0,1.0,1.0],[22000.0,1.0,1.0],[22000.0,1.0,1.0],[22000.0,1.0,1.0],[22000.0,1.0,1.0],[22000.0,1.0,1.0],[22000.0,1.0,1.0],[15817.306638566912,0.0,1.0],[2235.0,0.0,1.0],[3800.0,0.0,1.0],[4247.0,0.0,1.0],[3524.0,0.0,1.0],[3524.0,0.0,1.0],[3524.0,0.0,1.0],[3524.0,0.0,0.0],[3524.0,0.0,1.0],[3524.0,0.0,1.0],[3524.0,0.0,1.0],[3524.0,0.0,1.0],[3524.0,0.0,1.0],[3524.0,0.0,1.0],[3524.0,0.0,1.0],[3524.0,0.0,1.0],[3524.0,0.0,1.0],[3524.0,0.0,1.0],[3524.0,0.0,1.0],[3524.0,0.0,1.0],[3524.0,0.0,1.0],[3524.0,0.0,1.0],[3524.0,0.0,1.0],[3524.0,0.0,1.0],[3524.0,0.0,1.0],[3524.0,0.0,1.0],[3524.0,1.0,1.0],[3524.0,1.0,1.0],[3524.0,0.0,1.0],[15817.306638566912,1.0,1.0],[15817.306638566912,1.0,1.0],[15817.306638566912,1.0,1.0],[15817.306638566912,1.0,1.0],[15817.306638566912,1.0,1.0],[15817.306638566912,1.0,1.0],[15817.306638566912,1.0,1.0],[15817.306638566912,1.0,1.0],[15817.306638566912,1.0,1.0],[15817.306638566912,1.0,1.0],[15817.306638566912,1.0,1.0],[26666.0,1.0,1.0],[15972.0,1.0,1.0],[183333.0,1.0,1.0],[183333.0,1.0,1.0],[183333.0,0.0,1.0],[183333.0,1.0,1.0],[20000.0,0.0,1.0],[20000.0,1.0,1.0],[20000.0,1.0,1.0],[20000.0,1.0,1.0],[15556.0,1.0,1.0],[16176.0,1.0,1.0],[16176.0,1.0,1.0],[16176.0,1.0,1.0],[15556.0,1.0,1.0],[15556.0,1.0,1.0],[15556.0,1.0,1.0],[15817.306638566912,1.0,1.0],[9259.0,1.0,1.0],[9259.0,1.0,1.0],[9259.0,1.0,1.0],[9259.0,1.0,1.0],[9259.0,1.0,1.0],[18507.0,1.0,1.0],[18507.0,1.0,1.0],[18507.0,1.0,1.0],[18507.0,1.0,0.0],[18507.0,1.0,1.0],[7000.0,1.0,1.0],[7000.0,1.0,1.0],[7000.0,1.0,1.0],[7000.0,1.0,1.0],[7000.0,1.0,1.0],[7000.0,1.0,1.0],[7000.0,1.0,1.0],[7000.0,1.0,1.0],[7000.0,1.0,1.0],[7000.0,1.0,1.0],[7000.0,1.0,1.0],[7000.0,1.0,1.0],[7000.0,1.0,1.0],[7000.0,1.0,1.0],[7000.0,1.0,1.0],[7000.0,1.0,1.0],[15817.306638566912,0.0,1.0],[15817.306638566912,1.0,1.0],[72000.0,1.0,1.0],[43000.0,1.0,1.0],[4444.0,1.0,1.0],[3300.0,0.0,1.0],[4444.0,1.0,1.0],[40000.0,1.0,1.0],[5185.0,0.0,1.0],[4000.0,1.0,1.0],[4000.0,0.0,1.0],[4000.0,1.0,1.0],[3567.0,1.0,1.0],[1259.0,1.0,1.0],[2500.0,1.0,1.0],[2500.0,1.0,1.0],[2500.0,1.0,1.0],[5255.0,1.0,1.0],[5255.0,0.0,1.0],[5255.0,1.0,1.0],[5255.0,1.0,1.0],[5255.0,1.0,1.0],[5255.0,1.0,1.0],[5255.0,1.0,1.0],[5255.0,1.0,1.0],[5255.0,1.0,1.0],[5255.0,1.0,1.0],[5255.0,1.0,1.0],[5255.0,1.0,1.0],[5255.0,1.0,1.0],[15817.306638566912,1.0,1.0],[6528.0,0.0,1.0],[6875.0,0.0,1.0],[5714.0,0.0,1.0],[7449.0,0.0,1.0],[8125.0,0.0,1.0],[7931.0,0.0,1.0],[7931.0,0.0,1.0],[5789.0,0.0,1.0],[6471.0,0.0,1.0],[8438.0,0.0,1.0],[6508.0,0.0,1.0],[8000.0,0.0,1.0],[6364.0,0.0,1.0],[6000.0,0.0,1.0],[6250.0,0.0,1.0],[6333.0,0.0,1.0],[6875.0,0.0,1.0],[6875.0,0.0,1.0],[6714.0,0.0,1.0],[6714.0,1.0,1.0],[6714.0,1.0,1.0],[6714.0,1.0,1.0],[6714.0,1.0,1.0],[6714.0,1.0,1.0],[6714.0,1.0,1.0],[6714.0,1.0,1.0],[6714.0,1.0,1.0],[28797.0,0.0,0.0],[23840.0,0.0,0.0],[4600.0,0.0,1.0],[4620.0,0.0,1.0],[2235.0,0.0,1.0],[2235.0,0.0,1.0],[5000.0,0.0,1.0],[6111.0,0.0,1.0],[25512.0,0.0,1.0],[22222.0,1.0,1.0],[22222.0,0.0,1.0],[22222.0,1.0,0.0],[22222.0,1.0,0.0],[22222.0,1.0,0.0],[22222.0,0.0,0.0],[24718.0,0.0,0.0],[24718.0,0.0,0.0],[24718.0,0.0,1.0],[24718.0,0.0,1.0],[30556.0,1.0,1.0],[30556.0,0.0,1.0],[30556.0,1.0,0.0],[30556.0,1.0,1.0],[18750.0,1.0,1.0],[18750.0,1.0,1.0],[18750.0,1.0,1.0],[15817.306638566912,1.0,1.0],[120000.0,1.0,1.0],[120000.0,1.0,1.0],[120000.0,1.0,1.0],[120000.0,1.0,1.0],[120000.0,1.0,1.0],[120000.0,0.0,1.0],[120000.0,1.0,1.0],[120000.0,1.0,1.0],[15459.0,0.0,1.0],[15459.0,1.0,1.0],[15459.0,0.0,1.0],[15459.0,1.0,1.0],[15459.0,1.0,1.0],[15459.0,1.0,1.0],[15459.0,1.0,1.0],[15459.0,1.0,1.0],[15459.0,1.0,1.0],[15459.0,1.0,1.0],[15459.0,1.0,1.0],[15459.0,1.0,1.0],[15459.0,1.0,1.0],[15459.0,0.0,1.0],[23529.0,1.0,1.0],[23529.0,1.0,1.0],[23529.0,1.0,1.0],[23529.0,1.0,1.0],[23529.0,1.0,1.0],[23529.0,1.0,1.0],[16667.0,1.0,1.0],[15817.306638566912,1.0,1.0],[15817.306638566912,1.0,1.0],[15817.306638566912,1.0,1.0],[20000.0,1.0,1.0],[20000.0,1.0,1.0],[20000.0,1.0,1.0],[20000.0,1.0,1.0],[20000.0,1.0,1.0],[11111.0,1.0,1.0],[11111.0,1.0,1.0],[21409.0,1.0,0.0],[21409.0,1.0,1.0],[95000.0,1.0,1.0],[15363.0,1.0,1.0],[19259.0,1.0,1.0],[20833.0,1.0,1.0],[20833.0,1.0,1.0],[20833.0,1.0,1.0],[20833.0,1.0,1.0],[20833.0,1.0,1.0],[20930.0,1.0,1.0],[20930.0,0.0,1.0],[20930.0,1.0,1.0],[20930.0,1.0,1.0],[20930.0,1.0,1.0],[20930.0,1.0,1.0],[20930.0,1.0,1.0],[20930.0,1.0,1.0],[20930.0,1.0,1.0],[20930.0,1.0,1.0],[15817.306638566912,1.0,1.0],[15817.306638566912,1.0,1.0],[15817.306638566912,0.0,1.0],[15817.306638566912,1.0,1.0],[15817.306638566912,1.0,1.0],[15817.306638566912,1.0,1.0],[6526.0,1.0,1.0],[6526.0,0.0,1.0],[6526.0,1.0,1.0],[6526.0,0.0,1.0],[6526.0,0.0,1.0],[6526.0,1.0,1.0],[6526.0,1.0,1.0],[6526.0,1.0,1.0],[6526.0,1.0,1.0],[6526.0,0.0,1.0],[6526.0,1.0,1.0],[6526.0,1.0,1.0],[6526.0,1.0,1.0],[6526.0,1.0,1.0],[6526.0,1.0,1.0],[3901.0,0.0,1.0],[3901.0,1.0,1.0],[3901.0,1.0,0.0],[3901.0,0.0,1.0],[3901.0,1.0,1.0],[3901.0,0.0,0.0],[6347.0,0.0,1.0],[41304.0,1.0,1.0],[41304.0,1.0,1.0],[15817.306638566912,1.0,1.0],[15817.306638566912,1.0,1.0],[5000.0,0.0,1.0],[8701.0,1.0,1.0],[5556.0,1.0,1.0],[85715.0,0.0,1.0],[4444.0,1.0,1.0],[4444.0,1.0,1.0],[6944.0,1.0,1.0],[7222.0,0.0,1.0],[11220.0,0.0,1.0],[5357.0,1.0,1.0],[5357.0,0.0,1.0],[6706.0,1.0,1.0],[10288.0,1.0,1.0],[28283.0,1.0,1.0],[8923.0,1.0,1.0],[8222.0,1.0,1.0],[20000.0,1.0,1.0],[14550.0,1.0,1.0],[14550.0,1.0,1.0],[30093.0,1.0,1.0],[35714.0,1.0,1.0],[35714.0,1.0,1.0],[35714.0,1.0,1.0],[35714.0,1.0,1.0],[22857.0,1.0,1.0],[22857.0,1.0,1.0],[12500.0,1.0,1.0],[12500.0,1.0,1.0],[15817.306638566912,1.0,1.0],[15817.306638566912,1.0,1.0],[15817.306638566912,0.0,1.0],[4040.0,0.0,1.0],[4040.0,1.0,1.0],[7778.0,1.0,1.0],[7778.0,0.0,1.0],[7778.0,1.0,1.0],[7778.0,1.0,1.0],[7778.0,1.0,1.0],[7778.0,1.0,1.0],[32000.0,1.0,1.0],[32000.0,1.0,1.0],[32000.0,1.0,1.0],[32000.0,1.0,1.0],[32000.0,0.0,1.0],[32000.0,1.0,1.0],[32000.0,1.0,1.0],[32000.0,0.0,1.0],[32000.0,1.0,1.0],[5666.0,1.0,1.0],[5666.0,1.0,1.0],[5666.0,0.0,1.0],[11667.0,1.0,1.0],[11667.0,1.0,1.0],[112179.0,0.0,1.0],[11111.0,1.0,1.0],[11111.0,1.0,1.0],[11111.0,1.0,1.0],[11111.0,0.0,1.0],[15817.306638566912,1.0,1.0],[6111.0,1.0,0.0],[6111.0,1.0,1.0],[6111.0,1.0,1.0],[6111.0,1.0,1.0],[6111.0,1.0,1.0],[6111.0,1.0,1.0],[6111.0,1.0,1.0],[6111.0,1.0,1.0],[6111.0,1.0,1.0],[6111.0,1.0,1.0],[6111.0,1.0,1.0],[6111.0,1.0,1.0],[6111.0,1.0,1.0],[6584.0,1.0,1.0],[6584.0,1.0,1.0],[6584.0,1.0,1.0],[6584.0,1.0,1.0],[5794.0,1.0,1.0],[5794.0,1.0,1.0],[5794.0,1.0,1.0],[5794.0,1.0,1.0],[5794.0,1.0,1.0],[5794.0,1.0,1.0],[5794.0,1.0,1.0],[5794.0,1.0,1.0],[23840.0,1.0,1.0],[23840.0,1.0,1.0],[23840.0,1.0,1.0],[23840.0,1.0,1.0],[23840.0,1.0,1.0],[23840.0,0.0,1.0],[7500.0,1.0,1.0],[7500.0,0.0,0.0],[7500.0,1.0,1.0],[160000.0,0.0,1.0],[11556.0,1.0,1.0],[11556.0,1.0,1.0],[8421.0,1.0,1.0],[8421.0,1.0,1.0],[8421.0,1.0,1.0],[27778.0,0.0,1.0],[11722.0,1.0,1.0],[24718.0,1.0,1.0],[85714.0,1.0,1.0],[13333.0,1.0,1.0],[13333.0,0.0,1.0],[13333.0,0.0,1.0],[8418.0,0.0,1.0],[1667.0,1.0,1.0],[1667.0,0.0,1.0],[8333.0,1.0,1.0],[24242.0,0.0,1.0],[15817.306638566912,0.0,1.0],[15817.306638566912,0.0,1.0],[15817.306638566912,0.0,1.0],[15817.306638566912,0.0,1.0],[15817.306638566912,0.0,1.0],[15817.306638566912,0.0,1.0],[15817.306638566912,0.0,1.0],[15817.306638566912,0.0,1.0],[15500.0,0.0,1.0],[15500.0,0.0,1.0],[15500.0,0.0,1.0],[15500.0,0.0,1.0],[15500.0,0.0,1.0],[20833.0,0.0,1.0],[20833.0,0.0,1.0],[20833.0,0.0,1.0],[20833.0,0.0,1.0],[20833.0,0.0,1.0],[20833.0,0.0,1.0],[20833.0,0.0,1.0],[10681.0,0.0,1.0],[21818.0,0.0,1.0],[21818.0,1.0,1.0],[21818.0,0.0,1.0],[21818.0,1.0,1.0],[21818.0,0.0,1.0],[14358.0,0.0,1.0],[14358.0,0.0,1.0],[14358.0,1.0,1.0],[14358.0,1.0,1.0],[4444.0,0.0,1.0],[7143.0,0.0,1.0],[7143.0,0.0,1.0],[13333.0,0.0,1.0],[9722.0,1.0,1.0],[19444.0,1.0,1.0],[6667.0,1.0,1.0],[6667.0,0.0,1.0],[6667.0,1.0,1.0],[6667.0,1.0,1.0],[6667.0,0.0,1.0],[6667.0,1.0,1.0],[6667.0,0.0,1.0],[6667.0,0.0,1.0],[6667.0,0.0,1.0],[6667.0,1.0,1.0],[6667.0,0.0,1.0],[6667.0,0.0,1.0],[6667.0,1.0,1.0],[6667.0,0.0,0.0],[6667.0,0.0,1.0],[6667.0,0.0,1.0],[6667.0,0.0,1.0],[5000.0,0.0,1.0],[21071.0,1.0,1.0],[14074.0,1.0,1.0],[14074.0,0.0,1.0],[28846.0,1.0,1.0],[28846.0,1.0,1.0],[28846.0,1.0,0.0],[28846.0,1.0,1.0],[28846.0,1.0,1.0],[28846.0,0.0,1.0],[28846.0,0.0,1.0],[28846.0,0.0,1.0],[28846.0,1.0,1.0],[6944.0,1.0,1.0],[6944.0,1.0,1.0],[6944.0,1.0,1.0],[6944.0,1.0,1.0],[6944.0,0.0,1.0],[14705.0,1.0,1.0],[14705.0,1.0,1.0],[18000.0,1.0,1.0],[18000.0,1.0,1.0],[18000.0,1.0,1.0],[17647.0,1.0,1.0],[17647.0,0.0,1.0],[18055.0,1.0,1.0],[18055.0,0.0,1.0],[12500.0,0.0,1.0],[12500.0,1.0,1.0],[12500.0,1.0,1.0],[12500.0,1.0,1.0],[15817.306638566912,1.0,1.0],[15817.306638566912,1.0,1.0],[25000.0,1.0,1.0],[25000.0,1.0,1.0],[25000.0,1.0,1.0],[14818.0,0.0,1.0],[14818.0,1.0,1.0],[14818.0,1.0,1.0],[14818.0,1.0,1.0],[14818.0,1.0,1.0],[14818.0,0.0,1.0],[14818.0,1.0,1.0],[14818.0,1.0,1.0],[14818.0,1.0,1.0],[14818.0,1.0,1.0],[14818.0,1.0,1.0],[14818.0,0.0,1.0],[14818.0,1.0,1.0],[14818.0,0.0,1.0],[14818.0,1.0,1.0],[14818.0,1.0,1.0],[14818.0,1.0,1.0],[14818.0,1.0,1.0],[14818.0,1.0,1.0],[14818.0,1.0,1.0],[14818.0,1.0,1.0],[14818.0,1.0,1.0],[14818.0,1.0,1.0],[14818.0,1.0,1.0],[23863.0,1.0,1.0],[15817.306638566912,1.0,1.0],[15817.306638566912,1.0,1.0],[15817.306638566912,1.0,1.0],[15817.306638566912,1.0,1.0],[15817.306638566912,1.0,1.0],[15817.306638566912,1.0,1.0],[14722.0,1.0,1.0],[14722.0,1.0,1.0],[14722.0,0.0,1.0],[14722.0,0.0,1.0],[14722.0,0.0,1.0],[14722.0,1.0,1.0],[14722.0,0.0,1.0],[14722.0,0.0,1.0],[14722.0,1.0,1.0],[14722.0,0.0,1.0],[14722.0,1.0,1.0],[14722.0,0.0,1.0],[13889.0,1.0,1.0],[13889.0,1.0,1.0],[13889.0,0.0,1.0],[7875.0,0.0,1.0],[11111.0,1.0,1.0],[11111.0,0.0,1.0],[11111.0,0.0,1.0],[11111.0,0.0,1.0],[10943.0,0.0,1.0],[10943.0,1.0,1.0],[10943.0,1.0,1.0],[10943.0,0.0,1.0],[15817.306638566912,0.0,1.0],[15817.306638566912,0.0,1.0],[15817.306638566912,0.0,1.0],[15817.306638566912,0.0,1.0],[15817.306638566912,0.0,1.0],[15817.306638566912,0.0,1.0],[15817.306638566912,0.0,1.0],[15817.306638566912,0.0,1.0],[15817.306638566912,0.0,1.0],[15817.306638566912,0.0,1.0],[15817.306638566912,0.0,1.0],[15817.306638566912,0.0,1.0],[15817.306638566912,0.0,1.0],[15817.306638566912,0.0,1.0],[15817.306638566912,0.0,1.0],[15817.306638566912,0.0,1.0],[15817.306638566912,0.0,1.0],[15817.306638566912,0.0,1.0],[15817.306638566912,0.0,1.0],[15817.306638566912,0.0,1.0],[15817.306638566912,0.0,1.0],[15817.306638566912,0.0,1.0],[15817.306638566912,0.0,1.0],[15817.306638566912,0.0,1.0],[15817.306638566912,0.0,1.0],[10700.0,0.0,1.0],[10700.0,0.0,1.0],[10700.0,0.0,1.0],[10700.0,0.0,1.0],[10700.0,0.0,1.0],[20492.0,0.0,1.0],[20558.0,0.0,1.0],[20558.0,0.0,1.0],[20558.0,0.0,1.0],[17000.0,0.0,1.0],[21052.0,0.0,1.0],[21052.0,0.0,1.0],[21000.0,0.0,1.0],[16333.0,0.0,1.0],[18793.0,0.0,1.0],[19811.0,0.0,1.0],[20270.0,0.0,1.0],[17619.0,0.0,1.0],[17619.0,0.0,1.0],[17197.0,0.0,1.0],[17197.0,0.0,1.0],[16654.0,0.0,1.0],[19280.0,0.0,1.0],[17176.0,0.0,1.0],[20581.0,0.0,1.0],[20999.0,0.0,1.0],[21311.0,0.0,1.0],[21311.0,0.0,1.0],[18900.0,0.0,1.0],[20588.0,0.0,1.0],[20967.0,0.0,1.0],[20967.0,0.0,1.0],[18344.0,0.0,1.0],[17906.0,0.0,1.0],[17906.0,0.0,1.0],[15817.306638566912,0.0,1.0],[15817.306638566912,0.0,1.0],[15817.306638566912,0.0,1.0],[15817.306638566912,0.0,1.0],[15817.306638566912,0.0,1.0],[15817.306638566912,0.0,1.0],[15817.306638566912,0.0,1.0],[15817.306638566912,1.0,1.0],[15817.306638566912,0.0,1.0],[15817.306638566912,0.0,1.0],[15817.306638566912,0.0,1.0],[12500.0,0.0,1.0],[12500.0,0.0,1.0],[12500.0,0.0,1.0],[12500.0,1.0,1.0],[12500.0,0.0,1.0],[12500.0,0.0,1.0],[12500.0,0.0,1.0],[12500.0,0.0,1.0],[12500.0,0.0,1.0],[12500.0,0.0,1.0],[12500.0,0.0,1.0],[12500.0,0.0,1.0],[12500.0,0.0,1.0],[12500.0,1.0,1.0],[11538.0,0.0,1.0],[11538.0,0.0,1.0],[11538.0,0.0,1.0],[11538.0,0.0,1.0],[11538.0,0.0,1.0],[15817.306638566912,0.0,1.0],[15817.306638566912,0.0,1.0],[15817.306638566912,0.0,1.0],[15817.306638566912,0.0,1.0],[15817.306638566912,0.0,1.0],[15817.306638566912,0.0,1.0],[15817.306638566912,0.0,1.0],[15817.306638566912,0.0,1.0],[15817.306638566912,0.0,1.0],[15817.306638566912,0.0,1.0],[15817.306638566912,0.0,1.0],[15817.306638566912,0.0,1.0],[15817.306638566912,0.0,1.0],[15817.306638566912,0.0,1.0],[15817.306638566912,0.0,1.0],[15817.306638566912,0.0,1.0],[15817.306638566912,0.0,1.0],[15817.306638566912,0.0,1.0],[15817.306638566912,0.0,1.0],[15817.306638566912,0.0,1.0],[15817.306638566912,0.0,1.0],[15817.306638566912,0.0,1.0],[15817.306638566912,0.0,1.0],[15817.306638566912,0.0,1.0],[6667.0,0.0,1.0],[15384.0,0.0,1.0],[15384.0,0.0,1.0],[15384.0,0.0,1.0],[15384.0,0.0,1.0],[15817.306638566912,1.0,1.0],[15817.306638566912,1.0,1.0],[15817.306638566912,0.0,1.0],[5222.0,0.0,1.0],[5222.0,0.0,1.0],[5222.0,0.0,1.0],[8333.0,0.0,1.0],[8333.0,1.0,1.0],[8333.0,1.0,1.0],[3714.0,1.0,1.0],[3714.0,1.0,1.0],[3714.0,0.0,1.0],[3714.0,1.0,1.0],[3714.0,1.0,0.0],[3714.0,1.0,1.0],[3714.0,1.0,0.0],[3714.0,1.0,1.0],[3714.0,1.0,1.0],[3714.0,1.0,1.0],[3714.0,1.0,1.0],[3714.0,0.0,1.0],[3714.0,1.0,1.0],[3714.0,0.0,1.0],[7000.0,1.0,1.0],[5455.0,0.0,1.0],[4837.0,1.0,1.0],[3444.0,1.0,1.0],[3444.0,0.0,1.0],[4167.0,1.0,1.0],[15817.306638566912,1.0,0.0],[15817.306638566912,1.0,1.0],[15817.306638566912,1.0,0.0],[15817.306638566912,0.0,0.0],[15817.306638566912,1.0,0.0],[15817.306638566912,0.0,1.0],[15817.306638566912,1.0,1.0],[15817.306638566912,1.0,1.0],[15817.306638566912,1.0,1.0],[15817.306638566912,1.0,0.0],[15817.306638566912,1.0,1.0],[15817.306638566912,0.0,1.0],[15817.306638566912,0.0,1.0],[15817.306638566912,1.0,1.0],[15817.306638566912,1.0,1.0],[4138.0,0.0,1.0],[4138.0,1.0,1.0],[4138.0,1.0,1.0],[4138.0,1.0,1.0],[4138.0,1.0,0.0],[4138.0,0.0,0.0],[4138.0,1.0,1.0],[4138.0,1.0,1.0],[4138.0,0.0,1.0],[4138.0,1.0,1.0],[4138.0,1.0,1.0],[4138.0,1.0,1.0],[4138.0,1.0,1.0],[4138.0,1.0,1.0],[4138.0,1.0,1.0],[15817.306638566912,0.0,1.0],[15817.306638566912,0.0,1.0],[3259.0,1.0,1.0],[3294.0,0.0,1.0],[3294.0,0.0,1.0],[3294.0,0.0,1.0],[3294.0,1.0,1.0],[3294.0,0.0,1.0],[3294.0,1.0,1.0],[3294.0,1.0,1.0],[3294.0,1.0,1.0],[8060.0,1.0,1.0],[8060.0,1.0,0.0],[8060.0,0.0,1.0],[8060.0,1.0,0.0],[8060.0,0.0,1.0],[8060.0,0.0,1.0],[8060.0,0.0,1.0],[4678.0,1.0,1.0],[3148.0,1.0,1.0],[3148.0,1.0,1.0],[3148.0,0.0,1.0],[4200.0,0.0,1.0],[3778.0,0.0,1.0],[3778.0,0.0,1.0],[2963.0,1.0,1.0],[3667.0,0.0,1.0],[3667.0,1.0,1.0],[7727.0,1.0,1.0],[5333.0,1.0,1.0],[15817.306638566912,1.0,1.0],[15817.306638566912,1.0,0.0],[15817.306638566912,1.0,1.0],[15817.306638566912,0.0,1.0],[15817.306638566912,1.0,1.0],[15817.306638566912,1.0,1.0],[15817.306638566912,1.0,1.0],[15817.306638566912,1.0,1.0],[15817.306638566912,0.0,1.0],[15817.306638566912,1.0,1.0],[15817.306638566912,0.0,1.0],[4922.0,1.0,1.0],[4922.0,0.0,1.0],[4922.0,0.0,1.0],[4922.0,1.0,1.0],[4922.0,1.0,1.0],[4922.0,0.0,1.0],[4922.0,0.0,1.0],[4922.0,1.0,1.0],[6556.0,1.0,0.0],[5820.0,0.0,1.0],[5820.0,1.0,1.0],[3778.0,0.0,1.0],[3778.0,1.0,1.0],[3778.0,1.0,1.0],[42222.0,1.0,1.0],[42222.0,1.0,1.0],[42222.0,0.0,1.0],[42222.0,1.0,1.0],[43137.0,1.0,1.0],[15817.306638566912,0.0,1.0],[4889.0,0.0,1.0],[4222.0,0.0,1.0],[5000.0,0.0,1.0],[5092.0,0.0,1.0],[7143.0,0.0,1.0],[7143.0,0.0,1.0],[5128.0,0.0,1.0],[5128.0,0.0,1.0],[5128.0,0.0,1.0],[5128.0,0.0,1.0],[3600.0,0.0,1.0],[4571.0,0.0,1.0],[4221.0,1.0,1.0],[4221.0,0.0,1.0],[4221.0,0.0,1.0],[6636.0,0.0,1.0],[4270.0,0.0,1.0],[4270.0,0.0,1.0],[4270.0,0.0,1.0],[4270.0,1.0,1.0],[4270.0,0.0,1.0],[5143.0,1.0,1.0],[3248.0,1.0,1.0],[5051.0,0.0,1.0],[5051.0,0.0,1.0],[5051.0,1.0,1.0],[5051.0,0.0,1.0],[5051.0,1.0,1.0],[5176.0,0.0,1.0],[15817.306638566912,1.0,0.0],[15817.306638566912,1.0,1.0],[15817.306638566912,1.0,1.0],[15817.306638566912,1.0,1.0],[15817.306638566912,1.0,0.0],[15817.306638566912,1.0,1.0],[14888.0,1.0,1.0],[14888.0,1.0,1.0],[14888.0,1.0,0.0],[14888.0,1.0,1.0],[14888.0,1.0,1.0],[14888.0,1.0,1.0],[14888.0,0.0,1.0],[14888.0,1.0,1.0],[14888.0,0.0,1.0],[14888.0,1.0,1.0],[14888.0,1.0,1.0],[14888.0,1.0,1.0],[14888.0,1.0,1.0],[14888.0,1.0,1.0],[14888.0,0.0,1.0],[7200.0,1.0,1.0],[7200.0,1.0,1.0],[7200.0,1.0,1.0],[7200.0,1.0,1.0],[7200.0,1.0,1.0],[7200.0,1.0,1.0],[7200.0,1.0,1.0],[21429.0,1.0,1.0],[21429.0,1.0,1.0],[15817.306638566912,0.0,1.0],[15817.306638566912,0.0,1.0],[15817.306638566912,0.0,1.0],[15817.306638566912,0.0,1.0],[15817.306638566912,1.0,1.0],[7666.0,1.0,1.0],[7666.0,1.0,1.0],[7666.0,0.0,1.0],[9200.0,0.0,1.0],[9200.0,0.0,1.0],[9200.0,0.0,1.0],[9200.0,0.0,1.0],[8640.0,1.0,1.0],[8640.0,0.0,1.0],[8640.0,1.0,1.0],[6486.0,1.0,1.0],[8333.0,1.0,1.0],[8333.0,0.0,1.0],[12000.0,0.0,1.0],[12000.0,0.0,1.0],[12000.0,0.0,1.0],[9375.0,0.0,1.0],[9375.0,0.0,1.0],[9375.0,0.0,1.0],[5200.0,1.0,1.0],[5200.0,0.0,1.0],[7500.0,1.0,1.0],[6700.0,0.0,1.0],[9500.0,0.0,1.0],[10625.0,0.0,1.0],[15817.306638566912,0.0,1.0],[15817.306638566912,0.0,1.0],[15817.306638566912,0.0,1.0],[15817.306638566912,0.0,1.0],[15817.306638566912,0.0,1.0],[15817.306638566912,0.0,1.0],[15817.306638566912,0.0,1.0],[15817.306638566912,0.0,1.0],[15817.306638566912,0.0,1.0],[15817.306638566912,0.0,1.0],[15817.306638566912,0.0,1.0],[15817.306638566912,0.0,1.0],[15817.306638566912,0.0,1.0],[15817.306638566912,0.0,1.0],[15817.306638566912,0.0,1.0],[15817.306638566912,0.0,1.0],[15817.306638566912,0.0,1.0],[9655.0,0.0,1.0],[9655.0,0.0,1.0],[9655.0,0.0,1.0],[9655.0,0.0,1.0],[9655.0,0.0,1.0],[9655.0,0.0,1.0],[9655.0,0.0,1.0],[9655.0,0.0,1.0],[9655.0,0.0,1.0],[9655.0,0.0,1.0],[10000.0,0.0,1.0],[10000.0,0.0,1.0],[10000.0,0.0,1.0],[16466.0,0.0,0.0],[25512.0,0.0,0.0],[25512.0,1.0,1.0],[25512.0,1.0,1.0],[25512.0,0.0,1.0],[30000.0,1.0,1.0],[30000.0,0.0,0.0],[30000.0,0.0,0.0],[30000.0,0.0,0.0],[16917.0,0.0,0.0],[16917.0,1.0,1.0],[16917.0,0.0,1.0],[16917.0,1.0,1.0],[19841.0,0.0,0.0],[19841.0,0.0,1.0],[19841.0,0.0,1.0],[10320.0,0.0,1.0],[10320.0,1.0,1.0],[10320.0,1.0,1.0],[10320.0,0.0,0.0],[10320.0,0.0,1.0],[2778.0,1.0,1.0],[2778.0,0.0,1.0],[2778.0,0.0,1.0],[2778.0,1.0,1.0],[5556.0,1.0,1.0],[5556.0,1.0,1.0],[5556.0,0.0,1.0],[5556.0,1.0,1.0],[5556.0,1.0,1.0],[14366.0,0.0,0.0],[14366.0,0.0,0.0],[14776.0,0.0,0.0],[14776.0,0.0,0.0],[14776.0,0.0,1.0],[14776.0,1.0,1.0],[14776.0,0.0,1.0],[14366.0,0.0,1.0],[14382.0,0.0,0.0],[14092.0,0.0,0.0],[14092.0,0.0,0.0],[14092.0,0.0,1.0],[14092.0,1.0,1.0],[14815.0,1.0,1.0],[14815.0,0.0,1.0],[16584.0,1.0,1.0],[125984.0,0.0,1.0],[125984.0,1.0,1.0],[9722.0,1.0,1.0],[8761.0,1.0,1.0],[8761.0,1.0,1.0],[8761.0,0.0,1.0],[7290.0,0.0,1.0],[7290.0,1.0,1.0],[13324.0,0.0,0.0],[13324.0,0.0,0.0],[13324.0,0.0,0.0],[13324.0,0.0,1.0],[15817.306638566912,0.0,1.0],[15817.306638566912,0.0,1.0],[15817.306638566912,0.0,1.0],[15817.306638566912,0.0,1.0],[15817.306638566912,0.0,1.0],[15817.306638566912,0.0,1.0],[15817.306638566912,0.0,1.0],[15817.306638566912,0.0,1.0],[14285.0,0.0,1.0],[12151.0,0.0,1.0],[12151.0,0.0,1.0],[12151.0,0.0,1.0],[8889.0,1.0,1.0],[8889.0,0.0,1.0],[8889.0,0.0,1.0],[8889.0,0.0,1.0],[8889.0,0.0,1.0],[8889.0,0.0,1.0],[8889.0,0.0,1.0],[8889.0,0.0,1.0],[8889.0,0.0,1.0],[15178.0,0.0,1.0],[5806.0,1.0,1.0],[5806.0,0.0,1.0],[10838.0,0.0,1.0],[10838.0,0.0,1.0],[10838.0,0.0,1.0],[10838.0,0.0,1.0],[10838.0,0.0,1.0],[10838.0,0.0,1.0],[15817.306638566912,1.0,1.0],[15817.306638566912,1.0,1.0],[15817.306638566912,1.0,1.0],[15817.306638566912,1.0,1.0],[15817.306638566912,1.0,1.0],[15817.306638566912,1.0,1.0],[10556.0,0.0,1.0],[10556.0,0.0,1.0],[10556.0,1.0,1.0],[10556.0,1.0,1.0],[10556.0,0.0,1.0],[10556.0,1.0,1.0],[10556.0,0.0,1.0],[10556.0,1.0,1.0],[10556.0,0.0,1.0],[12307.0,0.0,1.0],[12307.0,0.0,1.0],[12307.0,1.0,1.0],[15882.0,0.0,1.0],[15882.0,1.0,1.0],[15882.0,0.0,1.0],[65714.0,1.0,1.0],[65714.0,0.0,1.0],[65714.0,1.0,1.0],[65714.0,1.0,1.0],[11363.0,0.0,1.0],[13571.0,0.0,1.0],[11923.0,0.0,1.0],[12272.0,0.0,1.0],[13125.0,0.0,1.0],[15817.306638566912,1.0,1.0],[15817.306638566912,1.0,1.0],[15817.306638566912,1.0,0.0],[15817.306638566912,1.0,1.0],[15817.306638566912,0.0,1.0],[13608.0,0.0,1.0],[11905.0,1.0,1.0],[11905.0,1.0,1.0],[11905.0,1.0,1.0],[11905.0,0.0,1.0],[11905.0,0.0,1.0],[11905.0,1.0,1.0],[11905.0,0.0,1.0],[11905.0,1.0,1.0],[11905.0,1.0,1.0],[11905.0,1.0,1.0],[11905.0,1.0,1.0],[11905.0,1.0,0.0],[11905.0,1.0,0.0],[9909.0,1.0,1.0],[9909.0,1.0,1.0],[7800.0,0.0,1.0],[16667.0,1.0,1.0],[15278.0,1.0,1.0],[15278.0,1.0,1.0],[15278.0,1.0,1.0],[15278.0,0.0,1.0],[15278.0,1.0,1.0],[15278.0,1.0,1.0],[15278.0,1.0,1.0],[15817.306638566912,1.0,1.0],[15817.306638566912,1.0,1.0],[15817.306638566912,1.0,1.0],[15817.306638566912,1.0,1.0],[15817.306638566912,0.0,1.0],[15817.306638566912,1.0,1.0],[15817.306638566912,1.0,1.0],[15817.306638566912,1.0,1.0],[15817.306638566912,0.0,1.0],[15817.306638566912,0.0,1.0],[15817.306638566912,1.0,1.0],[15817.306638566912,1.0,1.0],[15817.306638566912,0.0,1.0],[15817.306638566912,1.0,1.0],[15817.306638566912,0.0,1.0],[15817.306638566912,0.0,1.0],[15817.306638566912,0.0,1.0],[10000.0,1.0,1.0],[10000.0,0.0,1.0],[10000.0,1.0,1.0],[10000.0,0.0,1.0],[10000.0,0.0,1.0],[18000.0,1.0,1.0],[18000.0,1.0,1.0],[18000.0,0.0,1.0],[18000.0,1.0,1.0],[18000.0,1.0,1.0],[18000.0,0.0,1.0],[18000.0,0.0,1.0],[18000.0,1.0,0.0],[15817.306638566912,1.0,1.0],[15817.306638566912,1.0,1.0],[24166.0,1.0,1.0],[30000.0,0.0,1.0],[30000.0,1.0,1.0],[30000.0,0.0,1.0],[30000.0,1.0,0.0],[30000.0,1.0,1.0],[30000.0,0.0,1.0],[30000.0,1.0,1.0],[170000.0,1.0,1.0],[170000.0,1.0,1.0],[170000.0,0.0,1.0],[170000.0,1.0,1.0],[18055.0,1.0,0.0],[18055.0,1.0,1.0],[18055.0,1.0,1.0],[18055.0,1.0,1.0],[18055.0,1.0,1.0],[18055.0,1.0,1.0],[25000.0,1.0,1.0],[25000.0,0.0,1.0],[25000.0,1.0,1.0],[17677.0,0.0,0.0],[17677.0,1.0,1.0],[17677.0,1.0,1.0],[17677.0,1.0,1.0],[17677.0,1.0,1.0],[37037.0,1.0,1.0],[37037.0,1.0,1.0],[15817.306638566912,1.0,1.0],[15817.306638566912,1.0,0.0],[20938.0,1.0,1.0],[20938.0,1.0,1.0],[20938.0,1.0,1.0],[20938.0,1.0,1.0],[20938.0,1.0,1.0],[20938.0,1.0,1.0],[18333.0,1.0,1.0],[18333.0,1.0,1.0],[18333.0,1.0,1.0],[18333.0,0.0,1.0],[18333.0,1.0,1.0],[6878.0,0.0,1.0],[6878.0,1.0,1.0],[6878.0,1.0,1.0],[6878.0,1.0,1.0],[6878.0,1.0,1.0],[6878.0,1.0,1.0],[6878.0,1.0,1.0],[6878.0,1.0,1.0],[6878.0,1.0,1.0],[12916.0,1.0,1.0],[12916.0,1.0,1.0],[12916.0,1.0,1.0],[12916.0,1.0,1.0],[12916.0,1.0,1.0],[12916.0,1.0,1.0],[12916.0,1.0,1.0],[12916.0,1.0,1.0]],\"hovertemplate\":\"Price=%{x}<br>Area=%{y}<br>BHK=%{marker.size}<br>Per_Sqft=%{customdata[0]}<br>Type=%{customdata[1]}<br>Status=%{customdata[2]}<br>Locality=%{marker.color}<extra></extra>\",\"legendgroup\":\"\",\"marker\":{\"color\":[282,138,49,280,281,280,280,93,277,278,276,282,280,280,285,283,278,273,272,280,192,354,274,244,284,276,282,302,282,275,167,166,355,170,169,166,89,166,168,166,166,169,170,8,167,168,8,355,168,169,167,169,355,355,169,168,166,167,355,62,326,175,92,340,162,19,175,334,324,48,203,40,215,101,193,52,22,211,18,137,202,21,154,165,105,104,103,48,169,169,169,169,169,169,169,169,169,169,169,169,169,169,169,169,169,169,166,169,169,169,169,169,169,169,169,169,168,168,168,356,168,168,168,168,168,168,168,356,168,168,168,168,168,168,168,168,168,168,168,168,168,168,168,34,34,37,35,34,35,34,34,35,35,35,34,34,35,36,34,36,35,303,280,280,279,279,279,279,279,279,278,276,276,271,138,138,138,138,138,138,138,138,138,138,138,138,138,138,138,138,138,138,138,138,138,138,138,138,138,138,138,341,341,343,357,326,108,5,163,118,0,162,141,124,231,339,341,97,19,334,351,346,123,280,123,155,29,110,218,218,176,220,109,176,218,110,176,176,218,218,218,109,218,176,146,218,109,176,218,335,218,218,218,218,219,218,176,145,145,145,145,145,145,145,145,145,145,145,145,145,145,145,145,145,145,145,145,145,145,145,145,145,145,145,145,145,145,268,143,130,213,23,286,213,313,358,84,313,360,23,313,268,313,287,267,190,189,121,323,189,267,130,142,313,6,313,213,360,360,360,360,360,360,360,360,360,360,360,360,360,360,360,360,360,360,360,360,362,360,360,360,360,360,360,360,360,142,172,172,172,172,172,172,172,172,172,172,172,172,172,127,127,171,172,172,159,171,174,173,172,172,172,27,172,127,172,172,342,231,102,344,342,344,342,288,344,288,342,342,102,157,200,342,342,344,199,102,344,345,342,342,224,102,240,241,241,241,241,239,241,341,239,239,241,241,241,239,241,239,241,241,260,241,241,239,239,24,241,241,24,65,68,346,346,64,56,346,304,64,63,346,63,67,347,106,64,111,349,63,350,66,349,346,346,158,79,111,348,346,346,54,312,315,312,266,151,264,349,329,113,160,113,336,317,113,113,317,113,328,313,172,314,313,172,298,11,298,298,298,263,298,197,299,246,263,298,251,298,298,298,246,298,298,298,298,263,298,298,298,298,298,298,298,298,291,16,291,291,291,291,291,292,291,291,16,16,161,295,291,291,291,161,291,291,291,291,294,16,291,291,16,291,293,296,269,232,261,234,238,232,235,236,76,232,15,128,232,238,198,212,233,232,232,164,238,75,261,237,325,232,20,235,128,333,18,265,265,120,39,26,201,25,1,25,297,262,1,1,126,135,1,25,91,1,301,309,1,229,214,144,221,126,227,289,51,50,51,50,247,50,248,248,50,247,51,50,50,51,50,50,248,51,248,50,50,50,50,51,248,50,50,50,51,248,7,321,209,112,13,209,13,321,209,337,7,209,210,7,125,7,7,7,249,7,250,209,7,225,7,359,225,225,338,7,70,61,71,61,61,61,61,61,61,61,61,60,60,61,61,61,61,61,61,61,61,60,61,61,327,327,305,306,69,222,222,331,222,330,331,188,136,332,331,222,331,330,330,222,330,330,222,222,188,222,222,222,188,330,188,136,330,136,41,43,139,41,41,41,42,41,41,139,41,41,42,41,42,41,41,41,42,41,88,41,41,42,42,14,41,41,42,42,194,194,194,194,194,194,194,194,194,196,194,194,194,194,9,195,9,194,194,194,194,194,194,194,9,194,33,194,194,194,177,178,178,177,178,179,178,178,177,178,178,177,177,177,178,178,178,178,178,178,178,181,180,177,177,177,178,353,177,180,206,58,55,72,204,204,204,74,57,74,74,81,74,74,204,205,58,204,74,32,204,208,74,204,207,74,57,74,204,204,183,322,115,115,115,115,114,183,183,114,183,183,183,115,156,183,184,183,156,183,183,183,183,115,115,183,115,322,322,322,98,129,100,98,98,98,98,98,53,98,53,99,98,83,98,98,98,99,80,99,98,98,59,99,98,99,98,98,82,53,352,352,352,300,187,245,2,107,316,352,186,352,352,352,352,310,300,310,2,352,352,10,217,182,242,352,352,38,134,117,118,118,3,29,329,329,119,119,119,118,329,329,4,118,3,329,329,329,4,119,140,361,329,29,28,3,4,329,329,329,339,339,339,339,96,30,339,339,339,339,339,78,152,152,243,152,77,152,96,152,153,77,96,152,339,339,339,339,85,86,223,223,223,223,86,86,86,86,223,86,223,86,223,86,86,223,223,85,86,86,223,86,86,223,223,86,223,223,319,319,318,320,311,311,319,320,230,311,319,230,230,311,319,319,319,319,319,319,230,12,319,230,319,319,319,319,319,319,256,252,259,252,259,259,257,258,259,259,87,252,256,255,258,259,252,259,258,258,259,254,31,253,259,253,253,31,253,228,122,122,122,147,122,73,147,147,122,116,122,122,270,147,94,90,147,150,94,122,148,148,149,185,95,147,147,94,148,122,131,131,131,132,131,307,131,133,290,131,133,191,226,131,290,133,131,133,131,131,131,308,133,307,133,133,290,131,133,290,44,17,44,44,44,44,44,44,44,46,44,44,47,44,44,216,44,44,44,44,44,44,44,216,44,44,44,44,45,44],\"coloraxis\":\"coloraxis\",\"size\":[3,2,2,2,2,4,4,2,3,4,3,3,2,2,2,2,2,4,3,2,2,3,1,2,2,3,3,1,2,4,2,2,3,2,3,2,2,3,3,3,2,3,2,2,2,3,2,3,2,4,2,3,3,3,3,2,4,2,3,1,2,3,4,3,3,3,2,3,3,3,4,4,4,3,4,3,4,3,3,3,4,3,3,2,3,1,3,3,1,3,3,4,3,3,3,3,3,3,3,3,4,4,3,3,3,2,4,3,3,3,3,3,3,3,3,3,2,2,3,2,2,3,3,3,2,3,2,2,2,2,2,2,3,2,2,2,2,3,2,2,3,2,3,2,3,2,3,3,2,1,2,2,2,2,1,3,6,6,2,2,1,2,4,4,3,4,3,3,3,4,4,3,3,1,2,2,1,3,4,3,2,1,2,3,2,3,2,4,5,1,3,3,3,1,2,4,4,3,3,3,3,5,4,3,3,2,4,2,2,2,4,3,5,5,3,3,3,2,3,3,4,2,4,4,3,2,4,4,4,4,5,4,3,3,4,4,4,3,3,4,4,5,3,4,4,4,3,3,4,6,4,4,3,4,4,4,4,4,4,4,5,4,4,4,3,4,2,4,3,4,4,3,3,4,3,3,4,4,4,3,3,2,4,3,4,4,4,2,2,4,2,3,3,3,2,2,2,3,3,2,2,3,2,2,2,2,4,3,2,4,3,3,2,4,2,1,3,3,1,2,2,2,1,2,2,1,2,3,2,1,3,4,3,7,3,5,2,2,3,3,6,6,4,2,4,4,2,3,1,3,3,2,2,2,3,3,3,2,2,4,2,1,2,4,2,2,3,2,3,2,2,2,4,3,1,3,3,2,3,2,2,3,2,1,3,2,4,3,2,3,2,2,2,1,2,3,2,2,2,2,2,3,3,2,3,3,4,2,3,4,3,3,3,3,1,2,3,3,3,3,2,3,3,3,1,3,2,2,3,3,4,3,2,3,3,4,1,3,3,1,2,2,3,3,1,2,3,4,3,1,4,2,3,2,2,3,2,4,4,3,2,3,3,2,4,4,5,4,4,3,2,1,2,4,5,3,2,2,2,4,2,2,2,2,4,3,4,4,4,3,4,4,3,3,3,3,4,3,4,3,3,3,4,3,4,3,3,4,3,3,4,3,4,4,3,3,3,4,4,2,4,3,3,2,2,1,2,4,3,4,6,3,2,4,4,3,4,2,4,4,3,4,3,4,3,3,3,3,2,3,3,2,1,2,2,4,3,2,3,2,4,3,2,3,1,3,3,3,3,2,2,3,3,3,3,3,3,3,3,3,4,3,3,3,3,3,3,3,3,3,3,3,2,3,4,3,3,2,4,2,3,3,3,4,5,5,3,3,4,3,4,4,3,3,4,3,3,3,3,2,4,5,3,3,5,5,5,2,5,5,2,3,3,3,2,2,3,3,2,3,3,3,3,4,3,3,3,3,4,2,2,2,3,3,3,2,3,2,1,2,2,3,3,3,4,10,4,3,2,3,4,2,3,4,3,2,3,2,3,4,4,2,4,2,2,2,2,3,4,3,2,3,2,3,3,3,1,3,1,2,1,2,2,1,1,1,2,2,2,2,3,3,3,3,3,3,3,3,3,2,2,1,3,2,4,3,3,2,4,2,2,3,3,2,2,2,4,2,3,2,2,3,3,2,3,2,3,3,3,2,1,3,2,1,2,2,3,1,3,3,1,3,3,4,3,3,3,3,3,3,2,1,3,1,1,1,1,1,1,2,3,2,3,4,3,3,2,2,3,1,2,3,3,2,3,2,3,1,2,2,1,3,3,2,2,1,2,3,3,2,3,2,1,1,2,1,2,1,1,1,1,1,1,1,1,1,1,1,2,1,1,3,2,2,1,2,1,1,1,1,3,1,2,3,4,4,4,4,4,2,2,4,2,2,2,3,3,3,2,2,3,4,1,2,3,4,4,3,4,3,3,3,1,2,4,1,2,2,1,3,3,1,3,3,3,2,2,1,3,3,1,2,3,2,1,1,1,2,2,2,3,3,2,3,2,3,4,2,4,3,3,3,2,2,2,3,3,2,2,3,3,3,2,3,3,3,3,3,2,3,2,3,2,2,2,1,2,4,2,2,2,2,2,3,3,2,3,3,4,4,2,4,2,2,3,2,3,3,2,2,4,4,3,3,2,4,4,3,3,2,3,5,4,3,3,2,2,3,2,1,2,2,3,2,2,3,3,3,3,3,3,4,3,4,3,4,3,2,4,3,2,3,3,3,3,4,3,3,3,4,3,4,2,4,3,4,3,3,3,2,3,3,2,3,2,3,3,1,3,3,3,3,1,3,3,2,3,2,2,3,2,2,2,4,3,2,3,2,2,3,4,4,4,3,3,3,3,3,4,3,4,4,2,3,3,5,3,5,3,2,4,2,2,3,3,4,3,3,2,2,2,2,3,3,3,1,2,3,3,3,3,2,3,3,2,2,2,2,2,3,3,2,2,3,3,2,2,2,2,2,3,3,3,5,4,3,4,3,3,4,4,4,4,3,4,2,3,4,3,3,4,3,4,3,4,4,3,4,4,3,3,3,3,4,3,3,2,3,3,3,3,2,4,2,3,3,4,4,3,3,3,3,3,3,3,4,3,3,2,3],\"sizemode\":\"area\",\"sizeref\":0.025,\"symbol\":\"circle\"},\"mode\":\"markers\",\"name\":\"\",\"showlegend\":false,\"x\":[6500000,5000000,15500000,4200000,6200000,15500000,10000000,4000000,6800000,15000000,6200000,7700000,5500000,5000000,3310000,4700000,4500000,17000000,25000000,6000000,11000000,4500000,5300000,10500000,12000000,7000000,7000000,3400000,5000000,21000000,15000000,10500000,22500000,13600000,30000000,13500000,8910000,25000000,26000000,30000000,12500000,21000000,7800000,11500000,11500000,26000000,13000000,22000000,15800000,57500000,10000000,30000000,22000000,24000000,31500000,14600000,240000000,8300000,22500000,4600000,1900000,5130000,5890000,3700000,17400000,15500000,2400000,17200000,14200000,13500000,30000000,21000000,20500000,24000000,16500000,14900000,19200000,14500000,15600000,11400000,31500000,15800000,16000000,10500000,14800000,1850000,6800000,14200000,8900000,37500000,21000000,57500000,30000000,30000000,31500000,30000000,41500000,24800000,35000000,40000000,46000000,55000000,24500000,24500000,32500000,20000000,240000000,19000000,26000000,21000000,27500000,32500000,45000000,21000000,28000000,29500000,14000000,12500000,26000000,11500000,14600000,25500000,31000000,22000000,13400000,35000000,11000000,6300000,12500000,14500000,22500000,15500000,26000000,15800000,15000000,13000000,15000000,25000000,16500000,10300000,26000000,11000000,28500000,11000000,4500000,3600000,4300000,4000000,1650000,2000000,3000000,1400000,2000000,2000000,2000000,2600000,5100000,6000000,4000000,6200000,3500000,7600000,13500000,12500000,6500000,22000000,6000000,7300000,7600000,20000000,15000000,6200000,6200000,2300000,4700000,5500000,2000000,7300000,13000000,11500000,2800000,2200000,4400000,13500000,4100000,12000000,3500000,15000000,17500000,1900000,5500000,10000000,4700000,2400000,3800000,23000000,24500000,10000000,5500000,7000000,6500000,135000000,93000000,4370000,4620000,1900000,70000000,3000000,3300000,24900000,60000000,17400000,51000000,170000000,5510000,25000000,57000000,2940000,15500000,17200000,55000000,15000000,51000000,13000000,30000000,2400000,5500000,45000000,60000000,65000000,220000000,60000000,38500000,50000000,75000000,70000000,160000000,85000000,40000000,90000000,56000000,135500000,60000000,170000000,50000000,58000000,37500000,45000000,70000000,29500000,60000000,70000000,50000000,75000000,52500000,55000000,120000000,65000000,75000000,47500000,70000000,47500000,40000000,85000000,26000000,35000000,20000000,79000000,17000000,47500000,43000000,26000000,25000000,51000000,40000000,22500000,70000000,45000000,51100000,25500000,26500000,15000000,55000000,26000000,38000000,72500000,65000000,4600000,9200000,9500000,4500000,6500000,5650000,9300000,2700000,6500000,5800000,5500000,6000000,4500000,4100000,3800000,3300000,2900000,2000000,1550000,11300000,4500000,3300000,11500000,6000000,9000000,4500000,14000000,7300000,1900000,7000000,6000000,6400000,2700000,6500000,4000000,3000000,5000000,6000000,2500000,6500000,8000000,2700000,4500000,5700000,25000000,70000000,26500000,18500000,30000000,22000000,9000000,65000000,22500000,8700000,22000000,18500000,16000000,16000000,9000000,4500000,6000000,2700000,6500000,4000000,2600000,3500000,7500000,7000000,4500000,5500000,2700000,2400000,11500000,3600000,1700000,2500000,6600000,3700000,3500000,5400000,2550000,12500000,5600000,7000000,3500000,35000000,9000000,2300000,6000000,6000000,2650000,5510000,3200000,2600000,4000000,1850000,1700000,2800000,2150000,6800000,6200000,3100000,3400000,4000000,4800000,2500000,2000000,1900000,5800000,2900000,2000000,2600000,2900000,3200000,5400000,3800000,8200000,8000000,9500000,20000000,7400000,37500000,15000000,55300000,26500000,16000000,10400000,1700000,8000000,27000000,19500000,50000000,21100000,5900000,12000000,12000000,24000000,7000000,15000000,1500000,3950000,12500000,1600000,36500000,20000000,15000000,25000000,18500000,23500000,8000000,23000000,31000000,7400000,15500000,12000000,23500000,25000000,7000000,17500000,25000000,29000000,21900000,7500000,23500000,24000000,31000000,16500000,5000000,24000000,17000000,40000000,22500000,20000000,7500000,3600000,35000000,6000000,17500000,35000000,10200000,29000000,41000000,6000000,2500000,2200000,21500000,15000000,28900000,5500000,1950000,3800000,6200000,14000000,7500000,2670000,2500000,5000000,29500000,19000000,25500000,75000000,75000000,34000000,47500000,75000000,23000000,24000000,21500000,28500000,12500000,45000000,30500000,22500000,28000000,25000000,33700000,27000000,43500000,29000000,30000000,52100000,32500000,20500000,25000000,30000000,51000000,31000000,37500000,32500000,37500000,55000000,87500000,16300000,65000000,25000000,38000000,15000000,2000000,3000000,8500000,55000000,22500000,72500000,160000000,12500000,17000000,82500000,55000000,35000000,42500000,4700000,52500000,80000000,11000000,74000000,37500000,52500000,26000000,15500000,22000000,21000000,5000000,22000000,26500000,8770000,4500000,8500000,8600000,42500000,13100000,7000000,30000000,13000000,23100000,16000000,12500000,24500000,3200000,6300000,15000000,5700000,21000000,7500000,6500000,27500000,12000000,18000000,15600000,15500000,15200000,25000000,15000000,15800000,31500000,14000000,13200000,15800000,16200000,15500000,14500000,14900000,17200000,18000000,15500000,15800000,12600000,15000000,19500000,16600000,17200000,13000000,16500000,10700000,16200000,16500000,14900000,27500000,62500000,70000000,35500000,42100000,42500000,44000000,43200000,52500000,34300000,38000000,52500000,37500000,37000000,40000000,36200000,29000000,42500000,60000000,36500000,42500000,71500000,65000000,58000000,27500000,70000000,65000000,28600000,39000000,32500000,34000000,16500000,13800000,21000000,22500000,15000000,20000000,20000000,26000000,19500000,21500000,26500000,20000000,18000000,19000000,36500000,15000000,17500000,14000000,21000000,15600000,19000000,16500000,19000000,16500000,3000000,15000000,14300000,18500000,19000000,19000000,15800000,17000000,15500000,16000000,12900000,13500000,17800000,13200000,14000000,17500000,17000000,13000000,17000000,12700000,13500000,17400000,17800000,12700000,16200000,11100000,13600000,13100000,12500000,13600000,12000000,20000000,13500000,14000000,10800000,9000000,6300000,5500000,2350000,8500000,1650000,10000000,1500000,2800000,2600000,2350000,2350000,2000000,5000000,3500000,4500000,4000000,10800000,10000000,9000000,8500000,6000000,5500000,7000000,6000000,3700000,3100000,4500000,1500000,7090000,4500000,5500000,63000000,6990000,4400000,12500000,3000000,2800000,5000000,6000000,4500000,2800000,2500000,8500000,3000000,4900000,3500000,3000000,7020000,60000000,3500000,7000000,7000000,4500000,5990000,4400000,2500000,1600000,6500000,2750000,1500000,2200000,2800000,4500000,1800000,8500000,8500000,1700000,7000000,5600000,13500000,8500000,6000000,7200000,6500000,8400000,8500000,4000000,1700000,6000000,1600000,2100000,1700000,1500000,1200000,1650000,3500000,8500000,3200000,4400000,7200000,7500000,6500000,3500000,6500000,6200000,2500000,3000000,6000000,4800000,3790000,4200000,2900000,5000000,2100000,3200000,3000000,2300000,5900000,5500000,3500000,1700000,1850000,2300000,3800000,4500000,2200000,5200000,2200000,1500000,2200000,3800000,1800000,2850000,2500000,3500000,2000000,3000000,2000000,3500000,1800000,1600000,1600000,2000000,1500000,3000000,1490000,3500000,4000000,1750000,4600000,1800000,1900000,1000000,1000000,1000000,3500000,5000000,2200000,13000000,34000000,60000000,74500000,75000000,62500000,67000000,8500000,11500000,52500000,12000000,10700000,9000000,100000000,6200000,17000000,12500000,13000000,4200000,36000000,2300000,8100000,10000000,62500000,65000000,20000000,57500000,30000000,30000000,30000000,3300000,7350000,12500000,3500000,6500000,6900000,3600000,13500000,9200000,2500000,17000000,9030000,9300000,6500000,3300000,2400000,15000000,7000000,4200000,5800000,4800000,7500000,3000000,4300000,2600000,7000000,6000000,6700000,9500000,17000000,8000000,12000000,9000000,11500000,20000000,8550000,10500000,12000000,11000000,12000000,9000000,10000000,8100000,9200000,14200000,7500000,9500000,14000000,11600000,12000000,7500000,9800000,12000000,12500000,16500000,12000000,7200000,15000000,10000000,11000000,24700000,24900000,3600000,1700000,11000000,75000000,24800000,24900000,24900000,25900000,11700000,13500000,5500000,30000000,4950000,16000000,30000000,41000000,3800000,68900000,1800000,1500000,12500000,1600000,2400000,7000000,3100000,14500000,61500000,27500000,25500000,25000000,18500000,39700000,6800000,6540000,22000000,17000000,27500000,73700000,52300000,16000000,15000000,10000000,5000000,20000000,16000000,5500000,7000000,4100000,24000000,12500000,3900000,14500000,20000000,24500000,20900000,43100000,18000000,50000000,18500000,46500000,17500000,42500000,15500000,15000000,40000000,20000000,6700000,16000000,8000000,25000000,25000000,37500000,25000000,23000000,17500000,44000000,15000000,42500000,5000000,38000000,19000000,43500000,19500000,14200000,14200000,13500000,21000000,22500000,19000000,7500000,4000000,8000000,19000000,7000000,5800000,8000000,18800000,6000000,2200000,6500000,23500000,16000000,20000000,5500000,13500000,22500000,3800000,4600000,17500000,5500000,22500000,12500000,19000000,15500000,13500000,21000000,50000000,42500000,45500000,23000000,12000000,35000000,25000000,29000000,80000000,20500000,52500000,37500000,7500000,32500000,24500000,65000000,27500000,115000000,28000000,8000000,75100000,7800000,15000000,27500000,25000000,26000000,23500000,4200000,10000000,18500000,3300000,3800000,7000000,16500000,8000000,5600000,21000000,21000000,8600000,6600000,14000000,4700000,30000000,26000000,18500000,6500000,15000000,8000000,16100000,6800000,6800000,9000000,18000000,27500000,13500000,14000000,9000000,16000000,11000000,5500000,47500000,45000000,43500000,180000000,80000000,37500000,60000000,71000000,18500000,70000000,85000000,190000000,135000000,35000000,65000000,27500000,45000000,100000000,47000000,27500000,70000000,36500000,65000000,35000000,56000000,110000000,24000000,102500000,100000000,45000000,29000000,25500000,33500000,62500000,47500000,14700000,18000000,22500000,22000000,22200000,22500000,7500000,30000000,6500000,35000000,17500000,60000000,40000000,11500000,22500000,28500000,29000000,15500000,26000000,16500000,55000000,12500000,17500000,11500000,18500000],\"xaxis\":\"x\",\"y\":[800.0,750.0,950.0,600.0,650.0,1300.0,1350.0,650.0,985.0,1300.0,1100.0,870.0,630.0,660.0,344.4448,660.0,550.0,1100.0,1150.0,650.0,850.0,900.0,430.556,900.0,914.9315,1100.0,800.0,500.0,28.0,2160.0,800.0,900.0,1080.0,750.0,1450.0,900.0,810.0,1350.0,1710.0,1650.0,1280.0,1260.0,1130.0,600.0,850.0,1500.0,900.0,1000.0,900.0,2925.0,900.0,1600.0,1143.0,1150.0,1500.0,850.0,8000.0,890.0,1100.0,750.0,850.0,1350.0,1387.0,1050.0,1500.0,1200.0,700.0,1700.0,1550.0,1400.0,1900.0,2160.0,1700.0,1850.0,1800.0,1620.0,1800.0,1540.0,1600.0,1400.0,2300.0,1560.0,1500.0,1050.0,1800.0,400.0,1150.0,1525.0,900.0,1450.0,1260.0,2925.0,1710.0,1600.0,1500.0,2200.0,1350.0,1710.0,1350.0,1500.0,2880.0,2700.0,1400.0,1800.0,1400.0,1000.0,8000.0,1700.0,1600.0,1350.0,1700.0,1400.0,1450.0,1350.0,1700.0,1600.0,800.0,1350.0,1500.0,750.0,850.0,1575.0,1675.0,1350.0,900.0,1800.0,900.0,900.0,900.0,800.0,1100.0,810.0,1500.0,900.0,825.0,900.0,875.0,1350.0,750.0,900.0,1350.0,900.0,1800.0,900.0,810.0,450.0,100.0,900.0,500.0,450.0,75.0,270.0,500.0,444.0,400.0,729.0,4050.0,2400.0,450.0,405.0,666.0,1000.0,1360.0,1550.0,850.0,2170.0,720.0,850.0,950.0,2300.0,1300.0,1100.0,1030.0,350.0,720.0,800.0,350.0,980.0,1600.0,1450.0,445.0,380.0,680.0,1600.0,630.0,1500.0,550.0,2500.0,2800.0,300.0,800.0,1295.0,700.0,350.0,450.0,2200.0,2300.0,1150.0,800.0,850.0,720.0,4688.0,3901.0,950.0,1000.0,850.0,2400.0,540.0,540.0,976.0,2700.0,1500.0,2900.0,5025.0,1000.0,1135.0,2306.0,850.0,1200.0,1700.0,1800.0,1100.0,22050.0,1550.0,1600.0,700.0,45.0,3510.0,4500.0,1800.0,6000.0,4300.0,1700.0,2500.0,4500.0,2450.0,10350.0,4800.0,1600.0,3500.0,2100.0,4200.0,1500.0,8150.0,2200.0,3500.0,2070.0,3500.0,2000.0,2800.0,2550.0,4500.0,1400.0,2800.0,2700.0,4500.0,7200.0,2799.0,2650.0,2200.0,3500.0,2200.0,2200.0,3500.0,1440.0,3150.0,900.0,3690.0,1200.0,4500.0,2799.0,1350.0,1200.0,2177.0,1500.0,1600.0,4500.0,2150.0,2107.0,1150.0,1240.0,1000.0,4500.0,1150.0,2000.0,4500.0,3000.0,700.0,750.0,1350.0,900.0,970.0,1000.0,1425.0,440.0,1017.0,650.0,950.0,810.0,750.0,990.0,800.0,675.0,558.0,445.0,360.0,1350.0,850.0,846.0,1300.0,900.0,1050.0,850.0,1650.0,1150.0,495.1394,1053.0,810.0,750.0,540.0,747.0,720.0,376.7365,1125.0,713.0,360.0,900.0,713.0,504.0,70.0,850.0,2430.0,2475.0,2970.0,2250.0,1500.0,1512.0,400.0,2160.0,630.0,324.0,720.0,675.0,700.0,675.0,720.0,850.0,801.0,450.0,1000.0,990.0,420.0,450.0,1000.0,900.0,800.0,720.0,450.0,675.0,1700.0,550.0,387.0,450.0,900.0,500.0,441.0,800.0,450.0,1000.0,715.0,600.0,540.0,312.0,810.0,270.0,900.0,1000.0,540.0,1000.0,500.0,540.0,780.0,450.0,360.0,900.0,495.0,1200.0,1000.0,620.0,680.0,805.0,729.0,540.0,360.0,550.0,1001.0,450.0,550.0,550.0,675.0,585.0,810.0,765.0,70.0,800.0,900.0,1680.0,900.0,2000.0,2000.0,1900.0,1530.0,100.0,900.0,270.0,950.0,1800.0,1500.0,1800.0,1800.0,850.0,140.0,900.0,1800.0,200.0,1782.0,900.0,405.0,1500.0,66.0,2000.0,1200.0,1100.0,1400.0,1600.0,1600.0,600.0,1600.0,2000.0,650.0,1100.0,1075.0,1450.0,1200.0,600.0,1000.0,1600.0,1750.0,1300.0,550.0,2200.0,1100.0,1700.0,1100.0,1000.0,1350.0,1184.0,2000.0,3500.0,900.0,1250.0,504.0,65.0,450.0,1800.0,1800.0,1530.0,1750.0,2210.0,760.0,400.0,380.0,904.1676,900.0,810.0,100.0,50.0,58.0,900.0,1650.0,1000.0,852.0,700.0,1000.0,1700.0,1350.0,2100.0,2600.0,3000.0,1450.0,2050.0,3000.0,1800.0,900.0,1500.0,1500.0,1800.0,1674.0,2025.0,1300.0,990.0,2100.0,2250.0,1500.0,2700.0,1700.0,1700.0,2050.0,1800.0,1500.0,2000.0,1500.0,24300.0,2475.0,1800.0,1300.0,1500.0,2100.0,1800.0,1100.0,2035.0,1100.0,1550.0,700.0,150.0,540.0,810.0,3250.0,1600.0,4000.0,5500.0,900.0,972.0,4150.0,2250.0,1650.0,2610.0,600.0,1700.0,2250.0,880.0,4200.0,1450.0,2200.0,1620.0,1078.0,1710.0,1150.0,450.0,1818.0,1800.0,780.0,405.0,900.0,807.2925,2700.0,1100.0,585.0,2152.78,960.0,1800.0,1100.0,900.0,1620.0,378.0,800.0,1350.0,850.0,1580.0,820.0,594.0,14220.0,800.0,1500.0,1600.0,1650.0,1600.0,1900.0,1400.0,1550.0,2000.0,1500.0,1550.0,1600.0,1600.0,1800.0,1470.0,1500.0,1750.0,1650.0,1850.0,1480.0,1214.0,1380.0,1600.0,1585.0,1700.0,1200.0,1800.0,1000.0,1500.0,1700.0,1750.0,2700.0,3050.0,3405.0,1500.0,2105.0,2500.0,2090.0,2525.0,2500.0,2100.0,2022.0,2650.0,1850.0,2100.0,1700.0,2105.0,1250.0,2552.0,3112.0,2125.0,2065.0,3405.0,3050.0,2300.0,1455.0,3400.0,3100.0,1400.0,2126.0,1815.0,1700.0,700.0,980.0,1350.0,1800.0,968.751,1250.0,1800.0,1400.0,1000.0,1800.0,1500.0,1600.0,1400.0,1400.0,2700.0,1100.0,1200.0,1400.0,1500.0,1320.0,1300.0,1150.0,1440.0,1400.0,450.0,1300.0,1200.0,1300.0,1400.0,1400.0,1600.0,1200.0,1600.0,1250.0,950.0,1200.0,1400.0,950.0,1350.0,1550.0,1300.0,1000.0,1500.0,950.0,1200.0,1400.0,1500.0,1050.0,1550.0,950.0,1150.0,1150.0,1150.0,1500.0,1800.0,1300.0,1150.0,1500.0,1150.0,900.0,1150.0,1000.0,450.0,1350.0,445.0,1200.0,50.0,1100.0,700.0,500.0,540.0,450.0,800.0,700.0,750.0,750.0,1600.0,1000.0,900.0,1700.0,1100.0,1000.0,1000.0,1100.0,765.0,900.0,600.0,360.0,950.0,3600.0,1305.0,1800.0,950.0,800.0,1800.0,800.0,675.0,1175.0,1500.0,810.0,630.0,650.0,1800.0,725.0,900.0,750.0,700.0,950.0,1600.0,900.0,1500.0,500.0,1035.0,825.0,1300.0,765.0,580.0,1750.0,650.0,405.0,675.0,850.0,800.0,405.0,1350.0,1350.0,450.0,1300.0,1050.0,1675.0,1250.0,1080.0,1170.0,1250.0,1500.0,1350.0,855.0,540.0,1044.0983,405.0,500.0,450.0,405.0,405.0,450.0,173.0,1100.0,600.0,800.0,990.0,1100.0,1100.0,527.0,1000.0,1000.0,450.0,600.0,950.0,855.0,770.0,810.0,710.0,950.0,450.0,500.0,600.0,420.0,900.0,945.0,565.0,450.0,430.0,550.0,810.0,720.0,360.0,820.0,459.0,378.0,450.0,900.0,360.0,559.7228,350.0,365.0,390.0,350.0,210.0,50.0,500.0,350.0,379.0,236.8058,445.0,452.0838,350.0,437.0,61.0,495.0,900.0,350.0,585.0,198.0,4900.0,2077.4327,50.0,990.0,425.0,750.0,1400.0,3600.0,3000.0,2750.0,2050.0,3000.0,850.0,750.0,2600.0,800.0,550.0,700.0,2316.0,900.0,100.0,900.0,1500.0,650.0,2000.0,500.0,1125.0,1300.0,2500.0,2200.0,1290.0,2250.0,1350.0,1400.0,1700.0,450.0,750.0,1500.0,400.0,650.0,900.0,400.0,900.0,1000.0,405.0,1700.0,800.0,1076.39,750.0,460.0,370.0,1800.0,1080.0,350.0,500.0,900.0,800.0,350.0,430.556,500.0,1450.0,800.0,1000.0,1000.0,1600.0,900.0,1500.0,1050.0,1300.0,1600.0,900.0,1350.0,1000.0,1400.0,975.0,900.0,1100.0,950.0,1300.0,1459.0,1000.0,1100.0,1450.0,1450.0,1150.0,780.0,1300.0,1350.0,1200.0,1460.0,1460.0,1100.0,1500.0,1050.0,1350.0,1500.0,976.0,540.0,450.0,900.0,2500.0,979.5149,945.0,976.0,1531.0,1000.0,750.0,900.0,1512.0,35.0,1500.0,2907.0,2210.0,750.0,2518.7526,588.0,540.0,1100.0,550.0,750.0,1260.0,675.0,810.0,3150.0,2000.0,1775.0,1135.0,1252.0,2000.0,530.0,1332.0,1017.0,987.0,1912.0,5236.0,2805.0,1500.0,1280.0,675.0,576.0,1206.0,1143.0,345.0,720.0,468.0,1600.0,950.0,535.0,1200.0,1501.0,1135.0,1200.0,2200.0,1240.0,3002.0,1350.0,2300.0,1429.0,2430.0,1450.0,1250.0,2800.0,1646.0,900.0,1250.0,900.0,1590.0,990.0,2282.0,1260.0,1457.0,1400.0,2175.0,1450.0,2800.0,861.112,2282.0,1753.0,2659.0,1550.0,1470.0,702.0,1138.0,1600.0,1600.0,1250.0,810.0,585.0,1700.0,1800.0,600.0,1250.0,600.0,1600.0,1100.0,450.0,855.0,1291.668,1300.0,1350.0,900.0,850.0,1650.0,650.0,630.0,1250.0,1800.0,1500.0,1100.0,1400.0,1300.0,1100.0,1600.0,2250.0,2592.0,1800.0,1700.0,1640.0,2572.0,2100.0,1620.0,2500.0,2250.0,2445.0,2250.0,800.0,1450.0,1440.0,5220.0,1800.0,4455.0,195.0,807.2925,3500.0,1000.0,900.0,1800.0,17010.0,2340.0,1350.0,464.0,954.0,1155.0,500.0,700.0,900.0,1260.0,950.0,405.0,1800.0,1300.0,1000.0,900.0,1800.0,720.0,1485.0,1600.0,1200.0,900.0,900.0,800.0,1150.0,900.0,1070.0,1050.0,1000.0,1550.0,1300.0,810.0,900.0,1200.0,1000.0,720.0,2520.0,1700.0,1800.0,6000.0,1800.0,2000.0,2066.0,2050.0,1100.0,4500.0,4500.0,6500.0,4350.0,1750.0,3600.0,1200.0,1500.0,2250.0,1800.0,1600.0,2800.0,1700.0,2400.0,1980.0,2100.0,5400.0,1250.0,2300.0,2700.0,1450.0,2097.0,1250.0,1600.0,2600.0,1700.0,1116.0,1070.0,1200.0,1200.0,1200.0,1450.0,1000.0,2430.0,945.0,1650.0,1350.0,2625.0,1800.0,125.0,1440.0,1900.0,1800.0,1200.0,1800.0,1200.0,4118.0,1050.0,875.0,990.0,11050.0],\"yaxis\":\"y\",\"type\":\"scattergl\"}],                        {\"template\":{\"data\":{\"histogram2dcontour\":[{\"type\":\"histogram2dcontour\",\"colorbar\":{\"outlinewidth\":0,\"ticks\":\"\"},\"colorscale\":[[0.0,\"#0d0887\"],[0.1111111111111111,\"#46039f\"],[0.2222222222222222,\"#7201a8\"],[0.3333333333333333,\"#9c179e\"],[0.4444444444444444,\"#bd3786\"],[0.5555555555555556,\"#d8576b\"],[0.6666666666666666,\"#ed7953\"],[0.7777777777777778,\"#fb9f3a\"],[0.8888888888888888,\"#fdca26\"],[1.0,\"#f0f921\"]]}],\"choropleth\":[{\"type\":\"choropleth\",\"colorbar\":{\"outlinewidth\":0,\"ticks\":\"\"}}],\"histogram2d\":[{\"type\":\"histogram2d\",\"colorbar\":{\"outlinewidth\":0,\"ticks\":\"\"},\"colorscale\":[[0.0,\"#0d0887\"],[0.1111111111111111,\"#46039f\"],[0.2222222222222222,\"#7201a8\"],[0.3333333333333333,\"#9c179e\"],[0.4444444444444444,\"#bd3786\"],[0.5555555555555556,\"#d8576b\"],[0.6666666666666666,\"#ed7953\"],[0.7777777777777778,\"#fb9f3a\"],[0.8888888888888888,\"#fdca26\"],[1.0,\"#f0f921\"]]}],\"heatmap\":[{\"type\":\"heatmap\",\"colorbar\":{\"outlinewidth\":0,\"ticks\":\"\"},\"colorscale\":[[0.0,\"#0d0887\"],[0.1111111111111111,\"#46039f\"],[0.2222222222222222,\"#7201a8\"],[0.3333333333333333,\"#9c179e\"],[0.4444444444444444,\"#bd3786\"],[0.5555555555555556,\"#d8576b\"],[0.6666666666666666,\"#ed7953\"],[0.7777777777777778,\"#fb9f3a\"],[0.8888888888888888,\"#fdca26\"],[1.0,\"#f0f921\"]]}],\"heatmapgl\":[{\"type\":\"heatmapgl\",\"colorbar\":{\"outlinewidth\":0,\"ticks\":\"\"},\"colorscale\":[[0.0,\"#0d0887\"],[0.1111111111111111,\"#46039f\"],[0.2222222222222222,\"#7201a8\"],[0.3333333333333333,\"#9c179e\"],[0.4444444444444444,\"#bd3786\"],[0.5555555555555556,\"#d8576b\"],[0.6666666666666666,\"#ed7953\"],[0.7777777777777778,\"#fb9f3a\"],[0.8888888888888888,\"#fdca26\"],[1.0,\"#f0f921\"]]}],\"contourcarpet\":[{\"type\":\"contourcarpet\",\"colorbar\":{\"outlinewidth\":0,\"ticks\":\"\"}}],\"contour\":[{\"type\":\"contour\",\"colorbar\":{\"outlinewidth\":0,\"ticks\":\"\"},\"colorscale\":[[0.0,\"#0d0887\"],[0.1111111111111111,\"#46039f\"],[0.2222222222222222,\"#7201a8\"],[0.3333333333333333,\"#9c179e\"],[0.4444444444444444,\"#bd3786\"],[0.5555555555555556,\"#d8576b\"],[0.6666666666666666,\"#ed7953\"],[0.7777777777777778,\"#fb9f3a\"],[0.8888888888888888,\"#fdca26\"],[1.0,\"#f0f921\"]]}],\"surface\":[{\"type\":\"surface\",\"colorbar\":{\"outlinewidth\":0,\"ticks\":\"\"},\"colorscale\":[[0.0,\"#0d0887\"],[0.1111111111111111,\"#46039f\"],[0.2222222222222222,\"#7201a8\"],[0.3333333333333333,\"#9c179e\"],[0.4444444444444444,\"#bd3786\"],[0.5555555555555556,\"#d8576b\"],[0.6666666666666666,\"#ed7953\"],[0.7777777777777778,\"#fb9f3a\"],[0.8888888888888888,\"#fdca26\"],[1.0,\"#f0f921\"]]}],\"mesh3d\":[{\"type\":\"mesh3d\",\"colorbar\":{\"outlinewidth\":0,\"ticks\":\"\"}}],\"scatter\":[{\"fillpattern\":{\"fillmode\":\"overlay\",\"size\":10,\"solidity\":0.2},\"type\":\"scatter\"}],\"parcoords\":[{\"type\":\"parcoords\",\"line\":{\"colorbar\":{\"outlinewidth\":0,\"ticks\":\"\"}}}],\"scatterpolargl\":[{\"type\":\"scatterpolargl\",\"marker\":{\"colorbar\":{\"outlinewidth\":0,\"ticks\":\"\"}}}],\"bar\":[{\"error_x\":{\"color\":\"#2a3f5f\"},\"error_y\":{\"color\":\"#2a3f5f\"},\"marker\":{\"line\":{\"color\":\"#E5ECF6\",\"width\":0.5},\"pattern\":{\"fillmode\":\"overlay\",\"size\":10,\"solidity\":0.2}},\"type\":\"bar\"}],\"scattergeo\":[{\"type\":\"scattergeo\",\"marker\":{\"colorbar\":{\"outlinewidth\":0,\"ticks\":\"\"}}}],\"scatterpolar\":[{\"type\":\"scatterpolar\",\"marker\":{\"colorbar\":{\"outlinewidth\":0,\"ticks\":\"\"}}}],\"histogram\":[{\"marker\":{\"pattern\":{\"fillmode\":\"overlay\",\"size\":10,\"solidity\":0.2}},\"type\":\"histogram\"}],\"scattergl\":[{\"type\":\"scattergl\",\"marker\":{\"colorbar\":{\"outlinewidth\":0,\"ticks\":\"\"}}}],\"scatter3d\":[{\"type\":\"scatter3d\",\"line\":{\"colorbar\":{\"outlinewidth\":0,\"ticks\":\"\"}},\"marker\":{\"colorbar\":{\"outlinewidth\":0,\"ticks\":\"\"}}}],\"scattermapbox\":[{\"type\":\"scattermapbox\",\"marker\":{\"colorbar\":{\"outlinewidth\":0,\"ticks\":\"\"}}}],\"scatterternary\":[{\"type\":\"scatterternary\",\"marker\":{\"colorbar\":{\"outlinewidth\":0,\"ticks\":\"\"}}}],\"scattercarpet\":[{\"type\":\"scattercarpet\",\"marker\":{\"colorbar\":{\"outlinewidth\":0,\"ticks\":\"\"}}}],\"carpet\":[{\"aaxis\":{\"endlinecolor\":\"#2a3f5f\",\"gridcolor\":\"white\",\"linecolor\":\"white\",\"minorgridcolor\":\"white\",\"startlinecolor\":\"#2a3f5f\"},\"baxis\":{\"endlinecolor\":\"#2a3f5f\",\"gridcolor\":\"white\",\"linecolor\":\"white\",\"minorgridcolor\":\"white\",\"startlinecolor\":\"#2a3f5f\"},\"type\":\"carpet\"}],\"table\":[{\"cells\":{\"fill\":{\"color\":\"#EBF0F8\"},\"line\":{\"color\":\"white\"}},\"header\":{\"fill\":{\"color\":\"#C8D4E3\"},\"line\":{\"color\":\"white\"}},\"type\":\"table\"}],\"barpolar\":[{\"marker\":{\"line\":{\"color\":\"#E5ECF6\",\"width\":0.5},\"pattern\":{\"fillmode\":\"overlay\",\"size\":10,\"solidity\":0.2}},\"type\":\"barpolar\"}],\"pie\":[{\"automargin\":true,\"type\":\"pie\"}]},\"layout\":{\"autotypenumbers\":\"strict\",\"colorway\":[\"#636efa\",\"#EF553B\",\"#00cc96\",\"#ab63fa\",\"#FFA15A\",\"#19d3f3\",\"#FF6692\",\"#B6E880\",\"#FF97FF\",\"#FECB52\"],\"font\":{\"color\":\"#2a3f5f\"},\"hovermode\":\"closest\",\"hoverlabel\":{\"align\":\"left\"},\"paper_bgcolor\":\"white\",\"plot_bgcolor\":\"#E5ECF6\",\"polar\":{\"bgcolor\":\"#E5ECF6\",\"angularaxis\":{\"gridcolor\":\"white\",\"linecolor\":\"white\",\"ticks\":\"\"},\"radialaxis\":{\"gridcolor\":\"white\",\"linecolor\":\"white\",\"ticks\":\"\"}},\"ternary\":{\"bgcolor\":\"#E5ECF6\",\"aaxis\":{\"gridcolor\":\"white\",\"linecolor\":\"white\",\"ticks\":\"\"},\"baxis\":{\"gridcolor\":\"white\",\"linecolor\":\"white\",\"ticks\":\"\"},\"caxis\":{\"gridcolor\":\"white\",\"linecolor\":\"white\",\"ticks\":\"\"}},\"coloraxis\":{\"colorbar\":{\"outlinewidth\":0,\"ticks\":\"\"}},\"colorscale\":{\"sequential\":[[0.0,\"#0d0887\"],[0.1111111111111111,\"#46039f\"],[0.2222222222222222,\"#7201a8\"],[0.3333333333333333,\"#9c179e\"],[0.4444444444444444,\"#bd3786\"],[0.5555555555555556,\"#d8576b\"],[0.6666666666666666,\"#ed7953\"],[0.7777777777777778,\"#fb9f3a\"],[0.8888888888888888,\"#fdca26\"],[1.0,\"#f0f921\"]],\"sequentialminus\":[[0.0,\"#0d0887\"],[0.1111111111111111,\"#46039f\"],[0.2222222222222222,\"#7201a8\"],[0.3333333333333333,\"#9c179e\"],[0.4444444444444444,\"#bd3786\"],[0.5555555555555556,\"#d8576b\"],[0.6666666666666666,\"#ed7953\"],[0.7777777777777778,\"#fb9f3a\"],[0.8888888888888888,\"#fdca26\"],[1.0,\"#f0f921\"]],\"diverging\":[[0,\"#8e0152\"],[0.1,\"#c51b7d\"],[0.2,\"#de77ae\"],[0.3,\"#f1b6da\"],[0.4,\"#fde0ef\"],[0.5,\"#f7f7f7\"],[0.6,\"#e6f5d0\"],[0.7,\"#b8e186\"],[0.8,\"#7fbc41\"],[0.9,\"#4d9221\"],[1,\"#276419\"]]},\"xaxis\":{\"gridcolor\":\"white\",\"linecolor\":\"white\",\"ticks\":\"\",\"title\":{\"standoff\":15},\"zerolinecolor\":\"white\",\"automargin\":true,\"zerolinewidth\":2},\"yaxis\":{\"gridcolor\":\"white\",\"linecolor\":\"white\",\"ticks\":\"\",\"title\":{\"standoff\":15},\"zerolinecolor\":\"white\",\"automargin\":true,\"zerolinewidth\":2},\"scene\":{\"xaxis\":{\"backgroundcolor\":\"#E5ECF6\",\"gridcolor\":\"white\",\"linecolor\":\"white\",\"showbackground\":true,\"ticks\":\"\",\"zerolinecolor\":\"white\",\"gridwidth\":2},\"yaxis\":{\"backgroundcolor\":\"#E5ECF6\",\"gridcolor\":\"white\",\"linecolor\":\"white\",\"showbackground\":true,\"ticks\":\"\",\"zerolinecolor\":\"white\",\"gridwidth\":2},\"zaxis\":{\"backgroundcolor\":\"#E5ECF6\",\"gridcolor\":\"white\",\"linecolor\":\"white\",\"showbackground\":true,\"ticks\":\"\",\"zerolinecolor\":\"white\",\"gridwidth\":2}},\"shapedefaults\":{\"line\":{\"color\":\"#2a3f5f\"}},\"annotationdefaults\":{\"arrowcolor\":\"#2a3f5f\",\"arrowhead\":0,\"arrowwidth\":1},\"geo\":{\"bgcolor\":\"white\",\"landcolor\":\"#E5ECF6\",\"subunitcolor\":\"white\",\"showland\":true,\"showlakes\":true,\"lakecolor\":\"white\"},\"title\":{\"x\":0.05},\"mapbox\":{\"style\":\"light\"}}},\"xaxis\":{\"anchor\":\"y\",\"domain\":[0.0,1.0],\"title\":{\"text\":\"Price\"}},\"yaxis\":{\"anchor\":\"x\",\"domain\":[0.0,1.0],\"title\":{\"text\":\"Area\"}},\"coloraxis\":{\"colorbar\":{\"title\":{\"text\":\"Locality\"}},\"colorscale\":[[0.0,\"#0d0887\"],[0.1111111111111111,\"#46039f\"],[0.2222222222222222,\"#7201a8\"],[0.3333333333333333,\"#9c179e\"],[0.4444444444444444,\"#bd3786\"],[0.5555555555555556,\"#d8576b\"],[0.6666666666666666,\"#ed7953\"],[0.7777777777777778,\"#fb9f3a\"],[0.8888888888888888,\"#fdca26\"],[1.0,\"#f0f921\"]]},\"legend\":{\"tracegroupgap\":0,\"itemsizing\":\"constant\"},\"margin\":{\"t\":60}},                        {\"responsive\": true}                    ).then(function(){\n",
       "                            \n",
       "var gd = document.getElementById('7bc23813-c63c-478b-a387-6310a063722b');\n",
       "var x = new MutationObserver(function (mutations, observer) {{\n",
       "        var display = window.getComputedStyle(gd).display;\n",
       "        if (!display || display === 'none') {{\n",
       "            console.log([gd, 'removed!']);\n",
       "            Plotly.purge(gd);\n",
       "            observer.disconnect();\n",
       "        }}\n",
       "}});\n",
       "\n",
       "// Listen for the removal of the full notebook cells\n",
       "var notebookContainer = gd.closest('#notebook-container');\n",
       "if (notebookContainer) {{\n",
       "    x.observe(notebookContainer, {childList: true});\n",
       "}}\n",
       "\n",
       "// Listen for the clearing of the current output cell\n",
       "var outputEl = gd.closest('.output');\n",
       "if (outputEl) {{\n",
       "    x.observe(outputEl, {childList: true});\n",
       "}}\n",
       "\n",
       "                        })                };                });            </script>        </div>"
      ]
     },
     "metadata": {},
     "output_type": "display_data"
    }
   ],
   "source": [
    "px.scatter(df1,x='Price',y='Area',color='Locality',size='BHK',hover_data=['Per_Sqft','Type','Status'])"
   ]
  },
  {
   "cell_type": "code",
   "execution_count": 27,
   "id": "c619e4bf-c8d8-4a1b-8445-b98ad9248380",
   "metadata": {
    "scrolled": true
   },
   "outputs": [
    {
     "data": {
      "application/vnd.plotly.v1+json": {
       "config": {
        "plotlyServerURL": "https://plot.ly"
       },
       "data": [
        {
         "alignmentgroup": "True",
         "box": {
          "visible": true
         },
         "hovertemplate": "Price=%{x}<extra></extra>",
         "legendgroup": "",
         "marker": {
          "color": "#636efa"
         },
         "name": "",
         "offsetgroup": "",
         "orientation": "h",
         "points": "all",
         "scalegroup": "True",
         "showlegend": false,
         "type": "violin",
         "x": [
          6500000,
          5000000,
          15500000,
          4200000,
          6200000,
          15500000,
          10000000,
          4000000,
          6800000,
          15000000,
          6200000,
          7700000,
          5500000,
          5000000,
          3310000,
          4700000,
          4500000,
          17000000,
          25000000,
          6000000,
          11000000,
          4500000,
          5300000,
          10500000,
          12000000,
          7000000,
          7000000,
          3400000,
          5000000,
          21000000,
          15000000,
          10500000,
          22500000,
          13600000,
          30000000,
          13500000,
          8910000,
          25000000,
          26000000,
          30000000,
          12500000,
          21000000,
          7800000,
          11500000,
          11500000,
          26000000,
          13000000,
          22000000,
          15800000,
          57500000,
          10000000,
          30000000,
          22000000,
          24000000,
          31500000,
          14600000,
          240000000,
          8300000,
          22500000,
          4600000,
          1900000,
          5130000,
          5890000,
          3700000,
          17400000,
          15500000,
          2400000,
          17200000,
          14200000,
          13500000,
          30000000,
          21000000,
          20500000,
          24000000,
          16500000,
          14900000,
          19200000,
          14500000,
          15600000,
          11400000,
          31500000,
          15800000,
          16000000,
          10500000,
          14800000,
          1850000,
          6800000,
          14200000,
          8900000,
          37500000,
          21000000,
          57500000,
          30000000,
          30000000,
          31500000,
          30000000,
          41500000,
          24800000,
          35000000,
          40000000,
          46000000,
          55000000,
          24500000,
          24500000,
          32500000,
          20000000,
          240000000,
          19000000,
          26000000,
          21000000,
          27500000,
          32500000,
          45000000,
          21000000,
          28000000,
          29500000,
          14000000,
          12500000,
          26000000,
          11500000,
          14600000,
          25500000,
          31000000,
          22000000,
          13400000,
          35000000,
          11000000,
          6300000,
          12500000,
          14500000,
          22500000,
          15500000,
          26000000,
          15800000,
          15000000,
          13000000,
          15000000,
          25000000,
          16500000,
          10300000,
          26000000,
          11000000,
          28500000,
          11000000,
          4500000,
          3600000,
          4300000,
          4000000,
          1650000,
          2000000,
          3000000,
          1400000,
          2000000,
          2000000,
          2000000,
          2600000,
          5100000,
          6000000,
          4000000,
          6200000,
          3500000,
          7600000,
          13500000,
          12500000,
          6500000,
          22000000,
          6000000,
          7300000,
          7600000,
          20000000,
          15000000,
          6200000,
          6200000,
          2300000,
          4700000,
          5500000,
          2000000,
          7300000,
          13000000,
          11500000,
          2800000,
          2200000,
          4400000,
          13500000,
          4100000,
          12000000,
          3500000,
          15000000,
          17500000,
          1900000,
          5500000,
          10000000,
          4700000,
          2400000,
          3800000,
          23000000,
          24500000,
          10000000,
          5500000,
          7000000,
          6500000,
          135000000,
          93000000,
          4370000,
          4620000,
          1900000,
          70000000,
          3000000,
          3300000,
          24900000,
          60000000,
          17400000,
          51000000,
          170000000,
          5510000,
          25000000,
          57000000,
          2940000,
          15500000,
          17200000,
          55000000,
          15000000,
          51000000,
          13000000,
          30000000,
          2400000,
          5500000,
          45000000,
          60000000,
          65000000,
          220000000,
          60000000,
          38500000,
          50000000,
          75000000,
          70000000,
          160000000,
          85000000,
          40000000,
          90000000,
          56000000,
          135500000,
          60000000,
          170000000,
          50000000,
          58000000,
          37500000,
          45000000,
          70000000,
          29500000,
          60000000,
          70000000,
          50000000,
          75000000,
          52500000,
          55000000,
          120000000,
          65000000,
          75000000,
          47500000,
          70000000,
          47500000,
          40000000,
          85000000,
          26000000,
          35000000,
          20000000,
          79000000,
          17000000,
          47500000,
          43000000,
          26000000,
          25000000,
          51000000,
          40000000,
          22500000,
          70000000,
          45000000,
          51100000,
          25500000,
          26500000,
          15000000,
          55000000,
          26000000,
          38000000,
          72500000,
          65000000,
          4600000,
          9200000,
          9500000,
          4500000,
          6500000,
          5650000,
          9300000,
          2700000,
          6500000,
          5800000,
          5500000,
          6000000,
          4500000,
          4100000,
          3800000,
          3300000,
          2900000,
          2000000,
          1550000,
          11300000,
          4500000,
          3300000,
          11500000,
          6000000,
          9000000,
          4500000,
          14000000,
          7300000,
          1900000,
          7000000,
          6000000,
          6400000,
          2700000,
          6500000,
          4000000,
          3000000,
          5000000,
          6000000,
          2500000,
          6500000,
          8000000,
          2700000,
          4500000,
          5700000,
          25000000,
          70000000,
          26500000,
          18500000,
          30000000,
          22000000,
          9000000,
          65000000,
          22500000,
          8700000,
          22000000,
          18500000,
          16000000,
          16000000,
          9000000,
          4500000,
          6000000,
          2700000,
          6500000,
          4000000,
          2600000,
          3500000,
          7500000,
          7000000,
          4500000,
          5500000,
          2700000,
          2400000,
          11500000,
          3600000,
          1700000,
          2500000,
          6600000,
          3700000,
          3500000,
          5400000,
          2550000,
          12500000,
          5600000,
          7000000,
          3500000,
          35000000,
          9000000,
          2300000,
          6000000,
          6000000,
          2650000,
          5510000,
          3200000,
          2600000,
          4000000,
          1850000,
          1700000,
          2800000,
          2150000,
          6800000,
          6200000,
          3100000,
          3400000,
          4000000,
          4800000,
          2500000,
          2000000,
          1900000,
          5800000,
          2900000,
          2000000,
          2600000,
          2900000,
          3200000,
          5400000,
          3800000,
          8200000,
          8000000,
          9500000,
          20000000,
          7400000,
          37500000,
          15000000,
          55300000,
          26500000,
          16000000,
          10400000,
          1700000,
          8000000,
          27000000,
          19500000,
          50000000,
          21100000,
          5900000,
          12000000,
          12000000,
          24000000,
          7000000,
          15000000,
          1500000,
          3950000,
          12500000,
          1600000,
          36500000,
          20000000,
          15000000,
          25000000,
          18500000,
          23500000,
          8000000,
          23000000,
          31000000,
          7400000,
          15500000,
          12000000,
          23500000,
          25000000,
          7000000,
          17500000,
          25000000,
          29000000,
          21900000,
          7500000,
          23500000,
          24000000,
          31000000,
          16500000,
          5000000,
          24000000,
          17000000,
          40000000,
          22500000,
          20000000,
          7500000,
          3600000,
          35000000,
          6000000,
          17500000,
          35000000,
          10200000,
          29000000,
          41000000,
          6000000,
          2500000,
          2200000,
          21500000,
          15000000,
          28900000,
          5500000,
          1950000,
          3800000,
          6200000,
          14000000,
          7500000,
          2670000,
          2500000,
          5000000,
          29500000,
          19000000,
          25500000,
          75000000,
          75000000,
          34000000,
          47500000,
          75000000,
          23000000,
          24000000,
          21500000,
          28500000,
          12500000,
          45000000,
          30500000,
          22500000,
          28000000,
          25000000,
          33700000,
          27000000,
          43500000,
          29000000,
          30000000,
          52100000,
          32500000,
          20500000,
          25000000,
          30000000,
          51000000,
          31000000,
          37500000,
          32500000,
          37500000,
          55000000,
          87500000,
          16300000,
          65000000,
          25000000,
          38000000,
          15000000,
          2000000,
          3000000,
          8500000,
          55000000,
          22500000,
          72500000,
          160000000,
          12500000,
          17000000,
          82500000,
          55000000,
          35000000,
          42500000,
          4700000,
          52500000,
          80000000,
          11000000,
          74000000,
          37500000,
          52500000,
          26000000,
          15500000,
          22000000,
          21000000,
          5000000,
          22000000,
          26500000,
          8770000,
          4500000,
          8500000,
          8600000,
          42500000,
          13100000,
          7000000,
          30000000,
          13000000,
          23100000,
          16000000,
          12500000,
          24500000,
          3200000,
          6300000,
          15000000,
          5700000,
          21000000,
          7500000,
          6500000,
          27500000,
          12000000,
          18000000,
          15600000,
          15500000,
          15200000,
          25000000,
          15000000,
          15800000,
          31500000,
          14000000,
          13200000,
          15800000,
          16200000,
          15500000,
          14500000,
          14900000,
          17200000,
          18000000,
          15500000,
          15800000,
          12600000,
          15000000,
          19500000,
          16600000,
          17200000,
          13000000,
          16500000,
          10700000,
          16200000,
          16500000,
          14900000,
          27500000,
          62500000,
          70000000,
          35500000,
          42100000,
          42500000,
          44000000,
          43200000,
          52500000,
          34300000,
          38000000,
          52500000,
          37500000,
          37000000,
          40000000,
          36200000,
          29000000,
          42500000,
          60000000,
          36500000,
          42500000,
          71500000,
          65000000,
          58000000,
          27500000,
          70000000,
          65000000,
          28600000,
          39000000,
          32500000,
          34000000,
          16500000,
          13800000,
          21000000,
          22500000,
          15000000,
          20000000,
          20000000,
          26000000,
          19500000,
          21500000,
          26500000,
          20000000,
          18000000,
          19000000,
          36500000,
          15000000,
          17500000,
          14000000,
          21000000,
          15600000,
          19000000,
          16500000,
          19000000,
          16500000,
          3000000,
          15000000,
          14300000,
          18500000,
          19000000,
          19000000,
          15800000,
          17000000,
          15500000,
          16000000,
          12900000,
          13500000,
          17800000,
          13200000,
          14000000,
          17500000,
          17000000,
          13000000,
          17000000,
          12700000,
          13500000,
          17400000,
          17800000,
          12700000,
          16200000,
          11100000,
          13600000,
          13100000,
          12500000,
          13600000,
          12000000,
          20000000,
          13500000,
          14000000,
          10800000,
          9000000,
          6300000,
          5500000,
          2350000,
          8500000,
          1650000,
          10000000,
          1500000,
          2800000,
          2600000,
          2350000,
          2350000,
          2000000,
          5000000,
          3500000,
          4500000,
          4000000,
          10800000,
          10000000,
          9000000,
          8500000,
          6000000,
          5500000,
          7000000,
          6000000,
          3700000,
          3100000,
          4500000,
          1500000,
          7090000,
          4500000,
          5500000,
          63000000,
          6990000,
          4400000,
          12500000,
          3000000,
          2800000,
          5000000,
          6000000,
          4500000,
          2800000,
          2500000,
          8500000,
          3000000,
          4900000,
          3500000,
          3000000,
          7020000,
          60000000,
          3500000,
          7000000,
          7000000,
          4500000,
          5990000,
          4400000,
          2500000,
          1600000,
          6500000,
          2750000,
          1500000,
          2200000,
          2800000,
          4500000,
          1800000,
          8500000,
          8500000,
          1700000,
          7000000,
          5600000,
          13500000,
          8500000,
          6000000,
          7200000,
          6500000,
          8400000,
          8500000,
          4000000,
          1700000,
          6000000,
          1600000,
          2100000,
          1700000,
          1500000,
          1200000,
          1650000,
          3500000,
          8500000,
          3200000,
          4400000,
          7200000,
          7500000,
          6500000,
          3500000,
          6500000,
          6200000,
          2500000,
          3000000,
          6000000,
          4800000,
          3790000,
          4200000,
          2900000,
          5000000,
          2100000,
          3200000,
          3000000,
          2300000,
          5900000,
          5500000,
          3500000,
          1700000,
          1850000,
          2300000,
          3800000,
          4500000,
          2200000,
          5200000,
          2200000,
          1500000,
          2200000,
          3800000,
          1800000,
          2850000,
          2500000,
          3500000,
          2000000,
          3000000,
          2000000,
          3500000,
          1800000,
          1600000,
          1600000,
          2000000,
          1500000,
          3000000,
          1490000,
          3500000,
          4000000,
          1750000,
          4600000,
          1800000,
          1900000,
          1000000,
          1000000,
          1000000,
          3500000,
          5000000,
          2200000,
          13000000,
          34000000,
          60000000,
          74500000,
          75000000,
          62500000,
          67000000,
          8500000,
          11500000,
          52500000,
          12000000,
          10700000,
          9000000,
          100000000,
          6200000,
          17000000,
          12500000,
          13000000,
          4200000,
          36000000,
          2300000,
          8100000,
          10000000,
          62500000,
          65000000,
          20000000,
          57500000,
          30000000,
          30000000,
          30000000,
          3300000,
          7350000,
          12500000,
          3500000,
          6500000,
          6900000,
          3600000,
          13500000,
          9200000,
          2500000,
          17000000,
          9030000,
          9300000,
          6500000,
          3300000,
          2400000,
          15000000,
          7000000,
          4200000,
          5800000,
          4800000,
          7500000,
          3000000,
          4300000,
          2600000,
          7000000,
          6000000,
          6700000,
          9500000,
          17000000,
          8000000,
          12000000,
          9000000,
          11500000,
          20000000,
          8550000,
          10500000,
          12000000,
          11000000,
          12000000,
          9000000,
          10000000,
          8100000,
          9200000,
          14200000,
          7500000,
          9500000,
          14000000,
          11600000,
          12000000,
          7500000,
          9800000,
          12000000,
          12500000,
          16500000,
          12000000,
          7200000,
          15000000,
          10000000,
          11000000,
          24700000,
          24900000,
          3600000,
          1700000,
          11000000,
          75000000,
          24800000,
          24900000,
          24900000,
          25900000,
          11700000,
          13500000,
          5500000,
          30000000,
          4950000,
          16000000,
          30000000,
          41000000,
          3800000,
          68900000,
          1800000,
          1500000,
          12500000,
          1600000,
          2400000,
          7000000,
          3100000,
          14500000,
          61500000,
          27500000,
          25500000,
          25000000,
          18500000,
          39700000,
          6800000,
          6540000,
          22000000,
          17000000,
          27500000,
          73700000,
          52300000,
          16000000,
          15000000,
          10000000,
          5000000,
          20000000,
          16000000,
          5500000,
          7000000,
          4100000,
          24000000,
          12500000,
          3900000,
          14500000,
          20000000,
          24500000,
          20900000,
          43100000,
          18000000,
          50000000,
          18500000,
          46500000,
          17500000,
          42500000,
          15500000,
          15000000,
          40000000,
          20000000,
          6700000,
          16000000,
          8000000,
          25000000,
          25000000,
          37500000,
          25000000,
          23000000,
          17500000,
          44000000,
          15000000,
          42500000,
          5000000,
          38000000,
          19000000,
          43500000,
          19500000,
          14200000,
          14200000,
          13500000,
          21000000,
          22500000,
          19000000,
          7500000,
          4000000,
          8000000,
          19000000,
          7000000,
          5800000,
          8000000,
          18800000,
          6000000,
          2200000,
          6500000,
          23500000,
          16000000,
          20000000,
          5500000,
          13500000,
          22500000,
          3800000,
          4600000,
          17500000,
          5500000,
          22500000,
          12500000,
          19000000,
          15500000,
          13500000,
          21000000,
          50000000,
          42500000,
          45500000,
          23000000,
          12000000,
          35000000,
          25000000,
          29000000,
          80000000,
          20500000,
          52500000,
          37500000,
          7500000,
          32500000,
          24500000,
          65000000,
          27500000,
          115000000,
          28000000,
          8000000,
          75100000,
          7800000,
          15000000,
          27500000,
          25000000,
          26000000,
          23500000,
          4200000,
          10000000,
          18500000,
          3300000,
          3800000,
          7000000,
          16500000,
          8000000,
          5600000,
          21000000,
          21000000,
          8600000,
          6600000,
          14000000,
          4700000,
          30000000,
          26000000,
          18500000,
          6500000,
          15000000,
          8000000,
          16100000,
          6800000,
          6800000,
          9000000,
          18000000,
          27500000,
          13500000,
          14000000,
          9000000,
          16000000,
          11000000,
          5500000,
          47500000,
          45000000,
          43500000,
          180000000,
          80000000,
          37500000,
          60000000,
          71000000,
          18500000,
          70000000,
          85000000,
          190000000,
          135000000,
          35000000,
          65000000,
          27500000,
          45000000,
          100000000,
          47000000,
          27500000,
          70000000,
          36500000,
          65000000,
          35000000,
          56000000,
          110000000,
          24000000,
          102500000,
          100000000,
          45000000,
          29000000,
          25500000,
          33500000,
          62500000,
          47500000,
          14700000,
          18000000,
          22500000,
          22000000,
          22200000,
          22500000,
          7500000,
          30000000,
          6500000,
          35000000,
          17500000,
          60000000,
          40000000,
          11500000,
          22500000,
          28500000,
          29000000,
          15500000,
          26000000,
          16500000,
          55000000,
          12500000,
          17500000,
          11500000,
          18500000
         ],
         "x0": " ",
         "xaxis": "x",
         "y0": " ",
         "yaxis": "y"
        }
       ],
       "layout": {
        "autosize": true,
        "legend": {
         "tracegroupgap": 0
        },
        "margin": {
         "t": 60
        },
        "template": {
         "data": {
          "bar": [
           {
            "error_x": {
             "color": "#2a3f5f"
            },
            "error_y": {
             "color": "#2a3f5f"
            },
            "marker": {
             "line": {
              "color": "#E5ECF6",
              "width": 0.5
             },
             "pattern": {
              "fillmode": "overlay",
              "size": 10,
              "solidity": 0.2
             }
            },
            "type": "bar"
           }
          ],
          "barpolar": [
           {
            "marker": {
             "line": {
              "color": "#E5ECF6",
              "width": 0.5
             },
             "pattern": {
              "fillmode": "overlay",
              "size": 10,
              "solidity": 0.2
             }
            },
            "type": "barpolar"
           }
          ],
          "carpet": [
           {
            "aaxis": {
             "endlinecolor": "#2a3f5f",
             "gridcolor": "white",
             "linecolor": "white",
             "minorgridcolor": "white",
             "startlinecolor": "#2a3f5f"
            },
            "baxis": {
             "endlinecolor": "#2a3f5f",
             "gridcolor": "white",
             "linecolor": "white",
             "minorgridcolor": "white",
             "startlinecolor": "#2a3f5f"
            },
            "type": "carpet"
           }
          ],
          "choropleth": [
           {
            "colorbar": {
             "outlinewidth": 0,
             "ticks": ""
            },
            "type": "choropleth"
           }
          ],
          "contour": [
           {
            "colorbar": {
             "outlinewidth": 0,
             "ticks": ""
            },
            "colorscale": [
             [
              0,
              "#0d0887"
             ],
             [
              0.1111111111111111,
              "#46039f"
             ],
             [
              0.2222222222222222,
              "#7201a8"
             ],
             [
              0.3333333333333333,
              "#9c179e"
             ],
             [
              0.4444444444444444,
              "#bd3786"
             ],
             [
              0.5555555555555556,
              "#d8576b"
             ],
             [
              0.6666666666666666,
              "#ed7953"
             ],
             [
              0.7777777777777778,
              "#fb9f3a"
             ],
             [
              0.8888888888888888,
              "#fdca26"
             ],
             [
              1,
              "#f0f921"
             ]
            ],
            "type": "contour"
           }
          ],
          "contourcarpet": [
           {
            "colorbar": {
             "outlinewidth": 0,
             "ticks": ""
            },
            "type": "contourcarpet"
           }
          ],
          "heatmap": [
           {
            "colorbar": {
             "outlinewidth": 0,
             "ticks": ""
            },
            "colorscale": [
             [
              0,
              "#0d0887"
             ],
             [
              0.1111111111111111,
              "#46039f"
             ],
             [
              0.2222222222222222,
              "#7201a8"
             ],
             [
              0.3333333333333333,
              "#9c179e"
             ],
             [
              0.4444444444444444,
              "#bd3786"
             ],
             [
              0.5555555555555556,
              "#d8576b"
             ],
             [
              0.6666666666666666,
              "#ed7953"
             ],
             [
              0.7777777777777778,
              "#fb9f3a"
             ],
             [
              0.8888888888888888,
              "#fdca26"
             ],
             [
              1,
              "#f0f921"
             ]
            ],
            "type": "heatmap"
           }
          ],
          "heatmapgl": [
           {
            "colorbar": {
             "outlinewidth": 0,
             "ticks": ""
            },
            "colorscale": [
             [
              0,
              "#0d0887"
             ],
             [
              0.1111111111111111,
              "#46039f"
             ],
             [
              0.2222222222222222,
              "#7201a8"
             ],
             [
              0.3333333333333333,
              "#9c179e"
             ],
             [
              0.4444444444444444,
              "#bd3786"
             ],
             [
              0.5555555555555556,
              "#d8576b"
             ],
             [
              0.6666666666666666,
              "#ed7953"
             ],
             [
              0.7777777777777778,
              "#fb9f3a"
             ],
             [
              0.8888888888888888,
              "#fdca26"
             ],
             [
              1,
              "#f0f921"
             ]
            ],
            "type": "heatmapgl"
           }
          ],
          "histogram": [
           {
            "marker": {
             "pattern": {
              "fillmode": "overlay",
              "size": 10,
              "solidity": 0.2
             }
            },
            "type": "histogram"
           }
          ],
          "histogram2d": [
           {
            "colorbar": {
             "outlinewidth": 0,
             "ticks": ""
            },
            "colorscale": [
             [
              0,
              "#0d0887"
             ],
             [
              0.1111111111111111,
              "#46039f"
             ],
             [
              0.2222222222222222,
              "#7201a8"
             ],
             [
              0.3333333333333333,
              "#9c179e"
             ],
             [
              0.4444444444444444,
              "#bd3786"
             ],
             [
              0.5555555555555556,
              "#d8576b"
             ],
             [
              0.6666666666666666,
              "#ed7953"
             ],
             [
              0.7777777777777778,
              "#fb9f3a"
             ],
             [
              0.8888888888888888,
              "#fdca26"
             ],
             [
              1,
              "#f0f921"
             ]
            ],
            "type": "histogram2d"
           }
          ],
          "histogram2dcontour": [
           {
            "colorbar": {
             "outlinewidth": 0,
             "ticks": ""
            },
            "colorscale": [
             [
              0,
              "#0d0887"
             ],
             [
              0.1111111111111111,
              "#46039f"
             ],
             [
              0.2222222222222222,
              "#7201a8"
             ],
             [
              0.3333333333333333,
              "#9c179e"
             ],
             [
              0.4444444444444444,
              "#bd3786"
             ],
             [
              0.5555555555555556,
              "#d8576b"
             ],
             [
              0.6666666666666666,
              "#ed7953"
             ],
             [
              0.7777777777777778,
              "#fb9f3a"
             ],
             [
              0.8888888888888888,
              "#fdca26"
             ],
             [
              1,
              "#f0f921"
             ]
            ],
            "type": "histogram2dcontour"
           }
          ],
          "mesh3d": [
           {
            "colorbar": {
             "outlinewidth": 0,
             "ticks": ""
            },
            "type": "mesh3d"
           }
          ],
          "parcoords": [
           {
            "line": {
             "colorbar": {
              "outlinewidth": 0,
              "ticks": ""
             }
            },
            "type": "parcoords"
           }
          ],
          "pie": [
           {
            "automargin": true,
            "type": "pie"
           }
          ],
          "scatter": [
           {
            "fillpattern": {
             "fillmode": "overlay",
             "size": 10,
             "solidity": 0.2
            },
            "type": "scatter"
           }
          ],
          "scatter3d": [
           {
            "line": {
             "colorbar": {
              "outlinewidth": 0,
              "ticks": ""
             }
            },
            "marker": {
             "colorbar": {
              "outlinewidth": 0,
              "ticks": ""
             }
            },
            "type": "scatter3d"
           }
          ],
          "scattercarpet": [
           {
            "marker": {
             "colorbar": {
              "outlinewidth": 0,
              "ticks": ""
             }
            },
            "type": "scattercarpet"
           }
          ],
          "scattergeo": [
           {
            "marker": {
             "colorbar": {
              "outlinewidth": 0,
              "ticks": ""
             }
            },
            "type": "scattergeo"
           }
          ],
          "scattergl": [
           {
            "marker": {
             "colorbar": {
              "outlinewidth": 0,
              "ticks": ""
             }
            },
            "type": "scattergl"
           }
          ],
          "scattermapbox": [
           {
            "marker": {
             "colorbar": {
              "outlinewidth": 0,
              "ticks": ""
             }
            },
            "type": "scattermapbox"
           }
          ],
          "scatterpolar": [
           {
            "marker": {
             "colorbar": {
              "outlinewidth": 0,
              "ticks": ""
             }
            },
            "type": "scatterpolar"
           }
          ],
          "scatterpolargl": [
           {
            "marker": {
             "colorbar": {
              "outlinewidth": 0,
              "ticks": ""
             }
            },
            "type": "scatterpolargl"
           }
          ],
          "scatterternary": [
           {
            "marker": {
             "colorbar": {
              "outlinewidth": 0,
              "ticks": ""
             }
            },
            "type": "scatterternary"
           }
          ],
          "surface": [
           {
            "colorbar": {
             "outlinewidth": 0,
             "ticks": ""
            },
            "colorscale": [
             [
              0,
              "#0d0887"
             ],
             [
              0.1111111111111111,
              "#46039f"
             ],
             [
              0.2222222222222222,
              "#7201a8"
             ],
             [
              0.3333333333333333,
              "#9c179e"
             ],
             [
              0.4444444444444444,
              "#bd3786"
             ],
             [
              0.5555555555555556,
              "#d8576b"
             ],
             [
              0.6666666666666666,
              "#ed7953"
             ],
             [
              0.7777777777777778,
              "#fb9f3a"
             ],
             [
              0.8888888888888888,
              "#fdca26"
             ],
             [
              1,
              "#f0f921"
             ]
            ],
            "type": "surface"
           }
          ],
          "table": [
           {
            "cells": {
             "fill": {
              "color": "#EBF0F8"
             },
             "line": {
              "color": "white"
             }
            },
            "header": {
             "fill": {
              "color": "#C8D4E3"
             },
             "line": {
              "color": "white"
             }
            },
            "type": "table"
           }
          ]
         },
         "layout": {
          "annotationdefaults": {
           "arrowcolor": "#2a3f5f",
           "arrowhead": 0,
           "arrowwidth": 1
          },
          "autotypenumbers": "strict",
          "coloraxis": {
           "colorbar": {
            "outlinewidth": 0,
            "ticks": ""
           }
          },
          "colorscale": {
           "diverging": [
            [
             0,
             "#8e0152"
            ],
            [
             0.1,
             "#c51b7d"
            ],
            [
             0.2,
             "#de77ae"
            ],
            [
             0.3,
             "#f1b6da"
            ],
            [
             0.4,
             "#fde0ef"
            ],
            [
             0.5,
             "#f7f7f7"
            ],
            [
             0.6,
             "#e6f5d0"
            ],
            [
             0.7,
             "#b8e186"
            ],
            [
             0.8,
             "#7fbc41"
            ],
            [
             0.9,
             "#4d9221"
            ],
            [
             1,
             "#276419"
            ]
           ],
           "sequential": [
            [
             0,
             "#0d0887"
            ],
            [
             0.1111111111111111,
             "#46039f"
            ],
            [
             0.2222222222222222,
             "#7201a8"
            ],
            [
             0.3333333333333333,
             "#9c179e"
            ],
            [
             0.4444444444444444,
             "#bd3786"
            ],
            [
             0.5555555555555556,
             "#d8576b"
            ],
            [
             0.6666666666666666,
             "#ed7953"
            ],
            [
             0.7777777777777778,
             "#fb9f3a"
            ],
            [
             0.8888888888888888,
             "#fdca26"
            ],
            [
             1,
             "#f0f921"
            ]
           ],
           "sequentialminus": [
            [
             0,
             "#0d0887"
            ],
            [
             0.1111111111111111,
             "#46039f"
            ],
            [
             0.2222222222222222,
             "#7201a8"
            ],
            [
             0.3333333333333333,
             "#9c179e"
            ],
            [
             0.4444444444444444,
             "#bd3786"
            ],
            [
             0.5555555555555556,
             "#d8576b"
            ],
            [
             0.6666666666666666,
             "#ed7953"
            ],
            [
             0.7777777777777778,
             "#fb9f3a"
            ],
            [
             0.8888888888888888,
             "#fdca26"
            ],
            [
             1,
             "#f0f921"
            ]
           ]
          },
          "colorway": [
           "#636efa",
           "#EF553B",
           "#00cc96",
           "#ab63fa",
           "#FFA15A",
           "#19d3f3",
           "#FF6692",
           "#B6E880",
           "#FF97FF",
           "#FECB52"
          ],
          "font": {
           "color": "#2a3f5f"
          },
          "geo": {
           "bgcolor": "white",
           "lakecolor": "white",
           "landcolor": "#E5ECF6",
           "showlakes": true,
           "showland": true,
           "subunitcolor": "white"
          },
          "hoverlabel": {
           "align": "left"
          },
          "hovermode": "closest",
          "mapbox": {
           "style": "light"
          },
          "paper_bgcolor": "white",
          "plot_bgcolor": "#E5ECF6",
          "polar": {
           "angularaxis": {
            "gridcolor": "white",
            "linecolor": "white",
            "ticks": ""
           },
           "bgcolor": "#E5ECF6",
           "radialaxis": {
            "gridcolor": "white",
            "linecolor": "white",
            "ticks": ""
           }
          },
          "scene": {
           "xaxis": {
            "backgroundcolor": "#E5ECF6",
            "gridcolor": "white",
            "gridwidth": 2,
            "linecolor": "white",
            "showbackground": true,
            "ticks": "",
            "zerolinecolor": "white"
           },
           "yaxis": {
            "backgroundcolor": "#E5ECF6",
            "gridcolor": "white",
            "gridwidth": 2,
            "linecolor": "white",
            "showbackground": true,
            "ticks": "",
            "zerolinecolor": "white"
           },
           "zaxis": {
            "backgroundcolor": "#E5ECF6",
            "gridcolor": "white",
            "gridwidth": 2,
            "linecolor": "white",
            "showbackground": true,
            "ticks": "",
            "zerolinecolor": "white"
           }
          },
          "shapedefaults": {
           "line": {
            "color": "#2a3f5f"
           }
          },
          "ternary": {
           "aaxis": {
            "gridcolor": "white",
            "linecolor": "white",
            "ticks": ""
           },
           "baxis": {
            "gridcolor": "white",
            "linecolor": "white",
            "ticks": ""
           },
           "bgcolor": "#E5ECF6",
           "caxis": {
            "gridcolor": "white",
            "linecolor": "white",
            "ticks": ""
           }
          },
          "title": {
           "x": 0.05
          },
          "xaxis": {
           "automargin": true,
           "gridcolor": "white",
           "linecolor": "white",
           "ticks": "",
           "title": {
            "standoff": 15
           },
           "zerolinecolor": "white",
           "zerolinewidth": 2
          },
          "yaxis": {
           "automargin": true,
           "gridcolor": "white",
           "linecolor": "white",
           "ticks": "",
           "title": {
            "standoff": 15
           },
           "zerolinecolor": "white",
           "zerolinewidth": 2
          }
         }
        },
        "violinmode": "group",
        "xaxis": {
         "anchor": "y",
         "autorange": true,
         "domain": [
          0,
          1
         ],
         "range": [
          -20855770.901360072,
          261855770.9013601
         ],
         "title": {
          "text": "Price"
         },
         "type": "linear"
        },
        "yaxis": {
         "anchor": "x",
         "autorange": true,
         "domain": [
          0,
          1
         ],
         "range": [
          -0.5138248847926268,
          0.5
         ],
         "type": "category"
        }
       }
      },
      "image/png": "[encoded data removed]",
      "text/html": [
       "<div>                            <div id=\"f2807868-3e24-4264-8d6a-6cb89acec547\" class=\"plotly-graph-div\" style=\"height:525px; width:100%;\"></div>            <script type=\"text/javascript\">                require([\"plotly\"], function(Plotly) {                    window.PLOTLYENV=window.PLOTLYENV || {};                                    if (document.getElementById(\"f2807868-3e24-4264-8d6a-6cb89acec547\")) {                    Plotly.newPlot(                        \"f2807868-3e24-4264-8d6a-6cb89acec547\",                        [{\"alignmentgroup\":\"True\",\"box\":{\"visible\":true},\"hovertemplate\":\"Price=%{x}<extra></extra>\",\"legendgroup\":\"\",\"marker\":{\"color\":\"#636efa\"},\"name\":\"\",\"offsetgroup\":\"\",\"orientation\":\"h\",\"points\":\"all\",\"scalegroup\":\"True\",\"showlegend\":false,\"x\":[6500000,5000000,15500000,4200000,6200000,15500000,10000000,4000000,6800000,15000000,6200000,7700000,5500000,5000000,3310000,4700000,4500000,17000000,25000000,6000000,11000000,4500000,5300000,10500000,12000000,7000000,7000000,3400000,5000000,21000000,15000000,10500000,22500000,13600000,30000000,13500000,8910000,25000000,26000000,30000000,12500000,21000000,7800000,11500000,11500000,26000000,13000000,22000000,15800000,57500000,10000000,30000000,22000000,24000000,31500000,14600000,240000000,8300000,22500000,4600000,1900000,5130000,5890000,3700000,17400000,15500000,2400000,17200000,14200000,13500000,30000000,21000000,20500000,24000000,16500000,14900000,19200000,14500000,15600000,11400000,31500000,15800000,16000000,10500000,14800000,1850000,6800000,14200000,8900000,37500000,21000000,57500000,30000000,30000000,31500000,30000000,41500000,24800000,35000000,40000000,46000000,55000000,24500000,24500000,32500000,20000000,240000000,19000000,26000000,21000000,27500000,32500000,45000000,21000000,28000000,29500000,14000000,12500000,26000000,11500000,14600000,25500000,31000000,22000000,13400000,35000000,11000000,6300000,12500000,14500000,22500000,15500000,26000000,15800000,15000000,13000000,15000000,25000000,16500000,10300000,26000000,11000000,28500000,11000000,4500000,3600000,4300000,4000000,1650000,2000000,3000000,1400000,2000000,2000000,2000000,2600000,5100000,6000000,4000000,6200000,3500000,7600000,13500000,12500000,6500000,22000000,6000000,7300000,7600000,20000000,15000000,6200000,6200000,2300000,4700000,5500000,2000000,7300000,13000000,11500000,2800000,2200000,4400000,13500000,4100000,12000000,3500000,15000000,17500000,1900000,5500000,10000000,4700000,2400000,3800000,23000000,24500000,10000000,5500000,7000000,6500000,135000000,93000000,4370000,4620000,1900000,70000000,3000000,3300000,24900000,60000000,17400000,51000000,170000000,5510000,25000000,57000000,2940000,15500000,17200000,55000000,15000000,51000000,13000000,30000000,2400000,5500000,45000000,60000000,65000000,220000000,60000000,38500000,50000000,75000000,70000000,160000000,85000000,40000000,90000000,56000000,135500000,60000000,170000000,50000000,58000000,37500000,45000000,70000000,29500000,60000000,70000000,50000000,75000000,52500000,55000000,120000000,65000000,75000000,47500000,70000000,47500000,40000000,85000000,26000000,35000000,20000000,79000000,17000000,47500000,43000000,26000000,25000000,51000000,40000000,22500000,70000000,45000000,51100000,25500000,26500000,15000000,55000000,26000000,38000000,72500000,65000000,4600000,9200000,9500000,4500000,6500000,5650000,9300000,2700000,6500000,5800000,5500000,6000000,4500000,4100000,3800000,3300000,2900000,2000000,1550000,11300000,4500000,3300000,11500000,6000000,9000000,4500000,14000000,7300000,1900000,7000000,6000000,6400000,2700000,6500000,4000000,3000000,5000000,6000000,2500000,6500000,8000000,2700000,4500000,5700000,25000000,70000000,26500000,18500000,30000000,22000000,9000000,65000000,22500000,8700000,22000000,18500000,16000000,16000000,9000000,4500000,6000000,2700000,6500000,4000000,2600000,3500000,7500000,7000000,4500000,5500000,2700000,2400000,11500000,3600000,1700000,2500000,6600000,3700000,3500000,5400000,2550000,12500000,5600000,7000000,3500000,35000000,9000000,2300000,6000000,6000000,2650000,5510000,3200000,2600000,4000000,1850000,1700000,2800000,2150000,6800000,6200000,3100000,3400000,4000000,4800000,2500000,2000000,1900000,5800000,2900000,2000000,2600000,2900000,3200000,5400000,3800000,8200000,8000000,9500000,20000000,7400000,37500000,15000000,55300000,26500000,16000000,10400000,1700000,8000000,27000000,19500000,50000000,21100000,5900000,12000000,12000000,24000000,7000000,15000000,1500000,3950000,12500000,1600000,36500000,20000000,15000000,25000000,18500000,23500000,8000000,23000000,31000000,7400000,15500000,12000000,23500000,25000000,7000000,17500000,25000000,29000000,21900000,7500000,23500000,24000000,31000000,16500000,5000000,24000000,17000000,40000000,22500000,20000000,7500000,3600000,35000000,6000000,17500000,35000000,10200000,29000000,41000000,6000000,2500000,2200000,21500000,15000000,28900000,5500000,1950000,3800000,6200000,14000000,7500000,2670000,2500000,5000000,29500000,19000000,25500000,75000000,75000000,34000000,47500000,75000000,23000000,24000000,21500000,28500000,12500000,45000000,30500000,22500000,28000000,25000000,33700000,27000000,43500000,29000000,30000000,52100000,32500000,20500000,25000000,30000000,51000000,31000000,37500000,32500000,37500000,55000000,87500000,16300000,65000000,25000000,38000000,15000000,2000000,3000000,8500000,55000000,22500000,72500000,160000000,12500000,17000000,82500000,55000000,35000000,42500000,4700000,52500000,80000000,11000000,74000000,37500000,52500000,26000000,15500000,22000000,21000000,5000000,22000000,26500000,8770000,4500000,8500000,8600000,42500000,13100000,7000000,30000000,13000000,23100000,16000000,12500000,24500000,3200000,6300000,15000000,5700000,21000000,7500000,6500000,27500000,12000000,18000000,15600000,15500000,15200000,25000000,15000000,15800000,31500000,14000000,13200000,15800000,16200000,15500000,14500000,14900000,17200000,18000000,15500000,15800000,12600000,15000000,19500000,16600000,17200000,13000000,16500000,10700000,16200000,16500000,14900000,27500000,62500000,70000000,35500000,42100000,42500000,44000000,43200000,52500000,34300000,38000000,52500000,37500000,37000000,40000000,36200000,29000000,42500000,60000000,36500000,42500000,71500000,65000000,58000000,27500000,70000000,65000000,28600000,39000000,32500000,34000000,16500000,13800000,21000000,22500000,15000000,20000000,20000000,26000000,19500000,21500000,26500000,20000000,18000000,19000000,36500000,15000000,17500000,14000000,21000000,15600000,19000000,16500000,19000000,16500000,3000000,15000000,14300000,18500000,19000000,19000000,15800000,17000000,15500000,16000000,12900000,13500000,17800000,13200000,14000000,17500000,17000000,13000000,17000000,12700000,13500000,17400000,17800000,12700000,16200000,11100000,13600000,13100000,12500000,13600000,12000000,20000000,13500000,14000000,10800000,9000000,6300000,5500000,2350000,8500000,1650000,10000000,1500000,2800000,2600000,2350000,2350000,2000000,5000000,3500000,4500000,4000000,10800000,10000000,9000000,8500000,6000000,5500000,7000000,6000000,3700000,3100000,4500000,1500000,7090000,4500000,5500000,63000000,6990000,4400000,12500000,3000000,2800000,5000000,6000000,4500000,2800000,2500000,8500000,3000000,4900000,3500000,3000000,7020000,60000000,3500000,7000000,7000000,4500000,5990000,4400000,2500000,1600000,6500000,2750000,1500000,2200000,2800000,4500000,1800000,8500000,8500000,1700000,7000000,5600000,13500000,8500000,6000000,7200000,6500000,8400000,8500000,4000000,1700000,6000000,1600000,2100000,1700000,1500000,1200000,1650000,3500000,8500000,3200000,4400000,7200000,7500000,6500000,3500000,6500000,6200000,2500000,3000000,6000000,4800000,3790000,4200000,2900000,5000000,2100000,3200000,3000000,2300000,5900000,5500000,3500000,1700000,1850000,2300000,3800000,4500000,2200000,5200000,2200000,1500000,2200000,3800000,1800000,2850000,2500000,3500000,2000000,3000000,2000000,3500000,1800000,1600000,1600000,2000000,1500000,3000000,1490000,3500000,4000000,1750000,4600000,1800000,1900000,1000000,1000000,1000000,3500000,5000000,2200000,13000000,34000000,60000000,74500000,75000000,62500000,67000000,8500000,11500000,52500000,12000000,10700000,9000000,100000000,6200000,17000000,12500000,13000000,4200000,36000000,2300000,8100000,10000000,62500000,65000000,20000000,57500000,30000000,30000000,30000000,3300000,7350000,12500000,3500000,6500000,6900000,3600000,13500000,9200000,2500000,17000000,9030000,9300000,6500000,3300000,2400000,15000000,7000000,4200000,5800000,4800000,7500000,3000000,4300000,2600000,7000000,6000000,6700000,9500000,17000000,8000000,12000000,9000000,11500000,20000000,8550000,10500000,12000000,11000000,12000000,9000000,10000000,8100000,9200000,14200000,7500000,9500000,14000000,11600000,12000000,7500000,9800000,12000000,12500000,16500000,12000000,7200000,15000000,10000000,11000000,24700000,24900000,3600000,1700000,11000000,75000000,24800000,24900000,24900000,25900000,11700000,13500000,5500000,30000000,4950000,16000000,30000000,41000000,3800000,68900000,1800000,1500000,12500000,1600000,2400000,7000000,3100000,14500000,61500000,27500000,25500000,25000000,18500000,39700000,6800000,6540000,22000000,17000000,27500000,73700000,52300000,16000000,15000000,10000000,5000000,20000000,16000000,5500000,7000000,4100000,24000000,12500000,3900000,14500000,20000000,24500000,20900000,43100000,18000000,50000000,18500000,46500000,17500000,42500000,15500000,15000000,40000000,20000000,6700000,16000000,8000000,25000000,25000000,37500000,25000000,23000000,17500000,44000000,15000000,42500000,5000000,38000000,19000000,43500000,19500000,14200000,14200000,13500000,21000000,22500000,19000000,7500000,4000000,8000000,19000000,7000000,5800000,8000000,18800000,6000000,2200000,6500000,23500000,16000000,20000000,5500000,13500000,22500000,3800000,4600000,17500000,5500000,22500000,12500000,19000000,15500000,13500000,21000000,50000000,42500000,45500000,23000000,12000000,35000000,25000000,29000000,80000000,20500000,52500000,37500000,7500000,32500000,24500000,65000000,27500000,115000000,28000000,8000000,75100000,7800000,15000000,27500000,25000000,26000000,23500000,4200000,10000000,18500000,3300000,3800000,7000000,16500000,8000000,5600000,21000000,21000000,8600000,6600000,14000000,4700000,30000000,26000000,18500000,6500000,15000000,8000000,16100000,6800000,6800000,9000000,18000000,27500000,13500000,14000000,9000000,16000000,11000000,5500000,47500000,45000000,43500000,180000000,80000000,37500000,60000000,71000000,18500000,70000000,85000000,190000000,135000000,35000000,65000000,27500000,45000000,100000000,47000000,27500000,70000000,36500000,65000000,35000000,56000000,110000000,24000000,102500000,100000000,45000000,29000000,25500000,33500000,62500000,47500000,14700000,18000000,22500000,22000000,22200000,22500000,7500000,30000000,6500000,35000000,17500000,60000000,40000000,11500000,22500000,28500000,29000000,15500000,26000000,16500000,55000000,12500000,17500000,11500000,18500000],\"x0\":\" \",\"xaxis\":\"x\",\"y0\":\" \",\"yaxis\":\"y\",\"type\":\"violin\"}],                        {\"template\":{\"data\":{\"histogram2dcontour\":[{\"type\":\"histogram2dcontour\",\"colorbar\":{\"outlinewidth\":0,\"ticks\":\"\"},\"colorscale\":[[0.0,\"#0d0887\"],[0.1111111111111111,\"#46039f\"],[0.2222222222222222,\"#7201a8\"],[0.3333333333333333,\"#9c179e\"],[0.4444444444444444,\"#bd3786\"],[0.5555555555555556,\"#d8576b\"],[0.6666666666666666,\"#ed7953\"],[0.7777777777777778,\"#fb9f3a\"],[0.8888888888888888,\"#fdca26\"],[1.0,\"#f0f921\"]]}],\"choropleth\":[{\"type\":\"choropleth\",\"colorbar\":{\"outlinewidth\":0,\"ticks\":\"\"}}],\"histogram2d\":[{\"type\":\"histogram2d\",\"colorbar\":{\"outlinewidth\":0,\"ticks\":\"\"},\"colorscale\":[[0.0,\"#0d0887\"],[0.1111111111111111,\"#46039f\"],[0.2222222222222222,\"#7201a8\"],[0.3333333333333333,\"#9c179e\"],[0.4444444444444444,\"#bd3786\"],[0.5555555555555556,\"#d8576b\"],[0.6666666666666666,\"#ed7953\"],[0.7777777777777778,\"#fb9f3a\"],[0.8888888888888888,\"#fdca26\"],[1.0,\"#f0f921\"]]}],\"heatmap\":[{\"type\":\"heatmap\",\"colorbar\":{\"outlinewidth\":0,\"ticks\":\"\"},\"colorscale\":[[0.0,\"#0d0887\"],[0.1111111111111111,\"#46039f\"],[0.2222222222222222,\"#7201a8\"],[0.3333333333333333,\"#9c179e\"],[0.4444444444444444,\"#bd3786\"],[0.5555555555555556,\"#d8576b\"],[0.6666666666666666,\"#ed7953\"],[0.7777777777777778,\"#fb9f3a\"],[0.8888888888888888,\"#fdca26\"],[1.0,\"#f0f921\"]]}],\"heatmapgl\":[{\"type\":\"heatmapgl\",\"colorbar\":{\"outlinewidth\":0,\"ticks\":\"\"},\"colorscale\":[[0.0,\"#0d0887\"],[0.1111111111111111,\"#46039f\"],[0.2222222222222222,\"#7201a8\"],[0.3333333333333333,\"#9c179e\"],[0.4444444444444444,\"#bd3786\"],[0.5555555555555556,\"#d8576b\"],[0.6666666666666666,\"#ed7953\"],[0.7777777777777778,\"#fb9f3a\"],[0.8888888888888888,\"#fdca26\"],[1.0,\"#f0f921\"]]}],\"contourcarpet\":[{\"type\":\"contourcarpet\",\"colorbar\":{\"outlinewidth\":0,\"ticks\":\"\"}}],\"contour\":[{\"type\":\"contour\",\"colorbar\":{\"outlinewidth\":0,\"ticks\":\"\"},\"colorscale\":[[0.0,\"#0d0887\"],[0.1111111111111111,\"#46039f\"],[0.2222222222222222,\"#7201a8\"],[0.3333333333333333,\"#9c179e\"],[0.4444444444444444,\"#bd3786\"],[0.5555555555555556,\"#d8576b\"],[0.6666666666666666,\"#ed7953\"],[0.7777777777777778,\"#fb9f3a\"],[0.8888888888888888,\"#fdca26\"],[1.0,\"#f0f921\"]]}],\"surface\":[{\"type\":\"surface\",\"colorbar\":{\"outlinewidth\":0,\"ticks\":\"\"},\"colorscale\":[[0.0,\"#0d0887\"],[0.1111111111111111,\"#46039f\"],[0.2222222222222222,\"#7201a8\"],[0.3333333333333333,\"#9c179e\"],[0.4444444444444444,\"#bd3786\"],[0.5555555555555556,\"#d8576b\"],[0.6666666666666666,\"#ed7953\"],[0.7777777777777778,\"#fb9f3a\"],[0.8888888888888888,\"#fdca26\"],[1.0,\"#f0f921\"]]}],\"mesh3d\":[{\"type\":\"mesh3d\",\"colorbar\":{\"outlinewidth\":0,\"ticks\":\"\"}}],\"scatter\":[{\"fillpattern\":{\"fillmode\":\"overlay\",\"size\":10,\"solidity\":0.2},\"type\":\"scatter\"}],\"parcoords\":[{\"type\":\"parcoords\",\"line\":{\"colorbar\":{\"outlinewidth\":0,\"ticks\":\"\"}}}],\"scatterpolargl\":[{\"type\":\"scatterpolargl\",\"marker\":{\"colorbar\":{\"outlinewidth\":0,\"ticks\":\"\"}}}],\"bar\":[{\"error_x\":{\"color\":\"#2a3f5f\"},\"error_y\":{\"color\":\"#2a3f5f\"},\"marker\":{\"line\":{\"color\":\"#E5ECF6\",\"width\":0.5},\"pattern\":{\"fillmode\":\"overlay\",\"size\":10,\"solidity\":0.2}},\"type\":\"bar\"}],\"scattergeo\":[{\"type\":\"scattergeo\",\"marker\":{\"colorbar\":{\"outlinewidth\":0,\"ticks\":\"\"}}}],\"scatterpolar\":[{\"type\":\"scatterpolar\",\"marker\":{\"colorbar\":{\"outlinewidth\":0,\"ticks\":\"\"}}}],\"histogram\":[{\"marker\":{\"pattern\":{\"fillmode\":\"overlay\",\"size\":10,\"solidity\":0.2}},\"type\":\"histogram\"}],\"scattergl\":[{\"type\":\"scattergl\",\"marker\":{\"colorbar\":{\"outlinewidth\":0,\"ticks\":\"\"}}}],\"scatter3d\":[{\"type\":\"scatter3d\",\"line\":{\"colorbar\":{\"outlinewidth\":0,\"ticks\":\"\"}},\"marker\":{\"colorbar\":{\"outlinewidth\":0,\"ticks\":\"\"}}}],\"scattermapbox\":[{\"type\":\"scattermapbox\",\"marker\":{\"colorbar\":{\"outlinewidth\":0,\"ticks\":\"\"}}}],\"scatterternary\":[{\"type\":\"scatterternary\",\"marker\":{\"colorbar\":{\"outlinewidth\":0,\"ticks\":\"\"}}}],\"scattercarpet\":[{\"type\":\"scattercarpet\",\"marker\":{\"colorbar\":{\"outlinewidth\":0,\"ticks\":\"\"}}}],\"carpet\":[{\"aaxis\":{\"endlinecolor\":\"#2a3f5f\",\"gridcolor\":\"white\",\"linecolor\":\"white\",\"minorgridcolor\":\"white\",\"startlinecolor\":\"#2a3f5f\"},\"baxis\":{\"endlinecolor\":\"#2a3f5f\",\"gridcolor\":\"white\",\"linecolor\":\"white\",\"minorgridcolor\":\"white\",\"startlinecolor\":\"#2a3f5f\"},\"type\":\"carpet\"}],\"table\":[{\"cells\":{\"fill\":{\"color\":\"#EBF0F8\"},\"line\":{\"color\":\"white\"}},\"header\":{\"fill\":{\"color\":\"#C8D4E3\"},\"line\":{\"color\":\"white\"}},\"type\":\"table\"}],\"barpolar\":[{\"marker\":{\"line\":{\"color\":\"#E5ECF6\",\"width\":0.5},\"pattern\":{\"fillmode\":\"overlay\",\"size\":10,\"solidity\":0.2}},\"type\":\"barpolar\"}],\"pie\":[{\"automargin\":true,\"type\":\"pie\"}]},\"layout\":{\"autotypenumbers\":\"strict\",\"colorway\":[\"#636efa\",\"#EF553B\",\"#00cc96\",\"#ab63fa\",\"#FFA15A\",\"#19d3f3\",\"#FF6692\",\"#B6E880\",\"#FF97FF\",\"#FECB52\"],\"font\":{\"color\":\"#2a3f5f\"},\"hovermode\":\"closest\",\"hoverlabel\":{\"align\":\"left\"},\"paper_bgcolor\":\"white\",\"plot_bgcolor\":\"#E5ECF6\",\"polar\":{\"bgcolor\":\"#E5ECF6\",\"angularaxis\":{\"gridcolor\":\"white\",\"linecolor\":\"white\",\"ticks\":\"\"},\"radialaxis\":{\"gridcolor\":\"white\",\"linecolor\":\"white\",\"ticks\":\"\"}},\"ternary\":{\"bgcolor\":\"#E5ECF6\",\"aaxis\":{\"gridcolor\":\"white\",\"linecolor\":\"white\",\"ticks\":\"\"},\"baxis\":{\"gridcolor\":\"white\",\"linecolor\":\"white\",\"ticks\":\"\"},\"caxis\":{\"gridcolor\":\"white\",\"linecolor\":\"white\",\"ticks\":\"\"}},\"coloraxis\":{\"colorbar\":{\"outlinewidth\":0,\"ticks\":\"\"}},\"colorscale\":{\"sequential\":[[0.0,\"#0d0887\"],[0.1111111111111111,\"#46039f\"],[0.2222222222222222,\"#7201a8\"],[0.3333333333333333,\"#9c179e\"],[0.4444444444444444,\"#bd3786\"],[0.5555555555555556,\"#d8576b\"],[0.6666666666666666,\"#ed7953\"],[0.7777777777777778,\"#fb9f3a\"],[0.8888888888888888,\"#fdca26\"],[1.0,\"#f0f921\"]],\"sequentialminus\":[[0.0,\"#0d0887\"],[0.1111111111111111,\"#46039f\"],[0.2222222222222222,\"#7201a8\"],[0.3333333333333333,\"#9c179e\"],[0.4444444444444444,\"#bd3786\"],[0.5555555555555556,\"#d8576b\"],[0.6666666666666666,\"#ed7953\"],[0.7777777777777778,\"#fb9f3a\"],[0.8888888888888888,\"#fdca26\"],[1.0,\"#f0f921\"]],\"diverging\":[[0,\"#8e0152\"],[0.1,\"#c51b7d\"],[0.2,\"#de77ae\"],[0.3,\"#f1b6da\"],[0.4,\"#fde0ef\"],[0.5,\"#f7f7f7\"],[0.6,\"#e6f5d0\"],[0.7,\"#b8e186\"],[0.8,\"#7fbc41\"],[0.9,\"#4d9221\"],[1,\"#276419\"]]},\"xaxis\":{\"gridcolor\":\"white\",\"linecolor\":\"white\",\"ticks\":\"\",\"title\":{\"standoff\":15},\"zerolinecolor\":\"white\",\"automargin\":true,\"zerolinewidth\":2},\"yaxis\":{\"gridcolor\":\"white\",\"linecolor\":\"white\",\"ticks\":\"\",\"title\":{\"standoff\":15},\"zerolinecolor\":\"white\",\"automargin\":true,\"zerolinewidth\":2},\"scene\":{\"xaxis\":{\"backgroundcolor\":\"#E5ECF6\",\"gridcolor\":\"white\",\"linecolor\":\"white\",\"showbackground\":true,\"ticks\":\"\",\"zerolinecolor\":\"white\",\"gridwidth\":2},\"yaxis\":{\"backgroundcolor\":\"#E5ECF6\",\"gridcolor\":\"white\",\"linecolor\":\"white\",\"showbackground\":true,\"ticks\":\"\",\"zerolinecolor\":\"white\",\"gridwidth\":2},\"zaxis\":{\"backgroundcolor\":\"#E5ECF6\",\"gridcolor\":\"white\",\"linecolor\":\"white\",\"showbackground\":true,\"ticks\":\"\",\"zerolinecolor\":\"white\",\"gridwidth\":2}},\"shapedefaults\":{\"line\":{\"color\":\"#2a3f5f\"}},\"annotationdefaults\":{\"arrowcolor\":\"#2a3f5f\",\"arrowhead\":0,\"arrowwidth\":1},\"geo\":{\"bgcolor\":\"white\",\"landcolor\":\"#E5ECF6\",\"subunitcolor\":\"white\",\"showland\":true,\"showlakes\":true,\"lakecolor\":\"white\"},\"title\":{\"x\":0.05},\"mapbox\":{\"style\":\"light\"}}},\"xaxis\":{\"anchor\":\"y\",\"domain\":[0.0,1.0],\"title\":{\"text\":\"Price\"}},\"yaxis\":{\"anchor\":\"x\",\"domain\":[0.0,1.0]},\"legend\":{\"tracegroupgap\":0},\"margin\":{\"t\":60},\"violinmode\":\"group\"},                        {\"responsive\": true}                    ).then(function(){\n",
       "                            \n",
       "var gd = document.getElementById('f2807868-3e24-4264-8d6a-6cb89acec547');\n",
       "var x = new MutationObserver(function (mutations, observer) {{\n",
       "        var display = window.getComputedStyle(gd).display;\n",
       "        if (!display || display === 'none') {{\n",
       "            console.log([gd, 'removed!']);\n",
       "            Plotly.purge(gd);\n",
       "            observer.disconnect();\n",
       "        }}\n",
       "}});\n",
       "\n",
       "// Listen for the removal of the full notebook cells\n",
       "var notebookContainer = gd.closest('#notebook-container');\n",
       "if (notebookContainer) {{\n",
       "    x.observe(notebookContainer, {childList: true});\n",
       "}}\n",
       "\n",
       "// Listen for the clearing of the current output cell\n",
       "var outputEl = gd.closest('.output');\n",
       "if (outputEl) {{\n",
       "    x.observe(outputEl, {childList: true});\n",
       "}}\n",
       "\n",
       "                        })                };                });            </script>        </div>"
      ]
     },
     "metadata": {},
     "output_type": "display_data"
    }
   ],
   "source": [
    "px.violin(df1,x='Price',box=True,points='all')"
   ]
  },
  {
   "cell_type": "code",
   "execution_count": 28,
   "id": "cd00cdd9-3103-4289-a96b-f67f7dd44bae",
   "metadata": {},
   "outputs": [
    {
     "name": "stdout",
     "output_type": "stream",
     "text": [
      "          Area       BHK  Bathroom  Furnishing  Locality   Parking     Price  \\\n",
      "0     0.435185  0.219220  0.525201    0.206303  0.960167  0.149181  0.578819   \n",
      "1     0.468739  0.823412  0.525201    0.206303  0.444406  0.149181  0.638165   \n",
      "2     0.334522  0.823412  0.525201    1.763558  1.312510  0.149181  0.222742   \n",
      "3     0.569402  0.823412  0.525201    0.206303  0.940659  0.149181  0.669817   \n",
      "4     0.535847  0.823412  0.525201    0.206303  0.950413  0.149181  0.590688   \n",
      "...        ...       ...       ...         ...       ...       ...       ...   \n",
      "1171  1.791477  1.261852  2.319637    1.350952  1.361280  0.162223  1.340042   \n",
      "1172  0.267413  0.219220  0.525201    0.206303  1.361280  0.162223  0.341434   \n",
      "1173  0.384853  0.219220  0.423078    0.206303  1.361280  0.162223  0.143613   \n",
      "1174  0.307678  0.823412  0.525201    1.350952  1.351526  0.149181  0.380998   \n",
      "1175  6.443440  0.219220  0.423078    1.350952  1.361280  0.149181  0.104049   \n",
      "\n",
      "       Status  Transaction      Type  Per_Sqft  \n",
      "0     0.23453     1.299867  0.905315  0.003316  \n",
      "1     0.23453     1.299867  1.104588  0.465747  \n",
      "2     0.23453     0.769309  1.104588  0.465747  \n",
      "3     0.23453     0.769309  0.905315  0.465747  \n",
      "4     0.23453     1.299867  0.905315  0.465747  \n",
      "...       ...          ...       ...       ...  \n",
      "1171  0.23453     1.299867  0.905315  0.145410  \n",
      "1172  0.23453     0.769309  0.905315  0.145410  \n",
      "1173  0.23453     1.299867  0.905315  0.145410  \n",
      "1174  0.23453     0.769309  0.905315  0.145410  \n",
      "1175  0.23453     1.299867  0.905315  0.145410  \n",
      "\n",
      "[1170 rows x 11 columns]\n"
     ]
    }
   ],
   "source": [
    "import numpy as np\n",
    "from scipy import stats\n",
    "\n",
    "zscore = np.abs(stats.zscore(df1))\n",
    "print(zscore)"
   ]
  },
  {
   "cell_type": "code",
   "execution_count": 29,
   "id": "c8c76781-f03d-4508-b8d8-f925b41ddfbc",
   "metadata": {},
   "outputs": [],
   "source": [
    "df1 = df1[(zscore<5).all(axis=1)]"
   ]
  },
  {
   "cell_type": "code",
   "execution_count": 30,
   "id": "221a77f8-4a2e-42c7-a49a-22a02f2b1a69",
   "metadata": {},
   "outputs": [
    {
     "data": {
      "text/plain": [
       "(1128, 11)"
      ]
     },
     "execution_count": 30,
     "metadata": {},
     "output_type": "execute_result"
    }
   ],
   "source": [
    "df1.shape"
   ]
  },
  {
   "cell_type": "code",
   "execution_count": 31,
   "id": "9c0e4f9e-08e9-4d26-a8db-ee902e8a856b",
   "metadata": {},
   "outputs": [
    {
     "data": {
      "image/png": "[encoded data removed]",
      "text/plain": [
       "<Figure size 1000x800 with 2 Axes>"
      ]
     },
     "metadata": {},
     "output_type": "display_data"
    }
   ],
   "source": [
    "correlation_matrix = df1.corr()\n",
    "\n",
    "# Create heatmap\n",
    "plt.figure(figsize=(10, 8))\n",
    "sns.heatmap(correlation_matrix, annot=True, cmap='coolwarm', fmt=\".2f\")\n",
    "plt.title('Correlation Heatmap')\n",
    "plt.show()"
   ]
  },
  {
   "cell_type": "code",
   "execution_count": 32,
   "id": "a7ca926f-36ec-4544-936d-1b7ca7286e86",
   "metadata": {},
   "outputs": [],
   "source": [
    "x = df1.drop('Price',axis=True)\n",
    "y = df1['Price']\n",
    "\n"
   ]
  },
  {
   "cell_type": "code",
   "execution_count": 33,
   "id": "3f95de7f-9320-47b0-a6be-1ef763180622",
   "metadata": {},
   "outputs": [
    {
     "data": {
      "text/plain": [
       "Index(['Area', 'BHK', 'Bathroom', 'Furnishing', 'Locality', 'Parking', 'Price',\n",
       "       'Status', 'Transaction', 'Type', 'Per_Sqft'],\n",
       "      dtype='object')"
      ]
     },
     "execution_count": 33,
     "metadata": {},
     "output_type": "execute_result"
    }
   ],
   "source": [
    "df1 .columns"
   ]
  },
  {
   "cell_type": "code",
   "execution_count": 34,
   "id": "fef1c33e-b9a2-4589-ae20-c2b8513df2d4",
   "metadata": {},
   "outputs": [],
   "source": [
    "from sklearn.model_selection import train_test_split\n",
    "x_train,x_test,y_train,y_test = train_test_split(x,y,test_size=0.2,random_state=42)"
   ]
  },
  {
   "cell_type": "code",
   "execution_count": 35,
   "id": "2c87fe89-b4c2-450a-99f7-b59c76b354ee",
   "metadata": {},
   "outputs": [],
   "source": [
    "from sklearn.preprocessing import MinMaxScaler\n",
    "ms = MinMaxScaler()\n",
    "x_train = ms.fit_transform(x_train)\n",
    "x_test = ms.transform(x_test)\n"
   ]
  },
  {
   "cell_type": "code",
   "execution_count": 37,
   "id": "99dcc691-433f-4f96-819b-2cdf66b5549d",
   "metadata": {},
   "outputs": [],
   "source": [
    "\n",
    "from sklearn.linear_model import LinearRegression\n",
    "from sklearn.tree import DecisionTreeRegressor\n",
    "from sklearn.ensemble import RandomForestRegressor\n",
    "from xgboost import XGBRegressor\n",
    "\n",
    "from sklearn.ensemble import GradientBoostingRegressor\n",
    "from sklearn.metrics import r2_score"
   ]
  },
  {
   "cell_type": "code",
   "execution_count": 38,
   "id": "4765f278-ad1c-46b8-85a0-91fc93e7df36",
   "metadata": {},
   "outputs": [
    {
     "name": "stdout",
     "output_type": "stream",
     "text": [
      "Train accuracy: 0.7431129879586584\n",
      "Test accuracy: 0.736100500423772\n"
     ]
    }
   ],
   "source": [
    "l_reg = LinearRegression()\n",
    "l_reg.fit(x_train,y_train)\n",
    "\n",
    "l_acc = r2_score(y_test,l_reg.predict(x_test))\n",
    "\n",
    "print(\"Train accuracy:\", (l_reg.score(x_train,y_train)))\n",
    "print(\"Test accuracy:\", (l_reg.score(x_test,y_test)))"
   ]
  },
  {
   "cell_type": "code",
   "execution_count": 39,
   "id": "df27efe7-4cba-4e41-b2dd-5a460f549988",
   "metadata": {},
   "outputs": [
    {
     "name": "stdout",
     "output_type": "stream",
     "text": [
      "Train accuracy: 0.9996738434770515\n",
      "Test accuracy: 0.5428224061746616\n"
     ]
    }
   ],
   "source": [
    "d_reg = DecisionTreeRegressor()\n",
    "d_reg.fit(x_train,y_train)\n",
    "\n",
    "d_acc = r2_score(y_test,d_reg.predict(x_test))\n",
    "\n",
    "print(\"Train accuracy:\", (d_reg.score(x_train,y_train)))\n",
    "print(\"Test accuracy:\", (d_reg.score(x_test,y_test)))"
   ]
  },
  {
   "cell_type": "code",
   "execution_count": 40,
   "id": "7c4718ce-b97d-4f9d-ae2c-65506a709b66",
   "metadata": {},
   "outputs": [
    {
     "name": "stdout",
     "output_type": "stream",
     "text": [
      "Training accuracy: 0.9675379120743965\n",
      "Test accuracy: 0.781751765570254\n"
     ]
    }
   ],
   "source": [
    "r_reg = RandomForestRegressor()\n",
    "r_reg.fit(x_train,y_train)\n",
    "\n",
    "r_acc = r2_score(y_test,r_reg.predict(x_test))\n",
    "\n",
    "print(\"Training accuracy:\",(r_reg.score(x_train,y_train)))\n",
    "print(\"Test accuracy:\",(r_reg.score(x_test,y_test)))"
   ]
  },
  {
   "cell_type": "code",
   "execution_count": 41,
   "id": "e4aae56b-8055-4533-847a-fb5d73fd9c7c",
   "metadata": {},
   "outputs": [
    {
     "name": "stdout",
     "output_type": "stream",
     "text": [
      "Training accuracy: 0.9979183645086612\n",
      "Test accuracy: 0.7848445975454201\n"
     ]
    }
   ],
   "source": [
    "x_reg = XGBRegressor()\n",
    "x_reg.fit(x_train,y_train)\n",
    "\n",
    "x_acc = r2_score(y_test,x_reg.predict(x_test))\n",
    "\n",
    "print(\"Training accuracy:\",(x_reg.score(x_train,y_train)))\n",
    "print(\"Test accuracy:\",(x_reg.score(x_test,y_test)))"
   ]
  },
  {
   "cell_type": "code",
   "execution_count": 42,
   "id": "81f7bd7b-0366-4f3b-9e52-43322222edab",
   "metadata": {},
   "outputs": [
    {
     "name": "stdout",
     "output_type": "stream",
     "text": [
      "Training accuracy: 0.9198971016372504\n",
      "Test accuracy: 0.7995552391689432\n"
     ]
    }
   ],
   "source": [
    "GB_reg = GradientBoostingRegressor()\n",
    "GB_reg.fit(x_train,y_train)\n",
    "\n",
    "GB_acc = r2_score(y_test,GB_reg.predict(x_test))\n",
    "\n",
    "print(\"Training accuracy:\",(GB_reg.score(x_train,y_train)))\n",
    "print(\"Test accuracy:\",(GB_reg.score(x_test,y_test)))"
   ]
  },
  {
   "cell_type": "code",
   "execution_count": 43,
   "id": "fc1575f9-c85f-4061-aa5c-868bdc1fbec4",
   "metadata": {},
   "outputs": [],
   "source": [
    "import joblib"
   ]
  },
  {
   "cell_type": "code",
   "execution_count": 44,
   "id": "2bcc2295-278e-49b3-82c7-bfd2ffe3373b",
   "metadata": {},
   "outputs": [
    {
     "name": "stdout",
     "output_type": "stream",
     "text": [
      "Model saved as GB_reg_model.pkl\n"
     ]
    }
   ],
   "source": [
    "joblib.dump(GB_reg, 'GB_reg_model.pkl')\n",
    "\n",
    "print(\"Model saved as GB_reg_model.pkl\")"
   ]
  },
  {
   "cell_type": "code",
   "execution_count": null,
   "id": "0c9480f3-8fb7-4edc-8dff-bcc723ccb002",
   "metadata": {},
   "outputs": [],
   "source": []
  },
  {
   "cell_type": "code",
   "execution_count": null,
   "id": "16e661ac-6cdc-4afa-81b3-8d16eca63c29",
   "metadata": {},
   "outputs": [],
   "source": []
  }
 ],
 "metadata": {
  "kernelspec": {
   "display_name": "Python 3 (ipykernel)",
   "language": "python",
   "name": "python3"
  },
  "language_info": {
   "codemirror_mode": {
    "name": "ipython",
    "version": 3
   },
   "file_extension": ".py",
   "mimetype": "text/x-python",
   "name": "python",
   "nbconvert_exporter": "python",
   "pygments_lexer": "ipython3",
   "version": "3.11.7"
  }
 },
 "nbformat": 4,
 "nbformat_minor": 5
}
